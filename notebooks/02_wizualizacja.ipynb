{
 "cells": [
  {
   "cell_type": "markdown",
   "metadata": {},
   "source": [
    "# Wizualna eksploracja danych\n",
    "\n",
    "W tej sekcji zaprezentowano graficzną analizę danych pochodzących z raportów World Happiness Report. Celem wizualizacji jest identyfikacja istotnych zależności między poziomem szczęścia (*Life Ladder*) a zmiennymi społeczno-ekonomicznymi, takimi jak PKB per capita, wsparcie społeczne czy percepcja korupcji. Każdy wykres został opatrzony interpretacją oraz wnioskami, które pozwalają na formułowanie hipotez badawczych. \n"
   ]
  },
  {
   "cell_type": "code",
   "execution_count": 2,
   "metadata": {},
   "outputs": [],
   "source": [
    "#import bibliotek\n",
    "import numpy as np \n",
    "import pandas as pd\n",
    "import matplotlib.pyplot as plt\n",
    "import plotly.express as px\n",
    "import scipy.stats as ss\n",
    "import plotly.graph_objects as g"
   ]
  },
  {
   "cell_type": "code",
   "execution_count": 3,
   "metadata": {},
   "outputs": [],
   "source": [
    "#ustawienia wykresów\n",
    "%matplotlib inline\n",
    "%config InlineBackend.figure_format = 'retina'"
   ]
  },
  {
   "cell_type": "code",
   "execution_count": 4,
   "metadata": {},
   "outputs": [
    {
     "data": {
      "application/vnd.microsoft.datawrangler.viewer.v0+json": {
       "columns": [
        {
         "name": "index",
         "rawType": "int64",
         "type": "integer"
        },
        {
         "name": "country",
         "rawType": "object",
         "type": "string"
        },
        {
         "name": "year",
         "rawType": "int64",
         "type": "integer"
        },
        {
         "name": "life_ladder",
         "rawType": "float64",
         "type": "float"
        },
        {
         "name": "gdp_per_capita",
         "rawType": "float64",
         "type": "float"
        },
        {
         "name": "social_support",
         "rawType": "float64",
         "type": "float"
        },
        {
         "name": "healthy_expectancy",
         "rawType": "float64",
         "type": "float"
        },
        {
         "name": "freedom",
         "rawType": "float64",
         "type": "float"
        },
        {
         "name": "generosity",
         "rawType": "float64",
         "type": "float"
        },
        {
         "name": "corruption",
         "rawType": "float64",
         "type": "float"
        },
        {
         "name": "region",
         "rawType": "object",
         "type": "string"
        },
        {
         "name": "missing_per_row",
         "rawType": "int64",
         "type": "integer"
        }
       ],
       "ref": "e403e8fe-49bf-4500-a5b7-d7b0d16bf0f0",
       "rows": [
        [
         "0",
         "Afghanistan",
         "2008",
         "3.724",
         "7.37",
         "0.451",
         "50.8",
         "0.718",
         "0.168",
         "0.882",
         "South Asia",
         "0"
        ],
        [
         "1",
         "Afghanistan",
         "2009",
         "4.402",
         "7.54",
         "0.552",
         "51.2",
         "0.679",
         "0.19",
         "0.85",
         "South Asia",
         "0"
        ],
        [
         "2",
         "Afghanistan",
         "2010",
         "4.758",
         "7.647",
         "0.539",
         "51.6",
         "0.6",
         "0.121",
         "0.707",
         "South Asia",
         "0"
        ],
        [
         "3",
         "Afghanistan",
         "2011",
         "3.832",
         "7.62",
         "0.521",
         "51.92",
         "0.496",
         "0.162",
         "0.731",
         "South Asia",
         "0"
        ],
        [
         "4",
         "Afghanistan",
         "2012",
         "3.783",
         "7.705",
         "0.521",
         "52.24",
         "0.531",
         "0.236",
         "0.776",
         "South Asia",
         "0"
        ]
       ],
       "shape": {
        "columns": 11,
        "rows": 5
       }
      },
      "text/html": [
       "<div>\n",
       "<style scoped>\n",
       "    .dataframe tbody tr th:only-of-type {\n",
       "        vertical-align: middle;\n",
       "    }\n",
       "\n",
       "    .dataframe tbody tr th {\n",
       "        vertical-align: top;\n",
       "    }\n",
       "\n",
       "    .dataframe thead th {\n",
       "        text-align: right;\n",
       "    }\n",
       "</style>\n",
       "<table border=\"1\" class=\"dataframe\">\n",
       "  <thead>\n",
       "    <tr style=\"text-align: right;\">\n",
       "      <th></th>\n",
       "      <th>country</th>\n",
       "      <th>year</th>\n",
       "      <th>life_ladder</th>\n",
       "      <th>gdp_per_capita</th>\n",
       "      <th>social_support</th>\n",
       "      <th>healthy_expectancy</th>\n",
       "      <th>freedom</th>\n",
       "      <th>generosity</th>\n",
       "      <th>corruption</th>\n",
       "      <th>region</th>\n",
       "      <th>missing_per_row</th>\n",
       "    </tr>\n",
       "  </thead>\n",
       "  <tbody>\n",
       "    <tr>\n",
       "      <th>0</th>\n",
       "      <td>Afghanistan</td>\n",
       "      <td>2008</td>\n",
       "      <td>3.724</td>\n",
       "      <td>7.370</td>\n",
       "      <td>0.451</td>\n",
       "      <td>50.80</td>\n",
       "      <td>0.718</td>\n",
       "      <td>0.168</td>\n",
       "      <td>0.882</td>\n",
       "      <td>South Asia</td>\n",
       "      <td>0</td>\n",
       "    </tr>\n",
       "    <tr>\n",
       "      <th>1</th>\n",
       "      <td>Afghanistan</td>\n",
       "      <td>2009</td>\n",
       "      <td>4.402</td>\n",
       "      <td>7.540</td>\n",
       "      <td>0.552</td>\n",
       "      <td>51.20</td>\n",
       "      <td>0.679</td>\n",
       "      <td>0.190</td>\n",
       "      <td>0.850</td>\n",
       "      <td>South Asia</td>\n",
       "      <td>0</td>\n",
       "    </tr>\n",
       "    <tr>\n",
       "      <th>2</th>\n",
       "      <td>Afghanistan</td>\n",
       "      <td>2010</td>\n",
       "      <td>4.758</td>\n",
       "      <td>7.647</td>\n",
       "      <td>0.539</td>\n",
       "      <td>51.60</td>\n",
       "      <td>0.600</td>\n",
       "      <td>0.121</td>\n",
       "      <td>0.707</td>\n",
       "      <td>South Asia</td>\n",
       "      <td>0</td>\n",
       "    </tr>\n",
       "    <tr>\n",
       "      <th>3</th>\n",
       "      <td>Afghanistan</td>\n",
       "      <td>2011</td>\n",
       "      <td>3.832</td>\n",
       "      <td>7.620</td>\n",
       "      <td>0.521</td>\n",
       "      <td>51.92</td>\n",
       "      <td>0.496</td>\n",
       "      <td>0.162</td>\n",
       "      <td>0.731</td>\n",
       "      <td>South Asia</td>\n",
       "      <td>0</td>\n",
       "    </tr>\n",
       "    <tr>\n",
       "      <th>4</th>\n",
       "      <td>Afghanistan</td>\n",
       "      <td>2012</td>\n",
       "      <td>3.783</td>\n",
       "      <td>7.705</td>\n",
       "      <td>0.521</td>\n",
       "      <td>52.24</td>\n",
       "      <td>0.531</td>\n",
       "      <td>0.236</td>\n",
       "      <td>0.776</td>\n",
       "      <td>South Asia</td>\n",
       "      <td>0</td>\n",
       "    </tr>\n",
       "  </tbody>\n",
       "</table>\n",
       "</div>"
      ],
      "text/plain": [
       "       country  year  life_ladder  gdp_per_capita  social_support  \\\n",
       "0  Afghanistan  2008        3.724           7.370           0.451   \n",
       "1  Afghanistan  2009        4.402           7.540           0.552   \n",
       "2  Afghanistan  2010        4.758           7.647           0.539   \n",
       "3  Afghanistan  2011        3.832           7.620           0.521   \n",
       "4  Afghanistan  2012        3.783           7.705           0.521   \n",
       "\n",
       "   healthy_expectancy  freedom  generosity  corruption      region  \\\n",
       "0               50.80    0.718       0.168       0.882  South Asia   \n",
       "1               51.20    0.679       0.190       0.850  South Asia   \n",
       "2               51.60    0.600       0.121       0.707  South Asia   \n",
       "3               51.92    0.496       0.162       0.731  South Asia   \n",
       "4               52.24    0.531       0.236       0.776  South Asia   \n",
       "\n",
       "   missing_per_row  \n",
       "0                0  \n",
       "1                0  \n",
       "2                0  \n",
       "3                0  \n",
       "4                0  "
      ]
     },
     "execution_count": 4,
     "metadata": {},
     "output_type": "execute_result"
    }
   ],
   "source": [
    "#wczytanie danych\n",
    "df = pd.read_csv(\"../data/happiness_cleaned.csv\")\n",
    "df.head()"
   ]
  },
  {
   "cell_type": "markdown",
   "metadata": {},
   "source": [
    "---"
   ]
  },
  {
   "cell_type": "code",
   "execution_count": 5,
   "metadata": {},
   "outputs": [
    {
     "data": {
      "application/vnd.plotly.v1+json": {
       "config": {
        "plotlyServerURL": "https://plot.ly"
       },
       "data": [
        {
         "hovertemplate": "Średni poziom szczęścia=%{text}<br>Kraj=%{y}<extra></extra>",
         "legendgroup": "",
         "marker": {
          "color": "#f3d52e",
          "pattern": {
           "shape": ""
          }
         },
         "name": "",
         "orientation": "h",
         "showlegend": false,
         "text": {
          "bdata": "KssQx7q4HkBCpT9MfGMeQFOWIY51MR5AsOHplbIMHkDty5UAet0dQPCnxks3yR1Azj58hl2BHUCPLkl4VXodQLIXzYm7PR1AsWYjVdcgHUA=",
          "dtype": "f8"
         },
         "textposition": "outside",
         "texttemplate": "%{text:.2f}",
         "type": "bar",
         "x": {
          "bdata": "KssQx7q4HkBCpT9MfGMeQFOWIY51MR5AsOHplbIMHkDty5UAet0dQPCnxks3yR1Azj58hl2BHUCPLkl4VXodQLIXzYm7PR1AsWYjVdcgHUA=",
          "dtype": "f8"
         },
         "xaxis": "x",
         "y": [
          "Denmark",
          "Finland",
          "Switzerland",
          "Norway",
          "Netherlands",
          "Iceland",
          "Canada",
          "Sweden",
          "New Zealand",
          "Australia"
         ],
         "yaxis": "y"
        }
       ],
       "layout": {
        "barmode": "relative",
        "legend": {
         "tracegroupgap": 0
        },
        "template": {
         "data": {
          "bar": [
           {
            "error_x": {
             "color": "#2a3f5f"
            },
            "error_y": {
             "color": "#2a3f5f"
            },
            "marker": {
             "line": {
              "color": "#E5ECF6",
              "width": 0.5
             },
             "pattern": {
              "fillmode": "overlay",
              "size": 10,
              "solidity": 0.2
             }
            },
            "type": "bar"
           }
          ],
          "barpolar": [
           {
            "marker": {
             "line": {
              "color": "#E5ECF6",
              "width": 0.5
             },
             "pattern": {
              "fillmode": "overlay",
              "size": 10,
              "solidity": 0.2
             }
            },
            "type": "barpolar"
           }
          ],
          "carpet": [
           {
            "aaxis": {
             "endlinecolor": "#2a3f5f",
             "gridcolor": "white",
             "linecolor": "white",
             "minorgridcolor": "white",
             "startlinecolor": "#2a3f5f"
            },
            "baxis": {
             "endlinecolor": "#2a3f5f",
             "gridcolor": "white",
             "linecolor": "white",
             "minorgridcolor": "white",
             "startlinecolor": "#2a3f5f"
            },
            "type": "carpet"
           }
          ],
          "choropleth": [
           {
            "colorbar": {
             "outlinewidth": 0,
             "ticks": ""
            },
            "type": "choropleth"
           }
          ],
          "contour": [
           {
            "colorbar": {
             "outlinewidth": 0,
             "ticks": ""
            },
            "colorscale": [
             [
              0,
              "#0d0887"
             ],
             [
              0.1111111111111111,
              "#46039f"
             ],
             [
              0.2222222222222222,
              "#7201a8"
             ],
             [
              0.3333333333333333,
              "#9c179e"
             ],
             [
              0.4444444444444444,
              "#bd3786"
             ],
             [
              0.5555555555555556,
              "#d8576b"
             ],
             [
              0.6666666666666666,
              "#ed7953"
             ],
             [
              0.7777777777777778,
              "#fb9f3a"
             ],
             [
              0.8888888888888888,
              "#fdca26"
             ],
             [
              1,
              "#f0f921"
             ]
            ],
            "type": "contour"
           }
          ],
          "contourcarpet": [
           {
            "colorbar": {
             "outlinewidth": 0,
             "ticks": ""
            },
            "type": "contourcarpet"
           }
          ],
          "heatmap": [
           {
            "colorbar": {
             "outlinewidth": 0,
             "ticks": ""
            },
            "colorscale": [
             [
              0,
              "#0d0887"
             ],
             [
              0.1111111111111111,
              "#46039f"
             ],
             [
              0.2222222222222222,
              "#7201a8"
             ],
             [
              0.3333333333333333,
              "#9c179e"
             ],
             [
              0.4444444444444444,
              "#bd3786"
             ],
             [
              0.5555555555555556,
              "#d8576b"
             ],
             [
              0.6666666666666666,
              "#ed7953"
             ],
             [
              0.7777777777777778,
              "#fb9f3a"
             ],
             [
              0.8888888888888888,
              "#fdca26"
             ],
             [
              1,
              "#f0f921"
             ]
            ],
            "type": "heatmap"
           }
          ],
          "histogram": [
           {
            "marker": {
             "pattern": {
              "fillmode": "overlay",
              "size": 10,
              "solidity": 0.2
             }
            },
            "type": "histogram"
           }
          ],
          "histogram2d": [
           {
            "colorbar": {
             "outlinewidth": 0,
             "ticks": ""
            },
            "colorscale": [
             [
              0,
              "#0d0887"
             ],
             [
              0.1111111111111111,
              "#46039f"
             ],
             [
              0.2222222222222222,
              "#7201a8"
             ],
             [
              0.3333333333333333,
              "#9c179e"
             ],
             [
              0.4444444444444444,
              "#bd3786"
             ],
             [
              0.5555555555555556,
              "#d8576b"
             ],
             [
              0.6666666666666666,
              "#ed7953"
             ],
             [
              0.7777777777777778,
              "#fb9f3a"
             ],
             [
              0.8888888888888888,
              "#fdca26"
             ],
             [
              1,
              "#f0f921"
             ]
            ],
            "type": "histogram2d"
           }
          ],
          "histogram2dcontour": [
           {
            "colorbar": {
             "outlinewidth": 0,
             "ticks": ""
            },
            "colorscale": [
             [
              0,
              "#0d0887"
             ],
             [
              0.1111111111111111,
              "#46039f"
             ],
             [
              0.2222222222222222,
              "#7201a8"
             ],
             [
              0.3333333333333333,
              "#9c179e"
             ],
             [
              0.4444444444444444,
              "#bd3786"
             ],
             [
              0.5555555555555556,
              "#d8576b"
             ],
             [
              0.6666666666666666,
              "#ed7953"
             ],
             [
              0.7777777777777778,
              "#fb9f3a"
             ],
             [
              0.8888888888888888,
              "#fdca26"
             ],
             [
              1,
              "#f0f921"
             ]
            ],
            "type": "histogram2dcontour"
           }
          ],
          "mesh3d": [
           {
            "colorbar": {
             "outlinewidth": 0,
             "ticks": ""
            },
            "type": "mesh3d"
           }
          ],
          "parcoords": [
           {
            "line": {
             "colorbar": {
              "outlinewidth": 0,
              "ticks": ""
             }
            },
            "type": "parcoords"
           }
          ],
          "pie": [
           {
            "automargin": true,
            "type": "pie"
           }
          ],
          "scatter": [
           {
            "fillpattern": {
             "fillmode": "overlay",
             "size": 10,
             "solidity": 0.2
            },
            "type": "scatter"
           }
          ],
          "scatter3d": [
           {
            "line": {
             "colorbar": {
              "outlinewidth": 0,
              "ticks": ""
             }
            },
            "marker": {
             "colorbar": {
              "outlinewidth": 0,
              "ticks": ""
             }
            },
            "type": "scatter3d"
           }
          ],
          "scattercarpet": [
           {
            "marker": {
             "colorbar": {
              "outlinewidth": 0,
              "ticks": ""
             }
            },
            "type": "scattercarpet"
           }
          ],
          "scattergeo": [
           {
            "marker": {
             "colorbar": {
              "outlinewidth": 0,
              "ticks": ""
             }
            },
            "type": "scattergeo"
           }
          ],
          "scattergl": [
           {
            "marker": {
             "colorbar": {
              "outlinewidth": 0,
              "ticks": ""
             }
            },
            "type": "scattergl"
           }
          ],
          "scattermap": [
           {
            "marker": {
             "colorbar": {
              "outlinewidth": 0,
              "ticks": ""
             }
            },
            "type": "scattermap"
           }
          ],
          "scattermapbox": [
           {
            "marker": {
             "colorbar": {
              "outlinewidth": 0,
              "ticks": ""
             }
            },
            "type": "scattermapbox"
           }
          ],
          "scatterpolar": [
           {
            "marker": {
             "colorbar": {
              "outlinewidth": 0,
              "ticks": ""
             }
            },
            "type": "scatterpolar"
           }
          ],
          "scatterpolargl": [
           {
            "marker": {
             "colorbar": {
              "outlinewidth": 0,
              "ticks": ""
             }
            },
            "type": "scatterpolargl"
           }
          ],
          "scatterternary": [
           {
            "marker": {
             "colorbar": {
              "outlinewidth": 0,
              "ticks": ""
             }
            },
            "type": "scatterternary"
           }
          ],
          "surface": [
           {
            "colorbar": {
             "outlinewidth": 0,
             "ticks": ""
            },
            "colorscale": [
             [
              0,
              "#0d0887"
             ],
             [
              0.1111111111111111,
              "#46039f"
             ],
             [
              0.2222222222222222,
              "#7201a8"
             ],
             [
              0.3333333333333333,
              "#9c179e"
             ],
             [
              0.4444444444444444,
              "#bd3786"
             ],
             [
              0.5555555555555556,
              "#d8576b"
             ],
             [
              0.6666666666666666,
              "#ed7953"
             ],
             [
              0.7777777777777778,
              "#fb9f3a"
             ],
             [
              0.8888888888888888,
              "#fdca26"
             ],
             [
              1,
              "#f0f921"
             ]
            ],
            "type": "surface"
           }
          ],
          "table": [
           {
            "cells": {
             "fill": {
              "color": "#EBF0F8"
             },
             "line": {
              "color": "white"
             }
            },
            "header": {
             "fill": {
              "color": "#C8D4E3"
             },
             "line": {
              "color": "white"
             }
            },
            "type": "table"
           }
          ]
         },
         "layout": {
          "annotationdefaults": {
           "arrowcolor": "#2a3f5f",
           "arrowhead": 0,
           "arrowwidth": 1
          },
          "autotypenumbers": "strict",
          "coloraxis": {
           "colorbar": {
            "outlinewidth": 0,
            "ticks": ""
           }
          },
          "colorscale": {
           "diverging": [
            [
             0,
             "#8e0152"
            ],
            [
             0.1,
             "#c51b7d"
            ],
            [
             0.2,
             "#de77ae"
            ],
            [
             0.3,
             "#f1b6da"
            ],
            [
             0.4,
             "#fde0ef"
            ],
            [
             0.5,
             "#f7f7f7"
            ],
            [
             0.6,
             "#e6f5d0"
            ],
            [
             0.7,
             "#b8e186"
            ],
            [
             0.8,
             "#7fbc41"
            ],
            [
             0.9,
             "#4d9221"
            ],
            [
             1,
             "#276419"
            ]
           ],
           "sequential": [
            [
             0,
             "#0d0887"
            ],
            [
             0.1111111111111111,
             "#46039f"
            ],
            [
             0.2222222222222222,
             "#7201a8"
            ],
            [
             0.3333333333333333,
             "#9c179e"
            ],
            [
             0.4444444444444444,
             "#bd3786"
            ],
            [
             0.5555555555555556,
             "#d8576b"
            ],
            [
             0.6666666666666666,
             "#ed7953"
            ],
            [
             0.7777777777777778,
             "#fb9f3a"
            ],
            [
             0.8888888888888888,
             "#fdca26"
            ],
            [
             1,
             "#f0f921"
            ]
           ],
           "sequentialminus": [
            [
             0,
             "#0d0887"
            ],
            [
             0.1111111111111111,
             "#46039f"
            ],
            [
             0.2222222222222222,
             "#7201a8"
            ],
            [
             0.3333333333333333,
             "#9c179e"
            ],
            [
             0.4444444444444444,
             "#bd3786"
            ],
            [
             0.5555555555555556,
             "#d8576b"
            ],
            [
             0.6666666666666666,
             "#ed7953"
            ],
            [
             0.7777777777777778,
             "#fb9f3a"
            ],
            [
             0.8888888888888888,
             "#fdca26"
            ],
            [
             1,
             "#f0f921"
            ]
           ]
          },
          "colorway": [
           "#636efa",
           "#EF553B",
           "#00cc96",
           "#ab63fa",
           "#FFA15A",
           "#19d3f3",
           "#FF6692",
           "#B6E880",
           "#FF97FF",
           "#FECB52"
          ],
          "font": {
           "color": "#2a3f5f"
          },
          "geo": {
           "bgcolor": "white",
           "lakecolor": "white",
           "landcolor": "#E5ECF6",
           "showlakes": true,
           "showland": true,
           "subunitcolor": "white"
          },
          "hoverlabel": {
           "align": "left"
          },
          "hovermode": "closest",
          "mapbox": {
           "style": "light"
          },
          "paper_bgcolor": "white",
          "plot_bgcolor": "#E5ECF6",
          "polar": {
           "angularaxis": {
            "gridcolor": "white",
            "linecolor": "white",
            "ticks": ""
           },
           "bgcolor": "#E5ECF6",
           "radialaxis": {
            "gridcolor": "white",
            "linecolor": "white",
            "ticks": ""
           }
          },
          "scene": {
           "xaxis": {
            "backgroundcolor": "#E5ECF6",
            "gridcolor": "white",
            "gridwidth": 2,
            "linecolor": "white",
            "showbackground": true,
            "ticks": "",
            "zerolinecolor": "white"
           },
           "yaxis": {
            "backgroundcolor": "#E5ECF6",
            "gridcolor": "white",
            "gridwidth": 2,
            "linecolor": "white",
            "showbackground": true,
            "ticks": "",
            "zerolinecolor": "white"
           },
           "zaxis": {
            "backgroundcolor": "#E5ECF6",
            "gridcolor": "white",
            "gridwidth": 2,
            "linecolor": "white",
            "showbackground": true,
            "ticks": "",
            "zerolinecolor": "white"
           }
          },
          "shapedefaults": {
           "line": {
            "color": "#2a3f5f"
           }
          },
          "ternary": {
           "aaxis": {
            "gridcolor": "white",
            "linecolor": "white",
            "ticks": ""
           },
           "baxis": {
            "gridcolor": "white",
            "linecolor": "white",
            "ticks": ""
           },
           "bgcolor": "#E5ECF6",
           "caxis": {
            "gridcolor": "white",
            "linecolor": "white",
            "ticks": ""
           }
          },
          "title": {
           "x": 0.05
          },
          "xaxis": {
           "automargin": true,
           "gridcolor": "white",
           "linecolor": "white",
           "ticks": "",
           "title": {
            "standoff": 15
           },
           "zerolinecolor": "white",
           "zerolinewidth": 2
          },
          "yaxis": {
           "automargin": true,
           "gridcolor": "white",
           "linecolor": "white",
           "ticks": "",
           "title": {
            "standoff": 15
           },
           "zerolinecolor": "white",
           "zerolinewidth": 2
          }
         }
        },
        "title": {
         "text": "10 najszczęśliwszych krajów świata"
        },
        "xaxis": {
         "anchor": "y",
         "domain": [
          0,
          1
         ],
         "title": {
          "text": "Średni poziom szczęścia"
         }
        },
        "yaxis": {
         "anchor": "x",
         "categoryorder": "total ascending",
         "domain": [
          0,
          1
         ],
         "title": {
          "text": "Kraj"
         }
        }
       }
      }
     },
     "metadata": {},
     "output_type": "display_data"
    }
   ],
   "source": [
    "#10 najszczesliwyszych krajów\n",
    "mean_life = df.groupby(\"country\")[\"life_ladder\"].mean().sort_values(ascending=False).reset_index()\n",
    "top10 = mean_life.head(10)\n",
    "\n",
    "fig_top = px.bar(\n",
    "    top10,\n",
    "    x=\"life_ladder\",\n",
    "    y=\"country\",\n",
    "    orientation=\"h\",\n",
    "    text=\"life_ladder\",\n",
    "    color_discrete_sequence=[\"#f3d52e\"],\n",
    "    labels={\"life_ladder\": \"Średni poziom szczęścia\", \"country\": \"Kraj\"},\n",
    "    title=\"10 najszczęśliwszych krajów świata\",\n",
    ")\n",
    "\n",
    "fig_top.update_traces(texttemplate='%{text:.2f}', textposition='outside')\n",
    "fig_top.update_layout(yaxis={'categoryorder':'total ascending'})\n",
    "fig_top.show()\n",
    "\n"
   ]
  },
  {
   "cell_type": "markdown",
   "metadata": {},
   "source": [
    "**Rysunek 1.**  Wykres słupkowy przedstawia dziesięć krajów o najwyższym średnim poziomie deklarowanego szczęścia, mierzonego za pomocą wskaźnika Life Ladder. \n",
    "\n",
    "Wyniki potwierdzają obserwowaną od lat tendencję, zgodnie z którą państwa Europy Północnej, takie jak Finlandia, Dania i Norwegia, plasują się na czołowych pozycjach w rankingach dobrostanu. Wysoki poziom szczęścia w tych krajach można wiązać z wieloma czynnikami, w tym rozwiniętym systemem ochrony zdrowia, wysokim PKB per capita, stabilnością polityczną oraz wysokim poziomem zaufania społecznego. Obserwacja ta podkreśla znaczenie kompleksowych polityk społecznych i ekonomicznych w kształtowaniu subiektywnego dobrostanu mieszkańców."
   ]
  },
  {
   "cell_type": "markdown",
   "metadata": {},
   "source": [
    "---"
   ]
  },
  {
   "cell_type": "code",
   "execution_count": 6,
   "metadata": {},
   "outputs": [
    {
     "data": {
      "application/vnd.plotly.v1+json": {
       "config": {
        "plotlyServerURL": "https://plot.ly"
       },
       "data": [
        {
         "hovertemplate": "Średni poziom szczęścia=%{text}<br>Kraj=%{y}<extra></extra>",
         "legendgroup": "",
         "marker": {
          "color": "#f3d52e",
          "pattern": {
           "shape": ""
          }
         },
         "name": "",
         "orientation": "h",
         "showlegend": false,
         "text": {
          "bdata": "W2Q730+ND0BANV66SUwPQMmYu5aQDw9AYZ6ofyOUDUBJUyrOPjwNQFvW6pjgwQxAcD0K16NwDEBtVn2utmIMQB6F61G4HgxAnu+nxks3C0A=",
          "dtype": "f8"
         },
         "textposition": "outside",
         "texttemplate": "%{text:.2f}",
         "type": "bar",
         "x": {
          "bdata": "W2Q730+ND0BANV66SUwPQMmYu5aQDw9AYZ6ofyOUDUBJUyrOPjwNQFvW6pjgwQxAcD0K16NwDEBtVn2utmIMQB6F61G4HgxAnu+nxks3C0A=",
          "dtype": "f8"
         },
         "xaxis": "x",
         "y": [
          "Comoros",
          "Yemen",
          "Zimbabwe",
          "Tanzania",
          "Rwanda",
          "Afghanistan",
          "Togo",
          "Burundi",
          "Central African Republic",
          "South Sudan"
         ],
         "yaxis": "y"
        }
       ],
       "layout": {
        "barmode": "relative",
        "legend": {
         "tracegroupgap": 0
        },
        "template": {
         "data": {
          "bar": [
           {
            "error_x": {
             "color": "#2a3f5f"
            },
            "error_y": {
             "color": "#2a3f5f"
            },
            "marker": {
             "line": {
              "color": "#E5ECF6",
              "width": 0.5
             },
             "pattern": {
              "fillmode": "overlay",
              "size": 10,
              "solidity": 0.2
             }
            },
            "type": "bar"
           }
          ],
          "barpolar": [
           {
            "marker": {
             "line": {
              "color": "#E5ECF6",
              "width": 0.5
             },
             "pattern": {
              "fillmode": "overlay",
              "size": 10,
              "solidity": 0.2
             }
            },
            "type": "barpolar"
           }
          ],
          "carpet": [
           {
            "aaxis": {
             "endlinecolor": "#2a3f5f",
             "gridcolor": "white",
             "linecolor": "white",
             "minorgridcolor": "white",
             "startlinecolor": "#2a3f5f"
            },
            "baxis": {
             "endlinecolor": "#2a3f5f",
             "gridcolor": "white",
             "linecolor": "white",
             "minorgridcolor": "white",
             "startlinecolor": "#2a3f5f"
            },
            "type": "carpet"
           }
          ],
          "choropleth": [
           {
            "colorbar": {
             "outlinewidth": 0,
             "ticks": ""
            },
            "type": "choropleth"
           }
          ],
          "contour": [
           {
            "colorbar": {
             "outlinewidth": 0,
             "ticks": ""
            },
            "colorscale": [
             [
              0,
              "#0d0887"
             ],
             [
              0.1111111111111111,
              "#46039f"
             ],
             [
              0.2222222222222222,
              "#7201a8"
             ],
             [
              0.3333333333333333,
              "#9c179e"
             ],
             [
              0.4444444444444444,
              "#bd3786"
             ],
             [
              0.5555555555555556,
              "#d8576b"
             ],
             [
              0.6666666666666666,
              "#ed7953"
             ],
             [
              0.7777777777777778,
              "#fb9f3a"
             ],
             [
              0.8888888888888888,
              "#fdca26"
             ],
             [
              1,
              "#f0f921"
             ]
            ],
            "type": "contour"
           }
          ],
          "contourcarpet": [
           {
            "colorbar": {
             "outlinewidth": 0,
             "ticks": ""
            },
            "type": "contourcarpet"
           }
          ],
          "heatmap": [
           {
            "colorbar": {
             "outlinewidth": 0,
             "ticks": ""
            },
            "colorscale": [
             [
              0,
              "#0d0887"
             ],
             [
              0.1111111111111111,
              "#46039f"
             ],
             [
              0.2222222222222222,
              "#7201a8"
             ],
             [
              0.3333333333333333,
              "#9c179e"
             ],
             [
              0.4444444444444444,
              "#bd3786"
             ],
             [
              0.5555555555555556,
              "#d8576b"
             ],
             [
              0.6666666666666666,
              "#ed7953"
             ],
             [
              0.7777777777777778,
              "#fb9f3a"
             ],
             [
              0.8888888888888888,
              "#fdca26"
             ],
             [
              1,
              "#f0f921"
             ]
            ],
            "type": "heatmap"
           }
          ],
          "histogram": [
           {
            "marker": {
             "pattern": {
              "fillmode": "overlay",
              "size": 10,
              "solidity": 0.2
             }
            },
            "type": "histogram"
           }
          ],
          "histogram2d": [
           {
            "colorbar": {
             "outlinewidth": 0,
             "ticks": ""
            },
            "colorscale": [
             [
              0,
              "#0d0887"
             ],
             [
              0.1111111111111111,
              "#46039f"
             ],
             [
              0.2222222222222222,
              "#7201a8"
             ],
             [
              0.3333333333333333,
              "#9c179e"
             ],
             [
              0.4444444444444444,
              "#bd3786"
             ],
             [
              0.5555555555555556,
              "#d8576b"
             ],
             [
              0.6666666666666666,
              "#ed7953"
             ],
             [
              0.7777777777777778,
              "#fb9f3a"
             ],
             [
              0.8888888888888888,
              "#fdca26"
             ],
             [
              1,
              "#f0f921"
             ]
            ],
            "type": "histogram2d"
           }
          ],
          "histogram2dcontour": [
           {
            "colorbar": {
             "outlinewidth": 0,
             "ticks": ""
            },
            "colorscale": [
             [
              0,
              "#0d0887"
             ],
             [
              0.1111111111111111,
              "#46039f"
             ],
             [
              0.2222222222222222,
              "#7201a8"
             ],
             [
              0.3333333333333333,
              "#9c179e"
             ],
             [
              0.4444444444444444,
              "#bd3786"
             ],
             [
              0.5555555555555556,
              "#d8576b"
             ],
             [
              0.6666666666666666,
              "#ed7953"
             ],
             [
              0.7777777777777778,
              "#fb9f3a"
             ],
             [
              0.8888888888888888,
              "#fdca26"
             ],
             [
              1,
              "#f0f921"
             ]
            ],
            "type": "histogram2dcontour"
           }
          ],
          "mesh3d": [
           {
            "colorbar": {
             "outlinewidth": 0,
             "ticks": ""
            },
            "type": "mesh3d"
           }
          ],
          "parcoords": [
           {
            "line": {
             "colorbar": {
              "outlinewidth": 0,
              "ticks": ""
             }
            },
            "type": "parcoords"
           }
          ],
          "pie": [
           {
            "automargin": true,
            "type": "pie"
           }
          ],
          "scatter": [
           {
            "fillpattern": {
             "fillmode": "overlay",
             "size": 10,
             "solidity": 0.2
            },
            "type": "scatter"
           }
          ],
          "scatter3d": [
           {
            "line": {
             "colorbar": {
              "outlinewidth": 0,
              "ticks": ""
             }
            },
            "marker": {
             "colorbar": {
              "outlinewidth": 0,
              "ticks": ""
             }
            },
            "type": "scatter3d"
           }
          ],
          "scattercarpet": [
           {
            "marker": {
             "colorbar": {
              "outlinewidth": 0,
              "ticks": ""
             }
            },
            "type": "scattercarpet"
           }
          ],
          "scattergeo": [
           {
            "marker": {
             "colorbar": {
              "outlinewidth": 0,
              "ticks": ""
             }
            },
            "type": "scattergeo"
           }
          ],
          "scattergl": [
           {
            "marker": {
             "colorbar": {
              "outlinewidth": 0,
              "ticks": ""
             }
            },
            "type": "scattergl"
           }
          ],
          "scattermap": [
           {
            "marker": {
             "colorbar": {
              "outlinewidth": 0,
              "ticks": ""
             }
            },
            "type": "scattermap"
           }
          ],
          "scattermapbox": [
           {
            "marker": {
             "colorbar": {
              "outlinewidth": 0,
              "ticks": ""
             }
            },
            "type": "scattermapbox"
           }
          ],
          "scatterpolar": [
           {
            "marker": {
             "colorbar": {
              "outlinewidth": 0,
              "ticks": ""
             }
            },
            "type": "scatterpolar"
           }
          ],
          "scatterpolargl": [
           {
            "marker": {
             "colorbar": {
              "outlinewidth": 0,
              "ticks": ""
             }
            },
            "type": "scatterpolargl"
           }
          ],
          "scatterternary": [
           {
            "marker": {
             "colorbar": {
              "outlinewidth": 0,
              "ticks": ""
             }
            },
            "type": "scatterternary"
           }
          ],
          "surface": [
           {
            "colorbar": {
             "outlinewidth": 0,
             "ticks": ""
            },
            "colorscale": [
             [
              0,
              "#0d0887"
             ],
             [
              0.1111111111111111,
              "#46039f"
             ],
             [
              0.2222222222222222,
              "#7201a8"
             ],
             [
              0.3333333333333333,
              "#9c179e"
             ],
             [
              0.4444444444444444,
              "#bd3786"
             ],
             [
              0.5555555555555556,
              "#d8576b"
             ],
             [
              0.6666666666666666,
              "#ed7953"
             ],
             [
              0.7777777777777778,
              "#fb9f3a"
             ],
             [
              0.8888888888888888,
              "#fdca26"
             ],
             [
              1,
              "#f0f921"
             ]
            ],
            "type": "surface"
           }
          ],
          "table": [
           {
            "cells": {
             "fill": {
              "color": "#EBF0F8"
             },
             "line": {
              "color": "white"
             }
            },
            "header": {
             "fill": {
              "color": "#C8D4E3"
             },
             "line": {
              "color": "white"
             }
            },
            "type": "table"
           }
          ]
         },
         "layout": {
          "annotationdefaults": {
           "arrowcolor": "#2a3f5f",
           "arrowhead": 0,
           "arrowwidth": 1
          },
          "autotypenumbers": "strict",
          "coloraxis": {
           "colorbar": {
            "outlinewidth": 0,
            "ticks": ""
           }
          },
          "colorscale": {
           "diverging": [
            [
             0,
             "#8e0152"
            ],
            [
             0.1,
             "#c51b7d"
            ],
            [
             0.2,
             "#de77ae"
            ],
            [
             0.3,
             "#f1b6da"
            ],
            [
             0.4,
             "#fde0ef"
            ],
            [
             0.5,
             "#f7f7f7"
            ],
            [
             0.6,
             "#e6f5d0"
            ],
            [
             0.7,
             "#b8e186"
            ],
            [
             0.8,
             "#7fbc41"
            ],
            [
             0.9,
             "#4d9221"
            ],
            [
             1,
             "#276419"
            ]
           ],
           "sequential": [
            [
             0,
             "#0d0887"
            ],
            [
             0.1111111111111111,
             "#46039f"
            ],
            [
             0.2222222222222222,
             "#7201a8"
            ],
            [
             0.3333333333333333,
             "#9c179e"
            ],
            [
             0.4444444444444444,
             "#bd3786"
            ],
            [
             0.5555555555555556,
             "#d8576b"
            ],
            [
             0.6666666666666666,
             "#ed7953"
            ],
            [
             0.7777777777777778,
             "#fb9f3a"
            ],
            [
             0.8888888888888888,
             "#fdca26"
            ],
            [
             1,
             "#f0f921"
            ]
           ],
           "sequentialminus": [
            [
             0,
             "#0d0887"
            ],
            [
             0.1111111111111111,
             "#46039f"
            ],
            [
             0.2222222222222222,
             "#7201a8"
            ],
            [
             0.3333333333333333,
             "#9c179e"
            ],
            [
             0.4444444444444444,
             "#bd3786"
            ],
            [
             0.5555555555555556,
             "#d8576b"
            ],
            [
             0.6666666666666666,
             "#ed7953"
            ],
            [
             0.7777777777777778,
             "#fb9f3a"
            ],
            [
             0.8888888888888888,
             "#fdca26"
            ],
            [
             1,
             "#f0f921"
            ]
           ]
          },
          "colorway": [
           "#636efa",
           "#EF553B",
           "#00cc96",
           "#ab63fa",
           "#FFA15A",
           "#19d3f3",
           "#FF6692",
           "#B6E880",
           "#FF97FF",
           "#FECB52"
          ],
          "font": {
           "color": "#2a3f5f"
          },
          "geo": {
           "bgcolor": "white",
           "lakecolor": "white",
           "landcolor": "#E5ECF6",
           "showlakes": true,
           "showland": true,
           "subunitcolor": "white"
          },
          "hoverlabel": {
           "align": "left"
          },
          "hovermode": "closest",
          "mapbox": {
           "style": "light"
          },
          "paper_bgcolor": "white",
          "plot_bgcolor": "#E5ECF6",
          "polar": {
           "angularaxis": {
            "gridcolor": "white",
            "linecolor": "white",
            "ticks": ""
           },
           "bgcolor": "#E5ECF6",
           "radialaxis": {
            "gridcolor": "white",
            "linecolor": "white",
            "ticks": ""
           }
          },
          "scene": {
           "xaxis": {
            "backgroundcolor": "#E5ECF6",
            "gridcolor": "white",
            "gridwidth": 2,
            "linecolor": "white",
            "showbackground": true,
            "ticks": "",
            "zerolinecolor": "white"
           },
           "yaxis": {
            "backgroundcolor": "#E5ECF6",
            "gridcolor": "white",
            "gridwidth": 2,
            "linecolor": "white",
            "showbackground": true,
            "ticks": "",
            "zerolinecolor": "white"
           },
           "zaxis": {
            "backgroundcolor": "#E5ECF6",
            "gridcolor": "white",
            "gridwidth": 2,
            "linecolor": "white",
            "showbackground": true,
            "ticks": "",
            "zerolinecolor": "white"
           }
          },
          "shapedefaults": {
           "line": {
            "color": "#2a3f5f"
           }
          },
          "ternary": {
           "aaxis": {
            "gridcolor": "white",
            "linecolor": "white",
            "ticks": ""
           },
           "baxis": {
            "gridcolor": "white",
            "linecolor": "white",
            "ticks": ""
           },
           "bgcolor": "#E5ECF6",
           "caxis": {
            "gridcolor": "white",
            "linecolor": "white",
            "ticks": ""
           }
          },
          "title": {
           "x": 0.05
          },
          "xaxis": {
           "automargin": true,
           "gridcolor": "white",
           "linecolor": "white",
           "ticks": "",
           "title": {
            "standoff": 15
           },
           "zerolinecolor": "white",
           "zerolinewidth": 2
          },
          "yaxis": {
           "automargin": true,
           "gridcolor": "white",
           "linecolor": "white",
           "ticks": "",
           "title": {
            "standoff": 15
           },
           "zerolinecolor": "white",
           "zerolinewidth": 2
          }
         }
        },
        "title": {
         "text": "10 najmniej szczęśliwych krajów świata"
        },
        "xaxis": {
         "anchor": "y",
         "domain": [
          0,
          1
         ],
         "title": {
          "text": "Średni poziom szczęścia"
         }
        },
        "yaxis": {
         "anchor": "x",
         "categoryorder": "total ascending",
         "domain": [
          0,
          1
         ],
         "title": {
          "text": "Kraj"
         }
        }
       }
      }
     },
     "metadata": {},
     "output_type": "display_data"
    }
   ],
   "source": [
    "#10 najmniej szczesliwych krajow\n",
    "bottom10 = mean_life.tail(10)\n",
    "\n",
    "fig_bottom = px.bar(\n",
    "    bottom10,\n",
    "    x=\"life_ladder\",\n",
    "    y=\"country\",\n",
    "    orientation=\"h\",\n",
    "    text=\"life_ladder\",\n",
    "    color_discrete_sequence=[\"#f3d52e\"],\n",
    "    labels={\"life_ladder\": \"Średni poziom szczęścia\", \"country\": \"Kraj\"},\n",
    "    title=\"10 najmniej szczęśliwych krajów świata\"\n",
    ")\n",
    "\n",
    "fig_bottom.update_traces(texttemplate='%{text:.2f}', textposition='outside')\n",
    "fig_bottom.update_layout(yaxis={'categoryorder':'total ascending'})\n",
    "fig_bottom.show()\n"
   ]
  },
  {
   "cell_type": "markdown",
   "metadata": {},
   "source": [
    "**Rysunek 2.** Powyższy wykres prezentuje dziesięć krajów o najniższym średnim poziomie szczęścia. \n",
    "\n",
    "Wśród państw z najniższymi wynikami dominują kraje dotknięte konfliktami zbrojnymi, kryzysami gospodarczymi i problemami strukturalnymi. Relatywnie niskie wartości wskaźnika *Life Ladder* mogą odzwierciedlać trudne warunki życia oraz ograniczony dostęp do zasobów materialnych i społecznych."
   ]
  },
  {
   "cell_type": "markdown",
   "metadata": {},
   "source": [
    "---"
   ]
  },
  {
   "cell_type": "code",
   "execution_count": 7,
   "metadata": {},
   "outputs": [
    {
     "data": {
      "application/vnd.plotly.v1+json": {
       "config": {
        "plotlyServerURL": "https://plot.ly"
       },
       "data": [
        {
         "coloraxis": "coloraxis",
         "geo": "geo",
         "hovertemplate": "country=%{location}<br>Średni Life Ladder=%{z}<extra></extra>",
         "locationmode": "country names",
         "locations": [
          "Afghanistan",
          "Albania",
          "Algeria",
          "Angola",
          "Argentina",
          "Armenia",
          "Australia",
          "Austria",
          "Azerbaijan",
          "Bahrain",
          "Bangladesh",
          "Belarus",
          "Belgium",
          "Belize",
          "Benin",
          "Bhutan",
          "Bolivia",
          "Bosnia and Herzegovina",
          "Botswana",
          "Brazil",
          "Bulgaria",
          "Burkina Faso",
          "Burundi",
          "Cambodia",
          "Cameroon",
          "Canada",
          "Central African Republic",
          "Chad",
          "Chile",
          "China",
          "Colombia",
          "Comoros",
          "Congo (Brazzaville)",
          "Congo (Kinshasa)",
          "Costa Rica",
          "Croatia",
          "Cuba",
          "Cyprus",
          "Czech Republic",
          "Denmark",
          "Djibouti",
          "Dominican Republic",
          "Ecuador",
          "Egypt",
          "El Salvador",
          "Estonia",
          "Ethiopia",
          "Finland",
          "France",
          "Gabon",
          "Gambia",
          "Georgia",
          "Germany",
          "Ghana",
          "Greece",
          "Guatemala",
          "Guinea",
          "Guyana",
          "Haiti",
          "Honduras",
          "Hong Kong S.A.R. of China",
          "Hungary",
          "Iceland",
          "India",
          "Indonesia",
          "Iran",
          "Iraq",
          "Ireland",
          "Israel",
          "Italy",
          "Ivory Coast",
          "Jamaica",
          "Japan",
          "Jordan",
          "Kazakhstan",
          "Kenya",
          "Kosovo",
          "Kuwait",
          "Kyrgyzstan",
          "Laos",
          "Latvia",
          "Lebanon",
          "Lesotho",
          "Liberia",
          "Libya",
          "Lithuania",
          "Luxembourg",
          "Madagascar",
          "Malawi",
          "Malaysia",
          "Maldives",
          "Mali",
          "Malta",
          "Mauritania",
          "Mauritius",
          "Mexico",
          "Moldova",
          "Mongolia",
          "Montenegro",
          "Morocco",
          "Mozambique",
          "Myanmar",
          "Namibia",
          "Nepal",
          "Netherlands",
          "New Zealand",
          "Nicaragua",
          "Niger",
          "Nigeria",
          "North Cyprus",
          "North Macedonia",
          "Norway",
          "Oman",
          "Pakistan",
          "Palestinian Territories",
          "Panama",
          "Paraguay",
          "Peru",
          "Philippines",
          "Poland",
          "Portugal",
          "Qatar",
          "Romania",
          "Russia",
          "Rwanda",
          "Saudi Arabia",
          "Senegal",
          "Serbia",
          "Sierra Leone",
          "Singapore",
          "Slovakia",
          "Slovenia",
          "Somalia",
          "Somaliland region",
          "South Africa",
          "South Korea",
          "South Sudan",
          "Spain",
          "Sri Lanka",
          "Sudan",
          "Suriname",
          "Swaziland",
          "Sweden",
          "Switzerland",
          "Syria",
          "Taiwan Province of China",
          "Tajikistan",
          "Tanzania",
          "Thailand",
          "Togo",
          "Trinidad and Tobago",
          "Tunisia",
          "Turkey",
          "Turkmenistan",
          "Uganda",
          "Ukraine",
          "United Arab Emirates",
          "United Kingdom",
          "United States",
          "Uruguay",
          "Uzbekistan",
          "Venezuela",
          "Vietnam",
          "Yemen",
          "Zambia",
          "Zimbabwe"
         ],
         "name": "",
         "type": "choropleth",
         "z": {
          "bdata": "W9bqmODBDEBmfYSP2RMUQKwcWmQ7jxVAdZMYBFauEUC5Q7CXkz0ZQEV/J6vlDRJAsWYjVdcgHUBsub9XC/gcQN4kBoGVwxNA6X9Py8QBGECZBe3okgQTQMCT1fLGSBZAkxgEVg7tG0Cq8dJNYtAYQBERERERMRBAyS+W/GLJFECti9toAO8WQJzyXAJZwxRAk6ZUnH34D0AbCrJ4xHsaQJ9hV4DcSxJAuhvQr0SsEEBtVn2utmIMQOJYF7fRABFAY4IH80R9EkDOPnyGXYEdQB6F61G4HgxAaU7c7TkuEEBtoNMGOm0ZQEA4jG8VMRRAtoeqhX/+GEBbZDvfT40PQCL99nXg3BFA2/l+arxkEUBwgBtmqbccQFCNl24SgxZAeekmMQisFUDW63/0cGsYQMuhRbbzXRpAKssQx7q4HkAK16NwPUoTQPL3eA5S3RRA4g7BXk72FkCavsRF2x4SQESOmpzHzhdAMvxm4EOIFkAQxUaVsJgRQEKlP0x8Yx5A+zdCGb2tGkBgv+vkqr0RQL0ta3VM8BJAVOOlm8QgEUAnVjNYXl8bQC2yne+nRhNA1q+1eSAzFkBoFxCbSgMZQHxgeMNBcxBARrbz/dT4F0DWOrwTKqIPQK87nD7+kRVAl4kDM9LJFUAydkTCODoVQPCnxks3yR1Aat5xio7kEUCH3wx8COkUQJ+QeuZxdRNAokW28/20EkCddcrkVkUcQB3J5T+k3xxAV4Dcay4kGUAwvOGg+WsSQA27AuReMxdAG55eKcsQGEC6IbOgHd0UQE6HOwR7ORdALIpEjpqcEUDOwIeQtrAWQDGMUfZLGBlAMw4Ih/GtFEBQjZduEgMUQIAbZql3tRVA8ZuBDyHtE0AW2c73UwMQQJe1OiZ4MBBAFWcfPsMuFkBtwtD9r00XQBc6OG5QMBxAptnxM7fYD0Dx0k1iEDgQQE8b6LSBLhdAmG4Sg8DKFEBoNXXYcv8QQK2OCR7MkxlAQQRtLFalEUAg84P3lnQXQNrRJQmvyhpArbAGFUJ0FkAeElWEeDsUQDE26G5APxVA3NeBc0YUFEB56SYxCLwSQNUxwYN5ohFAHRM8mCdqEkA2XrpJDMISQO3LlQB63R1AshfNibs9HUDAUMRjwYEWQIJG7b9QBBFA8i7GBt0NFECf42KKNZsWQClcj8L1qBNAsOHplbIMHkC28/3UeGkbQLgehetR+BRAGEdnnTJ5EkCuzQOZH7waQDlBMql+PBZAO1ktb4xgFkAQn2FXgNwUQM4DmR+8txdASiMgVPrDFUBliGNd3EYaQIn8BWp3GhZAtKNLEl4VFkBJUyrOPjwNQG83rmwMJxpA38lqeWPEEUC8RlfGHfsUQJNfLPnFchBArO4dElUEGkC7AuRec0EYQDHxjfPmNhhAvLu7u7u7FECJQWDl0KITQMuhRbbzfRNAQmMThu5/F0Ce76fGSzcLQBRk8Yj3CRpAihBvV907EUD6D+m3r4MRQPp+arx0ExlAd3d3d3f3EUCPLkl4VXodQFOWIY51MR5AxSCwcmgREEAQQRuLVUkZQDcawFsgwRNAYZ6ofyOUDUA7S6PckFkYQHA9CtejcAxAqmBUUicgGUDGkl8s+QUTQGtN845T9BRA9P3UeOlmFkAZKYG6bjcRQPNpKMjiERNAtpeFMKwzG0AHPZtVn6sbQJRliGNdXBxAxPuExiYMGUDxuy85nSoXQJp0bu1XFBhAGEdnnTI5FUBANV66SUwPQPOD95b0NBJAyZi7lpAPD0A=",
          "dtype": "f8"
         }
        }
       ],
       "layout": {
        "coloraxis": {
         "colorbar": {
          "title": {
           "text": "Średni Life Ladder"
          }
         },
         "colorscale": [
          [
           0,
           "#f2f2f2"
          ],
          [
           1,
           "#f3db00"
          ]
         ]
        },
        "geo": {
         "center": {},
         "domain": {
          "x": [
           0,
           1
          ],
          "y": [
           0,
           1
          ]
         },
         "projection": {
          "type": "equirectangular"
         },
         "showcoastlines": false,
         "showframe": false
        },
        "height": 600,
        "legend": {
         "tracegroupgap": 0
        },
        "template": {
         "data": {
          "bar": [
           {
            "error_x": {
             "color": "#2a3f5f"
            },
            "error_y": {
             "color": "#2a3f5f"
            },
            "marker": {
             "line": {
              "color": "#E5ECF6",
              "width": 0.5
             },
             "pattern": {
              "fillmode": "overlay",
              "size": 10,
              "solidity": 0.2
             }
            },
            "type": "bar"
           }
          ],
          "barpolar": [
           {
            "marker": {
             "line": {
              "color": "#E5ECF6",
              "width": 0.5
             },
             "pattern": {
              "fillmode": "overlay",
              "size": 10,
              "solidity": 0.2
             }
            },
            "type": "barpolar"
           }
          ],
          "carpet": [
           {
            "aaxis": {
             "endlinecolor": "#2a3f5f",
             "gridcolor": "white",
             "linecolor": "white",
             "minorgridcolor": "white",
             "startlinecolor": "#2a3f5f"
            },
            "baxis": {
             "endlinecolor": "#2a3f5f",
             "gridcolor": "white",
             "linecolor": "white",
             "minorgridcolor": "white",
             "startlinecolor": "#2a3f5f"
            },
            "type": "carpet"
           }
          ],
          "choropleth": [
           {
            "colorbar": {
             "outlinewidth": 0,
             "ticks": ""
            },
            "type": "choropleth"
           }
          ],
          "contour": [
           {
            "colorbar": {
             "outlinewidth": 0,
             "ticks": ""
            },
            "colorscale": [
             [
              0,
              "#0d0887"
             ],
             [
              0.1111111111111111,
              "#46039f"
             ],
             [
              0.2222222222222222,
              "#7201a8"
             ],
             [
              0.3333333333333333,
              "#9c179e"
             ],
             [
              0.4444444444444444,
              "#bd3786"
             ],
             [
              0.5555555555555556,
              "#d8576b"
             ],
             [
              0.6666666666666666,
              "#ed7953"
             ],
             [
              0.7777777777777778,
              "#fb9f3a"
             ],
             [
              0.8888888888888888,
              "#fdca26"
             ],
             [
              1,
              "#f0f921"
             ]
            ],
            "type": "contour"
           }
          ],
          "contourcarpet": [
           {
            "colorbar": {
             "outlinewidth": 0,
             "ticks": ""
            },
            "type": "contourcarpet"
           }
          ],
          "heatmap": [
           {
            "colorbar": {
             "outlinewidth": 0,
             "ticks": ""
            },
            "colorscale": [
             [
              0,
              "#0d0887"
             ],
             [
              0.1111111111111111,
              "#46039f"
             ],
             [
              0.2222222222222222,
              "#7201a8"
             ],
             [
              0.3333333333333333,
              "#9c179e"
             ],
             [
              0.4444444444444444,
              "#bd3786"
             ],
             [
              0.5555555555555556,
              "#d8576b"
             ],
             [
              0.6666666666666666,
              "#ed7953"
             ],
             [
              0.7777777777777778,
              "#fb9f3a"
             ],
             [
              0.8888888888888888,
              "#fdca26"
             ],
             [
              1,
              "#f0f921"
             ]
            ],
            "type": "heatmap"
           }
          ],
          "histogram": [
           {
            "marker": {
             "pattern": {
              "fillmode": "overlay",
              "size": 10,
              "solidity": 0.2
             }
            },
            "type": "histogram"
           }
          ],
          "histogram2d": [
           {
            "colorbar": {
             "outlinewidth": 0,
             "ticks": ""
            },
            "colorscale": [
             [
              0,
              "#0d0887"
             ],
             [
              0.1111111111111111,
              "#46039f"
             ],
             [
              0.2222222222222222,
              "#7201a8"
             ],
             [
              0.3333333333333333,
              "#9c179e"
             ],
             [
              0.4444444444444444,
              "#bd3786"
             ],
             [
              0.5555555555555556,
              "#d8576b"
             ],
             [
              0.6666666666666666,
              "#ed7953"
             ],
             [
              0.7777777777777778,
              "#fb9f3a"
             ],
             [
              0.8888888888888888,
              "#fdca26"
             ],
             [
              1,
              "#f0f921"
             ]
            ],
            "type": "histogram2d"
           }
          ],
          "histogram2dcontour": [
           {
            "colorbar": {
             "outlinewidth": 0,
             "ticks": ""
            },
            "colorscale": [
             [
              0,
              "#0d0887"
             ],
             [
              0.1111111111111111,
              "#46039f"
             ],
             [
              0.2222222222222222,
              "#7201a8"
             ],
             [
              0.3333333333333333,
              "#9c179e"
             ],
             [
              0.4444444444444444,
              "#bd3786"
             ],
             [
              0.5555555555555556,
              "#d8576b"
             ],
             [
              0.6666666666666666,
              "#ed7953"
             ],
             [
              0.7777777777777778,
              "#fb9f3a"
             ],
             [
              0.8888888888888888,
              "#fdca26"
             ],
             [
              1,
              "#f0f921"
             ]
            ],
            "type": "histogram2dcontour"
           }
          ],
          "mesh3d": [
           {
            "colorbar": {
             "outlinewidth": 0,
             "ticks": ""
            },
            "type": "mesh3d"
           }
          ],
          "parcoords": [
           {
            "line": {
             "colorbar": {
              "outlinewidth": 0,
              "ticks": ""
             }
            },
            "type": "parcoords"
           }
          ],
          "pie": [
           {
            "automargin": true,
            "type": "pie"
           }
          ],
          "scatter": [
           {
            "fillpattern": {
             "fillmode": "overlay",
             "size": 10,
             "solidity": 0.2
            },
            "type": "scatter"
           }
          ],
          "scatter3d": [
           {
            "line": {
             "colorbar": {
              "outlinewidth": 0,
              "ticks": ""
             }
            },
            "marker": {
             "colorbar": {
              "outlinewidth": 0,
              "ticks": ""
             }
            },
            "type": "scatter3d"
           }
          ],
          "scattercarpet": [
           {
            "marker": {
             "colorbar": {
              "outlinewidth": 0,
              "ticks": ""
             }
            },
            "type": "scattercarpet"
           }
          ],
          "scattergeo": [
           {
            "marker": {
             "colorbar": {
              "outlinewidth": 0,
              "ticks": ""
             }
            },
            "type": "scattergeo"
           }
          ],
          "scattergl": [
           {
            "marker": {
             "colorbar": {
              "outlinewidth": 0,
              "ticks": ""
             }
            },
            "type": "scattergl"
           }
          ],
          "scattermap": [
           {
            "marker": {
             "colorbar": {
              "outlinewidth": 0,
              "ticks": ""
             }
            },
            "type": "scattermap"
           }
          ],
          "scattermapbox": [
           {
            "marker": {
             "colorbar": {
              "outlinewidth": 0,
              "ticks": ""
             }
            },
            "type": "scattermapbox"
           }
          ],
          "scatterpolar": [
           {
            "marker": {
             "colorbar": {
              "outlinewidth": 0,
              "ticks": ""
             }
            },
            "type": "scatterpolar"
           }
          ],
          "scatterpolargl": [
           {
            "marker": {
             "colorbar": {
              "outlinewidth": 0,
              "ticks": ""
             }
            },
            "type": "scatterpolargl"
           }
          ],
          "scatterternary": [
           {
            "marker": {
             "colorbar": {
              "outlinewidth": 0,
              "ticks": ""
             }
            },
            "type": "scatterternary"
           }
          ],
          "surface": [
           {
            "colorbar": {
             "outlinewidth": 0,
             "ticks": ""
            },
            "colorscale": [
             [
              0,
              "#0d0887"
             ],
             [
              0.1111111111111111,
              "#46039f"
             ],
             [
              0.2222222222222222,
              "#7201a8"
             ],
             [
              0.3333333333333333,
              "#9c179e"
             ],
             [
              0.4444444444444444,
              "#bd3786"
             ],
             [
              0.5555555555555556,
              "#d8576b"
             ],
             [
              0.6666666666666666,
              "#ed7953"
             ],
             [
              0.7777777777777778,
              "#fb9f3a"
             ],
             [
              0.8888888888888888,
              "#fdca26"
             ],
             [
              1,
              "#f0f921"
             ]
            ],
            "type": "surface"
           }
          ],
          "table": [
           {
            "cells": {
             "fill": {
              "color": "#EBF0F8"
             },
             "line": {
              "color": "white"
             }
            },
            "header": {
             "fill": {
              "color": "#C8D4E3"
             },
             "line": {
              "color": "white"
             }
            },
            "type": "table"
           }
          ]
         },
         "layout": {
          "annotationdefaults": {
           "arrowcolor": "#2a3f5f",
           "arrowhead": 0,
           "arrowwidth": 1
          },
          "autotypenumbers": "strict",
          "coloraxis": {
           "colorbar": {
            "outlinewidth": 0,
            "ticks": ""
           }
          },
          "colorscale": {
           "diverging": [
            [
             0,
             "#8e0152"
            ],
            [
             0.1,
             "#c51b7d"
            ],
            [
             0.2,
             "#de77ae"
            ],
            [
             0.3,
             "#f1b6da"
            ],
            [
             0.4,
             "#fde0ef"
            ],
            [
             0.5,
             "#f7f7f7"
            ],
            [
             0.6,
             "#e6f5d0"
            ],
            [
             0.7,
             "#b8e186"
            ],
            [
             0.8,
             "#7fbc41"
            ],
            [
             0.9,
             "#4d9221"
            ],
            [
             1,
             "#276419"
            ]
           ],
           "sequential": [
            [
             0,
             "#0d0887"
            ],
            [
             0.1111111111111111,
             "#46039f"
            ],
            [
             0.2222222222222222,
             "#7201a8"
            ],
            [
             0.3333333333333333,
             "#9c179e"
            ],
            [
             0.4444444444444444,
             "#bd3786"
            ],
            [
             0.5555555555555556,
             "#d8576b"
            ],
            [
             0.6666666666666666,
             "#ed7953"
            ],
            [
             0.7777777777777778,
             "#fb9f3a"
            ],
            [
             0.8888888888888888,
             "#fdca26"
            ],
            [
             1,
             "#f0f921"
            ]
           ],
           "sequentialminus": [
            [
             0,
             "#0d0887"
            ],
            [
             0.1111111111111111,
             "#46039f"
            ],
            [
             0.2222222222222222,
             "#7201a8"
            ],
            [
             0.3333333333333333,
             "#9c179e"
            ],
            [
             0.4444444444444444,
             "#bd3786"
            ],
            [
             0.5555555555555556,
             "#d8576b"
            ],
            [
             0.6666666666666666,
             "#ed7953"
            ],
            [
             0.7777777777777778,
             "#fb9f3a"
            ],
            [
             0.8888888888888888,
             "#fdca26"
            ],
            [
             1,
             "#f0f921"
            ]
           ]
          },
          "colorway": [
           "#636efa",
           "#EF553B",
           "#00cc96",
           "#ab63fa",
           "#FFA15A",
           "#19d3f3",
           "#FF6692",
           "#B6E880",
           "#FF97FF",
           "#FECB52"
          ],
          "font": {
           "color": "#2a3f5f"
          },
          "geo": {
           "bgcolor": "white",
           "lakecolor": "white",
           "landcolor": "#E5ECF6",
           "showlakes": true,
           "showland": true,
           "subunitcolor": "white"
          },
          "hoverlabel": {
           "align": "left"
          },
          "hovermode": "closest",
          "mapbox": {
           "style": "light"
          },
          "paper_bgcolor": "white",
          "plot_bgcolor": "#E5ECF6",
          "polar": {
           "angularaxis": {
            "gridcolor": "white",
            "linecolor": "white",
            "ticks": ""
           },
           "bgcolor": "#E5ECF6",
           "radialaxis": {
            "gridcolor": "white",
            "linecolor": "white",
            "ticks": ""
           }
          },
          "scene": {
           "xaxis": {
            "backgroundcolor": "#E5ECF6",
            "gridcolor": "white",
            "gridwidth": 2,
            "linecolor": "white",
            "showbackground": true,
            "ticks": "",
            "zerolinecolor": "white"
           },
           "yaxis": {
            "backgroundcolor": "#E5ECF6",
            "gridcolor": "white",
            "gridwidth": 2,
            "linecolor": "white",
            "showbackground": true,
            "ticks": "",
            "zerolinecolor": "white"
           },
           "zaxis": {
            "backgroundcolor": "#E5ECF6",
            "gridcolor": "white",
            "gridwidth": 2,
            "linecolor": "white",
            "showbackground": true,
            "ticks": "",
            "zerolinecolor": "white"
           }
          },
          "shapedefaults": {
           "line": {
            "color": "#2a3f5f"
           }
          },
          "ternary": {
           "aaxis": {
            "gridcolor": "white",
            "linecolor": "white",
            "ticks": ""
           },
           "baxis": {
            "gridcolor": "white",
            "linecolor": "white",
            "ticks": ""
           },
           "bgcolor": "#E5ECF6",
           "caxis": {
            "gridcolor": "white",
            "linecolor": "white",
            "ticks": ""
           }
          },
          "title": {
           "x": 0.05
          },
          "xaxis": {
           "automargin": true,
           "gridcolor": "white",
           "linecolor": "white",
           "ticks": "",
           "title": {
            "standoff": 15
           },
           "zerolinecolor": "white",
           "zerolinewidth": 2
          },
          "yaxis": {
           "automargin": true,
           "gridcolor": "white",
           "linecolor": "white",
           "ticks": "",
           "title": {
            "standoff": 15
           },
           "zerolinecolor": "white",
           "zerolinewidth": 2
          }
         }
        },
        "title": {
         "text": "Średni poziom szczęścia w krajach świata"
        },
        "width": 1200
       }
      }
     },
     "metadata": {},
     "output_type": "display_data"
    }
   ],
   "source": [
    "#karogram mapa swiata\n",
    "mean_happiness = df.groupby(\"country\")[\"life_ladder\"].mean().reset_index()\n",
    "\n",
    "scale = [\n",
    "    [0, \"#f2f2f2\"], \n",
    "    [1, \"#f3db00\"]\n",
    "]\n",
    "\n",
    "fig_map = px.choropleth(\n",
    "    mean_happiness,\n",
    "    locations=\"country\",\n",
    "    locationmode=\"country names\",\n",
    "    color=\"life_ladder\",\n",
    "    color_continuous_scale=scale,\n",
    "    title=\"Średni poziom szczęścia w krajach świata\",\n",
    "    labels={\"life_ladder\": \"Średni Life Ladder\"}\n",
    ")\n",
    "\n",
    "fig_map.update_geos(\n",
    "    showframe=False,\n",
    "    showcoastlines=False,\n",
    "    projection_type=\"equirectangular\"\n",
    ")\n",
    "\n",
    "fig_map.update_layout(\n",
    "    width=1200,\n",
    "    height=600\n",
    ")\n",
    "\n",
    "fig_map.show()\n"
   ]
  },
  {
   "cell_type": "markdown",
   "metadata": {},
   "source": [
    "**Rysunek 3.** Kartogram przedstawia średni poziom szczęścia w krajach świata. \n",
    "\n",
    "Obszary o najwyższych wartościach wskaźnika *Life Ladder* koncentrują się w Europie Zachodniej, Ameryce Północnej i Australii, natomiast regiony Afryki Subsaharyjskiej oraz niektóre części Azji wykazują niższe poziomy dobrostanu deklarowanego przez respondentów. Przestrzenna dystrybucja wyników odzwierciedla globalne dysproporcje rozwoju społeczno-ekonomicznego."
   ]
  },
  {
   "cell_type": "markdown",
   "metadata": {},
   "source": [
    "---"
   ]
  },
  {
   "cell_type": "code",
   "execution_count": 8,
   "metadata": {},
   "outputs": [
    {
     "data": {
      "application/vnd.plotly.v1+json": {
       "config": {
        "plotlyServerURL": "https://plot.ly"
       },
       "data": [
        {
         "alignmentgroup": "True",
         "boxpoints": "all",
         "hovertemplate": "<b>%{hovertext}</b><br><br>Region=%{x}<br>Life Ladder=%{y}<extra></extra>",
         "hovertext": [
          "Afghanistan",
          "Afghanistan",
          "Afghanistan",
          "Afghanistan",
          "Afghanistan",
          "Afghanistan",
          "Afghanistan",
          "Afghanistan",
          "Afghanistan",
          "Afghanistan",
          "Afghanistan",
          "Afghanistan",
          "Albania",
          "Albania",
          "Albania",
          "Albania",
          "Albania",
          "Albania",
          "Albania",
          "Albania",
          "Albania",
          "Albania",
          "Albania",
          "Albania",
          "Albania",
          "Algeria",
          "Algeria",
          "Algeria",
          "Algeria",
          "Algeria",
          "Algeria",
          "Algeria",
          "Algeria",
          "Angola",
          "Angola",
          "Angola",
          "Angola",
          "Argentina",
          "Argentina",
          "Argentina",
          "Argentina",
          "Argentina",
          "Argentina",
          "Argentina",
          "Argentina",
          "Argentina",
          "Argentina",
          "Argentina",
          "Argentina",
          "Argentina",
          "Argentina",
          "Argentina",
          "Armenia",
          "Armenia",
          "Armenia",
          "Armenia",
          "Armenia",
          "Armenia",
          "Armenia",
          "Armenia",
          "Armenia",
          "Armenia",
          "Armenia",
          "Armenia",
          "Armenia",
          "Armenia",
          "Australia",
          "Australia",
          "Australia",
          "Australia",
          "Australia",
          "Australia",
          "Australia",
          "Australia",
          "Australia",
          "Australia",
          "Australia",
          "Australia",
          "Australia",
          "Australia",
          "Austria",
          "Austria",
          "Austria",
          "Austria",
          "Austria",
          "Austria",
          "Austria",
          "Austria",
          "Austria",
          "Austria",
          "Austria",
          "Austria",
          "Austria",
          "Azerbaijan",
          "Azerbaijan",
          "Azerbaijan",
          "Azerbaijan",
          "Azerbaijan",
          "Azerbaijan",
          "Azerbaijan",
          "Azerbaijan",
          "Azerbaijan",
          "Azerbaijan",
          "Azerbaijan",
          "Azerbaijan",
          "Azerbaijan",
          "Azerbaijan",
          "Bahrain",
          "Bahrain",
          "Bahrain",
          "Bahrain",
          "Bahrain",
          "Bahrain",
          "Bahrain",
          "Bahrain",
          "Bahrain",
          "Bahrain",
          "Bahrain",
          "Bangladesh",
          "Bangladesh",
          "Bangladesh",
          "Bangladesh",
          "Bangladesh",
          "Bangladesh",
          "Bangladesh",
          "Bangladesh",
          "Bangladesh",
          "Bangladesh",
          "Bangladesh",
          "Bangladesh",
          "Bangladesh",
          "Bangladesh",
          "Bangladesh",
          "Belarus",
          "Belarus",
          "Belarus",
          "Belarus",
          "Belarus",
          "Belarus",
          "Belarus",
          "Belarus",
          "Belarus",
          "Belarus",
          "Belarus",
          "Belarus",
          "Belarus",
          "Belarus",
          "Belgium",
          "Belgium",
          "Belgium",
          "Belgium",
          "Belgium",
          "Belgium",
          "Belgium",
          "Belgium",
          "Belgium",
          "Belgium",
          "Belgium",
          "Belgium",
          "Belgium",
          "Belgium",
          "Belize",
          "Belize",
          "Benin",
          "Benin",
          "Benin",
          "Benin",
          "Benin",
          "Benin",
          "Benin",
          "Benin",
          "Benin",
          "Benin",
          "Benin",
          "Benin",
          "Bhutan",
          "Bhutan",
          "Bhutan",
          "Bolivia",
          "Bolivia",
          "Bolivia",
          "Bolivia",
          "Bolivia",
          "Bolivia",
          "Bolivia",
          "Bolivia",
          "Bolivia",
          "Bolivia",
          "Bolivia",
          "Bolivia",
          "Bolivia",
          "Bolivia",
          "Bolivia",
          "Bosnia and Herzegovina",
          "Bosnia and Herzegovina",
          "Bosnia and Herzegovina",
          "Bosnia and Herzegovina",
          "Bosnia and Herzegovina",
          "Bosnia and Herzegovina",
          "Bosnia and Herzegovina",
          "Bosnia and Herzegovina",
          "Bosnia and Herzegovina",
          "Bosnia and Herzegovina",
          "Bosnia and Herzegovina",
          "Bosnia and Herzegovina",
          "Bosnia and Herzegovina",
          "Botswana",
          "Botswana",
          "Botswana",
          "Botswana",
          "Botswana",
          "Botswana",
          "Botswana",
          "Botswana",
          "Botswana",
          "Botswana",
          "Botswana",
          "Botswana",
          "Brazil",
          "Brazil",
          "Brazil",
          "Brazil",
          "Brazil",
          "Brazil",
          "Brazil",
          "Brazil",
          "Brazil",
          "Brazil",
          "Brazil",
          "Brazil",
          "Brazil",
          "Brazil",
          "Brazil",
          "Bulgaria",
          "Bulgaria",
          "Bulgaria",
          "Bulgaria",
          "Bulgaria",
          "Bulgaria",
          "Bulgaria",
          "Bulgaria",
          "Bulgaria",
          "Bulgaria",
          "Bulgaria",
          "Bulgaria",
          "Burkina Faso",
          "Burkina Faso",
          "Burkina Faso",
          "Burkina Faso",
          "Burkina Faso",
          "Burkina Faso",
          "Burkina Faso",
          "Burkina Faso",
          "Burkina Faso",
          "Burkina Faso",
          "Burkina Faso",
          "Burkina Faso",
          "Burkina Faso",
          "Burundi",
          "Burundi",
          "Burundi",
          "Burundi",
          "Burundi",
          "Cambodia",
          "Cambodia",
          "Cambodia",
          "Cambodia",
          "Cambodia",
          "Cambodia",
          "Cambodia",
          "Cambodia",
          "Cambodia",
          "Cambodia",
          "Cambodia",
          "Cambodia",
          "Cambodia",
          "Cambodia",
          "Cambodia",
          "Cameroon",
          "Cameroon",
          "Cameroon",
          "Cameroon",
          "Cameroon",
          "Cameroon",
          "Cameroon",
          "Cameroon",
          "Cameroon",
          "Cameroon",
          "Cameroon",
          "Cameroon",
          "Cameroon",
          "Cameroon",
          "Cameroon",
          "Canada",
          "Canada",
          "Canada",
          "Canada",
          "Canada",
          "Canada",
          "Canada",
          "Canada",
          "Canada",
          "Canada",
          "Canada",
          "Canada",
          "Canada",
          "Canada",
          "Canada",
          "Central African Republic",
          "Central African Republic",
          "Central African Republic",
          "Central African Republic",
          "Central African Republic",
          "Chad",
          "Chad",
          "Chad",
          "Chad",
          "Chad",
          "Chad",
          "Chad",
          "Chad",
          "Chad",
          "Chad",
          "Chad",
          "Chad",
          "Chad",
          "Chad",
          "Chile",
          "Chile",
          "Chile",
          "Chile",
          "Chile",
          "Chile",
          "Chile",
          "Chile",
          "Chile",
          "Chile",
          "Chile",
          "Chile",
          "Chile",
          "Chile",
          "Chile",
          "China",
          "China",
          "China",
          "China",
          "China",
          "China",
          "China",
          "China",
          "China",
          "China",
          "China",
          "China",
          "China",
          "China",
          "China",
          "Colombia",
          "Colombia",
          "Colombia",
          "Colombia",
          "Colombia",
          "Colombia",
          "Colombia",
          "Colombia",
          "Colombia",
          "Colombia",
          "Colombia",
          "Colombia",
          "Colombia",
          "Colombia",
          "Colombia",
          "Comoros",
          "Comoros",
          "Comoros",
          "Comoros",
          "Comoros",
          "Comoros",
          "Congo (Brazzaville)",
          "Congo (Brazzaville)",
          "Congo (Brazzaville)",
          "Congo (Brazzaville)",
          "Congo (Brazzaville)",
          "Congo (Brazzaville)",
          "Congo (Brazzaville)",
          "Congo (Brazzaville)",
          "Congo (Brazzaville)",
          "Congo (Brazzaville)",
          "Congo (Kinshasa)",
          "Congo (Kinshasa)",
          "Congo (Kinshasa)",
          "Congo (Kinshasa)",
          "Congo (Kinshasa)",
          "Congo (Kinshasa)",
          "Congo (Kinshasa)",
          "Congo (Kinshasa)",
          "Costa Rica",
          "Costa Rica",
          "Costa Rica",
          "Costa Rica",
          "Costa Rica",
          "Costa Rica",
          "Costa Rica",
          "Costa Rica",
          "Costa Rica",
          "Costa Rica",
          "Costa Rica",
          "Costa Rica",
          "Costa Rica",
          "Costa Rica",
          "Croatia",
          "Croatia",
          "Croatia",
          "Croatia",
          "Croatia",
          "Croatia",
          "Croatia",
          "Croatia",
          "Croatia",
          "Croatia",
          "Croatia",
          "Croatia",
          "Croatia",
          "Cuba",
          "Cyprus",
          "Cyprus",
          "Cyprus",
          "Cyprus",
          "Cyprus",
          "Cyprus",
          "Cyprus",
          "Cyprus",
          "Cyprus",
          "Cyprus",
          "Cyprus",
          "Cyprus",
          "Cyprus",
          "Czech Republic",
          "Czech Republic",
          "Czech Republic",
          "Czech Republic",
          "Czech Republic",
          "Czech Republic",
          "Czech Republic",
          "Czech Republic",
          "Czech Republic",
          "Czech Republic",
          "Czech Republic",
          "Czech Republic",
          "Denmark",
          "Denmark",
          "Denmark",
          "Denmark",
          "Denmark",
          "Denmark",
          "Denmark",
          "Denmark",
          "Denmark",
          "Denmark",
          "Denmark",
          "Denmark",
          "Denmark",
          "Denmark",
          "Denmark",
          "Djibouti",
          "Djibouti",
          "Djibouti",
          "Djibouti",
          "Dominican Republic",
          "Dominican Republic",
          "Dominican Republic",
          "Dominican Republic",
          "Dominican Republic",
          "Dominican Republic",
          "Dominican Republic",
          "Dominican Republic",
          "Dominican Republic",
          "Dominican Republic",
          "Dominican Republic",
          "Dominican Republic",
          "Dominican Republic",
          "Dominican Republic",
          "Dominican Republic",
          "Ecuador",
          "Ecuador",
          "Ecuador",
          "Ecuador",
          "Ecuador",
          "Ecuador",
          "Ecuador",
          "Ecuador",
          "Ecuador",
          "Ecuador",
          "Ecuador",
          "Ecuador",
          "Ecuador",
          "Ecuador",
          "Ecuador",
          "Egypt",
          "Egypt",
          "Egypt",
          "Egypt",
          "Egypt",
          "Egypt",
          "Egypt",
          "Egypt",
          "Egypt",
          "Egypt",
          "Egypt",
          "Egypt",
          "Egypt",
          "Egypt",
          "Egypt",
          "El Salvador",
          "El Salvador",
          "El Salvador",
          "El Salvador",
          "El Salvador",
          "El Salvador",
          "El Salvador",
          "El Salvador",
          "El Salvador",
          "El Salvador",
          "El Salvador",
          "El Salvador",
          "El Salvador",
          "El Salvador",
          "El Salvador",
          "Estonia",
          "Estonia",
          "Estonia",
          "Estonia",
          "Estonia",
          "Estonia",
          "Estonia",
          "Estonia",
          "Estonia",
          "Estonia",
          "Estonia",
          "Estonia",
          "Estonia",
          "Estonia",
          "Ethiopia",
          "Ethiopia",
          "Ethiopia",
          "Ethiopia",
          "Ethiopia",
          "Ethiopia",
          "Ethiopia",
          "Ethiopia",
          "Ethiopia",
          "Finland",
          "Finland",
          "Finland",
          "Finland",
          "Finland",
          "Finland",
          "Finland",
          "Finland",
          "Finland",
          "Finland",
          "Finland",
          "Finland",
          "Finland",
          "France",
          "France",
          "France",
          "France",
          "France",
          "France",
          "France",
          "France",
          "France",
          "France",
          "France",
          "France",
          "France",
          "France",
          "France",
          "Gabon",
          "Gabon",
          "Gabon",
          "Gabon",
          "Gabon",
          "Gabon",
          "Gabon",
          "Gabon",
          "Gabon",
          "Gambia",
          "Gambia",
          "Gambia",
          "Georgia",
          "Georgia",
          "Georgia",
          "Georgia",
          "Georgia",
          "Georgia",
          "Georgia",
          "Georgia",
          "Georgia",
          "Georgia",
          "Georgia",
          "Georgia",
          "Georgia",
          "Georgia",
          "Georgia",
          "Germany",
          "Germany",
          "Germany",
          "Germany",
          "Germany",
          "Germany",
          "Germany",
          "Germany",
          "Germany",
          "Germany",
          "Germany",
          "Germany",
          "Germany",
          "Germany",
          "Germany",
          "Ghana",
          "Ghana",
          "Ghana",
          "Ghana",
          "Ghana",
          "Ghana",
          "Ghana",
          "Ghana",
          "Ghana",
          "Ghana",
          "Ghana",
          "Ghana",
          "Ghana",
          "Ghana",
          "Ghana",
          "Greece",
          "Greece",
          "Greece",
          "Greece",
          "Greece",
          "Greece",
          "Greece",
          "Greece",
          "Greece",
          "Greece",
          "Greece",
          "Greece",
          "Greece",
          "Greece",
          "Guatemala",
          "Guatemala",
          "Guatemala",
          "Guatemala",
          "Guatemala",
          "Guatemala",
          "Guatemala",
          "Guatemala",
          "Guatemala",
          "Guatemala",
          "Guatemala",
          "Guatemala",
          "Guatemala",
          "Guatemala",
          "Guinea",
          "Guinea",
          "Guinea",
          "Guinea",
          "Guinea",
          "Guinea",
          "Guinea",
          "Guinea",
          "Guinea",
          "Guyana",
          "Haiti",
          "Haiti",
          "Haiti",
          "Haiti",
          "Haiti",
          "Haiti",
          "Haiti",
          "Haiti",
          "Haiti",
          "Haiti",
          "Haiti",
          "Honduras",
          "Honduras",
          "Honduras",
          "Honduras",
          "Honduras",
          "Honduras",
          "Honduras",
          "Honduras",
          "Honduras",
          "Honduras",
          "Honduras",
          "Honduras",
          "Honduras",
          "Honduras",
          "Hong Kong S.A.R. of China",
          "Hong Kong S.A.R. of China",
          "Hong Kong S.A.R. of China",
          "Hong Kong S.A.R. of China",
          "Hong Kong S.A.R. of China",
          "Hong Kong S.A.R. of China",
          "Hong Kong S.A.R. of China",
          "Hong Kong S.A.R. of China",
          "Hong Kong S.A.R. of China",
          "Hong Kong S.A.R. of China",
          "Hong Kong S.A.R. of China",
          "Hungary",
          "Hungary",
          "Hungary",
          "Hungary",
          "Hungary",
          "Hungary",
          "Hungary",
          "Hungary",
          "Hungary",
          "Hungary",
          "Hungary",
          "Hungary",
          "Hungary",
          "Hungary",
          "Iceland",
          "Iceland",
          "Iceland",
          "Iceland",
          "Iceland",
          "Iceland",
          "Iceland",
          "Iceland",
          "India",
          "India",
          "India",
          "India",
          "India",
          "India",
          "India",
          "India",
          "India",
          "India",
          "India",
          "India",
          "India",
          "India",
          "India",
          "Indonesia",
          "Indonesia",
          "Indonesia",
          "Indonesia",
          "Indonesia",
          "Indonesia",
          "Indonesia",
          "Indonesia",
          "Indonesia",
          "Indonesia",
          "Indonesia",
          "Indonesia",
          "Indonesia",
          "Indonesia",
          "Iran",
          "Iran",
          "Iran",
          "Iran",
          "Iran",
          "Iran",
          "Iran",
          "Iran",
          "Iran",
          "Iran",
          "Iran",
          "Iran",
          "Iran",
          "Iraq",
          "Iraq",
          "Iraq",
          "Iraq",
          "Iraq",
          "Iraq",
          "Iraq",
          "Iraq",
          "Iraq",
          "Iraq",
          "Iraq",
          "Iraq",
          "Ireland",
          "Ireland",
          "Ireland",
          "Ireland",
          "Ireland",
          "Ireland",
          "Ireland",
          "Ireland",
          "Ireland",
          "Ireland",
          "Ireland",
          "Ireland",
          "Ireland",
          "Ireland",
          "Israel",
          "Israel",
          "Israel",
          "Israel",
          "Israel",
          "Israel",
          "Israel",
          "Israel",
          "Israel",
          "Israel",
          "Israel",
          "Israel",
          "Israel",
          "Israel",
          "Israel",
          "Italy",
          "Italy",
          "Italy",
          "Italy",
          "Italy",
          "Italy",
          "Italy",
          "Italy",
          "Italy",
          "Italy",
          "Italy",
          "Italy",
          "Italy",
          "Italy",
          "Italy",
          "Ivory Coast",
          "Ivory Coast",
          "Ivory Coast",
          "Ivory Coast",
          "Ivory Coast",
          "Ivory Coast",
          "Ivory Coast",
          "Ivory Coast",
          "Ivory Coast",
          "Jamaica",
          "Jamaica",
          "Jamaica",
          "Jamaica",
          "Jamaica",
          "Jamaica",
          "Japan",
          "Japan",
          "Japan",
          "Japan",
          "Japan",
          "Japan",
          "Japan",
          "Japan",
          "Japan",
          "Japan",
          "Japan",
          "Japan",
          "Japan",
          "Japan",
          "Japan",
          "Jordan",
          "Jordan",
          "Jordan",
          "Jordan",
          "Jordan",
          "Jordan",
          "Jordan",
          "Jordan",
          "Jordan",
          "Jordan",
          "Jordan",
          "Jordan",
          "Jordan",
          "Jordan",
          "Jordan",
          "Kazakhstan",
          "Kazakhstan",
          "Kazakhstan",
          "Kazakhstan",
          "Kazakhstan",
          "Kazakhstan",
          "Kazakhstan",
          "Kazakhstan",
          "Kazakhstan",
          "Kazakhstan",
          "Kazakhstan",
          "Kazakhstan",
          "Kazakhstan",
          "Kazakhstan",
          "Kazakhstan",
          "Kenya",
          "Kenya",
          "Kenya",
          "Kenya",
          "Kenya",
          "Kenya",
          "Kenya",
          "Kenya",
          "Kenya",
          "Kenya",
          "Kenya",
          "Kenya",
          "Kenya",
          "Kenya",
          "Kenya",
          "Kosovo",
          "Kosovo",
          "Kosovo",
          "Kosovo",
          "Kosovo",
          "Kosovo",
          "Kosovo",
          "Kosovo",
          "Kosovo",
          "Kosovo",
          "Kosovo",
          "Kosovo",
          "Kosovo",
          "Kosovo",
          "Kuwait",
          "Kuwait",
          "Kuwait",
          "Kuwait",
          "Kuwait",
          "Kuwait",
          "Kuwait",
          "Kuwait",
          "Kuwait",
          "Kuwait",
          "Kuwait",
          "Kyrgyzstan",
          "Kyrgyzstan",
          "Kyrgyzstan",
          "Kyrgyzstan",
          "Kyrgyzstan",
          "Kyrgyzstan",
          "Kyrgyzstan",
          "Kyrgyzstan",
          "Kyrgyzstan",
          "Kyrgyzstan",
          "Kyrgyzstan",
          "Kyrgyzstan",
          "Kyrgyzstan",
          "Kyrgyzstan",
          "Kyrgyzstan",
          "Laos",
          "Laos",
          "Laos",
          "Laos",
          "Laos",
          "Laos",
          "Laos",
          "Laos",
          "Laos",
          "Latvia",
          "Latvia",
          "Latvia",
          "Latvia",
          "Latvia",
          "Latvia",
          "Latvia",
          "Latvia",
          "Latvia",
          "Latvia",
          "Latvia",
          "Latvia",
          "Latvia",
          "Latvia",
          "Lebanon",
          "Lebanon",
          "Lebanon",
          "Lebanon",
          "Lebanon",
          "Lebanon",
          "Lebanon",
          "Lebanon",
          "Lebanon",
          "Lebanon",
          "Lebanon",
          "Lebanon",
          "Lebanon",
          "Lebanon",
          "Lesotho",
          "Lesotho",
          "Lesotho",
          "Lesotho",
          "Liberia",
          "Liberia",
          "Liberia",
          "Liberia",
          "Liberia",
          "Liberia",
          "Liberia",
          "Liberia",
          "Liberia",
          "Libya",
          "Libya",
          "Libya",
          "Libya",
          "Libya",
          "Libya",
          "Lithuania",
          "Lithuania",
          "Lithuania",
          "Lithuania",
          "Lithuania",
          "Lithuania",
          "Lithuania",
          "Lithuania",
          "Lithuania",
          "Lithuania",
          "Lithuania",
          "Lithuania",
          "Lithuania",
          "Lithuania",
          "Lithuania",
          "Luxembourg",
          "Luxembourg",
          "Luxembourg",
          "Luxembourg",
          "Luxembourg",
          "Luxembourg",
          "Luxembourg",
          "Luxembourg",
          "Luxembourg",
          "Luxembourg",
          "Luxembourg",
          "Madagascar",
          "Madagascar",
          "Madagascar",
          "Madagascar",
          "Madagascar",
          "Madagascar",
          "Madagascar",
          "Madagascar",
          "Madagascar",
          "Madagascar",
          "Madagascar",
          "Malawi",
          "Malawi",
          "Malawi",
          "Malawi",
          "Malawi",
          "Malawi",
          "Malawi",
          "Malawi",
          "Malawi",
          "Malawi",
          "Malawi",
          "Malawi",
          "Malaysia",
          "Malaysia",
          "Malaysia",
          "Malaysia",
          "Malaysia",
          "Malaysia",
          "Malaysia",
          "Malaysia",
          "Malaysia",
          "Malaysia",
          "Malaysia",
          "Malaysia",
          "Maldives",
          "Mali",
          "Mali",
          "Mali",
          "Mali",
          "Mali",
          "Mali",
          "Mali",
          "Mali",
          "Mali",
          "Mali",
          "Mali",
          "Mali",
          "Mali",
          "Malta",
          "Malta",
          "Malta",
          "Malta",
          "Malta",
          "Malta",
          "Malta",
          "Malta",
          "Malta",
          "Malta",
          "Malta",
          "Malta",
          "Mauritania",
          "Mauritania",
          "Mauritania",
          "Mauritania",
          "Mauritania",
          "Mauritania",
          "Mauritania",
          "Mauritania",
          "Mauritania",
          "Mauritania",
          "Mauritania",
          "Mauritania",
          "Mauritania",
          "Mauritius",
          "Mauritius",
          "Mauritius",
          "Mauritius",
          "Mauritius",
          "Mauritius",
          "Mauritius",
          "Mexico",
          "Mexico",
          "Mexico",
          "Mexico",
          "Mexico",
          "Mexico",
          "Mexico",
          "Mexico",
          "Mexico",
          "Mexico",
          "Mexico",
          "Mexico",
          "Mexico",
          "Mexico",
          "Mexico",
          "Moldova",
          "Moldova",
          "Moldova",
          "Moldova",
          "Moldova",
          "Moldova",
          "Moldova",
          "Moldova",
          "Moldova",
          "Moldova",
          "Moldova",
          "Moldova",
          "Moldova",
          "Moldova",
          "Moldova",
          "Mongolia",
          "Mongolia",
          "Mongolia",
          "Mongolia",
          "Mongolia",
          "Mongolia",
          "Mongolia",
          "Mongolia",
          "Mongolia",
          "Mongolia",
          "Mongolia",
          "Mongolia",
          "Mongolia",
          "Montenegro",
          "Montenegro",
          "Montenegro",
          "Montenegro",
          "Montenegro",
          "Montenegro",
          "Montenegro",
          "Montenegro",
          "Montenegro",
          "Montenegro",
          "Montenegro",
          "Montenegro",
          "Montenegro",
          "Morocco",
          "Morocco",
          "Morocco",
          "Morocco",
          "Morocco",
          "Morocco",
          "Morocco",
          "Morocco",
          "Morocco",
          "Morocco",
          "Mozambique",
          "Mozambique",
          "Mozambique",
          "Mozambique",
          "Mozambique",
          "Mozambique",
          "Mozambique",
          "Mozambique",
          "Myanmar",
          "Myanmar",
          "Myanmar",
          "Myanmar",
          "Myanmar",
          "Myanmar",
          "Myanmar",
          "Myanmar",
          "Myanmar",
          "Namibia",
          "Namibia",
          "Namibia",
          "Namibia",
          "Namibia",
          "Namibia",
          "Nepal",
          "Nepal",
          "Nepal",
          "Nepal",
          "Nepal",
          "Nepal",
          "Nepal",
          "Nepal",
          "Nepal",
          "Nepal",
          "Nepal",
          "Nepal",
          "Nepal",
          "Nepal",
          "Netherlands",
          "Netherlands",
          "Netherlands",
          "Netherlands",
          "Netherlands",
          "Netherlands",
          "Netherlands",
          "Netherlands",
          "Netherlands",
          "Netherlands",
          "Netherlands",
          "Netherlands",
          "Netherlands",
          "Netherlands",
          "New Zealand",
          "New Zealand",
          "New Zealand",
          "New Zealand",
          "New Zealand",
          "New Zealand",
          "New Zealand",
          "New Zealand",
          "New Zealand",
          "New Zealand",
          "New Zealand",
          "New Zealand",
          "New Zealand",
          "New Zealand",
          "Nicaragua",
          "Nicaragua",
          "Nicaragua",
          "Nicaragua",
          "Nicaragua",
          "Nicaragua",
          "Nicaragua",
          "Nicaragua",
          "Nicaragua",
          "Nicaragua",
          "Nicaragua",
          "Nicaragua",
          "Nicaragua",
          "Nicaragua",
          "Niger",
          "Niger",
          "Niger",
          "Niger",
          "Niger",
          "Niger",
          "Niger",
          "Niger",
          "Niger",
          "Niger",
          "Niger",
          "Niger",
          "Niger",
          "Niger",
          "Nigeria",
          "Nigeria",
          "Nigeria",
          "Nigeria",
          "Nigeria",
          "Nigeria",
          "Nigeria",
          "Nigeria",
          "Nigeria",
          "Nigeria",
          "Nigeria",
          "Nigeria",
          "Nigeria",
          "North Cyprus",
          "North Cyprus",
          "North Cyprus",
          "North Cyprus",
          "North Cyprus",
          "North Cyprus",
          "North Cyprus",
          "North Macedonia",
          "North Macedonia",
          "North Macedonia",
          "North Macedonia",
          "North Macedonia",
          "North Macedonia",
          "North Macedonia",
          "North Macedonia",
          "North Macedonia",
          "North Macedonia",
          "North Macedonia",
          "North Macedonia",
          "North Macedonia",
          "Norway",
          "Norway",
          "Norway",
          "Norway",
          "Norway",
          "Norway",
          "Norway",
          "Norway",
          "Norway",
          "Norway",
          "Oman",
          "Pakistan",
          "Pakistan",
          "Pakistan",
          "Pakistan",
          "Pakistan",
          "Pakistan",
          "Pakistan",
          "Pakistan",
          "Pakistan",
          "Pakistan",
          "Pakistan",
          "Pakistan",
          "Pakistan",
          "Pakistan",
          "Palestinian Territories",
          "Palestinian Territories",
          "Palestinian Territories",
          "Palestinian Territories",
          "Palestinian Territories",
          "Palestinian Territories",
          "Palestinian Territories",
          "Palestinian Territories",
          "Palestinian Territories",
          "Palestinian Territories",
          "Palestinian Territories",
          "Palestinian Territories",
          "Palestinian Territories",
          "Palestinian Territories",
          "Panama",
          "Panama",
          "Panama",
          "Panama",
          "Panama",
          "Panama",
          "Panama",
          "Panama",
          "Panama",
          "Panama",
          "Panama",
          "Panama",
          "Panama",
          "Panama",
          "Paraguay",
          "Paraguay",
          "Paraguay",
          "Paraguay",
          "Paraguay",
          "Paraguay",
          "Paraguay",
          "Paraguay",
          "Paraguay",
          "Paraguay",
          "Paraguay",
          "Paraguay",
          "Paraguay",
          "Peru",
          "Peru",
          "Peru",
          "Peru",
          "Peru",
          "Peru",
          "Peru",
          "Peru",
          "Peru",
          "Peru",
          "Peru",
          "Peru",
          "Peru",
          "Peru",
          "Philippines",
          "Philippines",
          "Philippines",
          "Philippines",
          "Philippines",
          "Philippines",
          "Philippines",
          "Philippines",
          "Philippines",
          "Philippines",
          "Philippines",
          "Philippines",
          "Philippines",
          "Philippines",
          "Philippines",
          "Poland",
          "Poland",
          "Poland",
          "Poland",
          "Poland",
          "Poland",
          "Poland",
          "Poland",
          "Poland",
          "Poland",
          "Poland",
          "Poland",
          "Poland",
          "Poland",
          "Portugal",
          "Portugal",
          "Portugal",
          "Portugal",
          "Portugal",
          "Portugal",
          "Portugal",
          "Portugal",
          "Portugal",
          "Portugal",
          "Portugal",
          "Portugal",
          "Portugal",
          "Qatar",
          "Qatar",
          "Qatar",
          "Qatar",
          "Qatar",
          "Romania",
          "Romania",
          "Romania",
          "Romania",
          "Romania",
          "Romania",
          "Romania",
          "Romania",
          "Romania",
          "Romania",
          "Romania",
          "Romania",
          "Romania",
          "Russia",
          "Russia",
          "Russia",
          "Russia",
          "Russia",
          "Russia",
          "Russia",
          "Russia",
          "Russia",
          "Russia",
          "Russia",
          "Russia",
          "Russia",
          "Russia",
          "Russia",
          "Rwanda",
          "Rwanda",
          "Rwanda",
          "Rwanda",
          "Rwanda",
          "Rwanda",
          "Rwanda",
          "Rwanda",
          "Rwanda",
          "Rwanda",
          "Rwanda",
          "Rwanda",
          "Saudi Arabia",
          "Saudi Arabia",
          "Saudi Arabia",
          "Saudi Arabia",
          "Saudi Arabia",
          "Saudi Arabia",
          "Saudi Arabia",
          "Saudi Arabia",
          "Saudi Arabia",
          "Saudi Arabia",
          "Saudi Arabia",
          "Saudi Arabia",
          "Saudi Arabia",
          "Saudi Arabia",
          "Saudi Arabia",
          "Senegal",
          "Senegal",
          "Senegal",
          "Senegal",
          "Senegal",
          "Senegal",
          "Senegal",
          "Senegal",
          "Senegal",
          "Senegal",
          "Senegal",
          "Senegal",
          "Senegal",
          "Senegal",
          "Serbia",
          "Serbia",
          "Serbia",
          "Serbia",
          "Serbia",
          "Serbia",
          "Serbia",
          "Serbia",
          "Serbia",
          "Serbia",
          "Serbia",
          "Serbia",
          "Serbia",
          "Sierra Leone",
          "Sierra Leone",
          "Sierra Leone",
          "Sierra Leone",
          "Sierra Leone",
          "Sierra Leone",
          "Sierra Leone",
          "Sierra Leone",
          "Sierra Leone",
          "Sierra Leone",
          "Sierra Leone",
          "Sierra Leone",
          "Singapore",
          "Singapore",
          "Singapore",
          "Singapore",
          "Singapore",
          "Singapore",
          "Singapore",
          "Singapore",
          "Singapore",
          "Singapore",
          "Singapore",
          "Singapore",
          "Singapore",
          "Slovakia",
          "Slovakia",
          "Slovakia",
          "Slovakia",
          "Slovakia",
          "Slovakia",
          "Slovakia",
          "Slovakia",
          "Slovakia",
          "Slovakia",
          "Slovakia",
          "Slovakia",
          "Slovenia",
          "Slovenia",
          "Slovenia",
          "Slovenia",
          "Slovenia",
          "Slovenia",
          "Slovenia",
          "Slovenia",
          "Slovenia",
          "Slovenia",
          "Slovenia",
          "Slovenia",
          "Slovenia",
          "Somalia",
          "Somalia",
          "Somalia",
          "Somaliland region",
          "Somaliland region",
          "Somaliland region",
          "Somaliland region",
          "South Africa",
          "South Africa",
          "South Africa",
          "South Africa",
          "South Africa",
          "South Africa",
          "South Africa",
          "South Africa",
          "South Africa",
          "South Africa",
          "South Africa",
          "South Africa",
          "South Africa",
          "South Africa",
          "South Africa",
          "South Korea",
          "South Korea",
          "South Korea",
          "South Korea",
          "South Korea",
          "South Korea",
          "South Korea",
          "South Korea",
          "South Korea",
          "South Korea",
          "South Korea",
          "South Korea",
          "South Korea",
          "South Korea",
          "South Korea",
          "South Sudan",
          "South Sudan",
          "South Sudan",
          "South Sudan",
          "Spain",
          "Spain",
          "Spain",
          "Spain",
          "Spain",
          "Spain",
          "Spain",
          "Spain",
          "Spain",
          "Spain",
          "Spain",
          "Spain",
          "Spain",
          "Spain",
          "Spain",
          "Sri Lanka",
          "Sri Lanka",
          "Sri Lanka",
          "Sri Lanka",
          "Sri Lanka",
          "Sri Lanka",
          "Sri Lanka",
          "Sri Lanka",
          "Sri Lanka",
          "Sri Lanka",
          "Sri Lanka",
          "Sri Lanka",
          "Sri Lanka",
          "Sudan",
          "Sudan",
          "Sudan",
          "Sudan",
          "Sudan",
          "Suriname",
          "Swaziland",
          "Swaziland",
          "Swaziland",
          "Sweden",
          "Sweden",
          "Sweden",
          "Sweden",
          "Sweden",
          "Sweden",
          "Sweden",
          "Sweden",
          "Sweden",
          "Sweden",
          "Sweden",
          "Sweden",
          "Sweden",
          "Sweden",
          "Sweden",
          "Switzerland",
          "Switzerland",
          "Switzerland",
          "Switzerland",
          "Switzerland",
          "Switzerland",
          "Switzerland",
          "Switzerland",
          "Switzerland",
          "Switzerland",
          "Syria",
          "Syria",
          "Syria",
          "Syria",
          "Syria",
          "Syria",
          "Syria",
          "Taiwan Province of China",
          "Taiwan Province of China",
          "Taiwan Province of China",
          "Taiwan Province of China",
          "Taiwan Province of China",
          "Taiwan Province of China",
          "Taiwan Province of China",
          "Taiwan Province of China",
          "Taiwan Province of China",
          "Taiwan Province of China",
          "Taiwan Province of China",
          "Taiwan Province of China",
          "Taiwan Province of China",
          "Tajikistan",
          "Tajikistan",
          "Tajikistan",
          "Tajikistan",
          "Tajikistan",
          "Tajikistan",
          "Tajikistan",
          "Tajikistan",
          "Tajikistan",
          "Tajikistan",
          "Tajikistan",
          "Tajikistan",
          "Tajikistan",
          "Tajikistan",
          "Tajikistan",
          "Tanzania",
          "Tanzania",
          "Tanzania",
          "Tanzania",
          "Tanzania",
          "Tanzania",
          "Tanzania",
          "Tanzania",
          "Tanzania",
          "Tanzania",
          "Tanzania",
          "Tanzania",
          "Tanzania",
          "Tanzania",
          "Tanzania",
          "Thailand",
          "Thailand",
          "Thailand",
          "Thailand",
          "Thailand",
          "Thailand",
          "Thailand",
          "Thailand",
          "Thailand",
          "Thailand",
          "Thailand",
          "Thailand",
          "Thailand",
          "Thailand",
          "Thailand",
          "Togo",
          "Togo",
          "Togo",
          "Togo",
          "Togo",
          "Togo",
          "Togo",
          "Togo",
          "Togo",
          "Trinidad and Tobago",
          "Trinidad and Tobago",
          "Trinidad and Tobago",
          "Trinidad and Tobago",
          "Trinidad and Tobago",
          "Tunisia",
          "Tunisia",
          "Tunisia",
          "Tunisia",
          "Tunisia",
          "Tunisia",
          "Tunisia",
          "Tunisia",
          "Tunisia",
          "Tunisia",
          "Tunisia",
          "Tunisia",
          "Turkey",
          "Turkey",
          "Turkey",
          "Turkey",
          "Turkey",
          "Turkey",
          "Turkey",
          "Turkey",
          "Turkey",
          "Turkey",
          "Turkey",
          "Turkey",
          "Turkey",
          "Turkey",
          "Turkey",
          "Turkmenistan",
          "Turkmenistan",
          "Turkmenistan",
          "Turkmenistan",
          "Turkmenistan",
          "Turkmenistan",
          "Turkmenistan",
          "Turkmenistan",
          "Turkmenistan",
          "Turkmenistan",
          "Uganda",
          "Uganda",
          "Uganda",
          "Uganda",
          "Uganda",
          "Uganda",
          "Uganda",
          "Uganda",
          "Uganda",
          "Uganda",
          "Uganda",
          "Uganda",
          "Uganda",
          "Uganda",
          "Uganda",
          "Ukraine",
          "Ukraine",
          "Ukraine",
          "Ukraine",
          "Ukraine",
          "Ukraine",
          "Ukraine",
          "Ukraine",
          "Ukraine",
          "Ukraine",
          "Ukraine",
          "Ukraine",
          "Ukraine",
          "Ukraine",
          "Ukraine",
          "United Arab Emirates",
          "United Arab Emirates",
          "United Arab Emirates",
          "United Arab Emirates",
          "United Arab Emirates",
          "United Arab Emirates",
          "United Arab Emirates",
          "United Arab Emirates",
          "United Arab Emirates",
          "United Arab Emirates",
          "United Arab Emirates",
          "United Arab Emirates",
          "United Arab Emirates",
          "United Kingdom",
          "United Kingdom",
          "United Kingdom",
          "United Kingdom",
          "United Kingdom",
          "United Kingdom",
          "United Kingdom",
          "United Kingdom",
          "United Kingdom",
          "United Kingdom",
          "United Kingdom",
          "United Kingdom",
          "United Kingdom",
          "United Kingdom",
          "United Kingdom",
          "United States",
          "United States",
          "United States",
          "United States",
          "United States",
          "United States",
          "United States",
          "United States",
          "United States",
          "United States",
          "United States",
          "United States",
          "United States",
          "United States",
          "United States",
          "Uruguay",
          "Uruguay",
          "Uruguay",
          "Uruguay",
          "Uruguay",
          "Uruguay",
          "Uruguay",
          "Uruguay",
          "Uruguay",
          "Uruguay",
          "Uruguay",
          "Uruguay",
          "Uruguay",
          "Uruguay",
          "Uruguay",
          "Uzbekistan",
          "Uzbekistan",
          "Uzbekistan",
          "Uzbekistan",
          "Uzbekistan",
          "Uzbekistan",
          "Uzbekistan",
          "Uzbekistan",
          "Uzbekistan",
          "Uzbekistan",
          "Uzbekistan",
          "Uzbekistan",
          "Uzbekistan",
          "Venezuela",
          "Venezuela",
          "Venezuela",
          "Venezuela",
          "Venezuela",
          "Venezuela",
          "Venezuela",
          "Venezuela",
          "Venezuela",
          "Venezuela",
          "Venezuela",
          "Venezuela",
          "Venezuela",
          "Venezuela",
          "Venezuela",
          "Vietnam",
          "Vietnam",
          "Vietnam",
          "Vietnam",
          "Vietnam",
          "Vietnam",
          "Vietnam",
          "Vietnam",
          "Vietnam",
          "Vietnam",
          "Vietnam",
          "Vietnam",
          "Vietnam",
          "Vietnam",
          "Yemen",
          "Yemen",
          "Yemen",
          "Yemen",
          "Yemen",
          "Yemen",
          "Yemen",
          "Yemen",
          "Yemen",
          "Yemen",
          "Yemen",
          "Yemen",
          "Zambia",
          "Zambia",
          "Zambia",
          "Zambia",
          "Zambia",
          "Zambia",
          "Zambia",
          "Zambia",
          "Zambia",
          "Zambia",
          "Zambia",
          "Zambia",
          "Zambia",
          "Zambia",
          "Zimbabwe",
          "Zimbabwe",
          "Zimbabwe",
          "Zimbabwe",
          "Zimbabwe",
          "Zimbabwe",
          "Zimbabwe",
          "Zimbabwe",
          "Zimbabwe",
          "Zimbabwe",
          "Zimbabwe",
          "Zimbabwe",
          "Zimbabwe",
          "Zimbabwe",
          "Zimbabwe"
         ],
         "legendgroup": "",
         "marker": {
          "color": "#f3d52e"
         },
         "name": "",
         "notched": false,
         "offsetgroup": "",
         "orientation": "v",
         "showlegend": false,
         "type": "box",
         "x": [
          "South Asia",
          "South Asia",
          "South Asia",
          "South Asia",
          "South Asia",
          "South Asia",
          "South Asia",
          "South Asia",
          "South Asia",
          "South Asia",
          "South Asia",
          "South Asia",
          "Central and Eastern Europe",
          "Central and Eastern Europe",
          "Central and Eastern Europe",
          "Central and Eastern Europe",
          "Central and Eastern Europe",
          "Central and Eastern Europe",
          "Central and Eastern Europe",
          "Central and Eastern Europe",
          "Central and Eastern Europe",
          "Central and Eastern Europe",
          "Central and Eastern Europe",
          "Central and Eastern Europe",
          "Central and Eastern Europe",
          "Middle East and Northern Africa",
          "Middle East and Northern Africa",
          "Middle East and Northern Africa",
          "Middle East and Northern Africa",
          "Middle East and Northern Africa",
          "Middle East and Northern Africa",
          "Middle East and Northern Africa",
          "Middle East and Northern Africa",
          "Sub-Saharan Africa",
          "Sub-Saharan Africa",
          "Sub-Saharan Africa",
          "Sub-Saharan Africa",
          "Latin America and Caribbean",
          "Latin America and Caribbean",
          "Latin America and Caribbean",
          "Latin America and Caribbean",
          "Latin America and Caribbean",
          "Latin America and Caribbean",
          "Latin America and Caribbean",
          "Latin America and Caribbean",
          "Latin America and Caribbean",
          "Latin America and Caribbean",
          "Latin America and Caribbean",
          "Latin America and Caribbean",
          "Latin America and Caribbean",
          "Latin America and Caribbean",
          "Latin America and Caribbean",
          "Central and Eastern Europe",
          "Central and Eastern Europe",
          "Central and Eastern Europe",
          "Central and Eastern Europe",
          "Central and Eastern Europe",
          "Central and Eastern Europe",
          "Central and Eastern Europe",
          "Central and Eastern Europe",
          "Central and Eastern Europe",
          "Central and Eastern Europe",
          "Central and Eastern Europe",
          "Central and Eastern Europe",
          "Central and Eastern Europe",
          "Central and Eastern Europe",
          "Australia and New Zealand",
          "Australia and New Zealand",
          "Australia and New Zealand",
          "Australia and New Zealand",
          "Australia and New Zealand",
          "Australia and New Zealand",
          "Australia and New Zealand",
          "Australia and New Zealand",
          "Australia and New Zealand",
          "Australia and New Zealand",
          "Australia and New Zealand",
          "Australia and New Zealand",
          "Australia and New Zealand",
          "Australia and New Zealand",
          "Western Europe",
          "Western Europe",
          "Western Europe",
          "Western Europe",
          "Western Europe",
          "Western Europe",
          "Western Europe",
          "Western Europe",
          "Western Europe",
          "Western Europe",
          "Western Europe",
          "Western Europe",
          "Western Europe",
          "Central and Eastern Europe",
          "Central and Eastern Europe",
          "Central and Eastern Europe",
          "Central and Eastern Europe",
          "Central and Eastern Europe",
          "Central and Eastern Europe",
          "Central and Eastern Europe",
          "Central and Eastern Europe",
          "Central and Eastern Europe",
          "Central and Eastern Europe",
          "Central and Eastern Europe",
          "Central and Eastern Europe",
          "Central and Eastern Europe",
          "Central and Eastern Europe",
          "Middle East and Northern Africa",
          "Middle East and Northern Africa",
          "Middle East and Northern Africa",
          "Middle East and Northern Africa",
          "Middle East and Northern Africa",
          "Middle East and Northern Africa",
          "Middle East and Northern Africa",
          "Middle East and Northern Africa",
          "Middle East and Northern Africa",
          "Middle East and Northern Africa",
          "Middle East and Northern Africa",
          "South Asia",
          "South Asia",
          "South Asia",
          "South Asia",
          "South Asia",
          "South Asia",
          "South Asia",
          "South Asia",
          "South Asia",
          "South Asia",
          "South Asia",
          "South Asia",
          "South Asia",
          "South Asia",
          "South Asia",
          "Central and Eastern Europe",
          "Central and Eastern Europe",
          "Central and Eastern Europe",
          "Central and Eastern Europe",
          "Central and Eastern Europe",
          "Central and Eastern Europe",
          "Central and Eastern Europe",
          "Central and Eastern Europe",
          "Central and Eastern Europe",
          "Central and Eastern Europe",
          "Central and Eastern Europe",
          "Central and Eastern Europe",
          "Central and Eastern Europe",
          "Central and Eastern Europe",
          "Western Europe",
          "Western Europe",
          "Western Europe",
          "Western Europe",
          "Western Europe",
          "Western Europe",
          "Western Europe",
          "Western Europe",
          "Western Europe",
          "Western Europe",
          "Western Europe",
          "Western Europe",
          "Western Europe",
          "Western Europe",
          "Central America",
          "Central America",
          "Sub-Saharan Africa",
          "Sub-Saharan Africa",
          "Sub-Saharan Africa",
          "Sub-Saharan Africa",
          "Sub-Saharan Africa",
          "Sub-Saharan Africa",
          "Sub-Saharan Africa",
          "Sub-Saharan Africa",
          "Sub-Saharan Africa",
          "Sub-Saharan Africa",
          "Sub-Saharan Africa",
          "Sub-Saharan Africa",
          "South Asia",
          "South Asia",
          "South Asia",
          "Latin America and Caribbean",
          "Latin America and Caribbean",
          "Latin America and Caribbean",
          "Latin America and Caribbean",
          "Latin America and Caribbean",
          "Latin America and Caribbean",
          "Latin America and Caribbean",
          "Latin America and Caribbean",
          "Latin America and Caribbean",
          "Latin America and Caribbean",
          "Latin America and Caribbean",
          "Latin America and Caribbean",
          "Latin America and Caribbean",
          "Latin America and Caribbean",
          "Latin America and Caribbean",
          "Central and Eastern Europe",
          "Central and Eastern Europe",
          "Central and Eastern Europe",
          "Central and Eastern Europe",
          "Central and Eastern Europe",
          "Central and Eastern Europe",
          "Central and Eastern Europe",
          "Central and Eastern Europe",
          "Central and Eastern Europe",
          "Central and Eastern Europe",
          "Central and Eastern Europe",
          "Central and Eastern Europe",
          "Central and Eastern Europe",
          "Sub-Saharan Africa",
          "Sub-Saharan Africa",
          "Sub-Saharan Africa",
          "Sub-Saharan Africa",
          "Sub-Saharan Africa",
          "Sub-Saharan Africa",
          "Sub-Saharan Africa",
          "Sub-Saharan Africa",
          "Sub-Saharan Africa",
          "Sub-Saharan Africa",
          "Sub-Saharan Africa",
          "Sub-Saharan Africa",
          "Latin America and Caribbean",
          "Latin America and Caribbean",
          "Latin America and Caribbean",
          "Latin America and Caribbean",
          "Latin America and Caribbean",
          "Latin America and Caribbean",
          "Latin America and Caribbean",
          "Latin America and Caribbean",
          "Latin America and Caribbean",
          "Latin America and Caribbean",
          "Latin America and Caribbean",
          "Latin America and Caribbean",
          "Latin America and Caribbean",
          "Latin America and Caribbean",
          "Latin America and Caribbean",
          "Central and Eastern Europe",
          "Central and Eastern Europe",
          "Central and Eastern Europe",
          "Central and Eastern Europe",
          "Central and Eastern Europe",
          "Central and Eastern Europe",
          "Central and Eastern Europe",
          "Central and Eastern Europe",
          "Central and Eastern Europe",
          "Central and Eastern Europe",
          "Central and Eastern Europe",
          "Central and Eastern Europe",
          "Sub-Saharan Africa",
          "Sub-Saharan Africa",
          "Sub-Saharan Africa",
          "Sub-Saharan Africa",
          "Sub-Saharan Africa",
          "Sub-Saharan Africa",
          "Sub-Saharan Africa",
          "Sub-Saharan Africa",
          "Sub-Saharan Africa",
          "Sub-Saharan Africa",
          "Sub-Saharan Africa",
          "Sub-Saharan Africa",
          "Sub-Saharan Africa",
          "Sub-Saharan Africa",
          "Sub-Saharan Africa",
          "Sub-Saharan Africa",
          "Sub-Saharan Africa",
          "Sub-Saharan Africa",
          "SouthEast Asia",
          "SouthEast Asia",
          "SouthEast Asia",
          "SouthEast Asia",
          "SouthEast Asia",
          "SouthEast Asia",
          "SouthEast Asia",
          "SouthEast Asia",
          "SouthEast Asia",
          "SouthEast Asia",
          "SouthEast Asia",
          "SouthEast Asia",
          "SouthEast Asia",
          "SouthEast Asia",
          "SouthEast Asia",
          "Sub-Saharan Africa",
          "Sub-Saharan Africa",
          "Sub-Saharan Africa",
          "Sub-Saharan Africa",
          "Sub-Saharan Africa",
          "Sub-Saharan Africa",
          "Sub-Saharan Africa",
          "Sub-Saharan Africa",
          "Sub-Saharan Africa",
          "Sub-Saharan Africa",
          "Sub-Saharan Africa",
          "Sub-Saharan Africa",
          "Sub-Saharan Africa",
          "Sub-Saharan Africa",
          "Sub-Saharan Africa",
          "North America",
          "North America",
          "North America",
          "North America",
          "North America",
          "North America",
          "North America",
          "North America",
          "North America",
          "North America",
          "North America",
          "North America",
          "North America",
          "North America",
          "North America",
          "Sub-Saharan Africa",
          "Sub-Saharan Africa",
          "Sub-Saharan Africa",
          "Sub-Saharan Africa",
          "Sub-Saharan Africa",
          "Sub-Saharan Africa",
          "Sub-Saharan Africa",
          "Sub-Saharan Africa",
          "Sub-Saharan Africa",
          "Sub-Saharan Africa",
          "Sub-Saharan Africa",
          "Sub-Saharan Africa",
          "Sub-Saharan Africa",
          "Sub-Saharan Africa",
          "Sub-Saharan Africa",
          "Sub-Saharan Africa",
          "Sub-Saharan Africa",
          "Sub-Saharan Africa",
          "Sub-Saharan Africa",
          "Latin America and Caribbean",
          "Latin America and Caribbean",
          "Latin America and Caribbean",
          "Latin America and Caribbean",
          "Latin America and Caribbean",
          "Latin America and Caribbean",
          "Latin America and Caribbean",
          "Latin America and Caribbean",
          "Latin America and Caribbean",
          "Latin America and Caribbean",
          "Latin America and Caribbean",
          "Latin America and Caribbean",
          "Latin America and Caribbean",
          "Latin America and Caribbean",
          "Latin America and Caribbean",
          "East Asia",
          "East Asia",
          "East Asia",
          "East Asia",
          "East Asia",
          "East Asia",
          "East Asia",
          "East Asia",
          "East Asia",
          "East Asia",
          "East Asia",
          "East Asia",
          "East Asia",
          "East Asia",
          "East Asia",
          "Latin America and Caribbean",
          "Latin America and Caribbean",
          "Latin America and Caribbean",
          "Latin America and Caribbean",
          "Latin America and Caribbean",
          "Latin America and Caribbean",
          "Latin America and Caribbean",
          "Latin America and Caribbean",
          "Latin America and Caribbean",
          "Latin America and Caribbean",
          "Latin America and Caribbean",
          "Latin America and Caribbean",
          "Latin America and Caribbean",
          "Latin America and Caribbean",
          "Latin America and Caribbean",
          "Sub-Saharan Africa",
          "Sub-Saharan Africa",
          "Sub-Saharan Africa",
          "Sub-Saharan Africa",
          "Sub-Saharan Africa",
          "Sub-Saharan Africa",
          "Sub-Saharan Africa",
          "Sub-Saharan Africa",
          "Sub-Saharan Africa",
          "Sub-Saharan Africa",
          "Sub-Saharan Africa",
          "Sub-Saharan Africa",
          "Sub-Saharan Africa",
          "Sub-Saharan Africa",
          "Sub-Saharan Africa",
          "Sub-Saharan Africa",
          "Sub-Saharan Africa",
          "Sub-Saharan Africa",
          "Sub-Saharan Africa",
          "Sub-Saharan Africa",
          "Sub-Saharan Africa",
          "Sub-Saharan Africa",
          "Sub-Saharan Africa",
          "Sub-Saharan Africa",
          "Latin America and Caribbean",
          "Latin America and Caribbean",
          "Latin America and Caribbean",
          "Latin America and Caribbean",
          "Latin America and Caribbean",
          "Latin America and Caribbean",
          "Latin America and Caribbean",
          "Latin America and Caribbean",
          "Latin America and Caribbean",
          "Latin America and Caribbean",
          "Latin America and Caribbean",
          "Latin America and Caribbean",
          "Latin America and Caribbean",
          "Latin America and Caribbean",
          "Central and Eastern Europe",
          "Central and Eastern Europe",
          "Central and Eastern Europe",
          "Central and Eastern Europe",
          "Central and Eastern Europe",
          "Central and Eastern Europe",
          "Central and Eastern Europe",
          "Central and Eastern Europe",
          "Central and Eastern Europe",
          "Central and Eastern Europe",
          "Central and Eastern Europe",
          "Central and Eastern Europe",
          "Central and Eastern Europe",
          "Latin America and Caribbean",
          "Western Europe",
          "Western Europe",
          "Western Europe",
          "Western Europe",
          "Western Europe",
          "Western Europe",
          "Western Europe",
          "Western Europe",
          "Western Europe",
          "Western Europe",
          "Western Europe",
          "Western Europe",
          "Western Europe",
          "Central and Eastern Europe",
          "Central and Eastern Europe",
          "Central and Eastern Europe",
          "Central and Eastern Europe",
          "Central and Eastern Europe",
          "Central and Eastern Europe",
          "Central and Eastern Europe",
          "Central and Eastern Europe",
          "Central and Eastern Europe",
          "Central and Eastern Europe",
          "Central and Eastern Europe",
          "Central and Eastern Europe",
          "Western Europe",
          "Western Europe",
          "Western Europe",
          "Western Europe",
          "Western Europe",
          "Western Europe",
          "Western Europe",
          "Western Europe",
          "Western Europe",
          "Western Europe",
          "Western Europe",
          "Western Europe",
          "Western Europe",
          "Western Europe",
          "Western Europe",
          "Sub-Saharan Africa",
          "Sub-Saharan Africa",
          "Sub-Saharan Africa",
          "Sub-Saharan Africa",
          "Latin America and Caribbean",
          "Latin America and Caribbean",
          "Latin America and Caribbean",
          "Latin America and Caribbean",
          "Latin America and Caribbean",
          "Latin America and Caribbean",
          "Latin America and Caribbean",
          "Latin America and Caribbean",
          "Latin America and Caribbean",
          "Latin America and Caribbean",
          "Latin America and Caribbean",
          "Latin America and Caribbean",
          "Latin America and Caribbean",
          "Latin America and Caribbean",
          "Latin America and Caribbean",
          "Latin America and Caribbean",
          "Latin America and Caribbean",
          "Latin America and Caribbean",
          "Latin America and Caribbean",
          "Latin America and Caribbean",
          "Latin America and Caribbean",
          "Latin America and Caribbean",
          "Latin America and Caribbean",
          "Latin America and Caribbean",
          "Latin America and Caribbean",
          "Latin America and Caribbean",
          "Latin America and Caribbean",
          "Latin America and Caribbean",
          "Latin America and Caribbean",
          "Latin America and Caribbean",
          "Middle East and Northern Africa",
          "Middle East and Northern Africa",
          "Middle East and Northern Africa",
          "Middle East and Northern Africa",
          "Middle East and Northern Africa",
          "Middle East and Northern Africa",
          "Middle East and Northern Africa",
          "Middle East and Northern Africa",
          "Middle East and Northern Africa",
          "Middle East and Northern Africa",
          "Middle East and Northern Africa",
          "Middle East and Northern Africa",
          "Middle East and Northern Africa",
          "Middle East and Northern Africa",
          "Middle East and Northern Africa",
          "Latin America and Caribbean",
          "Latin America and Caribbean",
          "Latin America and Caribbean",
          "Latin America and Caribbean",
          "Latin America and Caribbean",
          "Latin America and Caribbean",
          "Latin America and Caribbean",
          "Latin America and Caribbean",
          "Latin America and Caribbean",
          "Latin America and Caribbean",
          "Latin America and Caribbean",
          "Latin America and Caribbean",
          "Latin America and Caribbean",
          "Latin America and Caribbean",
          "Latin America and Caribbean",
          "Central and Eastern Europe",
          "Central and Eastern Europe",
          "Central and Eastern Europe",
          "Central and Eastern Europe",
          "Central and Eastern Europe",
          "Central and Eastern Europe",
          "Central and Eastern Europe",
          "Central and Eastern Europe",
          "Central and Eastern Europe",
          "Central and Eastern Europe",
          "Central and Eastern Europe",
          "Central and Eastern Europe",
          "Central and Eastern Europe",
          "Central and Eastern Europe",
          "Sub-Saharan Africa",
          "Sub-Saharan Africa",
          "Sub-Saharan Africa",
          "Sub-Saharan Africa",
          "Sub-Saharan Africa",
          "Sub-Saharan Africa",
          "Sub-Saharan Africa",
          "Sub-Saharan Africa",
          "Sub-Saharan Africa",
          "Western Europe",
          "Western Europe",
          "Western Europe",
          "Western Europe",
          "Western Europe",
          "Western Europe",
          "Western Europe",
          "Western Europe",
          "Western Europe",
          "Western Europe",
          "Western Europe",
          "Western Europe",
          "Western Europe",
          "Western Europe",
          "Western Europe",
          "Western Europe",
          "Western Europe",
          "Western Europe",
          "Western Europe",
          "Western Europe",
          "Western Europe",
          "Western Europe",
          "Western Europe",
          "Western Europe",
          "Western Europe",
          "Western Europe",
          "Western Europe",
          "Western Europe",
          "Sub-Saharan Africa",
          "Sub-Saharan Africa",
          "Sub-Saharan Africa",
          "Sub-Saharan Africa",
          "Sub-Saharan Africa",
          "Sub-Saharan Africa",
          "Sub-Saharan Africa",
          "Sub-Saharan Africa",
          "Sub-Saharan Africa",
          "Sub-Saharan Africa",
          "Sub-Saharan Africa",
          "Sub-Saharan Africa",
          "Central and Eastern Europe",
          "Central and Eastern Europe",
          "Central and Eastern Europe",
          "Central and Eastern Europe",
          "Central and Eastern Europe",
          "Central and Eastern Europe",
          "Central and Eastern Europe",
          "Central and Eastern Europe",
          "Central and Eastern Europe",
          "Central and Eastern Europe",
          "Central and Eastern Europe",
          "Central and Eastern Europe",
          "Central and Eastern Europe",
          "Central and Eastern Europe",
          "Central and Eastern Europe",
          "Western Europe",
          "Western Europe",
          "Western Europe",
          "Western Europe",
          "Western Europe",
          "Western Europe",
          "Western Europe",
          "Western Europe",
          "Western Europe",
          "Western Europe",
          "Western Europe",
          "Western Europe",
          "Western Europe",
          "Western Europe",
          "Western Europe",
          "Sub-Saharan Africa",
          "Sub-Saharan Africa",
          "Sub-Saharan Africa",
          "Sub-Saharan Africa",
          "Sub-Saharan Africa",
          "Sub-Saharan Africa",
          "Sub-Saharan Africa",
          "Sub-Saharan Africa",
          "Sub-Saharan Africa",
          "Sub-Saharan Africa",
          "Sub-Saharan Africa",
          "Sub-Saharan Africa",
          "Sub-Saharan Africa",
          "Sub-Saharan Africa",
          "Sub-Saharan Africa",
          "Western Europe",
          "Western Europe",
          "Western Europe",
          "Western Europe",
          "Western Europe",
          "Western Europe",
          "Western Europe",
          "Western Europe",
          "Western Europe",
          "Western Europe",
          "Western Europe",
          "Western Europe",
          "Western Europe",
          "Western Europe",
          "Latin America and Caribbean",
          "Latin America and Caribbean",
          "Latin America and Caribbean",
          "Latin America and Caribbean",
          "Latin America and Caribbean",
          "Latin America and Caribbean",
          "Latin America and Caribbean",
          "Latin America and Caribbean",
          "Latin America and Caribbean",
          "Latin America and Caribbean",
          "Latin America and Caribbean",
          "Latin America and Caribbean",
          "Latin America and Caribbean",
          "Latin America and Caribbean",
          "Sub-Saharan Africa",
          "Sub-Saharan Africa",
          "Sub-Saharan Africa",
          "Sub-Saharan Africa",
          "Sub-Saharan Africa",
          "Sub-Saharan Africa",
          "Sub-Saharan Africa",
          "Sub-Saharan Africa",
          "Sub-Saharan Africa",
          "South America",
          "Latin America and Caribbean",
          "Latin America and Caribbean",
          "Latin America and Caribbean",
          "Latin America and Caribbean",
          "Latin America and Caribbean",
          "Latin America and Caribbean",
          "Latin America and Caribbean",
          "Latin America and Caribbean",
          "Latin America and Caribbean",
          "Latin America and Caribbean",
          "Latin America and Caribbean",
          "Latin America and Caribbean",
          "Latin America and Caribbean",
          "Latin America and Caribbean",
          "Latin America and Caribbean",
          "Latin America and Caribbean",
          "Latin America and Caribbean",
          "Latin America and Caribbean",
          "Latin America and Caribbean",
          "Latin America and Caribbean",
          "Latin America and Caribbean",
          "Latin America and Caribbean",
          "Latin America and Caribbean",
          "Latin America and Caribbean",
          "Latin America and Caribbean",
          "East Asia",
          "East Asia",
          "East Asia",
          "East Asia",
          "East Asia",
          "East Asia",
          "East Asia",
          "East Asia",
          "East Asia",
          "East Asia",
          "East Asia",
          "Central and Eastern Europe",
          "Central and Eastern Europe",
          "Central and Eastern Europe",
          "Central and Eastern Europe",
          "Central and Eastern Europe",
          "Central and Eastern Europe",
          "Central and Eastern Europe",
          "Central and Eastern Europe",
          "Central and Eastern Europe",
          "Central and Eastern Europe",
          "Central and Eastern Europe",
          "Central and Eastern Europe",
          "Central and Eastern Europe",
          "Central and Eastern Europe",
          "Western Europe",
          "Western Europe",
          "Western Europe",
          "Western Europe",
          "Western Europe",
          "Western Europe",
          "Western Europe",
          "Western Europe",
          "South Asia",
          "South Asia",
          "South Asia",
          "South Asia",
          "South Asia",
          "South Asia",
          "South Asia",
          "South Asia",
          "South Asia",
          "South Asia",
          "South Asia",
          "South Asia",
          "South Asia",
          "South Asia",
          "South Asia",
          "SouthEast Asia",
          "SouthEast Asia",
          "SouthEast Asia",
          "SouthEast Asia",
          "SouthEast Asia",
          "SouthEast Asia",
          "SouthEast Asia",
          "SouthEast Asia",
          "SouthEast Asia",
          "SouthEast Asia",
          "SouthEast Asia",
          "SouthEast Asia",
          "SouthEast Asia",
          "SouthEast Asia",
          "Middle East and Northern Africa",
          "Middle East and Northern Africa",
          "Middle East and Northern Africa",
          "Middle East and Northern Africa",
          "Middle East and Northern Africa",
          "Middle East and Northern Africa",
          "Middle East and Northern Africa",
          "Middle East and Northern Africa",
          "Middle East and Northern Africa",
          "Middle East and Northern Africa",
          "Middle East and Northern Africa",
          "Middle East and Northern Africa",
          "Middle East and Northern Africa",
          "Middle East and Northern Africa",
          "Middle East and Northern Africa",
          "Middle East and Northern Africa",
          "Middle East and Northern Africa",
          "Middle East and Northern Africa",
          "Middle East and Northern Africa",
          "Middle East and Northern Africa",
          "Middle East and Northern Africa",
          "Middle East and Northern Africa",
          "Middle East and Northern Africa",
          "Middle East and Northern Africa",
          "Middle East and Northern Africa",
          "Western Europe",
          "Western Europe",
          "Western Europe",
          "Western Europe",
          "Western Europe",
          "Western Europe",
          "Western Europe",
          "Western Europe",
          "Western Europe",
          "Western Europe",
          "Western Europe",
          "Western Europe",
          "Western Europe",
          "Western Europe",
          "Middle East and Northern Africa",
          "Middle East and Northern Africa",
          "Middle East and Northern Africa",
          "Middle East and Northern Africa",
          "Middle East and Northern Africa",
          "Middle East and Northern Africa",
          "Middle East and Northern Africa",
          "Middle East and Northern Africa",
          "Middle East and Northern Africa",
          "Middle East and Northern Africa",
          "Middle East and Northern Africa",
          "Middle East and Northern Africa",
          "Middle East and Northern Africa",
          "Middle East and Northern Africa",
          "Middle East and Northern Africa",
          "Western Europe",
          "Western Europe",
          "Western Europe",
          "Western Europe",
          "Western Europe",
          "Western Europe",
          "Western Europe",
          "Western Europe",
          "Western Europe",
          "Western Europe",
          "Western Europe",
          "Western Europe",
          "Western Europe",
          "Western Europe",
          "Western Europe",
          "Sub-Saharan Africa",
          "Sub-Saharan Africa",
          "Sub-Saharan Africa",
          "Sub-Saharan Africa",
          "Sub-Saharan Africa",
          "Sub-Saharan Africa",
          "Sub-Saharan Africa",
          "Sub-Saharan Africa",
          "Sub-Saharan Africa",
          "Latin America and Caribbean",
          "Latin America and Caribbean",
          "Latin America and Caribbean",
          "Latin America and Caribbean",
          "Latin America and Caribbean",
          "Latin America and Caribbean",
          "East Asia",
          "East Asia",
          "East Asia",
          "East Asia",
          "East Asia",
          "East Asia",
          "East Asia",
          "East Asia",
          "East Asia",
          "East Asia",
          "East Asia",
          "East Asia",
          "East Asia",
          "East Asia",
          "East Asia",
          "Middle East and Northern Africa",
          "Middle East and Northern Africa",
          "Middle East and Northern Africa",
          "Middle East and Northern Africa",
          "Middle East and Northern Africa",
          "Middle East and Northern Africa",
          "Middle East and Northern Africa",
          "Middle East and Northern Africa",
          "Middle East and Northern Africa",
          "Middle East and Northern Africa",
          "Middle East and Northern Africa",
          "Middle East and Northern Africa",
          "Middle East and Northern Africa",
          "Middle East and Northern Africa",
          "Middle East and Northern Africa",
          "Central and Eastern Europe",
          "Central and Eastern Europe",
          "Central and Eastern Europe",
          "Central and Eastern Europe",
          "Central and Eastern Europe",
          "Central and Eastern Europe",
          "Central and Eastern Europe",
          "Central and Eastern Europe",
          "Central and Eastern Europe",
          "Central and Eastern Europe",
          "Central and Eastern Europe",
          "Central and Eastern Europe",
          "Central and Eastern Europe",
          "Central and Eastern Europe",
          "Central and Eastern Europe",
          "Sub-Saharan Africa",
          "Sub-Saharan Africa",
          "Sub-Saharan Africa",
          "Sub-Saharan Africa",
          "Sub-Saharan Africa",
          "Sub-Saharan Africa",
          "Sub-Saharan Africa",
          "Sub-Saharan Africa",
          "Sub-Saharan Africa",
          "Sub-Saharan Africa",
          "Sub-Saharan Africa",
          "Sub-Saharan Africa",
          "Sub-Saharan Africa",
          "Sub-Saharan Africa",
          "Sub-Saharan Africa",
          "Central and Eastern Europe",
          "Central and Eastern Europe",
          "Central and Eastern Europe",
          "Central and Eastern Europe",
          "Central and Eastern Europe",
          "Central and Eastern Europe",
          "Central and Eastern Europe",
          "Central and Eastern Europe",
          "Central and Eastern Europe",
          "Central and Eastern Europe",
          "Central and Eastern Europe",
          "Central and Eastern Europe",
          "Central and Eastern Europe",
          "Central and Eastern Europe",
          "Middle East and Northern Africa",
          "Middle East and Northern Africa",
          "Middle East and Northern Africa",
          "Middle East and Northern Africa",
          "Middle East and Northern Africa",
          "Middle East and Northern Africa",
          "Middle East and Northern Africa",
          "Middle East and Northern Africa",
          "Middle East and Northern Africa",
          "Middle East and Northern Africa",
          "Middle East and Northern Africa",
          "Central and Eastern Europe",
          "Central and Eastern Europe",
          "Central and Eastern Europe",
          "Central and Eastern Europe",
          "Central and Eastern Europe",
          "Central and Eastern Europe",
          "Central and Eastern Europe",
          "Central and Eastern Europe",
          "Central and Eastern Europe",
          "Central and Eastern Europe",
          "Central and Eastern Europe",
          "Central and Eastern Europe",
          "Central and Eastern Europe",
          "Central and Eastern Europe",
          "Central and Eastern Europe",
          "SouthEast Asia",
          "SouthEast Asia",
          "SouthEast Asia",
          "SouthEast Asia",
          "SouthEast Asia",
          "SouthEast Asia",
          "SouthEast Asia",
          "SouthEast Asia",
          "SouthEast Asia",
          "Central and Eastern Europe",
          "Central and Eastern Europe",
          "Central and Eastern Europe",
          "Central and Eastern Europe",
          "Central and Eastern Europe",
          "Central and Eastern Europe",
          "Central and Eastern Europe",
          "Central and Eastern Europe",
          "Central and Eastern Europe",
          "Central and Eastern Europe",
          "Central and Eastern Europe",
          "Central and Eastern Europe",
          "Central and Eastern Europe",
          "Central and Eastern Europe",
          "Middle East and Northern Africa",
          "Middle East and Northern Africa",
          "Middle East and Northern Africa",
          "Middle East and Northern Africa",
          "Middle East and Northern Africa",
          "Middle East and Northern Africa",
          "Middle East and Northern Africa",
          "Middle East and Northern Africa",
          "Middle East and Northern Africa",
          "Middle East and Northern Africa",
          "Middle East and Northern Africa",
          "Middle East and Northern Africa",
          "Middle East and Northern Africa",
          "Middle East and Northern Africa",
          "Sub-Saharan Africa",
          "Sub-Saharan Africa",
          "Sub-Saharan Africa",
          "Sub-Saharan Africa",
          "Sub-Saharan Africa",
          "Sub-Saharan Africa",
          "Sub-Saharan Africa",
          "Sub-Saharan Africa",
          "Sub-Saharan Africa",
          "Sub-Saharan Africa",
          "Sub-Saharan Africa",
          "Sub-Saharan Africa",
          "Sub-Saharan Africa",
          "Middle East and Northern Africa",
          "Middle East and Northern Africa",
          "Middle East and Northern Africa",
          "Middle East and Northern Africa",
          "Middle East and Northern Africa",
          "Middle East and Northern Africa",
          "Central and Eastern Europe",
          "Central and Eastern Europe",
          "Central and Eastern Europe",
          "Central and Eastern Europe",
          "Central and Eastern Europe",
          "Central and Eastern Europe",
          "Central and Eastern Europe",
          "Central and Eastern Europe",
          "Central and Eastern Europe",
          "Central and Eastern Europe",
          "Central and Eastern Europe",
          "Central and Eastern Europe",
          "Central and Eastern Europe",
          "Central and Eastern Europe",
          "Central and Eastern Europe",
          "Western Europe",
          "Western Europe",
          "Western Europe",
          "Western Europe",
          "Western Europe",
          "Western Europe",
          "Western Europe",
          "Western Europe",
          "Western Europe",
          "Western Europe",
          "Western Europe",
          "Sub-Saharan Africa",
          "Sub-Saharan Africa",
          "Sub-Saharan Africa",
          "Sub-Saharan Africa",
          "Sub-Saharan Africa",
          "Sub-Saharan Africa",
          "Sub-Saharan Africa",
          "Sub-Saharan Africa",
          "Sub-Saharan Africa",
          "Sub-Saharan Africa",
          "Sub-Saharan Africa",
          "Sub-Saharan Africa",
          "Sub-Saharan Africa",
          "Sub-Saharan Africa",
          "Sub-Saharan Africa",
          "Sub-Saharan Africa",
          "Sub-Saharan Africa",
          "Sub-Saharan Africa",
          "Sub-Saharan Africa",
          "Sub-Saharan Africa",
          "Sub-Saharan Africa",
          "Sub-Saharan Africa",
          "Sub-Saharan Africa",
          "SouthEast Asia",
          "SouthEast Asia",
          "SouthEast Asia",
          "SouthEast Asia",
          "SouthEast Asia",
          "SouthEast Asia",
          "SouthEast Asia",
          "SouthEast Asia",
          "SouthEast Asia",
          "SouthEast Asia",
          "SouthEast Asia",
          "SouthEast Asia",
          "SouthEast Asia",
          "Sub-Saharan Africa",
          "Sub-Saharan Africa",
          "Sub-Saharan Africa",
          "Sub-Saharan Africa",
          "Sub-Saharan Africa",
          "Sub-Saharan Africa",
          "Sub-Saharan Africa",
          "Sub-Saharan Africa",
          "Sub-Saharan Africa",
          "Sub-Saharan Africa",
          "Sub-Saharan Africa",
          "Sub-Saharan Africa",
          "Sub-Saharan Africa",
          "Western Europe",
          "Western Europe",
          "Western Europe",
          "Western Europe",
          "Western Europe",
          "Western Europe",
          "Western Europe",
          "Western Europe",
          "Western Europe",
          "Western Europe",
          "Western Europe",
          "Western Europe",
          "Sub-Saharan Africa",
          "Sub-Saharan Africa",
          "Sub-Saharan Africa",
          "Sub-Saharan Africa",
          "Sub-Saharan Africa",
          "Sub-Saharan Africa",
          "Sub-Saharan Africa",
          "Sub-Saharan Africa",
          "Sub-Saharan Africa",
          "Sub-Saharan Africa",
          "Sub-Saharan Africa",
          "Sub-Saharan Africa",
          "Sub-Saharan Africa",
          "Sub-Saharan Africa",
          "Sub-Saharan Africa",
          "Sub-Saharan Africa",
          "Sub-Saharan Africa",
          "Sub-Saharan Africa",
          "Sub-Saharan Africa",
          "Sub-Saharan Africa",
          "Latin America and Caribbean",
          "Latin America and Caribbean",
          "Latin America and Caribbean",
          "Latin America and Caribbean",
          "Latin America and Caribbean",
          "Latin America and Caribbean",
          "Latin America and Caribbean",
          "Latin America and Caribbean",
          "Latin America and Caribbean",
          "Latin America and Caribbean",
          "Latin America and Caribbean",
          "Latin America and Caribbean",
          "Latin America and Caribbean",
          "Latin America and Caribbean",
          "Latin America and Caribbean",
          "Central and Eastern Europe",
          "Central and Eastern Europe",
          "Central and Eastern Europe",
          "Central and Eastern Europe",
          "Central and Eastern Europe",
          "Central and Eastern Europe",
          "Central and Eastern Europe",
          "Central and Eastern Europe",
          "Central and Eastern Europe",
          "Central and Eastern Europe",
          "Central and Eastern Europe",
          "Central and Eastern Europe",
          "Central and Eastern Europe",
          "Central and Eastern Europe",
          "Central and Eastern Europe",
          "East Asia",
          "East Asia",
          "East Asia",
          "East Asia",
          "East Asia",
          "East Asia",
          "East Asia",
          "East Asia",
          "East Asia",
          "East Asia",
          "East Asia",
          "East Asia",
          "East Asia",
          "Central and Eastern Europe",
          "Central and Eastern Europe",
          "Central and Eastern Europe",
          "Central and Eastern Europe",
          "Central and Eastern Europe",
          "Central and Eastern Europe",
          "Central and Eastern Europe",
          "Central and Eastern Europe",
          "Central and Eastern Europe",
          "Central and Eastern Europe",
          "Central and Eastern Europe",
          "Central and Eastern Europe",
          "Central and Eastern Europe",
          "Middle East and Northern Africa",
          "Middle East and Northern Africa",
          "Middle East and Northern Africa",
          "Middle East and Northern Africa",
          "Middle East and Northern Africa",
          "Middle East and Northern Africa",
          "Middle East and Northern Africa",
          "Middle East and Northern Africa",
          "Middle East and Northern Africa",
          "Middle East and Northern Africa",
          "Sub-Saharan Africa",
          "Sub-Saharan Africa",
          "Sub-Saharan Africa",
          "Sub-Saharan Africa",
          "Sub-Saharan Africa",
          "Sub-Saharan Africa",
          "Sub-Saharan Africa",
          "Sub-Saharan Africa",
          "SouthEast Asia",
          "SouthEast Asia",
          "SouthEast Asia",
          "SouthEast Asia",
          "SouthEast Asia",
          "SouthEast Asia",
          "SouthEast Asia",
          "SouthEast Asia",
          "SouthEast Asia",
          "Sub-Saharan Africa",
          "Sub-Saharan Africa",
          "Sub-Saharan Africa",
          "Sub-Saharan Africa",
          "Sub-Saharan Africa",
          "Sub-Saharan Africa",
          "South Asia",
          "South Asia",
          "South Asia",
          "South Asia",
          "South Asia",
          "South Asia",
          "South Asia",
          "South Asia",
          "South Asia",
          "South Asia",
          "South Asia",
          "South Asia",
          "South Asia",
          "South Asia",
          "Western Europe",
          "Western Europe",
          "Western Europe",
          "Western Europe",
          "Western Europe",
          "Western Europe",
          "Western Europe",
          "Western Europe",
          "Western Europe",
          "Western Europe",
          "Western Europe",
          "Western Europe",
          "Western Europe",
          "Western Europe",
          "Australia and New Zealand",
          "Australia and New Zealand",
          "Australia and New Zealand",
          "Australia and New Zealand",
          "Australia and New Zealand",
          "Australia and New Zealand",
          "Australia and New Zealand",
          "Australia and New Zealand",
          "Australia and New Zealand",
          "Australia and New Zealand",
          "Australia and New Zealand",
          "Australia and New Zealand",
          "Australia and New Zealand",
          "Australia and New Zealand",
          "Latin America and Caribbean",
          "Latin America and Caribbean",
          "Latin America and Caribbean",
          "Latin America and Caribbean",
          "Latin America and Caribbean",
          "Latin America and Caribbean",
          "Latin America and Caribbean",
          "Latin America and Caribbean",
          "Latin America and Caribbean",
          "Latin America and Caribbean",
          "Latin America and Caribbean",
          "Latin America and Caribbean",
          "Latin America and Caribbean",
          "Latin America and Caribbean",
          "Sub-Saharan Africa",
          "Sub-Saharan Africa",
          "Sub-Saharan Africa",
          "Sub-Saharan Africa",
          "Sub-Saharan Africa",
          "Sub-Saharan Africa",
          "Sub-Saharan Africa",
          "Sub-Saharan Africa",
          "Sub-Saharan Africa",
          "Sub-Saharan Africa",
          "Sub-Saharan Africa",
          "Sub-Saharan Africa",
          "Sub-Saharan Africa",
          "Sub-Saharan Africa",
          "Sub-Saharan Africa",
          "Sub-Saharan Africa",
          "Sub-Saharan Africa",
          "Sub-Saharan Africa",
          "Sub-Saharan Africa",
          "Sub-Saharan Africa",
          "Sub-Saharan Africa",
          "Sub-Saharan Africa",
          "Sub-Saharan Africa",
          "Sub-Saharan Africa",
          "Sub-Saharan Africa",
          "Sub-Saharan Africa",
          "Sub-Saharan Africa",
          "Western Europe",
          "Western Europe",
          "Western Europe",
          "Western Europe",
          "Western Europe",
          "Western Europe",
          "Western Europe",
          "Central and Eastern Europe",
          "Central and Eastern Europe",
          "Central and Eastern Europe",
          "Central and Eastern Europe",
          "Central and Eastern Europe",
          "Central and Eastern Europe",
          "Central and Eastern Europe",
          "Central and Eastern Europe",
          "Central and Eastern Europe",
          "Central and Eastern Europe",
          "Central and Eastern Europe",
          "Central and Eastern Europe",
          "Central and Eastern Europe",
          "Western Europe",
          "Western Europe",
          "Western Europe",
          "Western Europe",
          "Western Europe",
          "Western Europe",
          "Western Europe",
          "Western Europe",
          "Western Europe",
          "Western Europe",
          "Middle East and Northern Africa",
          "South Asia",
          "South Asia",
          "South Asia",
          "South Asia",
          "South Asia",
          "South Asia",
          "South Asia",
          "South Asia",
          "South Asia",
          "South Asia",
          "South Asia",
          "South Asia",
          "South Asia",
          "South Asia",
          "Middle East and Northern Africa",
          "Middle East and Northern Africa",
          "Middle East and Northern Africa",
          "Middle East and Northern Africa",
          "Middle East and Northern Africa",
          "Middle East and Northern Africa",
          "Middle East and Northern Africa",
          "Middle East and Northern Africa",
          "Middle East and Northern Africa",
          "Middle East and Northern Africa",
          "Middle East and Northern Africa",
          "Middle East and Northern Africa",
          "Middle East and Northern Africa",
          "Middle East and Northern Africa",
          "Latin America and Caribbean",
          "Latin America and Caribbean",
          "Latin America and Caribbean",
          "Latin America and Caribbean",
          "Latin America and Caribbean",
          "Latin America and Caribbean",
          "Latin America and Caribbean",
          "Latin America and Caribbean",
          "Latin America and Caribbean",
          "Latin America and Caribbean",
          "Latin America and Caribbean",
          "Latin America and Caribbean",
          "Latin America and Caribbean",
          "Latin America and Caribbean",
          "Latin America and Caribbean",
          "Latin America and Caribbean",
          "Latin America and Caribbean",
          "Latin America and Caribbean",
          "Latin America and Caribbean",
          "Latin America and Caribbean",
          "Latin America and Caribbean",
          "Latin America and Caribbean",
          "Latin America and Caribbean",
          "Latin America and Caribbean",
          "Latin America and Caribbean",
          "Latin America and Caribbean",
          "Latin America and Caribbean",
          "Latin America and Caribbean",
          "Latin America and Caribbean",
          "Latin America and Caribbean",
          "Latin America and Caribbean",
          "Latin America and Caribbean",
          "Latin America and Caribbean",
          "Latin America and Caribbean",
          "Latin America and Caribbean",
          "Latin America and Caribbean",
          "Latin America and Caribbean",
          "Latin America and Caribbean",
          "Latin America and Caribbean",
          "Latin America and Caribbean",
          "Latin America and Caribbean",
          "SouthEast Asia",
          "SouthEast Asia",
          "SouthEast Asia",
          "SouthEast Asia",
          "SouthEast Asia",
          "SouthEast Asia",
          "SouthEast Asia",
          "SouthEast Asia",
          "SouthEast Asia",
          "SouthEast Asia",
          "SouthEast Asia",
          "SouthEast Asia",
          "SouthEast Asia",
          "SouthEast Asia",
          "SouthEast Asia",
          "Central and Eastern Europe",
          "Central and Eastern Europe",
          "Central and Eastern Europe",
          "Central and Eastern Europe",
          "Central and Eastern Europe",
          "Central and Eastern Europe",
          "Central and Eastern Europe",
          "Central and Eastern Europe",
          "Central and Eastern Europe",
          "Central and Eastern Europe",
          "Central and Eastern Europe",
          "Central and Eastern Europe",
          "Central and Eastern Europe",
          "Central and Eastern Europe",
          "Western Europe",
          "Western Europe",
          "Western Europe",
          "Western Europe",
          "Western Europe",
          "Western Europe",
          "Western Europe",
          "Western Europe",
          "Western Europe",
          "Western Europe",
          "Western Europe",
          "Western Europe",
          "Western Europe",
          "Middle East and Northern Africa",
          "Middle East and Northern Africa",
          "Middle East and Northern Africa",
          "Middle East and Northern Africa",
          "Middle East and Northern Africa",
          "Central and Eastern Europe",
          "Central and Eastern Europe",
          "Central and Eastern Europe",
          "Central and Eastern Europe",
          "Central and Eastern Europe",
          "Central and Eastern Europe",
          "Central and Eastern Europe",
          "Central and Eastern Europe",
          "Central and Eastern Europe",
          "Central and Eastern Europe",
          "Central and Eastern Europe",
          "Central and Eastern Europe",
          "Central and Eastern Europe",
          "Central and Eastern Europe",
          "Central and Eastern Europe",
          "Central and Eastern Europe",
          "Central and Eastern Europe",
          "Central and Eastern Europe",
          "Central and Eastern Europe",
          "Central and Eastern Europe",
          "Central and Eastern Europe",
          "Central and Eastern Europe",
          "Central and Eastern Europe",
          "Central and Eastern Europe",
          "Central and Eastern Europe",
          "Central and Eastern Europe",
          "Central and Eastern Europe",
          "Central and Eastern Europe",
          "Sub-Saharan Africa",
          "Sub-Saharan Africa",
          "Sub-Saharan Africa",
          "Sub-Saharan Africa",
          "Sub-Saharan Africa",
          "Sub-Saharan Africa",
          "Sub-Saharan Africa",
          "Sub-Saharan Africa",
          "Sub-Saharan Africa",
          "Sub-Saharan Africa",
          "Sub-Saharan Africa",
          "Sub-Saharan Africa",
          "Middle East and Northern Africa",
          "Middle East and Northern Africa",
          "Middle East and Northern Africa",
          "Middle East and Northern Africa",
          "Middle East and Northern Africa",
          "Middle East and Northern Africa",
          "Middle East and Northern Africa",
          "Middle East and Northern Africa",
          "Middle East and Northern Africa",
          "Middle East and Northern Africa",
          "Middle East and Northern Africa",
          "Middle East and Northern Africa",
          "Middle East and Northern Africa",
          "Middle East and Northern Africa",
          "Middle East and Northern Africa",
          "Sub-Saharan Africa",
          "Sub-Saharan Africa",
          "Sub-Saharan Africa",
          "Sub-Saharan Africa",
          "Sub-Saharan Africa",
          "Sub-Saharan Africa",
          "Sub-Saharan Africa",
          "Sub-Saharan Africa",
          "Sub-Saharan Africa",
          "Sub-Saharan Africa",
          "Sub-Saharan Africa",
          "Sub-Saharan Africa",
          "Sub-Saharan Africa",
          "Sub-Saharan Africa",
          "Central and Eastern Europe",
          "Central and Eastern Europe",
          "Central and Eastern Europe",
          "Central and Eastern Europe",
          "Central and Eastern Europe",
          "Central and Eastern Europe",
          "Central and Eastern Europe",
          "Central and Eastern Europe",
          "Central and Eastern Europe",
          "Central and Eastern Europe",
          "Central and Eastern Europe",
          "Central and Eastern Europe",
          "Central and Eastern Europe",
          "Sub-Saharan Africa",
          "Sub-Saharan Africa",
          "Sub-Saharan Africa",
          "Sub-Saharan Africa",
          "Sub-Saharan Africa",
          "Sub-Saharan Africa",
          "Sub-Saharan Africa",
          "Sub-Saharan Africa",
          "Sub-Saharan Africa",
          "Sub-Saharan Africa",
          "Sub-Saharan Africa",
          "Sub-Saharan Africa",
          "SouthEast Asia",
          "SouthEast Asia",
          "SouthEast Asia",
          "SouthEast Asia",
          "SouthEast Asia",
          "SouthEast Asia",
          "SouthEast Asia",
          "SouthEast Asia",
          "SouthEast Asia",
          "SouthEast Asia",
          "SouthEast Asia",
          "SouthEast Asia",
          "SouthEast Asia",
          "Central and Eastern Europe",
          "Central and Eastern Europe",
          "Central and Eastern Europe",
          "Central and Eastern Europe",
          "Central and Eastern Europe",
          "Central and Eastern Europe",
          "Central and Eastern Europe",
          "Central and Eastern Europe",
          "Central and Eastern Europe",
          "Central and Eastern Europe",
          "Central and Eastern Europe",
          "Central and Eastern Europe",
          "Central and Eastern Europe",
          "Central and Eastern Europe",
          "Central and Eastern Europe",
          "Central and Eastern Europe",
          "Central and Eastern Europe",
          "Central and Eastern Europe",
          "Central and Eastern Europe",
          "Central and Eastern Europe",
          "Central and Eastern Europe",
          "Central and Eastern Europe",
          "Central and Eastern Europe",
          "Central and Eastern Europe",
          "Central and Eastern Europe",
          "Sub-Saharan Africa",
          "Sub-Saharan Africa",
          "Sub-Saharan Africa",
          "Sub-Saharan Africa",
          "Sub-Saharan Africa",
          "Sub-Saharan Africa",
          "Sub-Saharan Africa",
          "Sub-Saharan Africa",
          "Sub-Saharan Africa",
          "Sub-Saharan Africa",
          "Sub-Saharan Africa",
          "Sub-Saharan Africa",
          "Sub-Saharan Africa",
          "Sub-Saharan Africa",
          "Sub-Saharan Africa",
          "Sub-Saharan Africa",
          "Sub-Saharan Africa",
          "Sub-Saharan Africa",
          "Sub-Saharan Africa",
          "Sub-Saharan Africa",
          "Sub-Saharan Africa",
          "Sub-Saharan Africa",
          "East Asia",
          "East Asia",
          "East Asia",
          "East Asia",
          "East Asia",
          "East Asia",
          "East Asia",
          "East Asia",
          "East Asia",
          "East Asia",
          "East Asia",
          "East Asia",
          "East Asia",
          "East Asia",
          "East Asia",
          "Sub-Saharan Africa",
          "Sub-Saharan Africa",
          "Sub-Saharan Africa",
          "Sub-Saharan Africa",
          "Western Europe",
          "Western Europe",
          "Western Europe",
          "Western Europe",
          "Western Europe",
          "Western Europe",
          "Western Europe",
          "Western Europe",
          "Western Europe",
          "Western Europe",
          "Western Europe",
          "Western Europe",
          "Western Europe",
          "Western Europe",
          "Western Europe",
          "South Asia",
          "South Asia",
          "South Asia",
          "South Asia",
          "South Asia",
          "South Asia",
          "South Asia",
          "South Asia",
          "South Asia",
          "South Asia",
          "South Asia",
          "South Asia",
          "South Asia",
          "Sub-Saharan Africa",
          "Sub-Saharan Africa",
          "Sub-Saharan Africa",
          "Sub-Saharan Africa",
          "Sub-Saharan Africa",
          "Latin America and Caribbean",
          "Sub-Saharan Africa",
          "Sub-Saharan Africa",
          "Sub-Saharan Africa",
          "Western Europe",
          "Western Europe",
          "Western Europe",
          "Western Europe",
          "Western Europe",
          "Western Europe",
          "Western Europe",
          "Western Europe",
          "Western Europe",
          "Western Europe",
          "Western Europe",
          "Western Europe",
          "Western Europe",
          "Western Europe",
          "Western Europe",
          "Western Europe",
          "Western Europe",
          "Western Europe",
          "Western Europe",
          "Western Europe",
          "Western Europe",
          "Western Europe",
          "Western Europe",
          "Western Europe",
          "Western Europe",
          "Middle East and Northern Africa",
          "Middle East and Northern Africa",
          "Middle East and Northern Africa",
          "Middle East and Northern Africa",
          "Middle East and Northern Africa",
          "Middle East and Northern Africa",
          "Middle East and Northern Africa",
          "South Asia",
          "South Asia",
          "South Asia",
          "South Asia",
          "South Asia",
          "South Asia",
          "South Asia",
          "South Asia",
          "South Asia",
          "South Asia",
          "South Asia",
          "South Asia",
          "South Asia",
          "Central and Eastern Europe",
          "Central and Eastern Europe",
          "Central and Eastern Europe",
          "Central and Eastern Europe",
          "Central and Eastern Europe",
          "Central and Eastern Europe",
          "Central and Eastern Europe",
          "Central and Eastern Europe",
          "Central and Eastern Europe",
          "Central and Eastern Europe",
          "Central and Eastern Europe",
          "Central and Eastern Europe",
          "Central and Eastern Europe",
          "Central and Eastern Europe",
          "Central and Eastern Europe",
          "Sub-Saharan Africa",
          "Sub-Saharan Africa",
          "Sub-Saharan Africa",
          "Sub-Saharan Africa",
          "Sub-Saharan Africa",
          "Sub-Saharan Africa",
          "Sub-Saharan Africa",
          "Sub-Saharan Africa",
          "Sub-Saharan Africa",
          "Sub-Saharan Africa",
          "Sub-Saharan Africa",
          "Sub-Saharan Africa",
          "Sub-Saharan Africa",
          "Sub-Saharan Africa",
          "Sub-Saharan Africa",
          "SouthEast Asia",
          "SouthEast Asia",
          "SouthEast Asia",
          "SouthEast Asia",
          "SouthEast Asia",
          "SouthEast Asia",
          "SouthEast Asia",
          "SouthEast Asia",
          "SouthEast Asia",
          "SouthEast Asia",
          "SouthEast Asia",
          "SouthEast Asia",
          "SouthEast Asia",
          "SouthEast Asia",
          "SouthEast Asia",
          "Sub-Saharan Africa",
          "Sub-Saharan Africa",
          "Sub-Saharan Africa",
          "Sub-Saharan Africa",
          "Sub-Saharan Africa",
          "Sub-Saharan Africa",
          "Sub-Saharan Africa",
          "Sub-Saharan Africa",
          "Sub-Saharan Africa",
          "Latin America and Caribbean",
          "Latin America and Caribbean",
          "Latin America and Caribbean",
          "Latin America and Caribbean",
          "Latin America and Caribbean",
          "Middle East and Northern Africa",
          "Middle East and Northern Africa",
          "Middle East and Northern Africa",
          "Middle East and Northern Africa",
          "Middle East and Northern Africa",
          "Middle East and Northern Africa",
          "Middle East and Northern Africa",
          "Middle East and Northern Africa",
          "Middle East and Northern Africa",
          "Middle East and Northern Africa",
          "Middle East and Northern Africa",
          "Middle East and Northern Africa",
          "Middle East and Northern Africa",
          "Middle East and Northern Africa",
          "Middle East and Northern Africa",
          "Middle East and Northern Africa",
          "Middle East and Northern Africa",
          "Middle East and Northern Africa",
          "Middle East and Northern Africa",
          "Middle East and Northern Africa",
          "Middle East and Northern Africa",
          "Middle East and Northern Africa",
          "Middle East and Northern Africa",
          "Middle East and Northern Africa",
          "Middle East and Northern Africa",
          "Middle East and Northern Africa",
          "Middle East and Northern Africa",
          "Central and Eastern Europe",
          "Central and Eastern Europe",
          "Central and Eastern Europe",
          "Central and Eastern Europe",
          "Central and Eastern Europe",
          "Central and Eastern Europe",
          "Central and Eastern Europe",
          "Central and Eastern Europe",
          "Central and Eastern Europe",
          "Central and Eastern Europe",
          "Sub-Saharan Africa",
          "Sub-Saharan Africa",
          "Sub-Saharan Africa",
          "Sub-Saharan Africa",
          "Sub-Saharan Africa",
          "Sub-Saharan Africa",
          "Sub-Saharan Africa",
          "Sub-Saharan Africa",
          "Sub-Saharan Africa",
          "Sub-Saharan Africa",
          "Sub-Saharan Africa",
          "Sub-Saharan Africa",
          "Sub-Saharan Africa",
          "Sub-Saharan Africa",
          "Sub-Saharan Africa",
          "Central and Eastern Europe",
          "Central and Eastern Europe",
          "Central and Eastern Europe",
          "Central and Eastern Europe",
          "Central and Eastern Europe",
          "Central and Eastern Europe",
          "Central and Eastern Europe",
          "Central and Eastern Europe",
          "Central and Eastern Europe",
          "Central and Eastern Europe",
          "Central and Eastern Europe",
          "Central and Eastern Europe",
          "Central and Eastern Europe",
          "Central and Eastern Europe",
          "Central and Eastern Europe",
          "Middle East and Northern Africa",
          "Middle East and Northern Africa",
          "Middle East and Northern Africa",
          "Middle East and Northern Africa",
          "Middle East and Northern Africa",
          "Middle East and Northern Africa",
          "Middle East and Northern Africa",
          "Middle East and Northern Africa",
          "Middle East and Northern Africa",
          "Middle East and Northern Africa",
          "Middle East and Northern Africa",
          "Middle East and Northern Africa",
          "Middle East and Northern Africa",
          "Western Europe",
          "Western Europe",
          "Western Europe",
          "Western Europe",
          "Western Europe",
          "Western Europe",
          "Western Europe",
          "Western Europe",
          "Western Europe",
          "Western Europe",
          "Western Europe",
          "Western Europe",
          "Western Europe",
          "Western Europe",
          "Western Europe",
          "North America",
          "North America",
          "North America",
          "North America",
          "North America",
          "North America",
          "North America",
          "North America",
          "North America",
          "North America",
          "North America",
          "North America",
          "North America",
          "North America",
          "North America",
          "Latin America and Caribbean",
          "Latin America and Caribbean",
          "Latin America and Caribbean",
          "Latin America and Caribbean",
          "Latin America and Caribbean",
          "Latin America and Caribbean",
          "Latin America and Caribbean",
          "Latin America and Caribbean",
          "Latin America and Caribbean",
          "Latin America and Caribbean",
          "Latin America and Caribbean",
          "Latin America and Caribbean",
          "Latin America and Caribbean",
          "Latin America and Caribbean",
          "Latin America and Caribbean",
          "Central and Eastern Europe",
          "Central and Eastern Europe",
          "Central and Eastern Europe",
          "Central and Eastern Europe",
          "Central and Eastern Europe",
          "Central and Eastern Europe",
          "Central and Eastern Europe",
          "Central and Eastern Europe",
          "Central and Eastern Europe",
          "Central and Eastern Europe",
          "Central and Eastern Europe",
          "Central and Eastern Europe",
          "Central and Eastern Europe",
          "Latin America and Caribbean",
          "Latin America and Caribbean",
          "Latin America and Caribbean",
          "Latin America and Caribbean",
          "Latin America and Caribbean",
          "Latin America and Caribbean",
          "Latin America and Caribbean",
          "Latin America and Caribbean",
          "Latin America and Caribbean",
          "Latin America and Caribbean",
          "Latin America and Caribbean",
          "Latin America and Caribbean",
          "Latin America and Caribbean",
          "Latin America and Caribbean",
          "Latin America and Caribbean",
          "SouthEast Asia",
          "SouthEast Asia",
          "SouthEast Asia",
          "SouthEast Asia",
          "SouthEast Asia",
          "SouthEast Asia",
          "SouthEast Asia",
          "SouthEast Asia",
          "SouthEast Asia",
          "SouthEast Asia",
          "SouthEast Asia",
          "SouthEast Asia",
          "SouthEast Asia",
          "SouthEast Asia",
          "Middle East and Northern Africa",
          "Middle East and Northern Africa",
          "Middle East and Northern Africa",
          "Middle East and Northern Africa",
          "Middle East and Northern Africa",
          "Middle East and Northern Africa",
          "Middle East and Northern Africa",
          "Middle East and Northern Africa",
          "Middle East and Northern Africa",
          "Middle East and Northern Africa",
          "Middle East and Northern Africa",
          "Middle East and Northern Africa",
          "Sub-Saharan Africa",
          "Sub-Saharan Africa",
          "Sub-Saharan Africa",
          "Sub-Saharan Africa",
          "Sub-Saharan Africa",
          "Sub-Saharan Africa",
          "Sub-Saharan Africa",
          "Sub-Saharan Africa",
          "Sub-Saharan Africa",
          "Sub-Saharan Africa",
          "Sub-Saharan Africa",
          "Sub-Saharan Africa",
          "Sub-Saharan Africa",
          "Sub-Saharan Africa",
          "Sub-Saharan Africa",
          "Sub-Saharan Africa",
          "Sub-Saharan Africa",
          "Sub-Saharan Africa",
          "Sub-Saharan Africa",
          "Sub-Saharan Africa",
          "Sub-Saharan Africa",
          "Sub-Saharan Africa",
          "Sub-Saharan Africa",
          "Sub-Saharan Africa",
          "Sub-Saharan Africa",
          "Sub-Saharan Africa",
          "Sub-Saharan Africa",
          "Sub-Saharan Africa",
          "Sub-Saharan Africa"
         ],
         "x0": " ",
         "xaxis": "x",
         "y": {
          "bdata": "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",
          "dtype": "f8"
         },
         "y0": " ",
         "yaxis": "y"
        }
       ],
       "layout": {
        "boxmode": "group",
        "legend": {
         "tracegroupgap": 0
        },
        "template": {
         "data": {
          "bar": [
           {
            "error_x": {
             "color": "#2a3f5f"
            },
            "error_y": {
             "color": "#2a3f5f"
            },
            "marker": {
             "line": {
              "color": "#E5ECF6",
              "width": 0.5
             },
             "pattern": {
              "fillmode": "overlay",
              "size": 10,
              "solidity": 0.2
             }
            },
            "type": "bar"
           }
          ],
          "barpolar": [
           {
            "marker": {
             "line": {
              "color": "#E5ECF6",
              "width": 0.5
             },
             "pattern": {
              "fillmode": "overlay",
              "size": 10,
              "solidity": 0.2
             }
            },
            "type": "barpolar"
           }
          ],
          "carpet": [
           {
            "aaxis": {
             "endlinecolor": "#2a3f5f",
             "gridcolor": "white",
             "linecolor": "white",
             "minorgridcolor": "white",
             "startlinecolor": "#2a3f5f"
            },
            "baxis": {
             "endlinecolor": "#2a3f5f",
             "gridcolor": "white",
             "linecolor": "white",
             "minorgridcolor": "white",
             "startlinecolor": "#2a3f5f"
            },
            "type": "carpet"
           }
          ],
          "choropleth": [
           {
            "colorbar": {
             "outlinewidth": 0,
             "ticks": ""
            },
            "type": "choropleth"
           }
          ],
          "contour": [
           {
            "colorbar": {
             "outlinewidth": 0,
             "ticks": ""
            },
            "colorscale": [
             [
              0,
              "#0d0887"
             ],
             [
              0.1111111111111111,
              "#46039f"
             ],
             [
              0.2222222222222222,
              "#7201a8"
             ],
             [
              0.3333333333333333,
              "#9c179e"
             ],
             [
              0.4444444444444444,
              "#bd3786"
             ],
             [
              0.5555555555555556,
              "#d8576b"
             ],
             [
              0.6666666666666666,
              "#ed7953"
             ],
             [
              0.7777777777777778,
              "#fb9f3a"
             ],
             [
              0.8888888888888888,
              "#fdca26"
             ],
             [
              1,
              "#f0f921"
             ]
            ],
            "type": "contour"
           }
          ],
          "contourcarpet": [
           {
            "colorbar": {
             "outlinewidth": 0,
             "ticks": ""
            },
            "type": "contourcarpet"
           }
          ],
          "heatmap": [
           {
            "colorbar": {
             "outlinewidth": 0,
             "ticks": ""
            },
            "colorscale": [
             [
              0,
              "#0d0887"
             ],
             [
              0.1111111111111111,
              "#46039f"
             ],
             [
              0.2222222222222222,
              "#7201a8"
             ],
             [
              0.3333333333333333,
              "#9c179e"
             ],
             [
              0.4444444444444444,
              "#bd3786"
             ],
             [
              0.5555555555555556,
              "#d8576b"
             ],
             [
              0.6666666666666666,
              "#ed7953"
             ],
             [
              0.7777777777777778,
              "#fb9f3a"
             ],
             [
              0.8888888888888888,
              "#fdca26"
             ],
             [
              1,
              "#f0f921"
             ]
            ],
            "type": "heatmap"
           }
          ],
          "histogram": [
           {
            "marker": {
             "pattern": {
              "fillmode": "overlay",
              "size": 10,
              "solidity": 0.2
             }
            },
            "type": "histogram"
           }
          ],
          "histogram2d": [
           {
            "colorbar": {
             "outlinewidth": 0,
             "ticks": ""
            },
            "colorscale": [
             [
              0,
              "#0d0887"
             ],
             [
              0.1111111111111111,
              "#46039f"
             ],
             [
              0.2222222222222222,
              "#7201a8"
             ],
             [
              0.3333333333333333,
              "#9c179e"
             ],
             [
              0.4444444444444444,
              "#bd3786"
             ],
             [
              0.5555555555555556,
              "#d8576b"
             ],
             [
              0.6666666666666666,
              "#ed7953"
             ],
             [
              0.7777777777777778,
              "#fb9f3a"
             ],
             [
              0.8888888888888888,
              "#fdca26"
             ],
             [
              1,
              "#f0f921"
             ]
            ],
            "type": "histogram2d"
           }
          ],
          "histogram2dcontour": [
           {
            "colorbar": {
             "outlinewidth": 0,
             "ticks": ""
            },
            "colorscale": [
             [
              0,
              "#0d0887"
             ],
             [
              0.1111111111111111,
              "#46039f"
             ],
             [
              0.2222222222222222,
              "#7201a8"
             ],
             [
              0.3333333333333333,
              "#9c179e"
             ],
             [
              0.4444444444444444,
              "#bd3786"
             ],
             [
              0.5555555555555556,
              "#d8576b"
             ],
             [
              0.6666666666666666,
              "#ed7953"
             ],
             [
              0.7777777777777778,
              "#fb9f3a"
             ],
             [
              0.8888888888888888,
              "#fdca26"
             ],
             [
              1,
              "#f0f921"
             ]
            ],
            "type": "histogram2dcontour"
           }
          ],
          "mesh3d": [
           {
            "colorbar": {
             "outlinewidth": 0,
             "ticks": ""
            },
            "type": "mesh3d"
           }
          ],
          "parcoords": [
           {
            "line": {
             "colorbar": {
              "outlinewidth": 0,
              "ticks": ""
             }
            },
            "type": "parcoords"
           }
          ],
          "pie": [
           {
            "automargin": true,
            "type": "pie"
           }
          ],
          "scatter": [
           {
            "fillpattern": {
             "fillmode": "overlay",
             "size": 10,
             "solidity": 0.2
            },
            "type": "scatter"
           }
          ],
          "scatter3d": [
           {
            "line": {
             "colorbar": {
              "outlinewidth": 0,
              "ticks": ""
             }
            },
            "marker": {
             "colorbar": {
              "outlinewidth": 0,
              "ticks": ""
             }
            },
            "type": "scatter3d"
           }
          ],
          "scattercarpet": [
           {
            "marker": {
             "colorbar": {
              "outlinewidth": 0,
              "ticks": ""
             }
            },
            "type": "scattercarpet"
           }
          ],
          "scattergeo": [
           {
            "marker": {
             "colorbar": {
              "outlinewidth": 0,
              "ticks": ""
             }
            },
            "type": "scattergeo"
           }
          ],
          "scattergl": [
           {
            "marker": {
             "colorbar": {
              "outlinewidth": 0,
              "ticks": ""
             }
            },
            "type": "scattergl"
           }
          ],
          "scattermap": [
           {
            "marker": {
             "colorbar": {
              "outlinewidth": 0,
              "ticks": ""
             }
            },
            "type": "scattermap"
           }
          ],
          "scattermapbox": [
           {
            "marker": {
             "colorbar": {
              "outlinewidth": 0,
              "ticks": ""
             }
            },
            "type": "scattermapbox"
           }
          ],
          "scatterpolar": [
           {
            "marker": {
             "colorbar": {
              "outlinewidth": 0,
              "ticks": ""
             }
            },
            "type": "scatterpolar"
           }
          ],
          "scatterpolargl": [
           {
            "marker": {
             "colorbar": {
              "outlinewidth": 0,
              "ticks": ""
             }
            },
            "type": "scatterpolargl"
           }
          ],
          "scatterternary": [
           {
            "marker": {
             "colorbar": {
              "outlinewidth": 0,
              "ticks": ""
             }
            },
            "type": "scatterternary"
           }
          ],
          "surface": [
           {
            "colorbar": {
             "outlinewidth": 0,
             "ticks": ""
            },
            "colorscale": [
             [
              0,
              "#0d0887"
             ],
             [
              0.1111111111111111,
              "#46039f"
             ],
             [
              0.2222222222222222,
              "#7201a8"
             ],
             [
              0.3333333333333333,
              "#9c179e"
             ],
             [
              0.4444444444444444,
              "#bd3786"
             ],
             [
              0.5555555555555556,
              "#d8576b"
             ],
             [
              0.6666666666666666,
              "#ed7953"
             ],
             [
              0.7777777777777778,
              "#fb9f3a"
             ],
             [
              0.8888888888888888,
              "#fdca26"
             ],
             [
              1,
              "#f0f921"
             ]
            ],
            "type": "surface"
           }
          ],
          "table": [
           {
            "cells": {
             "fill": {
              "color": "#EBF0F8"
             },
             "line": {
              "color": "white"
             }
            },
            "header": {
             "fill": {
              "color": "#C8D4E3"
             },
             "line": {
              "color": "white"
             }
            },
            "type": "table"
           }
          ]
         },
         "layout": {
          "annotationdefaults": {
           "arrowcolor": "#2a3f5f",
           "arrowhead": 0,
           "arrowwidth": 1
          },
          "autotypenumbers": "strict",
          "coloraxis": {
           "colorbar": {
            "outlinewidth": 0,
            "ticks": ""
           }
          },
          "colorscale": {
           "diverging": [
            [
             0,
             "#8e0152"
            ],
            [
             0.1,
             "#c51b7d"
            ],
            [
             0.2,
             "#de77ae"
            ],
            [
             0.3,
             "#f1b6da"
            ],
            [
             0.4,
             "#fde0ef"
            ],
            [
             0.5,
             "#f7f7f7"
            ],
            [
             0.6,
             "#e6f5d0"
            ],
            [
             0.7,
             "#b8e186"
            ],
            [
             0.8,
             "#7fbc41"
            ],
            [
             0.9,
             "#4d9221"
            ],
            [
             1,
             "#276419"
            ]
           ],
           "sequential": [
            [
             0,
             "#0d0887"
            ],
            [
             0.1111111111111111,
             "#46039f"
            ],
            [
             0.2222222222222222,
             "#7201a8"
            ],
            [
             0.3333333333333333,
             "#9c179e"
            ],
            [
             0.4444444444444444,
             "#bd3786"
            ],
            [
             0.5555555555555556,
             "#d8576b"
            ],
            [
             0.6666666666666666,
             "#ed7953"
            ],
            [
             0.7777777777777778,
             "#fb9f3a"
            ],
            [
             0.8888888888888888,
             "#fdca26"
            ],
            [
             1,
             "#f0f921"
            ]
           ],
           "sequentialminus": [
            [
             0,
             "#0d0887"
            ],
            [
             0.1111111111111111,
             "#46039f"
            ],
            [
             0.2222222222222222,
             "#7201a8"
            ],
            [
             0.3333333333333333,
             "#9c179e"
            ],
            [
             0.4444444444444444,
             "#bd3786"
            ],
            [
             0.5555555555555556,
             "#d8576b"
            ],
            [
             0.6666666666666666,
             "#ed7953"
            ],
            [
             0.7777777777777778,
             "#fb9f3a"
            ],
            [
             0.8888888888888888,
             "#fdca26"
            ],
            [
             1,
             "#f0f921"
            ]
           ]
          },
          "colorway": [
           "#636efa",
           "#EF553B",
           "#00cc96",
           "#ab63fa",
           "#FFA15A",
           "#19d3f3",
           "#FF6692",
           "#B6E880",
           "#FF97FF",
           "#FECB52"
          ],
          "font": {
           "color": "#2a3f5f"
          },
          "geo": {
           "bgcolor": "white",
           "lakecolor": "white",
           "landcolor": "#E5ECF6",
           "showlakes": true,
           "showland": true,
           "subunitcolor": "white"
          },
          "hoverlabel": {
           "align": "left"
          },
          "hovermode": "closest",
          "mapbox": {
           "style": "light"
          },
          "paper_bgcolor": "white",
          "plot_bgcolor": "#E5ECF6",
          "polar": {
           "angularaxis": {
            "gridcolor": "white",
            "linecolor": "white",
            "ticks": ""
           },
           "bgcolor": "#E5ECF6",
           "radialaxis": {
            "gridcolor": "white",
            "linecolor": "white",
            "ticks": ""
           }
          },
          "scene": {
           "xaxis": {
            "backgroundcolor": "#E5ECF6",
            "gridcolor": "white",
            "gridwidth": 2,
            "linecolor": "white",
            "showbackground": true,
            "ticks": "",
            "zerolinecolor": "white"
           },
           "yaxis": {
            "backgroundcolor": "#E5ECF6",
            "gridcolor": "white",
            "gridwidth": 2,
            "linecolor": "white",
            "showbackground": true,
            "ticks": "",
            "zerolinecolor": "white"
           },
           "zaxis": {
            "backgroundcolor": "#E5ECF6",
            "gridcolor": "white",
            "gridwidth": 2,
            "linecolor": "white",
            "showbackground": true,
            "ticks": "",
            "zerolinecolor": "white"
           }
          },
          "shapedefaults": {
           "line": {
            "color": "#2a3f5f"
           }
          },
          "ternary": {
           "aaxis": {
            "gridcolor": "white",
            "linecolor": "white",
            "ticks": ""
           },
           "baxis": {
            "gridcolor": "white",
            "linecolor": "white",
            "ticks": ""
           },
           "bgcolor": "#E5ECF6",
           "caxis": {
            "gridcolor": "white",
            "linecolor": "white",
            "ticks": ""
           }
          },
          "title": {
           "x": 0.05
          },
          "xaxis": {
           "automargin": true,
           "gridcolor": "white",
           "linecolor": "white",
           "ticks": "",
           "title": {
            "standoff": 15
           },
           "zerolinecolor": "white",
           "zerolinewidth": 2
          },
          "yaxis": {
           "automargin": true,
           "gridcolor": "white",
           "linecolor": "white",
           "ticks": "",
           "title": {
            "standoff": 15
           },
           "zerolinecolor": "white",
           "zerolinewidth": 2
          }
         }
        },
        "title": {
         "text": "Rozkład poziomu szczęścia w regionach świata"
        },
        "xaxis": {
         "anchor": "y",
         "domain": [
          0,
          1
         ],
         "tickangle": -45,
         "title": {
          "text": "Region"
         }
        },
        "yaxis": {
         "anchor": "x",
         "domain": [
          0,
          1
         ],
         "title": {
          "text": "Life Ladder"
         }
        }
       }
      }
     },
     "metadata": {},
     "output_type": "display_data"
    }
   ],
   "source": [
    "#boxplot poziomu szczescia w regionach swiata \n",
    "\n",
    "fig_box = px.box(\n",
    "    df,\n",
    "    x=\"region\",\n",
    "    y=\"life_ladder\",\n",
    "    points=\"all\",            \n",
    "    hover_name=\"country\",\n",
    "    color_discrete_sequence=[\"#f3d52e\"],\n",
    "    title=\"Rozkład poziomu szczęścia w regionach świata\",\n",
    "    labels={\"region\": \"Region\", \"life_ladder\": \"Life Ladder\"}\n",
    ")\n",
    "\n",
    "fig_box.update_layout(xaxis_tickangle=-45)\n",
    "fig_box.show()\n"
   ]
  },
  {
   "cell_type": "markdown",
   "metadata": {},
   "source": [
    "**Rysunek 4.** Wykres pudełkowy przedstawia rozkład wartości wskaźnika *Life Ladder* w poszczególnych regionach geograficznych. Dla każdego regionu zaprezentowano medianę, kwartyle, wartości minimalne i maksymalne (poza obserwacjami odstającymi) oraz rozkład indywidualnych obserwacji. Punkty oznaczają wartości deklarowanego poziomu szczęścia w poszczególnych krajach i latach objętych analizą.\n",
    "\n",
    "\n",
    "Widoczna jest istotna zmienność poziomu szczęścia między regionami świata. Najwyższą medianę oraz najmniejszą rozpiętość rozkładu odnotowano w regionach Australii i Nowej Zelandii oraz Europy Zachodniej, co świadczy o stabilnie wysokim poziomie dobrostanu deklarowanego przez mieszkańców tych obszarów. W regionach Afryki Subsaharyjskiej i Azji Południowej rozkład wartości jest szerszy, a mediany znajdują się na niższym poziomie, co może wskazywać na zróżnicowane warunki życia i większe rozwarstwienie społeczne. Porównanie rozkładów pokazuje, że dobrostan subiektywny jest silnie uwarunkowany czynnikami regionalnymi i kulturowymi. Stabilność i przewidywalność warunków społeczno-ekonomicznych, charakterystyczna dla bardziej rozwiniętych regionów, może przekładać się na bardziej wyrównany poziom szczęścia populacji. Wyniki te podkreślają konieczność uwzględnienia kontekstu geograficznego w analizach porównawczych i interpretacji poziomu dobrostanu."
   ]
  },
  {
   "cell_type": "markdown",
   "metadata": {},
   "source": [
    "---"
   ]
  },
  {
   "cell_type": "code",
   "execution_count": 9,
   "metadata": {},
   "outputs": [
    {
     "data": {
      "application/vnd.plotly.v1+json": {
       "config": {
        "plotlyServerURL": "https://plot.ly"
       },
       "data": [
        {
         "hovertemplate": "<b>%{hovertext}</b><br><br>region=South Asia<br>PKB per capita (log)=%{x}<br>Life Ladder=%{y}<extra></extra>",
         "hovertext": [
          "Afghanistan",
          "Afghanistan",
          "Afghanistan",
          "Afghanistan",
          "Afghanistan",
          "Afghanistan",
          "Afghanistan",
          "Afghanistan",
          "Afghanistan",
          "Afghanistan",
          "Afghanistan",
          "Afghanistan",
          "Bangladesh",
          "Bangladesh",
          "Bangladesh",
          "Bangladesh",
          "Bangladesh",
          "Bangladesh",
          "Bangladesh",
          "Bangladesh",
          "Bangladesh",
          "Bangladesh",
          "Bangladesh",
          "Bangladesh",
          "Bangladesh",
          "Bangladesh",
          "Bangladesh",
          "Bhutan",
          "Bhutan",
          "Bhutan",
          "India",
          "India",
          "India",
          "India",
          "India",
          "India",
          "India",
          "India",
          "India",
          "India",
          "India",
          "India",
          "India",
          "India",
          "India",
          "Nepal",
          "Nepal",
          "Nepal",
          "Nepal",
          "Nepal",
          "Nepal",
          "Nepal",
          "Nepal",
          "Nepal",
          "Nepal",
          "Nepal",
          "Nepal",
          "Nepal",
          "Nepal",
          "Pakistan",
          "Pakistan",
          "Pakistan",
          "Pakistan",
          "Pakistan",
          "Pakistan",
          "Pakistan",
          "Pakistan",
          "Pakistan",
          "Pakistan",
          "Pakistan",
          "Pakistan",
          "Pakistan",
          "Pakistan",
          "Sri Lanka",
          "Sri Lanka",
          "Sri Lanka",
          "Sri Lanka",
          "Sri Lanka",
          "Sri Lanka",
          "Sri Lanka",
          "Sri Lanka",
          "Sri Lanka",
          "Sri Lanka",
          "Sri Lanka",
          "Sri Lanka",
          "Sri Lanka",
          "Taiwan Province of China",
          "Taiwan Province of China",
          "Taiwan Province of China",
          "Taiwan Province of China",
          "Taiwan Province of China",
          "Taiwan Province of China",
          "Taiwan Province of China",
          "Taiwan Province of China",
          "Taiwan Province of China",
          "Taiwan Province of China",
          "Taiwan Province of China",
          "Taiwan Province of China",
          "Taiwan Province of China"
         ],
         "legendgroup": "South Asia",
         "marker": {
          "color": "#fff9b0",
          "symbol": "circle"
         },
         "mode": "markers",
         "name": "South Asia",
         "showlegend": true,
         "type": "scattergl",
         "x": {
          "bdata": "exSuR+F6HUApXI/C9SgeQEoMAiuHlh5AexSuR+F6HkBSuB6F69EeQGZmZmZm5h5ArBxaZDvfHkACK4cW2c4eQH0/NV66yR5AfT81XrrJHkD4U+Olm8QeQH0/NV66yR5AbxKDwMohH0BCYOXQIlsfQCUGgZVDix9AGQRWDi2yH0CR7Xw/Nd4fQPCnxks3CSBApHA9CtcjIEAIrBxaZDsgQIcW2c73UyBAO99PjZduIEA/NV66SYwgQF66SQwCqyBAPzVeuknMIEDJdr6fGu8gQIts5/up8SBA5dAi2/k+IkAv3SQGgVUiQOOlm8QgcCJACtejcD1KIECcxCCwcmggQHE9CtejcCBAHVpkO9+PIECmm8QgsLIgQKAaL90kxiBAQmDl0CLbIEDb+X5qvPQgQPp+arx0EyFAaJHtfD81IUB/arx0k1ghQPYoXI/CdSFAAiuHFtmOIUCJQWDl0KIhQA4tsp3vZyFAEFg5tMh2HkBaZDvfT40eQFg5tMh2vh5AMQisHFrkHkCPwvUoXA8fQOOlm8QgMB9A/Knx0k1iH0B1kxgEVo4fQJhuEoPAyh9AgZVDi2znH0AxCKwcWuQfQIcW2c73EyBABoGVQ4ssIEASg8DKoUUgQFYOLbKdbyBA5/up8dKNIECYbhKDwIogQOf7qfHSjSBACtejcD2KIEBaZDvfT40gQIcW2c73kyBArBxaZDufIEB56SYxCKwgQEa28/3UuCBAfT81XrrJIEBCYOXQItsgQCGwcmiR7SBADi2yne/nIEBt5/up8dIhQHE9Ctej8CFAmG4Sg8AKIkAMAiuHFhkiQLByaJHtPCJAiUFg5dBiIkACK4cW2Y4iQFyPwvUonCJA46WbxCCwIkBqvHSTGMQiQOF6FK5H4SJABoGVQ4vsIkBoke18P/UiQGDl0CLbOSVAg8DKoUU2JUBvEoPAymElQClcj8L1aCVAO99PjZduJUAAAAAAAIAlQH9qvHSTmCVAyXa+nxqvJUD2KFyPwrUlQMuhRbbzvSVATboIYUfMJUBctPPw5dklQGmu3oCE5yVA",
          "dtype": "f8"
         },
         "xaxis": "x",
         "y": {
          "bdata": "mG4Sg8DKDUDP91PjpZsRQNV46SYxCBNADi2yne+nDkDdJAaBlUMOQPp+arx0kwxAPzVeukkMCUB3vp8aL90PQOF6FK5H4RBAsp3vp8ZLBUBaZDvfT40FQAAAAAAAAANALbKd76dGEUAhsHJokW0SQGiR7Xw/NRRAokW28/1UFEA730+Nl24TQIts5/up8RNATDeJQWDlEkCkcD0K16MSQCUGgZVDixJA1XjpJjGIEkDTTWIQWDkSQD0K16NwPRFA5dAi2/n+EUDb+X5qvHQUQB+F61G4HhVALbKd76dGFkCoxks3icETQIcW2c73UxRAMQisHFpkFUDP91PjpRsUQC/dJAaBlRRASgwCK4cWEkDb+X5qvPQTQArXo3A9ihJA4XoUrkfhEkCDwMqhRbYRQBkEVg4tshFAke18PzVeEUCe76fGS7cQQMl2vp8aLxBAJQaBlUOLDkDLoUW28/0JQGZmZmZm5hBA+FPjpZtEEkDLoUW28/0SQN0kBoGVwxFAXrpJDAKrE0BmZmZmZmYRQEa28/3UeA5AO99PjZfuEEDsUbgehWsSQGZmZmZm5hNAc2iR7Xw/E0BmZmZmZmYUQKabxCCw8hJApHA9CtejE0Cyne+nxssVQGZmZmZm5hRAyXa+nxqvFkAOLbKd76cRQKJFtvP91BRAvp8aL90kF0DFILByaBEVQLpJDAIrhxRAWmQ730+NFEBYObTIdr4VQJhuEoPAShNAGQRWDi0yFkBt5/up8VIXQBfZzvdT4xVAEoPAyqHFEUDhehSuR2ERQClcj8L1qBFA001iEFi5EUAMAiuHFtkQQDeJQWDl0A9A001iEFi5EEBmZmZmZuYQQPYoXI/CdRFA30+Nl24SEUCmm8QgsHISQG3n+6nxUhFAPQrXo3C9EUAnMQisHNoQQKjGSzeJwRhA/tR46SYxFkDRItv5fuoYQCPb+X5qPBlAGy/dJAaBGEBcj8L1KFwZQMHKoUW2cxlAzczMzMzMGUBaZDvfTw0aQFYOLbKdbxlAke18PzXeGUDZzvdT4yUaQBsv3SQGARtA",
          "dtype": "f8"
         },
         "yaxis": "y"
        },
        {
         "hovertemplate": "<b>OLS trendline</b><br>life_ladder = 0.56782 * gdp_per_capita + -0.115103<br>R<sup>2</sup>=0.411837<br><br>region=South Asia<br>PKB per capita (log)=%{x}<br>Life Ladder=%{y} <b>(trend)</b><extra></extra>",
         "legendgroup": "South Asia",
         "marker": {
          "color": "#fff9b0",
          "symbol": "circle"
         },
         "mode": "lines",
         "name": "South Asia",
         "showlegend": false,
         "type": "scattergl",
         "x": {
          "bdata": "exSuR+F6HUApXI/C9SgeQBBYObTIdh5AexSuR+F6HkBaZDvfT40eQEoMAiuHlh5AWDm0yHa+HkD4U+Olm8QeQH0/NV66yR5AfT81XrrJHkB9PzVeuskeQAIrhxbZzh5AUrgehevRHkCsHFpkO98eQDEIrBxa5B5AZmZmZmbmHkCPwvUoXA8fQG8Sg8DKIR9A46WbxCAwH0BCYOXQIlsfQPyp8dJNYh9AJQaBlUOLH0B1kxgEVo4fQBkEVg4tsh9AmG4Sg8DKH0CR7Xw/Nd4fQDEIrBxa5B9AgZVDi2znH0Dwp8ZLNwkgQIcW2c73EyBApHA9CtcjIEAGgZVDiywgQAisHFpkOyBAEoPAyqFFIEAK16NwPUogQIcW2c73UyBAnMQgsHJoIEA730+Nl24gQFYOLbKdbyBAcT0K16NwIEAK16NwPYogQJhuEoPAiiBAPzVeukmMIEBaZDvfT40gQOf7qfHSjSBA5/up8dKNIEAdWmQ7348gQIcW2c73kyBArBxaZDufIEBeukkMAqsgQHnpJjEIrCBAppvEILCyIEBGtvP91LggQKAaL90kxiBAfT81XrrJIEA/NV66ScwgQEJg5dAi2yBAQmDl0CLbIEAOLbKd7+cgQCGwcmiR7SBAyXa+nxrvIECLbOf7qfEgQNv5fmq89CBA+n5qvHQTIUBoke18PzUhQH9qvHSTWCFADi2yne9nIUD2KFyPwnUhQAIrhxbZjiFAiUFg5dCiIUBt5/up8dIhQHE9Ctej8CFAmG4Sg8AKIkAMAiuHFhkiQLByaJHtPCJA5dAi2/k+IkAv3SQGgVUiQIlBYOXQYiJA46WbxCBwIkACK4cW2Y4iQFyPwvUonCJA46WbxCCwIkBqvHSTGMQiQOF6FK5H4SJABoGVQ4vsIkBoke18P/UiQIPAyqFFNiVAYOXQIts5JUBvEoPAymElQClcj8L1aCVAO99PjZduJUAAAAAAAIAlQH9qvHSTmCVAyXa+nxqvJUD2KFyPwrUlQMuhRbbzvSVATboIYUfMJUBctPPw5dklQGmu3oCE5yVA",
          "dtype": "f8"
         },
         "xaxis": "x",
         "y": {
          "bdata": "C0rF62dHEEDK2neIQKoQQDLN5S5x1hBA2g/5lcTYEEDKu8/lO+MQQMIRu4136BBAn9u2uiT/EECav1PVoQIRQOvSKxaKBRFA69IrFooFEUDr0isWigURQDzmA1dyCBFAOlhS5DAKEUDZ8FDzvxERQCoEKTSoFBFAfaWy59EVEUAFQHPuEy0RQPXrST6LNxFAPlUNJ68/EUAZkVfhGlgRQL5FudUsXBFAReB53G5zEUBDUshpLXURQHnZsC+HiRFAZGkkmnuXEUD+5b/Dh6IRQPnJXN4EphFA9jura8OnEUDSd/UlL8ARQL+VGgNlzBFATtrvYWveEUCUtQHYTegRQNBYTYMq+RFAFKathssEEkAM/JguBwoSQKZ4NFgTFRJALhP1XlUsEkAj2y6UTzMSQHd8uEd5NBJAyx1C+6I1EkD03rKDtVISQJ6vd11KUxJAmiHG6ghVEkDuwk+eMlYSQJiTFHjHVhJAmJMUeMdWEkBA1iffGlkSQI5bTq3BXRJAJUo4ZIxqEkBmCef063cSQLqqcKgVeRJAWUNvt6SAEkBPC6nsnocSQI08pgq9lhJAMvEH/86aEkCCBOA/t50SQL+nK+uTrhJAv6cr65OuEkBTCGQvHb0SQJ//2IqCwxJAnHEnGEHFEkDthP9YKcgSQOhonHOmyxJAs1C9fYnuEkB5HHui6RQTQDxah1QIPRNAIs6X2XlOE0AL0FnRLF4TQIrABYCqehNAZ4oBrVeRE0DAKEaj/8cTQDhv3fm46RNACwETXGAHFECc05ktqBcUQAriarlbQBRAsSR+IK9CFEDgAVKORFwUQB4zT6xiaxRAXGRMyoB6FEAoTG3UY50UQGZ9avKBrBRAREdmHy/DFEAhEWJM3NkUQPCGNMkA+xRAh3UegMsHFUDNUDD2rREVQEXsoqf4oBdA6aAEnAqlF0ClNPz1ZNIXQO6dv96I2hdAOZU0Ou7gF0DGS1gms/QXQJxrP/ubEBhAy0gTaTEqGEBq4RF4wDEYQAfsXhQOOxhASZT/OlNLGEDPTRu2yloYQFMHNzFCahhA",
          "dtype": "f8"
         },
         "yaxis": "y"
        },
        {
         "hovertemplate": "<b>%{hovertext}</b><br><br>region=Central and Eastern Europe<br>PKB per capita (log)=%{x}<br>Life Ladder=%{y}<extra></extra>",
         "hovertext": [
          "Albania",
          "Albania",
          "Albania",
          "Albania",
          "Albania",
          "Albania",
          "Albania",
          "Albania",
          "Albania",
          "Albania",
          "Albania",
          "Albania",
          "Albania",
          "Armenia",
          "Armenia",
          "Armenia",
          "Armenia",
          "Armenia",
          "Armenia",
          "Armenia",
          "Armenia",
          "Armenia",
          "Armenia",
          "Armenia",
          "Armenia",
          "Armenia",
          "Armenia",
          "Azerbaijan",
          "Azerbaijan",
          "Azerbaijan",
          "Azerbaijan",
          "Azerbaijan",
          "Azerbaijan",
          "Azerbaijan",
          "Azerbaijan",
          "Azerbaijan",
          "Azerbaijan",
          "Azerbaijan",
          "Azerbaijan",
          "Azerbaijan",
          "Azerbaijan",
          "Belarus",
          "Belarus",
          "Belarus",
          "Belarus",
          "Belarus",
          "Belarus",
          "Belarus",
          "Belarus",
          "Belarus",
          "Belarus",
          "Belarus",
          "Belarus",
          "Belarus",
          "Belarus",
          "Bosnia and Herzegovina",
          "Bosnia and Herzegovina",
          "Bosnia and Herzegovina",
          "Bosnia and Herzegovina",
          "Bosnia and Herzegovina",
          "Bosnia and Herzegovina",
          "Bosnia and Herzegovina",
          "Bosnia and Herzegovina",
          "Bosnia and Herzegovina",
          "Bosnia and Herzegovina",
          "Bosnia and Herzegovina",
          "Bosnia and Herzegovina",
          "Bosnia and Herzegovina",
          "Bulgaria",
          "Bulgaria",
          "Bulgaria",
          "Bulgaria",
          "Bulgaria",
          "Bulgaria",
          "Bulgaria",
          "Bulgaria",
          "Bulgaria",
          "Bulgaria",
          "Bulgaria",
          "Bulgaria",
          "Croatia",
          "Croatia",
          "Croatia",
          "Croatia",
          "Croatia",
          "Croatia",
          "Croatia",
          "Croatia",
          "Croatia",
          "Croatia",
          "Croatia",
          "Croatia",
          "Croatia",
          "Czech Republic",
          "Czech Republic",
          "Czech Republic",
          "Czech Republic",
          "Czech Republic",
          "Czech Republic",
          "Czech Republic",
          "Czech Republic",
          "Czech Republic",
          "Czech Republic",
          "Czech Republic",
          "Czech Republic",
          "Estonia",
          "Estonia",
          "Estonia",
          "Estonia",
          "Estonia",
          "Estonia",
          "Estonia",
          "Estonia",
          "Estonia",
          "Estonia",
          "Estonia",
          "Estonia",
          "Estonia",
          "Estonia",
          "Georgia",
          "Georgia",
          "Georgia",
          "Georgia",
          "Georgia",
          "Georgia",
          "Georgia",
          "Georgia",
          "Georgia",
          "Georgia",
          "Georgia",
          "Georgia",
          "Georgia",
          "Georgia",
          "Georgia",
          "Hungary",
          "Hungary",
          "Hungary",
          "Hungary",
          "Hungary",
          "Hungary",
          "Hungary",
          "Hungary",
          "Hungary",
          "Hungary",
          "Hungary",
          "Hungary",
          "Hungary",
          "Hungary",
          "Kazakhstan",
          "Kazakhstan",
          "Kazakhstan",
          "Kazakhstan",
          "Kazakhstan",
          "Kazakhstan",
          "Kazakhstan",
          "Kazakhstan",
          "Kazakhstan",
          "Kazakhstan",
          "Kazakhstan",
          "Kazakhstan",
          "Kazakhstan",
          "Kazakhstan",
          "Kazakhstan",
          "Kosovo",
          "Kosovo",
          "Kosovo",
          "Kosovo",
          "Kosovo",
          "Kosovo",
          "Kosovo",
          "Kosovo",
          "Kosovo",
          "Kosovo",
          "Kosovo",
          "Kosovo",
          "Kosovo",
          "Kosovo",
          "Kyrgyzstan",
          "Kyrgyzstan",
          "Kyrgyzstan",
          "Kyrgyzstan",
          "Kyrgyzstan",
          "Kyrgyzstan",
          "Kyrgyzstan",
          "Kyrgyzstan",
          "Kyrgyzstan",
          "Kyrgyzstan",
          "Kyrgyzstan",
          "Kyrgyzstan",
          "Kyrgyzstan",
          "Kyrgyzstan",
          "Kyrgyzstan",
          "Latvia",
          "Latvia",
          "Latvia",
          "Latvia",
          "Latvia",
          "Latvia",
          "Latvia",
          "Latvia",
          "Latvia",
          "Latvia",
          "Latvia",
          "Latvia",
          "Latvia",
          "Latvia",
          "Lithuania",
          "Lithuania",
          "Lithuania",
          "Lithuania",
          "Lithuania",
          "Lithuania",
          "Lithuania",
          "Lithuania",
          "Lithuania",
          "Lithuania",
          "Lithuania",
          "Lithuania",
          "Lithuania",
          "Lithuania",
          "Lithuania",
          "Moldova",
          "Moldova",
          "Moldova",
          "Moldova",
          "Moldova",
          "Moldova",
          "Moldova",
          "Moldova",
          "Moldova",
          "Moldova",
          "Moldova",
          "Moldova",
          "Moldova",
          "Moldova",
          "Moldova",
          "Montenegro",
          "Montenegro",
          "Montenegro",
          "Montenegro",
          "Montenegro",
          "Montenegro",
          "Montenegro",
          "Montenegro",
          "Montenegro",
          "Montenegro",
          "Montenegro",
          "Montenegro",
          "Montenegro",
          "North Macedonia",
          "North Macedonia",
          "North Macedonia",
          "North Macedonia",
          "North Macedonia",
          "North Macedonia",
          "North Macedonia",
          "North Macedonia",
          "North Macedonia",
          "North Macedonia",
          "North Macedonia",
          "North Macedonia",
          "North Macedonia",
          "Poland",
          "Poland",
          "Poland",
          "Poland",
          "Poland",
          "Poland",
          "Poland",
          "Poland",
          "Poland",
          "Poland",
          "Poland",
          "Poland",
          "Poland",
          "Poland",
          "Romania",
          "Romania",
          "Romania",
          "Romania",
          "Romania",
          "Romania",
          "Romania",
          "Romania",
          "Romania",
          "Romania",
          "Romania",
          "Romania",
          "Romania",
          "Russia",
          "Russia",
          "Russia",
          "Russia",
          "Russia",
          "Russia",
          "Russia",
          "Russia",
          "Russia",
          "Russia",
          "Russia",
          "Russia",
          "Russia",
          "Russia",
          "Russia",
          "Serbia",
          "Serbia",
          "Serbia",
          "Serbia",
          "Serbia",
          "Serbia",
          "Serbia",
          "Serbia",
          "Serbia",
          "Serbia",
          "Serbia",
          "Serbia",
          "Serbia",
          "Slovakia",
          "Slovakia",
          "Slovakia",
          "Slovakia",
          "Slovakia",
          "Slovakia",
          "Slovakia",
          "Slovakia",
          "Slovakia",
          "Slovakia",
          "Slovakia",
          "Slovakia",
          "Slovenia",
          "Slovenia",
          "Slovenia",
          "Slovenia",
          "Slovenia",
          "Slovenia",
          "Slovenia",
          "Slovenia",
          "Slovenia",
          "Slovenia",
          "Slovenia",
          "Slovenia",
          "Slovenia",
          "Tajikistan",
          "Tajikistan",
          "Tajikistan",
          "Tajikistan",
          "Tajikistan",
          "Tajikistan",
          "Tajikistan",
          "Tajikistan",
          "Tajikistan",
          "Tajikistan",
          "Tajikistan",
          "Tajikistan",
          "Tajikistan",
          "Tajikistan",
          "Tajikistan",
          "Turkmenistan",
          "Turkmenistan",
          "Turkmenistan",
          "Turkmenistan",
          "Turkmenistan",
          "Turkmenistan",
          "Turkmenistan",
          "Turkmenistan",
          "Turkmenistan",
          "Turkmenistan",
          "Ukraine",
          "Ukraine",
          "Ukraine",
          "Ukraine",
          "Ukraine",
          "Ukraine",
          "Ukraine",
          "Ukraine",
          "Ukraine",
          "Ukraine",
          "Ukraine",
          "Ukraine",
          "Ukraine",
          "Ukraine",
          "Ukraine",
          "Uzbekistan",
          "Uzbekistan",
          "Uzbekistan",
          "Uzbekistan",
          "Uzbekistan",
          "Uzbekistan",
          "Uzbekistan",
          "Uzbekistan",
          "Uzbekistan",
          "Uzbekistan",
          "Uzbekistan",
          "Uzbekistan",
          "Uzbekistan"
         ],
         "legendgroup": "Central and Eastern Europe",
         "marker": {
          "color": "#ffe066",
          "symbol": "circle"
         },
         "mode": "markers",
         "name": "Central and Eastern Europe",
         "showlegend": true,
         "type": "scattergl",
         "x": {
          "bdata": "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",
          "dtype": "f8"
         },
         "xaxis": "x",
         "y": {
          "bdata": "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",
          "dtype": "f8"
         },
         "yaxis": "y"
        },
        {
         "hovertemplate": "<b>OLS trendline</b><br>life_ladder = 0.431805 * gdp_per_capita + 1.21511<br>R<sup>2</sup>=0.188225<br><br>region=Central and Eastern Europe<br>PKB per capita (log)=%{x}<br>Life Ladder=%{y} <b>(trend)</b><extra></extra>",
         "legendgroup": "Central and Eastern Europe",
         "marker": {
          "color": "#ffe066",
          "symbol": "circle"
         },
         "mode": "lines",
         "name": "Central and Eastern Europe",
         "showlegend": false,
         "type": "scattergl",
         "x": {
          "bdata": "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",
          "dtype": "f8"
         },
         "xaxis": "x",
         "y": {
          "bdata": "N5T/XmroEUC+GmobvAASQPhBzQl/GRJA4O1PWwMhEkCYqiFcJDMSQOtsuOzOSBJAPi9PfXleEkCQ8eUNJHQSQEiutw5FhhJAGga9sU2VEkCFY4fk36cSQNglHnWKvRJAqsTZC//QEkAQBstv4dESQOKkhgZW5RJANq7Timz/EkDQs5ga9gITQFiBucqzHxNAFBOuphg/E0AUE66mGD8TQBZaZJqEQxNASh44xitGE0Cxpt8deksTQJpSYm/+UhNA0KSign1eE0CIYXSDnnATQFbkVktjchNA2E7oOAV5E0DA+mqKiYATQPUF9amchxNA3GrBB7WKE0D2TKudCIwTQBK9ARs0lhNA+miEbLidE0DizVDK0KATQMt50xtVqBNAz5Ws6gS6E0A8Oi0RA9ETQMPAl81U6RNALh5iAOf7E0BkcKITZgcUQJwJmRpRFxRAIAKX78omFECqFm6T9EcUQEQcMyN+SxRArjJHYqRZFEDKW+frY18UQOQ90YG3YBRAZGGse+1iFEAy5I5DsmQUQLJOIDFUaxRANgBoEmJ2FEDr5xY4P3sUQJ6ID2qwexRA7C7NK6t/FEAHWG21aoUUQFZF4WrRjRRApjJVIDiWFEDa9ihM35gUQNr2KEzfmBRAQDgasMGZFEBaGgRGFZsUQA67/HeGmxRAdEOkz9SgFEBcqHAt7aMUQJBsRFmUphRA9q01vXanFEAtAHbQ9bIUQOHnJPbStxRAlYgdKES4FECViB0oRLgUQJWIHShEuBRA+8kOjCa5FECWz9MbsLwUQM5oyiKbzBRA6JFqrFrSFEBqtUWmkNQUQISXLzzk1RRAavz7mfzYFECewM/Fo9sUQJ7Az8Wj2xRAUmHI9xTcFEAf5Kq/2d0UQIYlnCO83hRAICths0XiFEBvGNVorOoUQG8Y1Wis6hRAPZu3MHHsFEBXfaHGxO0UQCQAhI6J7xRApCNfiL/xFEAmjvB1YfgUQPMQ0z0m+hRAp7HLb5f6FECnsctvl/oUQFpSxKEI+xRAWlLEoQj7FEAN87zTefsUQI4WmM2v/RRAqPiBYwP/FEAoHF1dOQEVQNy8VY+qARVAXeAwieADFUB98TgJkwQVQJGkBLWHBhVAXifnfEwIFUD5LKwM1gsVQBMPlqIpDRVA4JF4au4OFUBH02nO0A8VQK0UWzKzEBVArRRbMrMQFUB6lz36dxIVQK+ixxmLGRVAY0PAS/wZFUD9SIXbhR0VQBcrb3HZHhVAfmxg1bsfFUBL70KdgCEVQGXRLDPUIhVAf7MWySckFUAyVA/7mCQVQOb0By0KJRVA/9bxwl0mFUCA+sy8kygVQDObxe4EKRVA5zu+IHYpFUC0vqDoOisVQAJlXqo1LxVANiky1twxFUDpySoITjIVQJxqIzq/MhVAtkwN0BI0FUAdjv4z9TQVQNAu92VmNRVAUVLSX5w3FUC4k8PDfjgVQNJ1rVnSORVAhRami0M6FUDtnk3jkT8VQKE/RhUDQBVAiKQScxtDFUA7RQuljEMVQFUn9TrgRBVAcFCVxJ9KFUDXkYYogksVQD3Td4xkTBVA8XNwvtVMFUDxc3C+1UwVQL72UoaaThVAvz0JegZTFUC/PQl6BlMVQCZ/+t3oUxVAWUPOCZBWFUAN5MY7AVcVQCfGsNFUWBVAp+mLy4paFUDbrV/3MV0VQA9yMyPZXxVAwhIsVUpgFUApVB25LGEVQNz0FeudYRVA9tb/gPFiFUCqd/iyYmMVQKp3+LJiYxVA3TvM3glmFUCR3MQQe2YVQJHcxBB7ZhVAkdzEEHtmFUCrvq6mzmcVQHhBkW6TaRVAxudOMI5tFUDiEO+5TXMVQOIQ77lNcxVAlbHn675zFUBIUuAdMHQVQEhS4B0wdBVAr5PRgRJ1FUB8FrRJ13YVQEqZlhGceBVAS+BMBQh9FUD/x/sq5YEVQGYJ7Y7HghVAs6+qUMKGFUBnUKOCM4cVQBrxm7SkhxVAUEPcxyOTFUBQQ9zHI5MVQB3Gvo/olBVABSuL7QCYFUBrbHxR45gVQIVOZuc2mhVAuRI6E96cFUAim+FqLKIVQIjc0s4OoxVA7x3EMvGjFUA9xIH066cVQD3EgfTrpxVApAVzWM6oFUD0OZ0BobUVQA0ch5f0thVAdF14+9a3FUDbnmlfubgVQPWAU/UMuhVAXAn7TFu/FUAR8alyOMQVQBHxqXI4xBVA+FV20FDHFUBG/DOSS8sVQEb8M5JLyxVAE38WWhDNFUB6wAe+8s0VQOAB+SHVzhVAlKLxU0bPFUBHQ+qFt88VQPrj4rco0BVAfU50pcrWFUAXVDk1VNoVQMv0MWfF2hVAy/QxZ8XaFUCyWf7E3d0VQMw76Fox3xVAs6C0uEniFUCAI5eADuQVQBxwEgQE7BVAnJPt/TnuFUBQNOYvq+4VQAPV3mEc7xVA6jmrvzTyFUAe/n7r2/QVQKBoENl9+xVABqoBPWD8FUAi06HGHwIWQFWXdfLGBBZAiltJHm4HFkCKW0kebgcWQNgBB+BoCxZADQ2R/3sSFkDaj3PHQBQWQI4wbPmxFBZADlRH8+cWFkAoNjGJOxgWQENf0RL7HRZAQ1/REvsdFkB3I6U+oiAWQF6IcZy6IxZAeGpbMg4lFkATcCDClygWQOE5uX3ILhZAlNqxrzkvFkD7G6MTHDAWQEnCYNUWNBZAY6RKa2o1FkDJ5TvPTDYWQH2GNAG+NhZAfYY0Ab42FkCXaB6XETgWQOdVkkx4QBZAADh84stBFkAAOHziy0EWQGd5bUauQhZAZ3ltRq5CFkACfzLWN0YWQLUfKwipRhZAHGEcbItHFkAcYRxsi0cWQIKiDdBtSBZATyXwlzJKFkBPJfCXMkoWQB2o0l/3SxZAg+nDw9lMFkA3irz1Sk0WQFFspoueThZAak6QIfJPFkBqTpAh8k8WQNGPgYXUUBZAONFy6bZRFkAFVFWxe1MWQNLWN3lAVRZAhncwq7FVFkBT+hJzdlcWQCB99To7WRZAh77mnh1aFkDt/9cCAFsWQLqCusrEXBZAIcSrLqddFkDUZKRgGF4WQNRkpGAYXhZAoueGKN1fFkBvamnwoWEWQG9qafChYRZA1qtaVIRiFkA87Uu4ZmMWQO+NROrXYxZA741E6tdjFkDvjUTq12MWQL0QJ7KcZRZAC7fkc5dpFkALt+Rzl2kWQL5X3aUIahZAcfjV13lqFkDYOcc7XGsWQNg5xztcaxZA2DnHO1xrFkCL2r9tzWsWQPIbsdGvbBZAWV2iNZJtFkD0YmfFG3EWQA5FUVtvchZAweVJjeByFkAoJzvxwnMWQPWpHbmHdRZAXOsOHWp2FkDcDuoWoHgWQI+v4kgReRZA9vDTrPN5FkAqtafYmnwWQF55ewRCfxZAXnl7BEJ/FkDEumxoJIAWQEXeR2JaghZARd5HYlqCFkDGASNckIQWQHmiG44BhRZALYrKs96JFkB7MIh12Y0WQEizaj2ejxZASLNqPZ6PFkCWWSj/mJMWQEn6IDEKlBZAsDsSleyUFkDKHfwqQJYWQOT/5cCTlxZAsYLIiFiZFkAZC3Dgpp4WQGexLaKhohZAzvIeBoSjFkBPFvr/uaUWQAK38jErphZAtVfrY5ymFkDpG7+PQ6kWQOkbv49DqRZAnby3wbSpFkC3nqFXCKsWQIQhhB/NrBZAhWg6EzmxFkBszQZxUbQWQCBu/6LCtBZAOlDpOBa2FkA6UOk4FrYWQO3w4WqHthZAB9PLANu3FkCH9qb6ELoWQKHYkJBkuxZAVXmJwtW7FkDwxQRGy8MWQHHp3z8BxhZA1yrRo+PGFkCLy8nVVMcWQPEMuzk3yBZAP7N4+zHMFkDauD2Lu88WQKc7IFOA0RZAWtwYhfHRFkDb//N+J9QWQKiC1kbs1RZAwmTA3D/XFkApprFAItgWQBELfp462xZAEQt+njrbFkDEq3bQq9sWQPhvSvxS3hZA+G9K/FLeFkASUjSSpt8WQBJSNJKm3xZA39QWWmvhFkBGFgi+TeIWQKxX+SEw4xZA+v224yrnFkAVJ1dt6uwWQOKpOTWv7hZAMFD39qnyFkCXkehajPMWQGQUyyJR9RZAAGFGpkb9FkCaZgs20AAXQBuK5i8GAxdAgcvXk+gDF0BpMKTxAAcXQGkwpPEABxdA0bhLSU8MF0AGxNVoYhMXQG5MfcCwGBdA729YuuYaF0Dx/cShviMXQA==",
          "dtype": "f8"
         },
         "yaxis": "y"
        },
        {
         "hovertemplate": "<b>%{hovertext}</b><br><br>region=Middle East and Northern Africa<br>PKB per capita (log)=%{x}<br>Life Ladder=%{y}<extra></extra>",
         "hovertext": [
          "Algeria",
          "Algeria",
          "Algeria",
          "Algeria",
          "Algeria",
          "Algeria",
          "Algeria",
          "Algeria",
          "Bahrain",
          "Bahrain",
          "Bahrain",
          "Bahrain",
          "Bahrain",
          "Bahrain",
          "Bahrain",
          "Bahrain",
          "Bahrain",
          "Bahrain",
          "Bahrain",
          "Egypt",
          "Egypt",
          "Egypt",
          "Egypt",
          "Egypt",
          "Egypt",
          "Egypt",
          "Egypt",
          "Egypt",
          "Egypt",
          "Egypt",
          "Egypt",
          "Egypt",
          "Egypt",
          "Egypt",
          "Iran",
          "Iran",
          "Iran",
          "Iran",
          "Iran",
          "Iran",
          "Iran",
          "Iran",
          "Iran",
          "Iran",
          "Iran",
          "Iran",
          "Iran",
          "Iraq",
          "Iraq",
          "Iraq",
          "Iraq",
          "Iraq",
          "Iraq",
          "Iraq",
          "Iraq",
          "Iraq",
          "Iraq",
          "Iraq",
          "Iraq",
          "Israel",
          "Israel",
          "Israel",
          "Israel",
          "Israel",
          "Israel",
          "Israel",
          "Israel",
          "Israel",
          "Israel",
          "Israel",
          "Israel",
          "Israel",
          "Israel",
          "Israel",
          "Jordan",
          "Jordan",
          "Jordan",
          "Jordan",
          "Jordan",
          "Jordan",
          "Jordan",
          "Jordan",
          "Jordan",
          "Jordan",
          "Jordan",
          "Jordan",
          "Jordan",
          "Jordan",
          "Jordan",
          "Kuwait",
          "Kuwait",
          "Kuwait",
          "Kuwait",
          "Kuwait",
          "Kuwait",
          "Kuwait",
          "Kuwait",
          "Kuwait",
          "Kuwait",
          "Kuwait",
          "Lebanon",
          "Lebanon",
          "Lebanon",
          "Lebanon",
          "Lebanon",
          "Lebanon",
          "Lebanon",
          "Lebanon",
          "Lebanon",
          "Lebanon",
          "Lebanon",
          "Lebanon",
          "Lebanon",
          "Lebanon",
          "Libya",
          "Libya",
          "Libya",
          "Libya",
          "Libya",
          "Libya",
          "Morocco",
          "Morocco",
          "Morocco",
          "Morocco",
          "Morocco",
          "Morocco",
          "Morocco",
          "Morocco",
          "Morocco",
          "Morocco",
          "Oman",
          "Palestinian Territories",
          "Palestinian Territories",
          "Palestinian Territories",
          "Palestinian Territories",
          "Palestinian Territories",
          "Palestinian Territories",
          "Palestinian Territories",
          "Palestinian Territories",
          "Palestinian Territories",
          "Palestinian Territories",
          "Palestinian Territories",
          "Palestinian Territories",
          "Palestinian Territories",
          "Palestinian Territories",
          "Qatar",
          "Qatar",
          "Qatar",
          "Qatar",
          "Qatar",
          "Saudi Arabia",
          "Saudi Arabia",
          "Saudi Arabia",
          "Saudi Arabia",
          "Saudi Arabia",
          "Saudi Arabia",
          "Saudi Arabia",
          "Saudi Arabia",
          "Saudi Arabia",
          "Saudi Arabia",
          "Saudi Arabia",
          "Saudi Arabia",
          "Saudi Arabia",
          "Saudi Arabia",
          "Saudi Arabia",
          "Syria",
          "Syria",
          "Syria",
          "Syria",
          "Syria",
          "Syria",
          "Syria",
          "Tunisia",
          "Tunisia",
          "Tunisia",
          "Tunisia",
          "Tunisia",
          "Tunisia",
          "Tunisia",
          "Tunisia",
          "Tunisia",
          "Tunisia",
          "Tunisia",
          "Tunisia",
          "Turkey",
          "Turkey",
          "Turkey",
          "Turkey",
          "Turkey",
          "Turkey",
          "Turkey",
          "Turkey",
          "Turkey",
          "Turkey",
          "Turkey",
          "Turkey",
          "Turkey",
          "Turkey",
          "Turkey",
          "United Arab Emirates",
          "United Arab Emirates",
          "United Arab Emirates",
          "United Arab Emirates",
          "United Arab Emirates",
          "United Arab Emirates",
          "United Arab Emirates",
          "United Arab Emirates",
          "United Arab Emirates",
          "United Arab Emirates",
          "United Arab Emirates",
          "United Arab Emirates",
          "United Arab Emirates",
          "Yemen",
          "Yemen",
          "Yemen",
          "Yemen",
          "Yemen",
          "Yemen",
          "Yemen",
          "Yemen",
          "Yemen",
          "Yemen",
          "Yemen",
          "Yemen"
         ],
         "legendgroup": "Middle East and Northern Africa",
         "marker": {
          "color": "#ffc14d",
          "symbol": "circle"
         },
         "mode": "markers",
         "name": "Middle East and Northern Africa",
         "showlegend": true,
         "type": "scattergl",
         "x": {
          "bdata": "bef7qfGSIkDy0k1iEJgiQKwcWmQ7nyJA7FG4HoWrIkDTTWIQWLkiQGiR7Xw/tSJAGQRWDi2yIkAGgZVDi6wiQF66SQwCayVAtvP91HhpJUAxCKwcWmQlQDvfT42XbiVA3SQGgZWDJUA3iUFg5ZAlQFK4HoXrkSVAHVpkO9+PJUCYbhKDwIolQK5H4XoUbiVAPQrXo3A9JUDfT42XbhIiQIXrUbgeRSJArBxaZDtfIkCTGARWDm0iQLByaJHtfCJAexSuR+F6IkB7FK5H4XoiQO58PzVeeiJAPQrXo3B9IkDVeOkmMYgiQG3n+6nxkiJAd76fGi+dIkCTGARWDq0iQOXQItv5viJAarx0kxjEIkDwp8ZLN8kiQFg5tMh2/iJA7nw/NV76IkDy0k1iEBgjQNEi2/l+6iJAiUFg5dDiIkDByqFFtvMiQNnO91Pj5SJArBxaZDsfI0BeukkMAisjQNoeum64EyNA/avJccAXI0AeOdl0yBsjQMdLN4lBICJA9P3UeOkmIkDTTWIQWDkiQOf7qfHSTSJAy6FFtvN9IkCPwvUoXI8iQAAAAAAAgCJACKwcWmR7IkBoke18P7UiQEJg5dAimyJAPzVeukmMIkAv3SQGgVUiQLpJDAIrxyRAQmDl0CLbJEDhehSuR+EkQJqZmZmZ2SRAeekmMQjsJEDufD81XvokQCPb+X5q/CRASOF6FK4HJUA3iUFg5RAlQN9PjZduEiVAXI/C9SgcJUCkcD0K1yMlQOxRuB6FKyVAwcqhRbYzJUD6fmq8dBMlQMuhRbbzfSJAMQisHFqkIkBWDi2yna8iQIts5/upsSJA/Knx0k2iIkCHFtnO95MiQBKDwMqhhSJA001iEFh5IkCLbOf7qXEiQESLbOf7aSJAvp8aL91kIkAX2c73U2MiQDEIrBxaZCJA9P3UeOlmIkDNzMzMzEwiQNv5fmq8dCZA4XoUrkchJkAQWDm0yPYlQGIQWDm0CCZAzczMzMwMJkC4HoXrUfglQKRwPQrX4yVAbef7qfHSJUBSuB6F69ElQAaBlUOLrCVA/Knx0k2iJUDhehSuRyEjQIlBYOXQIiNAI9v5fmp8I0ApXI/C9agjQKjGSzeJwSNAkxgEVg6tI0CamZmZmZkjQCUGgZVDiyNA7nw/NV56I0DZzvdT42UjQDm0yHa+XyNA6SYxCKxcI0AdWmQ7308jQIts5/upMSNAyXa+nxqvI0AEVg4tsp0iQPCnxks3iSJACKwcWmT7IkCWQ4ts5zsjQBsv3SQGQSNAy6FFtvN9IUA3iUFg5ZAhQAwCK4cWmSFAnMQgsHKoIUBYObTIdr4hQLByaJHtvCFAsp3vp8bLIUCHFtnO99MhQJqZmZmZ2SFAy6FFtvO9IUDdJAaBlcMkQJMYBFYObSBAVg4tsp1vIEBaZDvfT40gQJzEILByqCBAarx0kxjEIECmm8QgsPIgQB1aZDvfDyFA7nw/NV76IEBEi2zn++kgQPYoXI/C9SBA5dAi2/n+IEC4HoXrUfggQCABRnjGKiFA+I09MgQ5IUC28/3UeOkmQArXo3A9CidAQmDl0CIbJ0Cyne+nxgsnQEa28/3U+CZA2c73U+NlJUBU46WbxGAlQIts5/upcSVAf2q8dJNYJUCJQWDl0GIlQGq8dJMYhCVAAiuHFtmOJUBaZDvfT40lQDeJQWDlkCVAf2q8dJOYJUAv3SQGgZUlQLpJDAIrhyVAmG4Sg8CKJUDdJAaBlYMlQPT91HjpZiVA5/up8dJNIUACK4cW2U4hQGiR7Xw/dSFATmIQWDl0IUDHSzeJQSAhQJhuEoPAyiBA/Knx0k3iIEC+nxov3WQiQIts5/upcSJA/Knx0k1iIkCLbOf7qXEiQHsUrkfheiJAhetRuB6FIkASg8DKoYUiQKAaL90khiJAfT81XrqJIkDFILByaJEiQDeJQWDlkCJAg8DKoUV2IkCR7Xw/NZ4jQHWTGARWziNAPzVeuknMI0CTGARWDq0jQB1aZDvfzyNAy6FFtvP9I0BaZDvfTw0kQDvfT42XLiRAc2iR7Xw/JECiRbbz/VQkQOkmMQisXCRAYOXQItt5JECNl24Sg4AkQMuhRbbzfSRA46WbxCBwJECWQ4ts57smQDMzMzMz8yVAhxbZzvfTJUAfhetRuN4lQNEi2/l+6iVAjZduEoMAJkCiRbbz/RQmQHnpJjEILCZA9ihcj8I1JkB7FK5H4TomQNNNYhBYOSZA7nw/NV46JkBCYOXQIhsmQCGwcmiRbSBAdZMYBFaOIEAOLbKd7+cgQHnpJjEIrCBARrbz/dR4IECWQ4ts53sgQJZDi2znOyBAO99PjZduH0Bcj8L1KNweQB1aZDvfTx5A4CMqbdXFHkAgmCsB9HoeQA==",
          "dtype": "f8"
         },
         "xaxis": "x",
         "y": {
          "bdata": "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",
          "dtype": "f8"
         },
         "yaxis": "y"
        },
        {
         "hovertemplate": "<b>OLS trendline</b><br>life_ladder = 0.910869 * gdp_per_capita + -3.45053<br>R<sup>2</sup>=0.673178<br><br>region=Middle East and Northern Africa<br>PKB per capita (log)=%{x}<br>Life Ladder=%{y} <b>(trend)</b><extra></extra>",
         "legendgroup": "Middle East and Northern Africa",
         "marker": {
          "color": "#ffc14d",
          "symbol": "circle"
         },
         "mode": "lines",
         "name": "Middle East and Northern Africa",
         "showlegend": false,
         "type": "scattergl",
         "x": {
          "bdata": "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",
          "dtype": "f8"
         },
         "xaxis": "x",
         "y": {
          "bdata": "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",
          "dtype": "f8"
         },
         "yaxis": "y"
        },
        {
         "hovertemplate": "<b>%{hovertext}</b><br><br>region=Sub-Saharan Africa<br>PKB per capita (log)=%{x}<br>Life Ladder=%{y}<extra></extra>",
         "hovertext": [
          "Angola",
          "Angola",
          "Angola",
          "Angola",
          "Benin",
          "Benin",
          "Benin",
          "Benin",
          "Benin",
          "Benin",
          "Benin",
          "Benin",
          "Benin",
          "Benin",
          "Benin",
          "Benin",
          "Botswana",
          "Botswana",
          "Botswana",
          "Botswana",
          "Botswana",
          "Botswana",
          "Botswana",
          "Botswana",
          "Botswana",
          "Botswana",
          "Botswana",
          "Botswana",
          "Burkina Faso",
          "Burkina Faso",
          "Burkina Faso",
          "Burkina Faso",
          "Burkina Faso",
          "Burkina Faso",
          "Burkina Faso",
          "Burkina Faso",
          "Burkina Faso",
          "Burkina Faso",
          "Burkina Faso",
          "Burkina Faso",
          "Burkina Faso",
          "Burundi",
          "Burundi",
          "Burundi",
          "Burundi",
          "Burundi",
          "Cameroon",
          "Cameroon",
          "Cameroon",
          "Cameroon",
          "Cameroon",
          "Cameroon",
          "Cameroon",
          "Cameroon",
          "Cameroon",
          "Cameroon",
          "Cameroon",
          "Cameroon",
          "Cameroon",
          "Cameroon",
          "Cameroon",
          "Central African Republic",
          "Central African Republic",
          "Central African Republic",
          "Central African Republic",
          "Central African Republic",
          "Chad",
          "Chad",
          "Chad",
          "Chad",
          "Chad",
          "Chad",
          "Chad",
          "Chad",
          "Chad",
          "Chad",
          "Chad",
          "Chad",
          "Chad",
          "Chad",
          "Comoros",
          "Comoros",
          "Comoros",
          "Comoros",
          "Comoros",
          "Comoros",
          "Congo (Brazzaville)",
          "Congo (Brazzaville)",
          "Congo (Brazzaville)",
          "Congo (Brazzaville)",
          "Congo (Brazzaville)",
          "Congo (Brazzaville)",
          "Congo (Brazzaville)",
          "Congo (Brazzaville)",
          "Congo (Brazzaville)",
          "Congo (Brazzaville)",
          "Congo (Kinshasa)",
          "Congo (Kinshasa)",
          "Congo (Kinshasa)",
          "Congo (Kinshasa)",
          "Congo (Kinshasa)",
          "Congo (Kinshasa)",
          "Congo (Kinshasa)",
          "Congo (Kinshasa)",
          "Djibouti",
          "Djibouti",
          "Djibouti",
          "Djibouti",
          "Ethiopia",
          "Ethiopia",
          "Ethiopia",
          "Ethiopia",
          "Ethiopia",
          "Ethiopia",
          "Ethiopia",
          "Ethiopia",
          "Ethiopia",
          "Gabon",
          "Gabon",
          "Gabon",
          "Gabon",
          "Gabon",
          "Gabon",
          "Gabon",
          "Gabon",
          "Gabon",
          "Gambia",
          "Gambia",
          "Gambia",
          "Ghana",
          "Ghana",
          "Ghana",
          "Ghana",
          "Ghana",
          "Ghana",
          "Ghana",
          "Ghana",
          "Ghana",
          "Ghana",
          "Ghana",
          "Ghana",
          "Ghana",
          "Ghana",
          "Ghana",
          "Guinea",
          "Guinea",
          "Guinea",
          "Guinea",
          "Guinea",
          "Guinea",
          "Guinea",
          "Guinea",
          "Guinea",
          "Ivory Coast",
          "Ivory Coast",
          "Ivory Coast",
          "Ivory Coast",
          "Ivory Coast",
          "Ivory Coast",
          "Ivory Coast",
          "Ivory Coast",
          "Ivory Coast",
          "Kenya",
          "Kenya",
          "Kenya",
          "Kenya",
          "Kenya",
          "Kenya",
          "Kenya",
          "Kenya",
          "Kenya",
          "Kenya",
          "Kenya",
          "Kenya",
          "Kenya",
          "Kenya",
          "Kenya",
          "Lesotho",
          "Lesotho",
          "Lesotho",
          "Lesotho",
          "Liberia",
          "Liberia",
          "Liberia",
          "Liberia",
          "Liberia",
          "Liberia",
          "Liberia",
          "Liberia",
          "Liberia",
          "Madagascar",
          "Madagascar",
          "Madagascar",
          "Madagascar",
          "Madagascar",
          "Madagascar",
          "Madagascar",
          "Madagascar",
          "Madagascar",
          "Madagascar",
          "Madagascar",
          "Malawi",
          "Malawi",
          "Malawi",
          "Malawi",
          "Malawi",
          "Malawi",
          "Malawi",
          "Malawi",
          "Malawi",
          "Malawi",
          "Malawi",
          "Malawi",
          "Mali",
          "Mali",
          "Mali",
          "Mali",
          "Mali",
          "Mali",
          "Mali",
          "Mali",
          "Mali",
          "Mali",
          "Mali",
          "Mali",
          "Mali",
          "Mauritania",
          "Mauritania",
          "Mauritania",
          "Mauritania",
          "Mauritania",
          "Mauritania",
          "Mauritania",
          "Mauritania",
          "Mauritania",
          "Mauritania",
          "Mauritania",
          "Mauritania",
          "Mauritania",
          "Mauritius",
          "Mauritius",
          "Mauritius",
          "Mauritius",
          "Mauritius",
          "Mauritius",
          "Mauritius",
          "Mozambique",
          "Mozambique",
          "Mozambique",
          "Mozambique",
          "Mozambique",
          "Mozambique",
          "Mozambique",
          "Mozambique",
          "Namibia",
          "Namibia",
          "Namibia",
          "Namibia",
          "Namibia",
          "Namibia",
          "Niger",
          "Niger",
          "Niger",
          "Niger",
          "Niger",
          "Niger",
          "Niger",
          "Niger",
          "Niger",
          "Niger",
          "Niger",
          "Niger",
          "Niger",
          "Niger",
          "Nigeria",
          "Nigeria",
          "Nigeria",
          "Nigeria",
          "Nigeria",
          "Nigeria",
          "Nigeria",
          "Nigeria",
          "Nigeria",
          "Nigeria",
          "Nigeria",
          "Nigeria",
          "Nigeria",
          "Rwanda",
          "Rwanda",
          "Rwanda",
          "Rwanda",
          "Rwanda",
          "Rwanda",
          "Rwanda",
          "Rwanda",
          "Rwanda",
          "Rwanda",
          "Rwanda",
          "Rwanda",
          "Senegal",
          "Senegal",
          "Senegal",
          "Senegal",
          "Senegal",
          "Senegal",
          "Senegal",
          "Senegal",
          "Senegal",
          "Senegal",
          "Senegal",
          "Senegal",
          "Senegal",
          "Senegal",
          "Sierra Leone",
          "Sierra Leone",
          "Sierra Leone",
          "Sierra Leone",
          "Sierra Leone",
          "Sierra Leone",
          "Sierra Leone",
          "Sierra Leone",
          "Sierra Leone",
          "Sierra Leone",
          "Sierra Leone",
          "Sierra Leone",
          "Somalia",
          "Somalia",
          "Somalia",
          "Somaliland region",
          "Somaliland region",
          "Somaliland region",
          "Somaliland region",
          "South Africa",
          "South Africa",
          "South Africa",
          "South Africa",
          "South Africa",
          "South Africa",
          "South Africa",
          "South Africa",
          "South Africa",
          "South Africa",
          "South Africa",
          "South Africa",
          "South Africa",
          "South Africa",
          "South Africa",
          "South Sudan",
          "South Sudan",
          "South Sudan",
          "South Sudan",
          "Sudan",
          "Sudan",
          "Sudan",
          "Sudan",
          "Sudan",
          "Swaziland",
          "Swaziland",
          "Swaziland",
          "Tanzania",
          "Tanzania",
          "Tanzania",
          "Tanzania",
          "Tanzania",
          "Tanzania",
          "Tanzania",
          "Tanzania",
          "Tanzania",
          "Tanzania",
          "Tanzania",
          "Tanzania",
          "Tanzania",
          "Tanzania",
          "Tanzania",
          "Togo",
          "Togo",
          "Togo",
          "Togo",
          "Togo",
          "Togo",
          "Togo",
          "Togo",
          "Togo",
          "Uganda",
          "Uganda",
          "Uganda",
          "Uganda",
          "Uganda",
          "Uganda",
          "Uganda",
          "Uganda",
          "Uganda",
          "Uganda",
          "Uganda",
          "Uganda",
          "Uganda",
          "Uganda",
          "Uganda",
          "Zambia",
          "Zambia",
          "Zambia",
          "Zambia",
          "Zambia",
          "Zambia",
          "Zambia",
          "Zambia",
          "Zambia",
          "Zambia",
          "Zambia",
          "Zambia",
          "Zambia",
          "Zambia",
          "Zimbabwe",
          "Zimbabwe",
          "Zimbabwe",
          "Zimbabwe",
          "Zimbabwe",
          "Zimbabwe",
          "Zimbabwe",
          "Zimbabwe",
          "Zimbabwe",
          "Zimbabwe",
          "Zimbabwe",
          "Zimbabwe",
          "Zimbabwe",
          "Zimbabwe",
          "Zimbabwe"
         ],
         "legendgroup": "Sub-Saharan Africa",
         "marker": {
          "color": "#ff9933",
          "symbol": "circle"
         },
         "mode": "markers",
         "name": "Sub-Saharan Africa",
         "showlegend": true,
         "type": "scattergl",
         "x": {
          "bdata": "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",
          "dtype": "f8"
         },
         "xaxis": "x",
         "y": {
          "bdata": "QmDl0CJbFkBxPQrXo3ARQOXQItv5fg9AXI/C9ShcDkCkcD0K16MKQLx0kxgEVg1A9ihcj8L1DkAlBoGVQ4sJQKJFtvP91AtALbKd76fGCkAAAAAAAAANQLpJDAIrBxBAtvP91HhpE0BI4XoUrkcXQIGVQ4ts5xNAbxKDwMqhEUDb+X5qvPQSQOf7qfHSzRVABoGVQ4tsDEApXI/C9SgMQPLSTWIQWBNAUI2XbhKDEEA5tMh2vh8QQH9qvHSTGA5Ay6FFtvP9C0AK16NwPQoMQOOlm8QgsAtA+FPjpZvEC0CcxCCwcmgOQMUgsHJoERBA+FPjpZvEDkC+nxov3SQQQKRwPQrXIxNApHA9CtejD0DP91PjpZsKQAwCK4cW2QtAkxgEVg6tEUBt5/up8dIQQEoMAiuHlhJAaJHtfD+1E0AQWDm0yPYSQBsv3SQGgQxAvHSTGARWDkDZzvdT46UNQD0K16NwPQdAMzMzMzMzDkACK4cW2c4OQGZmZmZmZhFAXrpJDAIrEUAQWDm0yPYSQJ7vp8ZLNxJAI9v5fmq8EUB7FK5H4foQQC/dJAaBFRFA9ihcj8L1EED0/dR46SYUQN0kBoGVQxNAsp3vp8ZLFEAbL90kBgEVQHNoke18vxNAEFg5tMj2FECkcD0K16MQQCUGgZVDiwxABoGVQ4tsDUAlBoGVQ4sFQAIrhxbZzgtAexSuR+F6C0Cq8dJNYpAQQLpJDAIrhxJA6SYxCKwcDUCLbOf7qfENQN9PjZdukhFAbxKDwMohEECq8dJNYhAMQK5H4XoUrgtAmG4Sg8BKEUAEVg4tsh0QQCPb+X5qPBJAi2zn+6nxEUAbL90kBgERQAIrhxbZzgtA5dAi2/l+DkBOYhBYObQOQNnO91PjpQ9AYhBYObTID0BWDi2ynW8SQI/C9Shcjw5ACtejcD0KEkAnMQisHFoPQKRwPQrXow9A001iEFg5EEDdJAaBlcMSQGDl0CLbeRBA8KfGSzeJE0D2KFyPwvUVQCcxCKwc2hRArBxaZDvfD0DFILByaBESQHWTGARWjhJAsHJoke38EUAOLbKd76cRQNNNYhBYOQ9ASgwCK4cWEkBYObTIdj4RQPCnxks3CRRAObTIdr6fE0CgGi/dJAYUQGDl0CLbeRFAWDm0yHY+EkBI4XoUrscRQLpJDAIrBxJAmG4Sg8BKEkD+1HjpJjERQLgehetRuBBAarx0kxiEEUBmZmZmZmYQQBkEVg4tMhJAhetRuB4FEUAtsp3vp8YPQGZmZmZmZg5A8tJNYhBYD0C+nxov3aQSQIcW2c73UxNAVOOlm8QgE0BvEoPAyiETQA4tsp3vpxNARrbz/dR4EEDjpZvEILATQA4tsp3vpxRApHA9CtcjEkDhehSuR+EUQFyPwvUo3BNAmG4Sg8DKEEAGgZVDi2wSQDvfT42XbhZA7nw/NV46FEBcj8L1KNwTQOF6FK5H4Q5AF9nO91PjD0B1kxgEVg4SQAaBlUOL7BVAarx0kxgEFECR7Xw/Nd4TQC2yne+nRhVArkfhehQuEECe76fGSzcNQJ7vp8ZLNw9Asp3vp8ZLC0AK16NwPQoMQG3n+6nx0gxA5dAi2/l+E0A1XrpJDAIVQN9PjZduEhNAfT81XrrJEEC28/3UeOkNQI/C9ShcjwxASOF6FK7HEUB56SYxCCwSQPT91HjpJhRA30+Nl24SFUDFILByaJEVQLpJDAIrBxVAMQisHFrkEEDn+6nx0k0SQI/C9ShcDxBAFK5H4XoUEUCgGi/dJAYRQB+F61G4nhFA46WbxCAwEkBcj8L1KFwOQB+F61G4nhNAO99PjZduEUAv3SQGgZURQIGVQ4ts5xFAObTIdr6fEkBg5dAi23kSQOOlm8QgMBJAZDvfT42XE0AQWDm0yHYOQFyPwvUoXA5Af2q8dJMYDEDP91PjpZsNQPyp8dJN4hBAYhBYObTIEEBiEFg5tEgSQARWDi2ynQVA16NwPQrXCkAZBFYOLbIRQArXo3A9ihBAlkOLbOd7FEDXo3A9CtcPQI/C9ShcjxJAoBov3SSGEUCcxCCwcmgMQLpJDAIrhw5AnMQgsHJoDUBYObTIdr4MQOf7qfHSTQ1AN4lBYOVQEEBiEFg5tEgQQEJg5dAiWxFApHA9CtejDkCq8dJNYpATQGQ730+NlxRAxSCwcmiRD0AEVg4tsh0RQKRwPQrXIxBAjZduEoNAEkCLbOf7qfEOQAIrhxbZzgtAvHSTGARWC0CuR+F6FK4KQMHKoUW28w5AdZMYBFYOEED2KFyPwnUQQDeJQWDl0A9Af2q8dJMYDkBeukkMAqsSQI2XbhKDQBFAnMQgsHJoDUDNzMzMzMwPQIcW2c73UxJAqvHSTWIQEEArhxbZzvcSQESLbOf7qRFAwcqhRbbzE0B/arx0k5gQQMuhRbbz/RBAAAAAAAAAEkBKDAIrhxYTQKRwPQrXIxNA/tR46SaxEkCyne+nxssQQDvfT42X7hFA/Knx0k1iD0AX2c73U+MRQIPAyqFFthJAqMZLN4lBEUDpJjEIrJwQQJzEILBy6BVAZDvfT42XFkBxPQrXo3AWQBkEVg4tshhAukkMAiuHF0AQWDm0yPYYQI/C9ShcDxhA4XoUrkdhEkCiRbbz/VQTQARWDi2ynRJA/Knx0k3iE0AzMzMzMzMSQB+F61G4HhFABFYOLbKdEkDufD81XroTQCUGgZVDixNAsp3vp8ZLEkDdJAaBlcMRQLx0kxgEVhNAWDm0yHa+EUDn+6nx0s0RQEw3iUFg5Q1Az/dT46UbEUCLbOf7qfEQQMUgsHJoERFAgZVDi2xnEEDTTWIQWDkSQPyp8dJNYg5A7nw/NV66DUDTTWIQWLkQQJHtfD81Xg1AcT0K16PwEEAQWDm0yHYSQA4tsp3vpxRAarx0kxgEFEDXo3A9CtcSQI/C9ShcjxNAqMZLN4nBE0DsUbgehesTQArXo3A9ChNARrbz/dT4FUASg8DKoUUTQAisHFpkuxNA4XoUrkfhFEB9PzVeukkVQDVeukkMAhVABoGVQ4tsEUBQjZduEgMWQFyPwvUo3BBAwcqhRbZzEUAfhetRuB4QQBfZzvdTYxBARIts5/upCkDufD81XroLQPhT46WbxAxAd76fGi/dC0BEi2zn+6kKQHe+nxov3QhAsHJoke18DEC+nxov3SQKQF66SQwCqxFAuB6F61G4EkAIrBxaZLsSQNejcD0KVxFAsHJoke18EUB56SYxCKwOQCcxCKwcWg1AkxgEVg4tDUAUrkfhepQRQCuHFtnOdxJA4XoUrkdhEkAIrBxaZLsSQPp+arx0ExNA2/l+arz0FUCgGi/dJAYNQK5H4XoUrgxAYOXQItv5B0Dwp8ZLN4kQQDVeukkMAhJAdZMYBFYOEkAAAAAAAAASQIlBYOXQohNAO99PjZfuEkBcj8L1KFwQQNNNYhBYORFA+n5qvHSTC0DpJjEIrBwWQNEi2/l+ahVAeekmMQisEkAQWDm0yPYTQFTjpZvEoBJA001iEFi5E0DufD81XjoUQLx0kxgEVhRAN4lBYOXQFED8qfHSTWIVQKwcWmQ73xRAz/dT46WbEkDTTWIQWLkTQPCnxks3iRRAfT81XrpJDUAdWmQ7308TQD81XrpJjBNAFK5H4XoUE0B1kxgEVg4SQPCnxks3iRNApHA9CtcjFEB9PzVeuskTQA4tsp3vpw5AYhBYObRIEEC0yHa+nxoHQPCnxks3iQZAUrgehevREUA9CtejcL0RQKjGSzeJQRFAMzMzMzMzEkB1kxgEVo4QQCuHFtnOdxNADAIrhxbZEEAv3SQGgZURQMdLN4lBYA9AEoPAyqFFEUAK16NwPYoRQN0kBoGVQwtAokW28/3UCUCyne+nxksQQLpJDAIrBxBAN4lBYOXQDkB3vp8aL90LQH0/NV66SQ1A001iEFg5B0Atsp3vp8YKQI/C9ShcjwtAH4XrUbgeDUB9PzVeukkOQARWDi2ynQlAEFg5tMh2BkCwcmiR7XwHQIPAyqFFtgZAvp8aL90kDkDVeOkmMQgPQIts5/upcRFAZDvfT40XEECe76fGS7cQQKwcWmQ73w1Abef7qfHSEUAtsp3vp0YSQKabxCCwchJAEoPAyqHFEEDn+6nx0k0TQCPb+X5qPBFArkfhehSuDUApXI/C9SgOQMHKoUW28xBAO99PjZfuEEAbL90kBgEQQH0/NV66SRFAmG4Sg8DKE0Cq8dJNYpASQLKd76fGSxNAlkOLbOf7D0DsUbgehesSQArXo3A9ChVA5dAi2/n+E0BaZDvfTw0UQGDl0CLb+RRA/Knx0k1iEUCsHFpkO18TQDEIrBxaZBFAEFg5tMh2D0BEi2zn+ykQQNv5fmq8dApAJzEIrBxaE0DP91PjpZsOQD0K16NwPQpAMQisHFpkCUDTTWIQWDkQQO58PzVeuhJA/Knx0k1iE0BSuB6F69ETQMP1KFyPwhJAI9v5fmq8EEA5tMh2vp8NQOF6FK5H4Q1AtMh2vp8aDUAhsHJoke0MQFpkO99PjQVASOF6FK5HCUA=",
          "dtype": "f8"
         },
         "yaxis": "y"
        },
        {
         "hovertemplate": "<b>OLS trendline</b><br>life_ladder = 0.309833 * gdp_per_capita + 1.83843<br>R<sup>2</sup>=0.137624<br><br>region=Sub-Saharan Africa<br>PKB per capita (log)=%{x}<br>Life Ladder=%{y} <b>(trend)</b><extra></extra>",
         "legendgroup": "Sub-Saharan Africa",
         "marker": {
          "color": "#ff9933",
          "symbol": "circle"
         },
         "mode": "lines",
         "name": "Sub-Saharan Africa",
         "showlegend": false,
         "type": "scattergl",
         "x": {
          "bdata": "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",
          "dtype": "f8"
         },
         "xaxis": "x",
         "y": {
          "bdata": "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",
          "dtype": "f8"
         },
         "yaxis": "y"
        },
        {
         "hovertemplate": "<b>%{hovertext}</b><br><br>region=Latin America and Caribbean<br>PKB per capita (log)=%{x}<br>Life Ladder=%{y}<extra></extra>",
         "hovertext": [
          "Argentina",
          "Argentina",
          "Argentina",
          "Argentina",
          "Argentina",
          "Argentina",
          "Argentina",
          "Argentina",
          "Argentina",
          "Argentina",
          "Argentina",
          "Argentina",
          "Argentina",
          "Argentina",
          "Argentina",
          "Bolivia",
          "Bolivia",
          "Bolivia",
          "Bolivia",
          "Bolivia",
          "Bolivia",
          "Bolivia",
          "Bolivia",
          "Bolivia",
          "Bolivia",
          "Bolivia",
          "Bolivia",
          "Bolivia",
          "Bolivia",
          "Bolivia",
          "Brazil",
          "Brazil",
          "Brazil",
          "Brazil",
          "Brazil",
          "Brazil",
          "Brazil",
          "Brazil",
          "Brazil",
          "Brazil",
          "Brazil",
          "Brazil",
          "Brazil",
          "Brazil",
          "Brazil",
          "Chile",
          "Chile",
          "Chile",
          "Chile",
          "Chile",
          "Chile",
          "Chile",
          "Chile",
          "Chile",
          "Chile",
          "Chile",
          "Chile",
          "Chile",
          "Chile",
          "Chile",
          "Colombia",
          "Colombia",
          "Colombia",
          "Colombia",
          "Colombia",
          "Colombia",
          "Colombia",
          "Colombia",
          "Colombia",
          "Colombia",
          "Colombia",
          "Colombia",
          "Colombia",
          "Colombia",
          "Colombia",
          "Costa Rica",
          "Costa Rica",
          "Costa Rica",
          "Costa Rica",
          "Costa Rica",
          "Costa Rica",
          "Costa Rica",
          "Costa Rica",
          "Costa Rica",
          "Costa Rica",
          "Costa Rica",
          "Costa Rica",
          "Costa Rica",
          "Costa Rica",
          "Cuba",
          "Dominican Republic",
          "Dominican Republic",
          "Dominican Republic",
          "Dominican Republic",
          "Dominican Republic",
          "Dominican Republic",
          "Dominican Republic",
          "Dominican Republic",
          "Dominican Republic",
          "Dominican Republic",
          "Dominican Republic",
          "Dominican Republic",
          "Dominican Republic",
          "Dominican Republic",
          "Dominican Republic",
          "Ecuador",
          "Ecuador",
          "Ecuador",
          "Ecuador",
          "Ecuador",
          "Ecuador",
          "Ecuador",
          "Ecuador",
          "Ecuador",
          "Ecuador",
          "Ecuador",
          "Ecuador",
          "Ecuador",
          "Ecuador",
          "Ecuador",
          "El Salvador",
          "El Salvador",
          "El Salvador",
          "El Salvador",
          "El Salvador",
          "El Salvador",
          "El Salvador",
          "El Salvador",
          "El Salvador",
          "El Salvador",
          "El Salvador",
          "El Salvador",
          "El Salvador",
          "El Salvador",
          "El Salvador",
          "Guatemala",
          "Guatemala",
          "Guatemala",
          "Guatemala",
          "Guatemala",
          "Guatemala",
          "Guatemala",
          "Guatemala",
          "Guatemala",
          "Guatemala",
          "Guatemala",
          "Guatemala",
          "Guatemala",
          "Guatemala",
          "Haiti",
          "Haiti",
          "Haiti",
          "Haiti",
          "Haiti",
          "Haiti",
          "Haiti",
          "Haiti",
          "Haiti",
          "Haiti",
          "Haiti",
          "Honduras",
          "Honduras",
          "Honduras",
          "Honduras",
          "Honduras",
          "Honduras",
          "Honduras",
          "Honduras",
          "Honduras",
          "Honduras",
          "Honduras",
          "Honduras",
          "Honduras",
          "Honduras",
          "Jamaica",
          "Jamaica",
          "Jamaica",
          "Jamaica",
          "Jamaica",
          "Jamaica",
          "Mexico",
          "Mexico",
          "Mexico",
          "Mexico",
          "Mexico",
          "Mexico",
          "Mexico",
          "Mexico",
          "Mexico",
          "Mexico",
          "Mexico",
          "Mexico",
          "Mexico",
          "Mexico",
          "Mexico",
          "Nicaragua",
          "Nicaragua",
          "Nicaragua",
          "Nicaragua",
          "Nicaragua",
          "Nicaragua",
          "Nicaragua",
          "Nicaragua",
          "Nicaragua",
          "Nicaragua",
          "Nicaragua",
          "Nicaragua",
          "Nicaragua",
          "Nicaragua",
          "Panama",
          "Panama",
          "Panama",
          "Panama",
          "Panama",
          "Panama",
          "Panama",
          "Panama",
          "Panama",
          "Panama",
          "Panama",
          "Panama",
          "Panama",
          "Panama",
          "Paraguay",
          "Paraguay",
          "Paraguay",
          "Paraguay",
          "Paraguay",
          "Paraguay",
          "Paraguay",
          "Paraguay",
          "Paraguay",
          "Paraguay",
          "Paraguay",
          "Paraguay",
          "Paraguay",
          "Peru",
          "Peru",
          "Peru",
          "Peru",
          "Peru",
          "Peru",
          "Peru",
          "Peru",
          "Peru",
          "Peru",
          "Peru",
          "Peru",
          "Peru",
          "Peru",
          "Suriname",
          "Trinidad and Tobago",
          "Trinidad and Tobago",
          "Trinidad and Tobago",
          "Trinidad and Tobago",
          "Trinidad and Tobago",
          "Uruguay",
          "Uruguay",
          "Uruguay",
          "Uruguay",
          "Uruguay",
          "Uruguay",
          "Uruguay",
          "Uruguay",
          "Uruguay",
          "Uruguay",
          "Uruguay",
          "Uruguay",
          "Uruguay",
          "Uruguay",
          "Uruguay",
          "Venezuela",
          "Venezuela",
          "Venezuela",
          "Venezuela",
          "Venezuela",
          "Venezuela",
          "Venezuela",
          "Venezuela",
          "Venezuela",
          "Venezuela",
          "Venezuela",
          "Venezuela",
          "Venezuela",
          "Venezuela",
          "Venezuela"
         ],
         "legendgroup": "Latin America and Caribbean",
         "marker": {
          "color": "#ff6600",
          "symbol": "circle"
         },
         "mode": "markers",
         "name": "Latin America and Caribbean",
         "showlegend": true,
         "type": "scattergl",
         "x": {
          "bdata": "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",
          "dtype": "f8"
         },
         "xaxis": "x",
         "y": {
          "bdata": "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",
          "dtype": "f8"
         },
         "yaxis": "y"
        },
        {
         "hovertemplate": "<b>OLS trendline</b><br>life_ladder = 0.854814 * gdp_per_capita + -1.99614<br>R<sup>2</sup>=0.467694<br><br>region=Latin America and Caribbean<br>PKB per capita (log)=%{x}<br>Life Ladder=%{y} <b>(trend)</b><extra></extra>",
         "legendgroup": "Latin America and Caribbean",
         "marker": {
          "color": "#ff6600",
          "symbol": "circle"
         },
         "mode": "lines",
         "name": "Latin America and Caribbean",
         "showlegend": false,
         "type": "scattergl",
         "x": {
          "bdata": "8KfGSzeJHUBU46WbxKAdQF66SQwCqx1A/tR46SaxHUBzaJHtfL8dQEJg5dAi2x1AZmZmZmbmHUCBlUOLbOcdQJzEILBy6B1AnMQgsHLoHUCcxCCwcugdQLKd76fGyyBAqvHSTWLQIECR7Xw/Nd4gQKwcWmQ73yBAnMQgsHLoIEAGgZVDi+wgQKabxCCw8iBAK4cW2c73IEB7FK5H4fogQAAAAAAAACFAarx0kxgEIUAK16NwPQohQI/C9ShcDyFAxSCwcmgRIUAUrkfhehQhQLTIdr6fGiFAF9nO91MjIUC+nxov3SQhQFYOLbKdLyFAcT0K16MwIUBOYhBYOTQhQHNoke18PyFAEoPAyqFFIUDwp8ZLN0khQCUGgZVDSyFAdZMYBFZOIUC8dJMYBFYhQKwcWmQ7XyFAZmZmZmZmIUAhsHJokW0hQFCNl24SgyFAsp3vp8aLIUDy0k1iEJghQLbz/dR4qSFAMzMzMzOzIUB7FK5H4bohQOXQItv5viFAarx0kxjEIUCgGi/dJMYhQNV46SYxyCFA1XjpJjHIIUDNzMzMzMwhQFpkO99PzSFAAiuHFtnOIUA3iUFg5dAhQBSuR+F61CFAf2q8dJPYIUAEVg4tst0hQB+F61G43iFADi2yne/nIUAOLbKd7+chQLbz/dR46SFAppvEILDyIUD2KFyPwvUhQLgehetR+CFARrbz/dT4IUDufD81XvohQOXQItv5/iFAjZduEoMAIkCoxks3iQEiQMP1KFyPAiJAhetRuB4FIkCgGi/dJAYiQC2yne+nBiJAfT81XroJIkDNzMzMzAwiQFpkO99PDSJAhxbZzvcTIkAv3SQGgRUiQC/dJAaBFSJArBxaZDsfIkDHSzeJQSAiQFTjpZvEICJAbxKDwMohIkBMN4lBYCUiQNnO91PjJSJAKVyPwvUoIkCTGARWDi0iQI2XbhKDQCJAYhBYObRIIkAK16NwPUoiQFpkO99PTSJA5/up8dJNIkA3iUFg5VAiQIcW2c73UyJASgwCK4dWIkAMAiuHFlkiQKwcWmQ7XyJArBxaZDtfIkBYPQrXo2AiQG8Sg8DKYSJAyXa+nxpvIkDwXi3g2XEiQDMzMzMzcyJAMzMzMzNzIkAzMzMzM3MiQEa28/3UeCJAsHJoke18IkCwcmiR7XwiQAAAAAAAgCJAgIBQ6Q+DIkD4U+Olm4QiQArXo3A9iiJA5/up8dKNIkB1kxgEVo4iQM/3U+OlmyJAx0s3iUGgIkBU46WbxKAiQL6fGi/dpCJA9P3UeOmmIkApXI/C9agiQCGwcmiRrSJA46WbxCCwIkDByqFFtrMiQMHKoUW2syJA9ihcj8K1IkD2KFyPwrUiQLgehetRuCJAuB6F61G4IkCwcmiR7bwiQFg5tMh2viJAGy/dJAbBIkAbL90kBsEiQN0kBoGVwyJA+FPjpZvEIkD4U+Olm8QiQC2yne+nxiJA1XjpJjHIIkA/NV66ScwiQOf7qfHSzSJAHVpkO9/PIkAnMQisHNoiQJHtfD813iJAx0s3iUHgIkBvEoPAyuEiQPyp8dJN4iJATDeJQWDlIkC28/3UeOkiQLbz/dR46SJA7FG4HoXrIkB56SYxCOwiQP7UeOkm8SJAMzMzMzPzIkDufD81XvoiQD0K16Nw/SJAoBov3SQGI0BI4XoUrgcjQCUGgZVDCyNAzczMzMwMI0Av3SQGgRUjQLx0kxgEFiNASgwCK4cWI0BkO99PjRcjQFyPwvUoHCNAd76fGi8dI0BU46WbxCAjQOF6FK5HISNAF9nO91MjI0AxCKwcWiQjQA4tsp3vJyNAnMQgsHIoI0BEi2zn+ykjQNEi2/l+KiNAIbByaJEtI0DJdr6fGi8jQBkEVg4tMiNAaJHtfD81I0AQWDm0yDYjQD0K16NwPSNAw/UoXI9CI0CgGi/dJEYjQKAaL90kRiNAukkMAitHI0AlBoGVQ0sjQG3n+6nxUiNAhxbZzvdTI0C8dJMYBFYjQGQ730+NVyNAmpmZmZlZI0BvEoPAymEjQPT91HjpZiNAKVyPwvVoI0DsUbgehWsjQMl2vp8abyNAMzMzMzNzI0DufD81XnojQHsUrkfheiNAjZduEoOAI0AbL90kBoEjQLpJDAIrhyNAzczMzMyMI0Cq8dJNYpAjQKrx0k1ikCNAqvHSTWKQI0D6fmq8dJMjQPp+arx0kyNA8tJNYhCYI0AMAiuHFpkjQLTIdr6fmiNAH4XrUbieI0AxCKwcWqQjQDEIrBxapCNAvp8aL92kI0BmZmZmZqYjQPT91HjppiNAKVyPwvWoI0ApXI/C9agjQESLbOf7qSNARIts5/upI0CLbOf7qbEjQDMzMzMzsyNAMzMzMzOzI0Ce76fGS7cjQCuHFtnOtyNARrbz/dS4I0CWQ4ts57sjQHNoke18vyNA+FPjpZvEI0CF61G4HsUjQIXrUbgexSNAoBov3STGI0DVeOkmMcgjQPCnxks3ySNAdZMYBFbOI0ACK4cW2c4jQN9PjZdu0iNAXI/C9SjcI0DpJjEIrNwjQHe+nxov3SNAd76fGi/dI0AfhetRuN4jQDm0yHa+3yNA/Knx0k3iI0AxCKwcWuQjQFYOLbKd7yNA46WbxCDwI0BOYhBYOfQjQGiR7Xw/9SNA9ihcj8L1I0D2KFyPwvUjQAAAAAAAACRA8KfGSzcJJEAK16NwPQokQLKd76fGCyRAqvHSTWIQJEB/arx0kxgkQCcxCKwcGiRAQmDl0CIbJECR7Xw/NR4kQJHtfD81HiRAbxKDwMohJED8qfHSTSIkQPyp8dJNIiRApHA9CtcjJEC+nxov3SQkQNnO91PjJSRA0SLb+X4qJEA730+Nly4kQHE9CtejMCRAi2zn+6kxJEDb+X5qvDQkQNNNYhBYOSRAhetRuB5FJEAEVg4tsl0kQJHtfD81XiRAyXa+nxpvJECmm8QgsHIkQMP1KFyPgiRALbKd76eGJEBSuB6F65EkQG3n+6nxkiRA16NwPQqXJEDZzvdT46UkQFYOLbKdryRAg8DKoUW2JEA=",
          "dtype": "f8"
         },
         "xaxis": "x",
         "y": {
          "bdata": "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",
          "dtype": "f8"
         },
         "yaxis": "y"
        },
        {
         "hovertemplate": "<b>%{hovertext}</b><br><br>region=Australia and New Zealand<br>PKB per capita (log)=%{x}<br>Life Ladder=%{y}<extra></extra>",
         "hovertext": [
          "Australia",
          "Australia",
          "Australia",
          "Australia",
          "Australia",
          "Australia",
          "Australia",
          "Australia",
          "Australia",
          "Australia",
          "Australia",
          "Australia",
          "Australia",
          "Australia",
          "New Zealand",
          "New Zealand",
          "New Zealand",
          "New Zealand",
          "New Zealand",
          "New Zealand",
          "New Zealand",
          "New Zealand",
          "New Zealand",
          "New Zealand",
          "New Zealand",
          "New Zealand",
          "New Zealand",
          "New Zealand"
         ],
         "legendgroup": "Australia and New Zealand",
         "marker": {
          "color": "#e64a19",
          "symbol": "circle"
         },
         "mode": "markers",
         "name": "Australia and New Zealand",
         "showlegend": true,
         "type": "scattergl",
         "x": {
          "bdata": "xSCwcmhRJUAOLbKd72clQOOlm8QgcCVAi2zn+6lxJUCe76fGS3clQDVeukkMgiVAoBov3SSGJUAlBoGVQ4slQAIrhxbZjiVAokW28/2UJUB/arx0k5glQKwcWmQ7nyVA4XoUrkehJUCF61G4HoUlQFpkO99PDSVAZDvfT40XJUB1kxgEVg4lQArXo3A9CiVA30+Nl24SJUBCYOXQIhslQDEIrBxaJCVAyXa+nxovJUCe76fGSzclQOXQItv5PiVAarx0kxhEJUBSuB6F61ElQKJFtvP9VCVAMzMzMzMzJUA=",
          "dtype": "f8"
         },
         "xaxis": "x",
         "y": {
          "bdata": "d76fGi9dHUCkcD0K1yMdQGq8dJMYBB1AzczMzMzMHUA5tMh2vp8dQGIQWDm0yBxA2/l+arx0HUAOLbKd7ycdQCPb+X5qPB1AAAAAAAAAHUC6SQwCKwcdQGiR7Xw/tRxAVg4tsp3vHEA/NV66SYwcQLgehetROB1A0SLb+X5qHkCgGi/dJIYdQEw3iUFg5RxA3SQGgZXDHEAAAAAAAAAdQB+F61G4Hh1A001iEFg5HUB56SYxCKwdQIGVQ4ts5xxAAiuHFtlOHUB7FK5H4XodQFK4HoXr0RxAukkMAisHHUA=",
          "dtype": "f8"
         },
         "yaxis": "y"
        },
        {
         "hovertemplate": "<b>OLS trendline</b><br>life_ladder = -0.238417 * gdp_per_capita + 9.83991<br>R<sup>2</sup>=0.058709<br><br>region=Australia and New Zealand<br>PKB per capita (log)=%{x}<br>Life Ladder=%{y} <b>(trend)</b><extra></extra>",
         "legendgroup": "Australia and New Zealand",
         "marker": {
          "color": "#e64a19",
          "symbol": "circle"
         },
         "mode": "lines",
         "name": "Australia and New Zealand",
         "showlegend": false,
         "type": "scattergl",
         "x": {
          "bdata": "CtejcD0KJUBaZDvfTw0lQHWTGARWDiVA30+Nl24SJUBkO99PjRclQEJg5dAiGyVAMQisHFokJUDJdr6fGi8lQDMzMzMzMyVAnu+nxks3JUDl0CLb+T4lQGq8dJMYRCVAxSCwcmhRJUBSuB6F61ElQKJFtvP9VCVADi2yne9nJUDjpZvEIHAlQIts5/upcSVAnu+nxkt3JUA1XrpJDIIlQIXrUbgehSVAoBov3SSGJUAlBoGVQ4slQAIrhxbZjiVAokW28/2UJUB/arx0k5glQKwcWmQ7nyVA4XoUrkehJUA=",
          "dtype": "f8"
         },
         "xaxis": "x",
         "y": {
          "bdata": "cnMVuLtTHUB6CNe4RFIdQH6PF7nHUR1AiqsZutNPHUCaTly7Yk0dQCQnPjytSx1AQOaCPkhHHUDgbyjBJ0IdQO2LKsIzQB1A+acswz8+HUCQnBBFljodQKA/U0YlOB1AyBqaScwxHUBKXrrJjTEdQFPze8oWMB1ADLUlTw4nHUAl7SlRJiMdQKq3itFqIh1AOp7tUrsfHUDbJ5PVmhodQOS8VNYjGR1A50OV1qYYHUD25tfXNRYdQIK/uViAFB1AlOk8WpIRHUAfwh7b3A8dQLMvwlywDB1Auj1DXbYLHUA=",
          "dtype": "f8"
         },
         "yaxis": "y"
        },
        {
         "hovertemplate": "<b>%{hovertext}</b><br><br>region=Western Europe<br>PKB per capita (log)=%{x}<br>Life Ladder=%{y}<extra></extra>",
         "hovertext": [
          "Austria",
          "Austria",
          "Austria",
          "Austria",
          "Austria",
          "Austria",
          "Austria",
          "Austria",
          "Austria",
          "Austria",
          "Austria",
          "Austria",
          "Austria",
          "Belgium",
          "Belgium",
          "Belgium",
          "Belgium",
          "Belgium",
          "Belgium",
          "Belgium",
          "Belgium",
          "Belgium",
          "Belgium",
          "Belgium",
          "Belgium",
          "Belgium",
          "Belgium",
          "Cyprus",
          "Cyprus",
          "Cyprus",
          "Cyprus",
          "Cyprus",
          "Cyprus",
          "Cyprus",
          "Cyprus",
          "Cyprus",
          "Cyprus",
          "Cyprus",
          "Cyprus",
          "Cyprus",
          "Denmark",
          "Denmark",
          "Denmark",
          "Denmark",
          "Denmark",
          "Denmark",
          "Denmark",
          "Denmark",
          "Denmark",
          "Denmark",
          "Denmark",
          "Denmark",
          "Denmark",
          "Denmark",
          "Denmark",
          "Finland",
          "Finland",
          "Finland",
          "Finland",
          "Finland",
          "Finland",
          "Finland",
          "Finland",
          "Finland",
          "Finland",
          "Finland",
          "Finland",
          "Finland",
          "France",
          "France",
          "France",
          "France",
          "France",
          "France",
          "France",
          "France",
          "France",
          "France",
          "France",
          "France",
          "France",
          "France",
          "France",
          "Germany",
          "Germany",
          "Germany",
          "Germany",
          "Germany",
          "Germany",
          "Germany",
          "Germany",
          "Germany",
          "Germany",
          "Germany",
          "Germany",
          "Germany",
          "Germany",
          "Germany",
          "Greece",
          "Greece",
          "Greece",
          "Greece",
          "Greece",
          "Greece",
          "Greece",
          "Greece",
          "Greece",
          "Greece",
          "Greece",
          "Greece",
          "Greece",
          "Greece",
          "Iceland",
          "Iceland",
          "Iceland",
          "Iceland",
          "Iceland",
          "Iceland",
          "Iceland",
          "Iceland",
          "Ireland",
          "Ireland",
          "Ireland",
          "Ireland",
          "Ireland",
          "Ireland",
          "Ireland",
          "Ireland",
          "Ireland",
          "Ireland",
          "Ireland",
          "Ireland",
          "Ireland",
          "Ireland",
          "Italy",
          "Italy",
          "Italy",
          "Italy",
          "Italy",
          "Italy",
          "Italy",
          "Italy",
          "Italy",
          "Italy",
          "Italy",
          "Italy",
          "Italy",
          "Italy",
          "Italy",
          "Luxembourg",
          "Luxembourg",
          "Luxembourg",
          "Luxembourg",
          "Luxembourg",
          "Luxembourg",
          "Luxembourg",
          "Luxembourg",
          "Luxembourg",
          "Luxembourg",
          "Luxembourg",
          "Malta",
          "Malta",
          "Malta",
          "Malta",
          "Malta",
          "Malta",
          "Malta",
          "Malta",
          "Malta",
          "Malta",
          "Malta",
          "Malta",
          "Netherlands",
          "Netherlands",
          "Netherlands",
          "Netherlands",
          "Netherlands",
          "Netherlands",
          "Netherlands",
          "Netherlands",
          "Netherlands",
          "Netherlands",
          "Netherlands",
          "Netherlands",
          "Netherlands",
          "Netherlands",
          "North Cyprus",
          "North Cyprus",
          "North Cyprus",
          "North Cyprus",
          "North Cyprus",
          "North Cyprus",
          "North Cyprus",
          "Norway",
          "Norway",
          "Norway",
          "Norway",
          "Norway",
          "Norway",
          "Norway",
          "Norway",
          "Norway",
          "Norway",
          "Portugal",
          "Portugal",
          "Portugal",
          "Portugal",
          "Portugal",
          "Portugal",
          "Portugal",
          "Portugal",
          "Portugal",
          "Portugal",
          "Portugal",
          "Portugal",
          "Portugal",
          "Spain",
          "Spain",
          "Spain",
          "Spain",
          "Spain",
          "Spain",
          "Spain",
          "Spain",
          "Spain",
          "Spain",
          "Spain",
          "Spain",
          "Spain",
          "Spain",
          "Spain",
          "Sweden",
          "Sweden",
          "Sweden",
          "Sweden",
          "Sweden",
          "Sweden",
          "Sweden",
          "Sweden",
          "Sweden",
          "Sweden",
          "Sweden",
          "Sweden",
          "Sweden",
          "Sweden",
          "Sweden",
          "Switzerland",
          "Switzerland",
          "Switzerland",
          "Switzerland",
          "Switzerland",
          "Switzerland",
          "Switzerland",
          "Switzerland",
          "Switzerland",
          "Switzerland",
          "United Kingdom",
          "United Kingdom",
          "United Kingdom",
          "United Kingdom",
          "United Kingdom",
          "United Kingdom",
          "United Kingdom",
          "United Kingdom",
          "United Kingdom",
          "United Kingdom",
          "United Kingdom",
          "United Kingdom",
          "United Kingdom",
          "United Kingdom",
          "United Kingdom"
         ],
         "legendgroup": "Western Europe",
         "marker": {
          "color": "#b71c1c",
          "symbol": "circle"
         },
         "mode": "markers",
         "name": "Western Europe",
         "showlegend": true,
         "type": "scattergl",
         "x": {
          "bdata": "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",
          "dtype": "f8"
         },
         "xaxis": "x",
         "y": {
          "bdata": "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",
          "dtype": "f8"
         },
         "yaxis": "y"
        },
        {
         "hovertemplate": "<b>OLS trendline</b><br>life_ladder = 1.64144 * gdp_per_capita + -10.858<br>R<sup>2</sup>=0.401125<br><br>region=Western Europe<br>PKB per capita (log)=%{x}<br>Life Ladder=%{y} <b>(trend)</b><extra></extra>",
         "legendgroup": "Western Europe",
         "marker": {
          "color": "#b71c1c",
          "symbol": "circle"
         },
         "mode": "lines",
         "name": "Western Europe",
         "showlegend": false,
         "type": "scattergl",
         "x": {
          "bdata": "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",
          "dtype": "f8"
         },
         "xaxis": "x",
         "y": {
          "bdata": "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",
          "dtype": "f8"
         },
         "yaxis": "y"
        },
        {
         "hovertemplate": "<b>%{hovertext}</b><br><br>region=Central America<br>PKB per capita (log)=%{x}<br>Life Ladder=%{y}<extra></extra>",
         "hovertext": [
          "Belize",
          "Belize"
         ],
         "legendgroup": "Central America",
         "marker": {
          "color": "#fff9b0",
          "symbol": "circle"
         },
         "mode": "markers",
         "name": "Central America",
         "showlegend": true,
         "type": "scattergl",
         "x": {
          "bdata": "YhBYObTIIUBqvHSTGMQhQA==",
          "dtype": "f8"
         },
         "xaxis": "x",
         "y": {
          "bdata": "5/up8dLNGUBt5/up8dIXQA==",
          "dtype": "f8"
         },
         "yaxis": "y"
        },
        {
         "hovertemplate": "<b>OLS trendline</b><br>life_ladder = 55 * gdp_per_capita + -482.609<br>R<sup>2</sup>=1.000000<br><br>region=Central America<br>PKB per capita (log)=%{x}<br>Life Ladder=%{y} <b>(trend)</b><extra></extra>",
         "legendgroup": "Central America",
         "marker": {
          "color": "#fff9b0",
          "symbol": "circle"
         },
         "mode": "lines",
         "name": "Central America",
         "showlegend": false,
         "type": "scattergl",
         "x": {
          "bdata": "arx0kxjEIUBiEFg5tMghQA==",
          "dtype": "f8"
         },
         "xaxis": "x",
         "y": {
          "bdata": "wOz7qfHSF0BAAarx0s0ZQA==",
          "dtype": "f8"
         },
         "yaxis": "y"
        },
        {
         "hovertemplate": "<b>%{hovertext}</b><br><br>region=SouthEast Asia<br>PKB per capita (log)=%{x}<br>Life Ladder=%{y}<extra></extra>",
         "hovertext": [
          "Cambodia",
          "Cambodia",
          "Cambodia",
          "Cambodia",
          "Cambodia",
          "Cambodia",
          "Cambodia",
          "Cambodia",
          "Cambodia",
          "Cambodia",
          "Cambodia",
          "Cambodia",
          "Cambodia",
          "Cambodia",
          "Cambodia",
          "Indonesia",
          "Indonesia",
          "Indonesia",
          "Indonesia",
          "Indonesia",
          "Indonesia",
          "Indonesia",
          "Indonesia",
          "Indonesia",
          "Indonesia",
          "Indonesia",
          "Indonesia",
          "Indonesia",
          "Indonesia",
          "Laos",
          "Laos",
          "Laos",
          "Laos",
          "Laos",
          "Laos",
          "Laos",
          "Laos",
          "Laos",
          "Malaysia",
          "Malaysia",
          "Malaysia",
          "Malaysia",
          "Malaysia",
          "Malaysia",
          "Malaysia",
          "Malaysia",
          "Malaysia",
          "Malaysia",
          "Malaysia",
          "Malaysia",
          "Maldives",
          "Myanmar",
          "Myanmar",
          "Myanmar",
          "Myanmar",
          "Myanmar",
          "Myanmar",
          "Myanmar",
          "Myanmar",
          "Myanmar",
          "Philippines",
          "Philippines",
          "Philippines",
          "Philippines",
          "Philippines",
          "Philippines",
          "Philippines",
          "Philippines",
          "Philippines",
          "Philippines",
          "Philippines",
          "Philippines",
          "Philippines",
          "Philippines",
          "Philippines",
          "Singapore",
          "Singapore",
          "Singapore",
          "Singapore",
          "Singapore",
          "Singapore",
          "Singapore",
          "Singapore",
          "Singapore",
          "Singapore",
          "Singapore",
          "Singapore",
          "Singapore",
          "Thailand",
          "Thailand",
          "Thailand",
          "Thailand",
          "Thailand",
          "Thailand",
          "Thailand",
          "Thailand",
          "Thailand",
          "Thailand",
          "Thailand",
          "Thailand",
          "Thailand",
          "Thailand",
          "Thailand",
          "Vietnam",
          "Vietnam",
          "Vietnam",
          "Vietnam",
          "Vietnam",
          "Vietnam",
          "Vietnam",
          "Vietnam",
          "Vietnam",
          "Vietnam",
          "Vietnam",
          "Vietnam",
          "Vietnam",
          "Vietnam"
         ],
         "legendgroup": "SouthEast Asia",
         "marker": {
          "color": "#ffe066",
          "symbol": "circle"
         },
         "mode": "markers",
         "name": "SouthEast Asia",
         "showlegend": true,
         "type": "scattergl",
         "x": {
          "bdata": "lkOLbOf7HkA3iUFg5VAfQGq8dJMYhB9A9ihcj8J1H0BU46WbxKAfQNejcD0K1x9AukkMAisHIECJQWDl0CIgQMuhRbbzPSBAf2q8dJNYIEAzMzMzM3MgQFpkO99PjSBA0SLb+X6qIECgGi/dJMYgQNNNYhBYuSBAMzMzMzOzIUCyne+nxsshQIlBYOXQ4iFAMzMzMzPzIUAlBoGVQwsiQBfZzvdTIyJA7nw/NV46IkCPwvUoXE8iQOF6FK5HYSJAMzMzMzNzIkCgGi/dJIYiQJqZmZmZmSJAIbByaJGtIkAbL90kBsEiQI2XbhKDgCBAd76fGi+dIEAIrBxaZLsgQH9qvHSTGCFARrbz/dQ4IUBI4XoUrschQB+F61G43iFArkfhehTuIUDsUbgeheshQCGwcmiRrSNAUI2XbhLDI0DFILByaNEjQAAAAAAAwCNAXI/C9SjcI0A730+Nl+4jQMP1KFyPAiRAbef7qfESJEBEi2zn+ykkQCPb+X5qPCRAGQRWDi1yJEAbL90kBoEkQPT91HjppiNAN4lBYOVQIED2KFyPwnUgQAwCK4cWmSBAK4cW2c63IEA3iUFg5dAgQCGwcmiR7SBAsp3vp8YLIUDXo3A9ChchQM/3U+OlGyFAObTIdr4fIUCe76fGSzchQPhT46WbRCFA3SQGgZVDIUCsHFpkO18hQESLbOf7aSFAUI2XbhKDIUBcj8L1KJwhQDMzMzMzsyFAmG4Sg8DKIUBmZmZmZuYhQBsv3SQGASJAmpmZmZkZIkBxPQrXozAiQKwcWmQ7HyJAvHSTGARWJkAGgZVDi2wmQEJg5dAiWyZAPzVeuklMJkBiEFg5tIgmQHe+nxovnSZAEFg5tMi2JkBqvHSTGMQmQM3MzMzMzCZASgwCK4fWJkB56SYxCOwmQHsUrkfh+iZARrbz/dT4JkB56SYxCOwiQGq8dJMYBCNACtejcD0KI0BqvHSTGAQjQPT91HjpJiNAnMQgsHIoI0AK16NwPUojQC/dJAaBVSNA8tJNYhBYI0DZzvdT42UjQGiR7Xw/dSNASOF6FK6HI0BCYOXQIpsjQNnO91PjpSNAfT81XrqJI0DsUbgehasgQH0/NV66ySBA4XoUrkfhIECe76fGS/cgQFK4HoXrESFA7FG4HoUrIUCNl24Sg0AhQLx0kxgEViFAO99PjZduIUAK16NwPYohQKRwPQrXoyFAjZduEoPAIUCR7Xw/Nd4hQJZDi2zn+yFA",
          "dtype": "f8"
         },
         "xaxis": "x",
         "y": {
          "bdata": "WmQ730+NDEA5tMh2vp8QQAwCK4cW2RFAi2zn+6lxEECq8dJNYpAQQL6fGi/dpBBA/tR46SYxD0AxCKwcWmQNQKrx0k1iEA9A2c73U+OlEEDy0k1iENgRQPLSTWIQWBJAsHJoke18FEDLoUW28/0TQDVeukkMghFAfT81XrrJE0CBlUOLbGcUQMP1KFyPQhNAF9nO91PjFUCHFtnO99MVQP7UeOkmsRRARrbz/dR4FUBeukkMAisVQBfZzvdTYxZAeekmMQgsFEAlBoGVQ4sUQDEIrBxaZBRAXI/C9ShcFUAX2c73U2MVQOf7qfHSTRRA2/l+arx0FUCTGARWDi0UQDeJQWDl0BJAGy/dJAaBE0DLoUW2830SQFYOLbKdbxNAfT81XrrJFECJQWDl0CIVQD81XrpJDBhA2/l+arz0GEDufD81XjoXQArXo3A9ihVAUrgehetRFkC+nxov3SQXQA4tsp3vpxdAFK5H4XoUF0AnMQisHNoXQH0/NV66SRlAQmDl0CJbFUCDwMqhRbYVQJhuEoPAyhRAqMZLN4nBEUBOYhBYObQQQL6fGi/dJBNATDeJQWDlEEDLoUW2830SQARWDi2ynRBAvp8aL92kEUAj2/l+arwRQNNNYhBYuRFArkfhehSuEkCyne+nxksUQEJg5dAiWxJAhetRuB6FE0D4U+Olm8QTQGDl0CLb+RNANV66SQwCFECcxCCwcugTQI2XbhKDQBVA46WbxCAwFkDTTWIQWLkVQMdLN4lBYBZAYOXQItt5F0DfT42XbhIZQFK4HoXrURRAJzEIrBzaGUC8dJMYBFYbQMUgsHJokRpAFK5H4XqUGEA5tMh2vh8aQFg5tMh2PhpAbxKDwMohGkBzaJHtfD8cQHsUrkfhehpAbxKDwMohGEBQjZduEoMZQAAAAAAAgBlAUI2XbhKDGUAK16NwPYoXQIlBYOXQIhdAJQaBlUOLFkCBlUOLbOcVQJHtfD813hhADi2yne+nGkAzMzMzMzMZQAaBlUOL7BhAcT0K16PwG0ACK4cW2c4YQLKd76fGSxhAqMZLN4nBF0A/NV66SQwYQEoMAiuHFhhACtejcD2KF0CTGARWDi0VQOOlm8QgsBVA7FG4HoXrFUCe76fGSzcVQMl2vp8aLxVAxSCwcmgRF0CkcD0K1yMWQGQ730+NFxRA16NwPQpXFEDn+6nx0k0UQHNoke18PxRAMzMzMzOzFEDJdr6fGi8VQJHtfD813hVA",
          "dtype": "f8"
         },
         "yaxis": "y"
        },
        {
         "hovertemplate": "<b>OLS trendline</b><br>life_ladder = 0.660952 * gdp_per_capita + -0.747859<br>R<sup>2</sup>=0.699291<br><br>region=SouthEast Asia<br>PKB per capita (log)=%{x}<br>Life Ladder=%{y} <b>(trend)</b><extra></extra>",
         "legendgroup": "SouthEast Asia",
         "marker": {
          "color": "#ffe066",
          "symbol": "circle"
         },
         "mode": "lines",
         "name": "SouthEast Asia",
         "showlegend": false,
         "type": "scattergl",
         "x": {
          "bdata": "lkOLbOf7HkA3iUFg5VAfQPYoXI/CdR9Aarx0kxiEH0BU46WbxKAfQNejcD0K1x9AukkMAisHIECJQWDl0CIgQMuhRbbzPSBAN4lBYOVQIEB/arx0k1ggQDMzMzMzcyBA9ihcj8J1IECNl24Sg4AgQFpkO99PjSBADAIrhxaZIEB3vp8aL50gQNEi2/l+qiBA7FG4HoWrIEArhxbZzrcgQNNNYhBYuSBACKwcWmS7IECgGi/dJMYgQH0/NV66ySBAN4lBYOXQIEDhehSuR+EgQCGwcmiR7SBAnu+nxkv3IECyne+nxgshQFK4HoXrESFA16NwPQoXIUB/arx0kxghQM/3U+OlGyFAObTIdr4fIUDsUbgehSshQJ7vp8ZLNyFARrbz/dQ4IUCNl24Sg0AhQN0kBoGVQyFA+FPjpZtEIUC8dJMYBFYhQKwcWmQ7XyFARIts5/tpIUA730+Nl24hQFCNl24SgyFACtejcD2KIUBcj8L1KJwhQKRwPQrXoyFAMzMzMzOzIUAzMzMzM7MhQI2XbhKDwCFASOF6FK7HIUCYbhKDwMohQLKd76fGyyFAke18PzXeIUAfhetRuN4hQIlBYOXQ4iFAZmZmZmbmIUDsUbgeheshQK5H4XoU7iFAMzMzMzPzIUCWQ4ts5/shQBsv3SQGASJAJQaBlUMLIkCamZmZmRkiQKwcWmQ7HyJAF9nO91MjIkBxPQrXozAiQO58PzVeOiJAj8L1KFxPIkDhehSuR2EiQDMzMzMzcyJAoBov3SSGIkCamZmZmZkiQCGwcmiRrSJAGy/dJAbBIkB56SYxCOwiQGq8dJMYBCNAarx0kxgEI0AK16NwPQojQPT91HjpJiNAnMQgsHIoI0AK16NwPUojQC/dJAaBVSNA8tJNYhBYI0DZzvdT42UjQGiR7Xw/dSNASOF6FK6HI0B9PzVeuokjQEJg5dAimyNA2c73U+OlI0D0/dR46aYjQCGwcmiRrSNAAAAAAADAI0BQjZduEsMjQMUgsHJo0SNAXI/C9SjcI0A730+Nl+4jQMP1KFyPAiRAbef7qfESJEBEi2zn+ykkQCPb+X5qPCRAGQRWDi1yJEAbL90kBoEkQD81XrpJTCZAvHSTGARWJkBCYOXQIlsmQAaBlUOLbCZAYhBYObSIJkB3vp8aL50mQBBYObTItiZAarx0kxjEJkDNzMzMzMwmQEoMAiuH1iZAeekmMQjsJkBGtvP91PgmQHsUrkfh+iZA",
          "dtype": "f8"
         },
         "xaxis": "x",
         "y": {
          "bdata": "IYFeEsx8EUASTUMG+bQRQHKizotWzRFAbLW9P9DWEUBh25unw+kRQIM1N6yiDRJAkjWI9C4yEkChNdk8u1YSQMSPdEGaehJAEIu1CqWTEkD4Q1oCzJ0SQC34P8P9wBJA0DXMFWDEEkBH0rKjltISQHQGcECC4xJAxu7BVRPzEkAxHm9zffgSQEv44VMWChNAJ0RN23ALE0Bm0lQ0rxsTQC7Edf+2HRNA41tMDmwgE0Bb+DKcoi4TQNiBKnZfMxNA0pQZKtk8E0B8Us6ggVITQLzg1fm/YhNAWjFRAJxvE0BuHrOUrooTQI7lNsHNkhNA02BPZpKZE0CbUnAxmpsTQCs2ssepnxNAlWVf5ROlE0DoTbH6pLQTQDo2AxA2xBNAAigk2z3GE0Dp4MjSZNATQHnECml01BNAVRB28M7VE0DZGZbu0ewTQInEW7EA+RNAAWFCPzcHFEBYNqWgTg0UQG0jBzVhKBRAZzb26NoxFEDa5csqi0kUQMKecCKyUxRAkRC6EQBoFECRELoRAGgUQKvqLPKYeRRApv0bphKDFEA34V08IocUQBAtycN8iBRAcIJUSdqgFEBeKAqNh6EUQMhXt6rxphRAReGuhK6rFECLXMcpc7IUQC2aU3zVtRRAchVsIZq8FEA1GnygG8gUQHqVlEXgzhRABIzFj2ncFED6saP3XO8UQCzTceDO9hRAlwIf/jj8FECx3JHe0Q0VQE4tDeWtGhVAT8AkvW02FUDBb/r+HU4VQDQf0EDOZRVAgRoRCtl+FUC7uwcXkZgVQOMCtGf2shVAHaSqdK7MFUD7FUWsiAUWQI2MnhpYJRZAjYyeGlglFkCtUyJHdy0WQJef3hZeUxZAX5H/4WVVFkCOWNRWEYIWQPOacCj1kBZAltj8eleUFkCdWCWfnaYWQGzKbo7ruhZAzR/6E0nTFkCCt9Ai/tUWQAfB8CAB7RZAfl3Xrjf7FkBZqUI2kvwWQGYWfKZeBRdAxWsHLLwdF0BVT0nCyyEXQEt1Jyq/NBdAwhEOuPVCF0AhZ5k9U1sXQEmuRY64dRdA9Gv6BGGLF0Crlujr1akXQArsc3EzwhdAYfr0NkQJGEBDxoji5BwYQM0qAyL/expAant+KNuIGkCx9pbNn48aQDUAt8uiphpAMaa9V9zLGkBHkx/s7uYaQKD7mSXGCBtAutUMBl8aG0B92hyF4CUbQBormIu8MhtACmRlpylPG0A3mCJEFWAbQOwv+VLKYhtA",
          "dtype": "f8"
         },
         "yaxis": "y"
        },
        {
         "hovertemplate": "<b>%{hovertext}</b><br><br>region=North America<br>PKB per capita (log)=%{x}<br>Life Ladder=%{y}<extra></extra>",
         "hovertext": [
          "Canada",
          "Canada",
          "Canada",
          "Canada",
          "Canada",
          "Canada",
          "Canada",
          "Canada",
          "Canada",
          "Canada",
          "Canada",
          "Canada",
          "Canada",
          "Canada",
          "Canada",
          "United States",
          "United States",
          "United States",
          "United States",
          "United States",
          "United States",
          "United States",
          "United States",
          "United States",
          "United States",
          "United States",
          "United States",
          "United States",
          "United States",
          "United States"
         ],
         "legendgroup": "North America",
         "marker": {
          "color": "#ffc14d",
          "symbol": "circle"
         },
         "mode": "markers",
         "name": "North America",
         "showlegend": true,
         "type": "scattergl",
         "x": {
          "bdata": "5/up8dJNJUDufD81XnolQGDl0CLbeSVAvp8aL91kJUDJdr6fGm8lQGDl0CLbeSVAsHJoke18JUDdJAaBlYMlQM3MzMzMjCVAPzVeukmMJUCyne+nxoslQC/dJAaBlSVAf2q8dJOYJUCamZmZmZklQPYoXI/CdSVADAIrhxbZJUAEVg4tst0lQPLSTWIQ2CVALbKd76fGJUCPwvUoXM8lQPp+arx00yVAQmDl0CLbJUBU46WbxOAlQLbz/dR46SVATmIQWDn0JUBGtvP91PglQI2XbhKDACZAzczMzMwMJkC8dJMYBBYmQI2XbhKDACZA",
          "dtype": "f8"
         },
         "xaxis": "x",
         "y": {
          "bdata": "eekmMQisHUAhsHJoke0dQIts5/up8R1AwcqhRbbzHUCamZmZmZkeQE5iEFg5tB1AKVyPwvWoHUDHSzeJQWAeQJ7vp8ZLNx1A9P3UeOmmHUB7FK5H4focQClcj8L1qB1AMzMzMzOzHEBWDi2ynW8cQJqZmZmZGRxA7nw/NV66HEBaZDvfTw0eQB+F61G4Hh1AbxKDwMqhHEAOLbKd76ccQPYoXI/CdRxAtMh2vp8aHEDl0CLb+f4cQLTIdr6fmhxA2/l+arx0G0Ce76fGSzcbQCuHFtnO9xtA1XjpJjGIG0Atsp3vp8YbQOkmMQisHBxA",
          "dtype": "f8"
         },
         "yaxis": "y"
        },
        {
         "hovertemplate": "<b>OLS trendline</b><br>life_ladder = -1.49069 * gdp_per_capita + 23.4104<br>R<sup>2</sup>=0.552641<br><br>region=North America<br>PKB per capita (log)=%{x}<br>Life Ladder=%{y} <b>(trend)</b><extra></extra>",
         "legendgroup": "North America",
         "marker": {
          "color": "#ffc14d",
          "symbol": "circle"
         },
         "mode": "lines",
         "name": "North America",
         "showlegend": false,
         "type": "scattergl",
         "x": {
          "bdata": "5/up8dJNJUC+nxov3WQlQMl2vp8abyVA9ihcj8J1JUBg5dAi23klQGDl0CLbeSVA7nw/NV56JUCwcmiR7XwlQN0kBoGVgyVAsp3vp8aLJUA/NV66SYwlQM3MzMzMjCVAL90kBoGVJUB/arx0k5glQJqZmZmZmSVALbKd76fGJUCPwvUoXM8lQPp+arx00yVA8tJNYhDYJUAMAiuHFtklQEJg5dAi2yVABFYOLbLdJUBU46WbxOAlQLbz/dR46SVATmIQWDn0JUBGtvP91PglQI2XbhKDACZAjZduEoMAJkDNzMzMzAwmQLx0kxgEFiZA",
          "dtype": "f8"
         },
         "xaxis": "x",
         "y": {
          "bdata": "uGzufmkgHkBobiKkuNsdQCZvciYxvR1APgnAFFmpHUAko3niIp0dQCSjeeIinR1AYNYwHJybHUCU1sQ8+pMdQKhwEisigB1AdKSFxrVnHUC01zwAL2YdQPAK9DmoZB1A+HEeD7VKHUBkpWlpjEEdQOAL2Nx+Ph1AyKjRsyq4HEDUD/yIN54cQLiptVYBkhxA2HYmXkSEHEBU3ZTRNoEcQEiqcbgbexxAeKoF2XlzHEDk3VAzUWocQPBEewheUBxA7HiCxE8wHEAMRvPLkiIcQKBGry2tCxxAoEavLa0LHEBUFNyWCucbQJyuvaWQyxtA",
          "dtype": "f8"
         },
         "yaxis": "y"
        },
        {
         "hovertemplate": "<b>%{hovertext}</b><br><br>region=East Asia<br>PKB per capita (log)=%{x}<br>Life Ladder=%{y}<extra></extra>",
         "hovertext": [
          "China",
          "China",
          "China",
          "China",
          "China",
          "China",
          "China",
          "China",
          "China",
          "China",
          "China",
          "China",
          "China",
          "China",
          "China",
          "Hong Kong S.A.R. of China",
          "Hong Kong S.A.R. of China",
          "Hong Kong S.A.R. of China",
          "Hong Kong S.A.R. of China",
          "Hong Kong S.A.R. of China",
          "Hong Kong S.A.R. of China",
          "Hong Kong S.A.R. of China",
          "Hong Kong S.A.R. of China",
          "Hong Kong S.A.R. of China",
          "Hong Kong S.A.R. of China",
          "Hong Kong S.A.R. of China",
          "Japan",
          "Japan",
          "Japan",
          "Japan",
          "Japan",
          "Japan",
          "Japan",
          "Japan",
          "Japan",
          "Japan",
          "Japan",
          "Japan",
          "Japan",
          "Japan",
          "Japan",
          "Mongolia",
          "Mongolia",
          "Mongolia",
          "Mongolia",
          "Mongolia",
          "Mongolia",
          "Mongolia",
          "Mongolia",
          "Mongolia",
          "Mongolia",
          "Mongolia",
          "Mongolia",
          "Mongolia",
          "South Korea",
          "South Korea",
          "South Korea",
          "South Korea",
          "South Korea",
          "South Korea",
          "South Korea",
          "South Korea",
          "South Korea",
          "South Korea",
          "South Korea",
          "South Korea",
          "South Korea",
          "South Korea",
          "South Korea"
         ],
         "legendgroup": "East Asia",
         "marker": {
          "color": "#ff9933",
          "symbol": "circle"
         },
         "mode": "markers",
         "name": "East Asia",
         "showlegend": true,
         "type": "scattergl",
         "x": {
          "bdata": "MQisHFpkIUDZzvdT46UhQN9PjZdu0iFAy6FFtvP9IUDJdr6fGi8iQM/3U+OlWyJAc2iR7Xx/IkAX2c73U6MiQBKDwMqhxSJA2c73U+PlIkCF61G4HgUjQDEIrBxaJCNA3SQGgZVDI0DHSzeJQWAjQIGVQ4tsZyNAy6FFtvN9JUBvEoPAyqElQPp+arx0kyVAi2zn+6mxJUCgGi/dJMYlQPCnxks3ySVA4XoUrkfhJUBxPQrXo/AlQAAAAAAAACZAAAAAAAAAJkDyEkFehxkmQAIrhxbZDiVABFYOLbIdJUBkO99PjRclQAisHFpk+yRAqvHSTWIQJUCq8dJNYhAlQAwCK4cWGSVApHA9CtcjJUBmZmZmZiYlQJMYBFYOLSVAcT0K16MwJUAj2/l+ajwlQOXQItv5PiVA3SQGgZVDJUApXI/C9SglQNEi2/l+qiFAAiuHFtnOIUDXo3A9CtchQKwcWmQ7HyJAN4lBYOVQIkDl0CLb+X4iQM/3U+OlmyJABFYOLbKdIkCamZmZmZkiQF66SQwCqyJAEoPAyqHFIkC8dJMYBNYiQJhuEoPAyiJAH4XrUbieJEBGtvP91LgkQGq8dJMYxCRAEoPAyqHFJEC+nxov3eQkQDMzMzMz8yRAsHJoke38JEAK16NwPQolQGQ730+NFyVAiUFg5dAiJUBWDi2ynS8lQMuhRbbzPSVA8KfGSzdJJUDfT42XblIlQLKd76fGSyVA",
          "dtype": "f8"
         },
         "xaxis": "x",
         "y": {
          "bdata": "PQrXo3A9EkDByqFFtnMTQPyp8dJNYhNAN4lBYOXQEUDpJjEIrJwSQNnO91PjJRRA4XoUrkdhFEAQWDm0yPYUQGIQWDm0yBRAnu+nxks3FUDNzMzMzEwVQEw3iUFgZRRAoBov3SSGFED6fmq8dJMUQC/dJAaBFRdAJQaBlUMLFkA/NV66SYwUQEoMAiuHlhVA30+Nl26SFkBMN4lBYOUVQFYOLbKd7xVAokW28/3UFUDLoUW28/0VQKabxCCwchVAiUFg5dCiFkCuR+F6FC4VQKrx0k1iEBpAwcqhRbbzGEC+nxov3aQXQOF6FK5HYRdA7nw/NV46GEBaZDvfTw0ZQKwcWmQ73xdAvHSTGATWF0D+1HjpJrEXQIXrUbgehRdAUrgehevRF0C+nxov3aQXQJMYBFYOLRdAbxKDwMqhF0BGtvP91HgYQFYOLbKdbxJARrbz/dT4EUDy0k1iEFgSQDm0yHa+HxRACtejcD2KE0D0/dR46aYTQM3MzMzMTBNAO99PjZfuE0DufD81XjoUQLx0kxgEVhVAXI/C9SjcFUCNl24Sg0AWQCUGgZVDCxhAhxbZzvdTFUDFILByaBEXQI/C9ShcjxVAZDvfT42XFkAQWDm0yHYYQH0/NV66yRtAUI2XbhIDGEC8dJMYBNYXQE5iEFg5NBdAH4XrUbgeF0D8qfHSTeIXQOXQItv5fhdAXI/C9ShcF0DpJjEIrJwXQHnpJjEILBdA",
          "dtype": "f8"
         },
         "yaxis": "y"
        },
        {
         "hovertemplate": "<b>OLS trendline</b><br>life_ladder = 0.513705 * gdp_per_capita + 0.330379<br>R<sup>2</sup>=0.519511<br><br>region=East Asia<br>PKB per capita (log)=%{x}<br>Life Ladder=%{y} <b>(trend)</b><extra></extra>",
         "legendgroup": "East Asia",
         "marker": {
          "color": "#ff9933",
          "symbol": "circle"
         },
         "mode": "lines",
         "name": "East Asia",
         "showlegend": false,
         "type": "scattergl",
         "x": {
          "bdata": "MQisHFpkIUDZzvdT46UhQNEi2/l+qiFAAiuHFtnOIUDfT42XbtIhQNejcD0K1yFAy6FFtvP9IUCsHFpkOx8iQMl2vp8aLyJAN4lBYOVQIkDP91PjpVsiQOXQItv5fiJAc2iR7Xx/IkCamZmZmZkiQM/3U+OlmyJABFYOLbKdIkAX2c73U6MiQF66SQwCqyJAEoPAyqHFIkASg8DKocUiQJhuEoPAyiJAvHSTGATWIkDZzvdT4+UiQIXrUbgeBSNAMQisHFokI0DdJAaBlUMjQMdLN4lBYCNAgZVDi2xnI0AfhetRuJ4kQEa28/3UuCRAarx0kxjEJEASg8DKocUkQL6fGi/d5CRAMzMzMzPzJEAIrBxaZPskQLByaJHt/CRACtejcD0KJUACK4cW2Q4lQKrx0k1iECVAqvHSTWIQJUBkO99PjRclQGQ730+NFyVADAIrhxYZJUAEVg4tsh0lQIlBYOXQIiVApHA9CtcjJUBmZmZmZiYlQClcj8L1KCVAkxgEVg4tJUBWDi2ynS8lQHE9CtejMCVAI9v5fmo8JUDLoUW28z0lQOXQItv5PiVA3SQGgZVDJUDwp8ZLN0klQLKd76fGSyVA30+Nl25SJUDLoUW2830lQPp+arx0kyVAbxKDwMqhJUCLbOf7qbElQKAaL90kxiVA8KfGSzfJJUDhehSuR+ElQHE9Ctej8CVAAAAAAAAAJkAAAAAAAAAmQPISQV6HGSZA",
          "dtype": "f8"
         },
         "xaxis": "x",
         "y": {
          "bdata": "M5LTCrMwE0Bn5SwfCHQTQEEtmxrEeBNAZ7nkSx2eE0D0mwHzy6ETQM7jb+6HphNANe2EcoLOE0B1Sdqms/ATQJzrx0ECARRAgvpFILojFEApopwVxi4UQAPJlPIRUxRAqnu9nJhTFEDREtmCbG4UQGrdeyuHcBRAA6ge1KFyFEAqVd4ja3gUQOrMQBxPgBRAtxaFrKmbFEC3FoWsqZsUQDgRHFLsoBRAhGub8X6sFECrDYmMzbwUQFGfOxjk3BRA+DDuo/r8FECfwqAvER0VQAbXh2iGOhVAH5zBtuNBFUBX52nXt4EWQH5+hb2LnBZAytgEXR6oFkC98H5bsqkWQGSCMefIyRZAlwylg4PYFkD+NjAm7uAWQPFOqiSC4hZA2HPMbC/wFkCxuzpo6/QWQKXTtGZ/9hZApdO0Zn/2FkC+mO603P0WQL6Y7rTc/RZAsbBos3D/FkCL+NauLAQXQAvzbVRvCRdAWFi/qHwKF0CY1Yr7HQ0XQNhSVk6/DxdAC+ibn/QTF0BLZWfylRYXQJnKuEajFxdAjNdgkLwjF0B/79qOUCUXQMtULONdJhdApZya3hkrF0DMSVou4zAXQAzHJYGEMxdAf9k2JVs6F0DAKrqkEWcXQA16Z48pfRdAQATbK+SLF0BmpsjGMpwXQGeQJF09sRdATsAYWmW0F0DajJGXHs0XQFt8Vojm3BdA22sbea7sF0Dbaxt5ruwXQJI1x/noBhhA",
          "dtype": "f8"
         },
         "yaxis": "y"
        },
        {
         "hovertemplate": "<b>%{hovertext}</b><br><br>region=South America<br>PKB per capita (log)=%{x}<br>Life Ladder=%{y}<extra></extra>",
         "hovertext": [
          "Guyana"
         ],
         "legendgroup": "South America",
         "marker": {
          "color": "#ff6600",
          "symbol": "circle"
         },
         "mode": "markers",
         "name": "South America",
         "showlegend": true,
         "type": "scattergl",
         "x": {
          "bdata": "sp3vp8aLIUA=",
          "dtype": "f8"
         },
         "xaxis": "x",
         "y": {
          "bdata": "Rrbz/dT4F0A=",
          "dtype": "f8"
         },
         "yaxis": "y"
        },
        {
         "hovertemplate": "region=South America<extra></extra>",
         "legendgroup": "South America",
         "marker": {
          "color": "#ff6600",
          "symbol": "circle"
         },
         "mode": "lines",
         "name": "South America",
         "showlegend": false,
         "type": "scattergl",
         "xaxis": "x",
         "yaxis": "y"
        }
       ],
       "layout": {
        "legend": {
         "title": {
          "text": "region"
         },
         "tracegroupgap": 0
        },
        "template": {
         "data": {
          "bar": [
           {
            "error_x": {
             "color": "#2a3f5f"
            },
            "error_y": {
             "color": "#2a3f5f"
            },
            "marker": {
             "line": {
              "color": "#E5ECF6",
              "width": 0.5
             },
             "pattern": {
              "fillmode": "overlay",
              "size": 10,
              "solidity": 0.2
             }
            },
            "type": "bar"
           }
          ],
          "barpolar": [
           {
            "marker": {
             "line": {
              "color": "#E5ECF6",
              "width": 0.5
             },
             "pattern": {
              "fillmode": "overlay",
              "size": 10,
              "solidity": 0.2
             }
            },
            "type": "barpolar"
           }
          ],
          "carpet": [
           {
            "aaxis": {
             "endlinecolor": "#2a3f5f",
             "gridcolor": "white",
             "linecolor": "white",
             "minorgridcolor": "white",
             "startlinecolor": "#2a3f5f"
            },
            "baxis": {
             "endlinecolor": "#2a3f5f",
             "gridcolor": "white",
             "linecolor": "white",
             "minorgridcolor": "white",
             "startlinecolor": "#2a3f5f"
            },
            "type": "carpet"
           }
          ],
          "choropleth": [
           {
            "colorbar": {
             "outlinewidth": 0,
             "ticks": ""
            },
            "type": "choropleth"
           }
          ],
          "contour": [
           {
            "colorbar": {
             "outlinewidth": 0,
             "ticks": ""
            },
            "colorscale": [
             [
              0,
              "#0d0887"
             ],
             [
              0.1111111111111111,
              "#46039f"
             ],
             [
              0.2222222222222222,
              "#7201a8"
             ],
             [
              0.3333333333333333,
              "#9c179e"
             ],
             [
              0.4444444444444444,
              "#bd3786"
             ],
             [
              0.5555555555555556,
              "#d8576b"
             ],
             [
              0.6666666666666666,
              "#ed7953"
             ],
             [
              0.7777777777777778,
              "#fb9f3a"
             ],
             [
              0.8888888888888888,
              "#fdca26"
             ],
             [
              1,
              "#f0f921"
             ]
            ],
            "type": "contour"
           }
          ],
          "contourcarpet": [
           {
            "colorbar": {
             "outlinewidth": 0,
             "ticks": ""
            },
            "type": "contourcarpet"
           }
          ],
          "heatmap": [
           {
            "colorbar": {
             "outlinewidth": 0,
             "ticks": ""
            },
            "colorscale": [
             [
              0,
              "#0d0887"
             ],
             [
              0.1111111111111111,
              "#46039f"
             ],
             [
              0.2222222222222222,
              "#7201a8"
             ],
             [
              0.3333333333333333,
              "#9c179e"
             ],
             [
              0.4444444444444444,
              "#bd3786"
             ],
             [
              0.5555555555555556,
              "#d8576b"
             ],
             [
              0.6666666666666666,
              "#ed7953"
             ],
             [
              0.7777777777777778,
              "#fb9f3a"
             ],
             [
              0.8888888888888888,
              "#fdca26"
             ],
             [
              1,
              "#f0f921"
             ]
            ],
            "type": "heatmap"
           }
          ],
          "histogram": [
           {
            "marker": {
             "pattern": {
              "fillmode": "overlay",
              "size": 10,
              "solidity": 0.2
             }
            },
            "type": "histogram"
           }
          ],
          "histogram2d": [
           {
            "colorbar": {
             "outlinewidth": 0,
             "ticks": ""
            },
            "colorscale": [
             [
              0,
              "#0d0887"
             ],
             [
              0.1111111111111111,
              "#46039f"
             ],
             [
              0.2222222222222222,
              "#7201a8"
             ],
             [
              0.3333333333333333,
              "#9c179e"
             ],
             [
              0.4444444444444444,
              "#bd3786"
             ],
             [
              0.5555555555555556,
              "#d8576b"
             ],
             [
              0.6666666666666666,
              "#ed7953"
             ],
             [
              0.7777777777777778,
              "#fb9f3a"
             ],
             [
              0.8888888888888888,
              "#fdca26"
             ],
             [
              1,
              "#f0f921"
             ]
            ],
            "type": "histogram2d"
           }
          ],
          "histogram2dcontour": [
           {
            "colorbar": {
             "outlinewidth": 0,
             "ticks": ""
            },
            "colorscale": [
             [
              0,
              "#0d0887"
             ],
             [
              0.1111111111111111,
              "#46039f"
             ],
             [
              0.2222222222222222,
              "#7201a8"
             ],
             [
              0.3333333333333333,
              "#9c179e"
             ],
             [
              0.4444444444444444,
              "#bd3786"
             ],
             [
              0.5555555555555556,
              "#d8576b"
             ],
             [
              0.6666666666666666,
              "#ed7953"
             ],
             [
              0.7777777777777778,
              "#fb9f3a"
             ],
             [
              0.8888888888888888,
              "#fdca26"
             ],
             [
              1,
              "#f0f921"
             ]
            ],
            "type": "histogram2dcontour"
           }
          ],
          "mesh3d": [
           {
            "colorbar": {
             "outlinewidth": 0,
             "ticks": ""
            },
            "type": "mesh3d"
           }
          ],
          "parcoords": [
           {
            "line": {
             "colorbar": {
              "outlinewidth": 0,
              "ticks": ""
             }
            },
            "type": "parcoords"
           }
          ],
          "pie": [
           {
            "automargin": true,
            "type": "pie"
           }
          ],
          "scatter": [
           {
            "fillpattern": {
             "fillmode": "overlay",
             "size": 10,
             "solidity": 0.2
            },
            "type": "scatter"
           }
          ],
          "scatter3d": [
           {
            "line": {
             "colorbar": {
              "outlinewidth": 0,
              "ticks": ""
             }
            },
            "marker": {
             "colorbar": {
              "outlinewidth": 0,
              "ticks": ""
             }
            },
            "type": "scatter3d"
           }
          ],
          "scattercarpet": [
           {
            "marker": {
             "colorbar": {
              "outlinewidth": 0,
              "ticks": ""
             }
            },
            "type": "scattercarpet"
           }
          ],
          "scattergeo": [
           {
            "marker": {
             "colorbar": {
              "outlinewidth": 0,
              "ticks": ""
             }
            },
            "type": "scattergeo"
           }
          ],
          "scattergl": [
           {
            "marker": {
             "colorbar": {
              "outlinewidth": 0,
              "ticks": ""
             }
            },
            "type": "scattergl"
           }
          ],
          "scattermap": [
           {
            "marker": {
             "colorbar": {
              "outlinewidth": 0,
              "ticks": ""
             }
            },
            "type": "scattermap"
           }
          ],
          "scattermapbox": [
           {
            "marker": {
             "colorbar": {
              "outlinewidth": 0,
              "ticks": ""
             }
            },
            "type": "scattermapbox"
           }
          ],
          "scatterpolar": [
           {
            "marker": {
             "colorbar": {
              "outlinewidth": 0,
              "ticks": ""
             }
            },
            "type": "scatterpolar"
           }
          ],
          "scatterpolargl": [
           {
            "marker": {
             "colorbar": {
              "outlinewidth": 0,
              "ticks": ""
             }
            },
            "type": "scatterpolargl"
           }
          ],
          "scatterternary": [
           {
            "marker": {
             "colorbar": {
              "outlinewidth": 0,
              "ticks": ""
             }
            },
            "type": "scatterternary"
           }
          ],
          "surface": [
           {
            "colorbar": {
             "outlinewidth": 0,
             "ticks": ""
            },
            "colorscale": [
             [
              0,
              "#0d0887"
             ],
             [
              0.1111111111111111,
              "#46039f"
             ],
             [
              0.2222222222222222,
              "#7201a8"
             ],
             [
              0.3333333333333333,
              "#9c179e"
             ],
             [
              0.4444444444444444,
              "#bd3786"
             ],
             [
              0.5555555555555556,
              "#d8576b"
             ],
             [
              0.6666666666666666,
              "#ed7953"
             ],
             [
              0.7777777777777778,
              "#fb9f3a"
             ],
             [
              0.8888888888888888,
              "#fdca26"
             ],
             [
              1,
              "#f0f921"
             ]
            ],
            "type": "surface"
           }
          ],
          "table": [
           {
            "cells": {
             "fill": {
              "color": "#EBF0F8"
             },
             "line": {
              "color": "white"
             }
            },
            "header": {
             "fill": {
              "color": "#C8D4E3"
             },
             "line": {
              "color": "white"
             }
            },
            "type": "table"
           }
          ]
         },
         "layout": {
          "annotationdefaults": {
           "arrowcolor": "#2a3f5f",
           "arrowhead": 0,
           "arrowwidth": 1
          },
          "autotypenumbers": "strict",
          "coloraxis": {
           "colorbar": {
            "outlinewidth": 0,
            "ticks": ""
           }
          },
          "colorscale": {
           "diverging": [
            [
             0,
             "#8e0152"
            ],
            [
             0.1,
             "#c51b7d"
            ],
            [
             0.2,
             "#de77ae"
            ],
            [
             0.3,
             "#f1b6da"
            ],
            [
             0.4,
             "#fde0ef"
            ],
            [
             0.5,
             "#f7f7f7"
            ],
            [
             0.6,
             "#e6f5d0"
            ],
            [
             0.7,
             "#b8e186"
            ],
            [
             0.8,
             "#7fbc41"
            ],
            [
             0.9,
             "#4d9221"
            ],
            [
             1,
             "#276419"
            ]
           ],
           "sequential": [
            [
             0,
             "#0d0887"
            ],
            [
             0.1111111111111111,
             "#46039f"
            ],
            [
             0.2222222222222222,
             "#7201a8"
            ],
            [
             0.3333333333333333,
             "#9c179e"
            ],
            [
             0.4444444444444444,
             "#bd3786"
            ],
            [
             0.5555555555555556,
             "#d8576b"
            ],
            [
             0.6666666666666666,
             "#ed7953"
            ],
            [
             0.7777777777777778,
             "#fb9f3a"
            ],
            [
             0.8888888888888888,
             "#fdca26"
            ],
            [
             1,
             "#f0f921"
            ]
           ],
           "sequentialminus": [
            [
             0,
             "#0d0887"
            ],
            [
             0.1111111111111111,
             "#46039f"
            ],
            [
             0.2222222222222222,
             "#7201a8"
            ],
            [
             0.3333333333333333,
             "#9c179e"
            ],
            [
             0.4444444444444444,
             "#bd3786"
            ],
            [
             0.5555555555555556,
             "#d8576b"
            ],
            [
             0.6666666666666666,
             "#ed7953"
            ],
            [
             0.7777777777777778,
             "#fb9f3a"
            ],
            [
             0.8888888888888888,
             "#fdca26"
            ],
            [
             1,
             "#f0f921"
            ]
           ]
          },
          "colorway": [
           "#636efa",
           "#EF553B",
           "#00cc96",
           "#ab63fa",
           "#FFA15A",
           "#19d3f3",
           "#FF6692",
           "#B6E880",
           "#FF97FF",
           "#FECB52"
          ],
          "font": {
           "color": "#2a3f5f"
          },
          "geo": {
           "bgcolor": "white",
           "lakecolor": "white",
           "landcolor": "#E5ECF6",
           "showlakes": true,
           "showland": true,
           "subunitcolor": "white"
          },
          "hoverlabel": {
           "align": "left"
          },
          "hovermode": "closest",
          "mapbox": {
           "style": "light"
          },
          "paper_bgcolor": "white",
          "plot_bgcolor": "#E5ECF6",
          "polar": {
           "angularaxis": {
            "gridcolor": "white",
            "linecolor": "white",
            "ticks": ""
           },
           "bgcolor": "#E5ECF6",
           "radialaxis": {
            "gridcolor": "white",
            "linecolor": "white",
            "ticks": ""
           }
          },
          "scene": {
           "xaxis": {
            "backgroundcolor": "#E5ECF6",
            "gridcolor": "white",
            "gridwidth": 2,
            "linecolor": "white",
            "showbackground": true,
            "ticks": "",
            "zerolinecolor": "white"
           },
           "yaxis": {
            "backgroundcolor": "#E5ECF6",
            "gridcolor": "white",
            "gridwidth": 2,
            "linecolor": "white",
            "showbackground": true,
            "ticks": "",
            "zerolinecolor": "white"
           },
           "zaxis": {
            "backgroundcolor": "#E5ECF6",
            "gridcolor": "white",
            "gridwidth": 2,
            "linecolor": "white",
            "showbackground": true,
            "ticks": "",
            "zerolinecolor": "white"
           }
          },
          "shapedefaults": {
           "line": {
            "color": "#2a3f5f"
           }
          },
          "ternary": {
           "aaxis": {
            "gridcolor": "white",
            "linecolor": "white",
            "ticks": ""
           },
           "baxis": {
            "gridcolor": "white",
            "linecolor": "white",
            "ticks": ""
           },
           "bgcolor": "#E5ECF6",
           "caxis": {
            "gridcolor": "white",
            "linecolor": "white",
            "ticks": ""
           }
          },
          "title": {
           "x": 0.05
          },
          "xaxis": {
           "automargin": true,
           "gridcolor": "white",
           "linecolor": "white",
           "ticks": "",
           "title": {
            "standoff": 15
           },
           "zerolinecolor": "white",
           "zerolinewidth": 2
          },
          "yaxis": {
           "automargin": true,
           "gridcolor": "white",
           "linecolor": "white",
           "ticks": "",
           "title": {
            "standoff": 15
           },
           "zerolinecolor": "white",
           "zerolinewidth": 2
          }
         }
        },
        "title": {
         "text": "Związek PKB per capita a poziom szczęścia"
        },
        "xaxis": {
         "anchor": "y",
         "domain": [
          0,
          1
         ],
         "title": {
          "text": "PKB per capita (log)"
         }
        },
        "yaxis": {
         "anchor": "x",
         "domain": [
          0,
          1
         ],
         "title": {
          "text": "Life Ladder"
         }
        }
       }
      }
     },
     "metadata": {},
     "output_type": "display_data"
    }
   ],
   "source": [
    "# scatter PKB a poziom szczescia\n",
    "colors = [\n",
    "    \"#fff9b0\",  \n",
    "    \"#ffe066\",\n",
    "    \"#ffc14d\",\n",
    "    \"#ff9933\",\n",
    "    \"#ff6600\",\n",
    "    \"#e64a19\",\n",
    "    \"#b71c1c\"\n",
    "]\n",
    "\n",
    "fig_gdp = px.scatter(\n",
    "    df,\n",
    "    x=\"gdp_per_capita\",\n",
    "    y=\"life_ladder\",\n",
    "    color=\"region\",\n",
    "    color_discrete_sequence=colors,\n",
    "    hover_name=\"country\",\n",
    "    trendline=\"ols\",\n",
    "    title=\"Związek PKB per capita a poziom szczęścia\",\n",
    "    labels={\"gdp_per_capita\": \"PKB per capita (log)\", \"life_ladder\": \"Life Ladder\"}\n",
    ")\n",
    "fig_gdp.show()\n"
   ]
  },
  {
   "cell_type": "markdown",
   "metadata": {},
   "source": [
    "**Rysunek 5.** Wykres punktowy przedstawia zależność między logarytmem PKB per capita a poziomem deklarowanego szczęścia. \n",
    "\n",
    "Widoczna jest silna dodatnia korelacja, co wskazuje, że wyższy poziom zamożności społeczeństw istotnie wiąże się ze wzrostem poziomu dobrostanu. Linię trendu uzyskano metodą regresji liniowej."
   ]
  },
  {
   "cell_type": "markdown",
   "metadata": {},
   "source": [
    "---"
   ]
  },
  {
   "cell_type": "code",
   "execution_count": 10,
   "metadata": {},
   "outputs": [
    {
     "data": {
      "application/vnd.plotly.v1+json": {
       "config": {
        "plotlyServerURL": "https://plot.ly"
       },
       "data": [
        {
         "hovertemplate": "<b>%{hovertext}</b><br><br>region=South Asia<br>Wsparcie społeczne=%{x}<br>Life Ladder=%{y}<extra></extra>",
         "hovertext": [
          "Afghanistan",
          "Afghanistan",
          "Afghanistan",
          "Afghanistan",
          "Afghanistan",
          "Afghanistan",
          "Afghanistan",
          "Afghanistan",
          "Afghanistan",
          "Afghanistan",
          "Afghanistan",
          "Afghanistan",
          "Bangladesh",
          "Bangladesh",
          "Bangladesh",
          "Bangladesh",
          "Bangladesh",
          "Bangladesh",
          "Bangladesh",
          "Bangladesh",
          "Bangladesh",
          "Bangladesh",
          "Bangladesh",
          "Bangladesh",
          "Bangladesh",
          "Bangladesh",
          "Bangladesh",
          "Bhutan",
          "Bhutan",
          "Bhutan",
          "India",
          "India",
          "India",
          "India",
          "India",
          "India",
          "India",
          "India",
          "India",
          "India",
          "India",
          "India",
          "India",
          "India",
          "India",
          "Nepal",
          "Nepal",
          "Nepal",
          "Nepal",
          "Nepal",
          "Nepal",
          "Nepal",
          "Nepal",
          "Nepal",
          "Nepal",
          "Nepal",
          "Nepal",
          "Nepal",
          "Nepal",
          "Pakistan",
          "Pakistan",
          "Pakistan",
          "Pakistan",
          "Pakistan",
          "Pakistan",
          "Pakistan",
          "Pakistan",
          "Pakistan",
          "Pakistan",
          "Pakistan",
          "Pakistan",
          "Pakistan",
          "Pakistan",
          "Sri Lanka",
          "Sri Lanka",
          "Sri Lanka",
          "Sri Lanka",
          "Sri Lanka",
          "Sri Lanka",
          "Sri Lanka",
          "Sri Lanka",
          "Sri Lanka",
          "Sri Lanka",
          "Sri Lanka",
          "Sri Lanka",
          "Sri Lanka",
          "Taiwan Province of China",
          "Taiwan Province of China",
          "Taiwan Province of China",
          "Taiwan Province of China",
          "Taiwan Province of China",
          "Taiwan Province of China",
          "Taiwan Province of China",
          "Taiwan Province of China",
          "Taiwan Province of China",
          "Taiwan Province of China",
          "Taiwan Province of China",
          "Taiwan Province of China",
          "Taiwan Province of China"
         ],
         "legendgroup": "South Asia",
         "marker": {
          "color": "#fff9b0",
          "symbol": "circle"
         },
         "mode": "markers",
         "name": "South Asia",
         "showlegend": true,
         "type": "scattergl",
         "x": {
          "bdata": "d76fGi/d3D9Ei2zn+6nhP3Noke18P+E/eekmMQis4D956SYxCKzgP2Dl0CLb+d4/okW28/3U4D8hsHJoke3gPxfZzvdT4+E/BoGVQ4ts3z+oxks3iUHgP+F6FK5H4do/Gy/dJAaB5T+mm8QgsHLgPxfZzvdT490/TDeJQWDl4D/FILByaJHhPzEIrBxaZOM/ObTIdr6f4j/2KFyPwvXgPxBYObTIduI/CKwcWmQ74z/4U+Olm8TkPzeJQWDl0OY/ZDvfT42X5j/wp8ZLN4nlP9nO91Pjpec/aJHtfD816j8pXI/C9SjsP4lBYOXQIus/ObTIdr6f5j9oke18PzXiPxfZzvdT4+U/TDeJQWDl5D9cj8L1KFzjPxkEVg4tsuE/JzEIrBxa4D8ZBFYOLbLhP6wcWmQ73+M/hetRuB6F4z/ZzvdT46XjPwaBlUOLbOM/0SLb+X5q5D/ByqFFtvPhP1g5tMh2vuM/K4cW2c736z/Jdr6fGi/pP5MYBFYOLeo/arx0kxgE6j8hsHJoke3oP4PAyqFFtuc/sHJoke185z+uR+F6FK7nP/T91HjpJuk/Vg4tsp3v5z9iEFg5tMjqP+kmMQisHOo/+n5qvHST6D9OYhBYObToP7bz/dR46eI/Di2yne+n3j+sHFpkO9/XP05iEFg5tOA/EoPAyqFF4j9SuB6F61HgP/LSTWIQWOE/BoGVQ4ts4z9Ei2zn+6nhP5ZDi2zn++E/qvHSTWIQ5D8UrkfhehTmP+xRuB6F6+U/WDm0yHa+4z/ZzvdT46XrPzeJQWDl0Oo/6SYxCKwc6j+PwvUoXI/qPz81XrpJDOo/i2zn+6nx6j+R7Xw/NV7qPxfZzvdT4+k/w/UoXI/C6T8EVg4tsp3rP7x0kxgEVuo/Di2yne+n6j8UrkfhehTqP9NNYhBYOew/j8L1KFyP6j9kO99PjZfqPwRWDi2ynes/ZmZmZmZm6j++nxov3STqP9ejcD0K1+s/UrgehetR7D+kcD0K16PsP1CNl24Sg+w/eekmMQis7D/6fmq8dJPsP6JFtvP91Ow/",
          "dtype": "f8"
         },
         "xaxis": "x",
         "y": {
          "bdata": "mG4Sg8DKDUDP91PjpZsRQNV46SYxCBNADi2yne+nDkDdJAaBlUMOQPp+arx0kwxAPzVeukkMCUB3vp8aL90PQOF6FK5H4RBAsp3vp8ZLBUBaZDvfT40FQAAAAAAAAANALbKd76dGEUAhsHJokW0SQGiR7Xw/NRRAokW28/1UFEA730+Nl24TQIts5/up8RNATDeJQWDlEkCkcD0K16MSQCUGgZVDixJA1XjpJjGIEkDTTWIQWDkSQD0K16NwPRFA5dAi2/n+EUDb+X5qvHQUQB+F61G4HhVALbKd76dGFkCoxks3icETQIcW2c73UxRAMQisHFpkFUDP91PjpRsUQC/dJAaBlRRASgwCK4cWEkDb+X5qvPQTQArXo3A9ihJA4XoUrkfhEkCDwMqhRbYRQBkEVg4tshFAke18PzVeEUCe76fGS7cQQMl2vp8aLxBAJQaBlUOLDkDLoUW28/0JQGZmZmZm5hBA+FPjpZtEEkDLoUW28/0SQN0kBoGVwxFAXrpJDAKrE0BmZmZmZmYRQEa28/3UeA5AO99PjZfuEEDsUbgehWsSQGZmZmZm5hNAc2iR7Xw/E0BmZmZmZmYUQKabxCCw8hJApHA9CtejE0Cyne+nxssVQGZmZmZm5hRAyXa+nxqvFkAOLbKd76cRQKJFtvP91BRAvp8aL90kF0DFILByaBEVQLpJDAIrhxRAWmQ730+NFEBYObTIdr4VQJhuEoPAShNAGQRWDi0yFkBt5/up8VIXQBfZzvdT4xVAEoPAyqHFEUDhehSuR2ERQClcj8L1qBFA001iEFi5EUAMAiuHFtkQQDeJQWDl0A9A001iEFi5EEBmZmZmZuYQQPYoXI/CdRFA30+Nl24SEUCmm8QgsHISQG3n+6nxUhFAPQrXo3C9EUAnMQisHNoQQKjGSzeJwRhA/tR46SYxFkDRItv5fuoYQCPb+X5qPBlAGy/dJAaBGEBcj8L1KFwZQMHKoUW2cxlAzczMzMzMGUBaZDvfTw0aQFYOLbKdbxlAke18PzXeGUDZzvdT4yUaQBsv3SQGARtA",
          "dtype": "f8"
         },
         "yaxis": "y"
        },
        {
         "hovertemplate": "<b>OLS trendline</b><br>life_ladder = 2.85296 * social_support + 2.83634<br>R<sup>2</sup>=0.217923<br><br>region=South Asia<br>Wsparcie społeczne=%{x}<br>Life Ladder=%{y} <b>(trend)</b><extra></extra>",
         "legendgroup": "South Asia",
         "marker": {
          "color": "#fff9b0",
          "symbol": "circle"
         },
         "mode": "lines",
         "name": "South Asia",
         "showlegend": false,
         "type": "scattergl",
         "x": {
          "bdata": "rBxaZDvf1z/hehSuR+HaP3e+nxov3dw/F9nO91Pj3T8OLbKd76feP2Dl0CLb+d4/BoGVQ4ts3z+oxks3iUHgP1K4HoXrUeA/JzEIrBxa4D+mm8QgsHLgP3npJjEIrOA/eekmMQis4D9OYhBYObTgP6JFtvP91OA/TDeJQWDl4D8hsHJoke3gP/YoXI/C9eA/c2iR7Xw/4T/y0k1iEFjhP8UgsHJokeE/RIts5/up4T9Ei2zn+6nhPxkEVg4tsuE/GQRWDi2y4T8X2c73U+PhP8HKoUW28+E/lkOLbOf74T9oke18PzXiPxKDwMqhReI/EFg5tMh24j85tMh2vp/iP7bz/dR46eI/CKwcWmQ74z9cj8L1KFzjPzEIrBxaZOM/BoGVQ4ts4z8GgZVDi2zjP4XrUbgeheM/2c73U+Ol4z9YObTIdr7jP1g5tMh2vuM/rBxaZDvf4z+q8dJNYhDkP9Ei2/l+auQ/+FPjpZvE5D9MN4lBYOXkPxsv3SQGgeU/8KfGSzeJ5T8X2c73U+PlP+xRuB6F6+U/FK5H4XoU5j9kO99PjZfmPzm0yHa+n+Y/N4lBYOXQ5j+wcmiR7XznP9nO91Pjpec/rkfhehSu5z+DwMqhRbbnP1YOLbKd7+c/+n5qvHST6D9OYhBYObToPyGwcmiR7eg/9P3UeOkm6T/Jdr6fGi/pP8P1KFyPwuk/F9nO91Pj6T9qvHSTGATqPz81XrpJDOo/FK5H4XoU6j/pJjEIrBzqP+kmMQisHOo/vp8aL90k6j+TGARWDi3qP2iR7Xw/Neo/vHSTGARW6j+R7Xw/NV7qP2ZmZmZmZuo/j8L1KFyP6j+PwvUoXI/qP2Q730+Nl+o/Di2yne+n6j9iEFg5tMjqPzeJQWDl0Oo/i2zn+6nx6j+JQWDl0CLrPwRWDi2ynes/BFYOLbKd6z/ZzvdT46XrP9ejcD0K1+s/K4cW2c736z8pXI/C9SjsP9NNYhBYOew/UrgehetR7D9QjZduEoPsP/p+arx0k+w/pHA9Ctej7D956SYxCKzsP6JFtvP91Ow/",
          "dtype": "f8"
         },
         "xaxis": "x",
         "y": {
          "bdata": "YBSoAjg0D0BsOie1aiMQQAyhpzb7fRBAqWr6aLmsEEDegbgOyM8QQOBgcn5j3hBAFJl2tNbyEEBLj+7JgCQRQH7oOJBYKhFAGBVec0QtEUDmms0cCDYRQBrT0VJ7ShFAGtPRUntKEUC0//Y1Z00RQBuyi8IWWRFATgvWiO5eEUDoN/tr2mERQIJkIE/GZBFA6vVuSxF/EUC4e9701IcRQOyz4ipInBFAujlS1AulEUC6OVLUC6URQFRmd7f3pxFAVGZ3t/enEUDucVYKf7kRQCLLoNBWvxFAvPfFs0LCEUDwL8rptdYRQCSJFLCN3BFAvpTzAhXuEUC/c61ysPwRQCgF/G77FhJAKsNvTjI0EkCRdQTb4T8SQCqiKb7NQhJAxM5OoblFEkDEzk6huUUSQJJUvkp9ThJA+QZT1yxaEkDGjMKA8GISQMaMwoDwYhJALj9XDaBuEkDISjZgJ4ASQGQ1zyJKoBJAACBo5WzAEkBn0vxxHMwSQNEhv02eAxNAa07kMIoGE0AHOX3zrCYTQKBlotaYKRNAoURcRjQ4E0A+Dq948mYTQNg61FveaRNAckazrmV7E0AQ779Qv7gTQBLOecBaxxNAq/qeo0bKE0BFJ8SGMs0TQHpfyLyl4RNAftuvexMcFEDkjUQIwycUQBrGSD42PBRATv5MdKlQFEDoKnJXlVMUQLhND1AriBRAHwCk3NqTFECGsjhpip8UQCDfXUx2ohRAuguDL2KlFEBUOKgSTqgUQFQ4qBJOqBRA7mTN9TmrFECHkfLYJa4UQCG+F7wRsRRAiHCsSMG8FEAindErrb8UQLzJ9g6ZwhRAvKiwfjTRFEC8qLB+NNEUQFbV1WEg1BRAii4gKPjZFEDx4LS0p+UUQIsN2peT6BRA8r9uJEP0FECNy013ygUVQJBoe8acMRVAkGh7xpwxFUAqlaCpiDQVQMSgf/wPRhVALFMUib9RFUDGXvPbRmMVQPq3PaIeaRVAyD2tS+JxFUBiSYyeaYMVQJai1mRBiRVAyvsgKxmPFUBkKEYOBZIVQGQHAH6goBVA",
          "dtype": "f8"
         },
         "yaxis": "y"
        },
        {
         "hovertemplate": "<b>%{hovertext}</b><br><br>region=Central and Eastern Europe<br>Wsparcie społeczne=%{x}<br>Life Ladder=%{y}<extra></extra>",
         "hovertext": [
          "Albania",
          "Albania",
          "Albania",
          "Albania",
          "Albania",
          "Albania",
          "Albania",
          "Albania",
          "Albania",
          "Albania",
          "Albania",
          "Albania",
          "Albania",
          "Armenia",
          "Armenia",
          "Armenia",
          "Armenia",
          "Armenia",
          "Armenia",
          "Armenia",
          "Armenia",
          "Armenia",
          "Armenia",
          "Armenia",
          "Armenia",
          "Armenia",
          "Armenia",
          "Azerbaijan",
          "Azerbaijan",
          "Azerbaijan",
          "Azerbaijan",
          "Azerbaijan",
          "Azerbaijan",
          "Azerbaijan",
          "Azerbaijan",
          "Azerbaijan",
          "Azerbaijan",
          "Azerbaijan",
          "Azerbaijan",
          "Azerbaijan",
          "Azerbaijan",
          "Belarus",
          "Belarus",
          "Belarus",
          "Belarus",
          "Belarus",
          "Belarus",
          "Belarus",
          "Belarus",
          "Belarus",
          "Belarus",
          "Belarus",
          "Belarus",
          "Belarus",
          "Belarus",
          "Bosnia and Herzegovina",
          "Bosnia and Herzegovina",
          "Bosnia and Herzegovina",
          "Bosnia and Herzegovina",
          "Bosnia and Herzegovina",
          "Bosnia and Herzegovina",
          "Bosnia and Herzegovina",
          "Bosnia and Herzegovina",
          "Bosnia and Herzegovina",
          "Bosnia and Herzegovina",
          "Bosnia and Herzegovina",
          "Bosnia and Herzegovina",
          "Bosnia and Herzegovina",
          "Bulgaria",
          "Bulgaria",
          "Bulgaria",
          "Bulgaria",
          "Bulgaria",
          "Bulgaria",
          "Bulgaria",
          "Bulgaria",
          "Bulgaria",
          "Bulgaria",
          "Bulgaria",
          "Bulgaria",
          "Croatia",
          "Croatia",
          "Croatia",
          "Croatia",
          "Croatia",
          "Croatia",
          "Croatia",
          "Croatia",
          "Croatia",
          "Croatia",
          "Croatia",
          "Croatia",
          "Croatia",
          "Czech Republic",
          "Czech Republic",
          "Czech Republic",
          "Czech Republic",
          "Czech Republic",
          "Czech Republic",
          "Czech Republic",
          "Czech Republic",
          "Czech Republic",
          "Czech Republic",
          "Czech Republic",
          "Czech Republic",
          "Estonia",
          "Estonia",
          "Estonia",
          "Estonia",
          "Estonia",
          "Estonia",
          "Estonia",
          "Estonia",
          "Estonia",
          "Estonia",
          "Estonia",
          "Estonia",
          "Estonia",
          "Estonia",
          "Georgia",
          "Georgia",
          "Georgia",
          "Georgia",
          "Georgia",
          "Georgia",
          "Georgia",
          "Georgia",
          "Georgia",
          "Georgia",
          "Georgia",
          "Georgia",
          "Georgia",
          "Georgia",
          "Georgia",
          "Hungary",
          "Hungary",
          "Hungary",
          "Hungary",
          "Hungary",
          "Hungary",
          "Hungary",
          "Hungary",
          "Hungary",
          "Hungary",
          "Hungary",
          "Hungary",
          "Hungary",
          "Hungary",
          "Kazakhstan",
          "Kazakhstan",
          "Kazakhstan",
          "Kazakhstan",
          "Kazakhstan",
          "Kazakhstan",
          "Kazakhstan",
          "Kazakhstan",
          "Kazakhstan",
          "Kazakhstan",
          "Kazakhstan",
          "Kazakhstan",
          "Kazakhstan",
          "Kazakhstan",
          "Kazakhstan",
          "Kosovo",
          "Kosovo",
          "Kosovo",
          "Kosovo",
          "Kosovo",
          "Kosovo",
          "Kosovo",
          "Kosovo",
          "Kosovo",
          "Kosovo",
          "Kosovo",
          "Kosovo",
          "Kosovo",
          "Kosovo",
          "Kyrgyzstan",
          "Kyrgyzstan",
          "Kyrgyzstan",
          "Kyrgyzstan",
          "Kyrgyzstan",
          "Kyrgyzstan",
          "Kyrgyzstan",
          "Kyrgyzstan",
          "Kyrgyzstan",
          "Kyrgyzstan",
          "Kyrgyzstan",
          "Kyrgyzstan",
          "Kyrgyzstan",
          "Kyrgyzstan",
          "Kyrgyzstan",
          "Latvia",
          "Latvia",
          "Latvia",
          "Latvia",
          "Latvia",
          "Latvia",
          "Latvia",
          "Latvia",
          "Latvia",
          "Latvia",
          "Latvia",
          "Latvia",
          "Latvia",
          "Latvia",
          "Lithuania",
          "Lithuania",
          "Lithuania",
          "Lithuania",
          "Lithuania",
          "Lithuania",
          "Lithuania",
          "Lithuania",
          "Lithuania",
          "Lithuania",
          "Lithuania",
          "Lithuania",
          "Lithuania",
          "Lithuania",
          "Lithuania",
          "Moldova",
          "Moldova",
          "Moldova",
          "Moldova",
          "Moldova",
          "Moldova",
          "Moldova",
          "Moldova",
          "Moldova",
          "Moldova",
          "Moldova",
          "Moldova",
          "Moldova",
          "Moldova",
          "Moldova",
          "Montenegro",
          "Montenegro",
          "Montenegro",
          "Montenegro",
          "Montenegro",
          "Montenegro",
          "Montenegro",
          "Montenegro",
          "Montenegro",
          "Montenegro",
          "Montenegro",
          "Montenegro",
          "Montenegro",
          "North Macedonia",
          "North Macedonia",
          "North Macedonia",
          "North Macedonia",
          "North Macedonia",
          "North Macedonia",
          "North Macedonia",
          "North Macedonia",
          "North Macedonia",
          "North Macedonia",
          "North Macedonia",
          "North Macedonia",
          "North Macedonia",
          "Poland",
          "Poland",
          "Poland",
          "Poland",
          "Poland",
          "Poland",
          "Poland",
          "Poland",
          "Poland",
          "Poland",
          "Poland",
          "Poland",
          "Poland",
          "Poland",
          "Romania",
          "Romania",
          "Romania",
          "Romania",
          "Romania",
          "Romania",
          "Romania",
          "Romania",
          "Romania",
          "Romania",
          "Romania",
          "Romania",
          "Romania",
          "Russia",
          "Russia",
          "Russia",
          "Russia",
          "Russia",
          "Russia",
          "Russia",
          "Russia",
          "Russia",
          "Russia",
          "Russia",
          "Russia",
          "Russia",
          "Russia",
          "Russia",
          "Serbia",
          "Serbia",
          "Serbia",
          "Serbia",
          "Serbia",
          "Serbia",
          "Serbia",
          "Serbia",
          "Serbia",
          "Serbia",
          "Serbia",
          "Serbia",
          "Serbia",
          "Slovakia",
          "Slovakia",
          "Slovakia",
          "Slovakia",
          "Slovakia",
          "Slovakia",
          "Slovakia",
          "Slovakia",
          "Slovakia",
          "Slovakia",
          "Slovakia",
          "Slovakia",
          "Slovenia",
          "Slovenia",
          "Slovenia",
          "Slovenia",
          "Slovenia",
          "Slovenia",
          "Slovenia",
          "Slovenia",
          "Slovenia",
          "Slovenia",
          "Slovenia",
          "Slovenia",
          "Slovenia",
          "Tajikistan",
          "Tajikistan",
          "Tajikistan",
          "Tajikistan",
          "Tajikistan",
          "Tajikistan",
          "Tajikistan",
          "Tajikistan",
          "Tajikistan",
          "Tajikistan",
          "Tajikistan",
          "Tajikistan",
          "Tajikistan",
          "Tajikistan",
          "Tajikistan",
          "Turkmenistan",
          "Turkmenistan",
          "Turkmenistan",
          "Turkmenistan",
          "Turkmenistan",
          "Turkmenistan",
          "Turkmenistan",
          "Turkmenistan",
          "Turkmenistan",
          "Turkmenistan",
          "Ukraine",
          "Ukraine",
          "Ukraine",
          "Ukraine",
          "Ukraine",
          "Ukraine",
          "Ukraine",
          "Ukraine",
          "Ukraine",
          "Ukraine",
          "Ukraine",
          "Ukraine",
          "Ukraine",
          "Ukraine",
          "Ukraine",
          "Uzbekistan",
          "Uzbekistan",
          "Uzbekistan",
          "Uzbekistan",
          "Uzbekistan",
          "Uzbekistan",
          "Uzbekistan",
          "Uzbekistan",
          "Uzbekistan",
          "Uzbekistan",
          "Uzbekistan",
          "Uzbekistan",
          "Uzbekistan"
         ],
         "legendgroup": "Central and Eastern Europe",
         "marker": {
          "color": "#ffe066",
          "symbol": "circle"
         },
         "mode": "markers",
         "name": "Central and Eastern Europe",
         "showlegend": true,
         "type": "scattergl",
         "x": {
          "bdata": "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",
          "dtype": "f8"
         },
         "xaxis": "x",
         "y": {
          "bdata": "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",
          "dtype": "f8"
         },
         "yaxis": "y"
        },
        {
         "hovertemplate": "<b>OLS trendline</b><br>life_ladder = 4.22556 * social_support + 1.81987<br>R<sup>2</sup>=0.386685<br><br>region=Central and Eastern Europe<br>Wsparcie społeczne=%{x}<br>Life Ladder=%{y} <b>(trend)</b><extra></extra>",
         "legendgroup": "Central and Eastern Europe",
         "marker": {
          "color": "#ffe066",
          "symbol": "circle"
         },
         "mode": "lines",
         "name": "Central and Eastern Europe",
         "showlegend": false,
         "type": "scattergl",
         "x": {
          "bdata": "f2q8dJMY4D8lBoGVQ4vgP3WTGARWDuE/dZMYBFYO4T9I4XoUrkfhP5zEILByaOE/8KfGSzeJ4T9CYOXQItvhPxfZzvdT4+E/4XoUrkfh4j/b+X5qvHTjP1g5tMh2vuM/1XjpJjEI5D/RItv5fmrkP9Ei2/l+auQ/ppvEILBy5D956SYxCKzkP05iEFg5tOQ/y6FFtvP95D8fhetRuB7lP57vp8ZLN+U/mpmZmZmZ5T9vEoPAyqHlP28Sg8DKoeU/w/UoXI/C5T9t5/up8dLlPxfZzvdT4+U/F9nO91Pj5T/ByqFFtvPlP5ZDi2zn++U/lkOLbOf75T8/NV66SQzmP7x0kxgEVuY/O99PjZdu5j8730+Nl27mP7pJDAIrh+Y/j8L1KFyP5j9kO99PjZfmPw4tsp3vp+Y/46WbxCCw5j/jpZvEILDmP7gehetRuOY/YOXQItv55j/fT42XbhLnP4lBYOXQIuc/iUFg5dAi5z9eukkMAivnPzMzMzMzM+c/MzMzMzMz5z8IrBxaZDvnP90kBoGVQ+c/hxbZzvdT5z/b+X5qvHTnP7ByaJHtfOc/hetRuB6F5z9aZDvfT43nP1pkO99Pjec/WmQ730+N5z/ZzvdT46XnP65H4XoUruc/rkfhehSu5z8AAAAAAADoP9V46SYxCOg/1XjpJjEI6D9/arx0kxjoP39qvHSTGOg/f2q8dJMY6D/TTWIQWDnoP30/NV66Seg/fT81XrpJ6D99PzVeuknoP30/NV66Seg/UrgehetR6D/8qfHSTWLoP1CNl24Sg+g/UI2XbhKD6D8lBoGVQ4voP/p+arx0k+g/pHA9Ctej6D+kcD0K16PoP6RwPQrXo+g/I9v5fmq86D8j2/l+arzoP83MzMzMzOg/okW28/3U6D93vp8aL93oP0w3iUFg5eg/IbByaJHt6D/LoUW28/3oP6AaL90kBuk/dZMYBFYO6T9KDAIrhxbpPx+F61G4Huk/9P3UeOkm6T/Jdr6fGi/pP8l2vp8aL+k/nu+nxks36T9I4XoUrkfpP0jhehSuR+k/8tJNYhBY6T/y0k1iEFjpP/LSTWIQWOk/x0s3iUFg6T9xPQrXo3DpP0a28/3UeOk/8KfGSzeJ6T/wp8ZLN4npP8UgsHJokek/mpmZmZmZ6T8ZBFYOLbLpP+58PzVeuuk/w/UoXI/C6T/D9Shcj8LpP8P1KFyPwuk/bef7qfHS6T9CYOXQItvpPxfZzvdT4+k/F9nO91Pj6T/sUbgehevpP8HKoUW28+k/wcqhRbbz6T+WQ4ts5/vpP5ZDi2zn++k/PzVeukkM6j8UrkfhehTqP+kmMQisHOo/6SYxCKwc6j+TGARWDi3qP5MYBFYOLeo/aJHtfD816j89CtejcD3qPxKDwMqhReo/5/up8dJN6j+R7Xw/NV7qPzvfT42Xbuo/5dAi2/l+6j+6SQwCK4fqP4/C9Shcj+o/ZDvfT42X6j85tMh2vp/qPzm0yHa+n+o/ObTIdr6f6j85tMh2vp/qPw4tsp3vp+o/Di2yne+n6j/jpZvEILDqP42XbhKDwOo/jZduEoPA6j+Nl24Sg8DqP2IQWDm0yOo/N4lBYOXQ6j83iUFg5dDqPwwCK4cW2eo/4XoUrkfh6j+LbOf7qfHqP2Dl0CLb+eo/YOXQItv56j81XrpJDALrPzVeukkMAus/NV66SQwC6z8K16NwPQrrPwrXo3A9Cus/30+Nl24S6z+0yHa+nxrrP4lBYOXQIus/XrpJDAIr6z8IrBxaZDvrPwisHFpkO+s/3SQGgZVD6z/dJAaBlUPrP7Kd76fGS+s/hxbZzvdT6z9cj8L1KFzrP1yPwvUoXOs/MQisHFpk6z8xCKwcWmTrPzEIrBxaZOs/BoGVQ4ts6z8GgZVDi2zrP9v5fmq8dOs/2/l+arx06z+wcmiR7XzrP7ByaJHtfOs/hetRuB6F6z+F61G4HoXrP1pkO99Pjes/WmQ730+N6z8EVg4tsp3rPwRWDi2ynes/g8DKoUW26z8CK4cW2c7rP6wcWmQ73+s/gZVDi2zn6z+BlUOLbOfrP1YOLbKd7+s/K4cW2c736z8rhxbZzvfrPwAAAAAAAOw/qvHSTWIQ7D+q8dJNYhDsP6rx0k1iEOw/qvHSTWIQ7D9/arx0kxjsP39qvHSTGOw/VOOlm8Qg7D8pXI/C9SjsPylcj8L1KOw//tR46SYx7D/+1HjpJjHsP/7UeOkmMew/001iEFg57D/TTWIQWDnsP9NNYhBYOew/qMZLN4lB7D+oxks3iUHsP6jGSzeJQew/fT81XrpJ7D99PzVeuknsP30/NV66Sew/fT81XrpJ7D9SuB6F61HsP1K4HoXrUew/UrgehetR7D9SuB6F61HsPycxCKwcWuw//Knx0k1i7D/8qfHSTWLsP/yp8dJNYuw/0SLb+X5q7D+mm8QgsHLsP6abxCCwcuw/UI2XbhKD7D8lBoGVQ4vsPyUGgZVDi+w/+n5qvHST7D/6fmq8dJPsP8/3U+Olm+w/z/dT46Wb7D+kcD0K16PsP6RwPQrXo+w/pHA9Ctej7D956SYxCKzsP3npJjEIrOw/eekmMQis7D9OYhBYObTsPyPb+X5qvOw/I9v5fmq87D8j2/l+arzsP/hT46WbxOw/zczMzMzM7D/NzMzMzMzsP83MzMzMzOw/okW28/3U7D+iRbbz/dTsP6JFtvP91Ow/okW28/3U7D+iRbbz/dTsP6JFtvP91Ow/d76fGi/d7D93vp8aL93sP0w3iUFg5ew/TDeJQWDl7D9MN4lBYOXsPyGwcmiR7ew/IbByaJHt7D8hsHJoke3sP/YoXI/C9ew/9ihcj8L17D/2KFyPwvXsP/YoXI/C9ew/y6FFtvP97D91kxgEVg7tP3WTGARWDu0/dZMYBFYO7T91kxgEVg7tP3WTGARWDu0/dZMYBFYO7T9KDAIrhxbtP0oMAiuHFu0/SgwCK4cW7T9KDAIrhxbtP0oMAiuHFu0/SgwCK4cW7T8fhetRuB7tPx+F61G4Hu0/H4XrUbge7T8fhetRuB7tPx+F61G4Hu0/9P3UeOkm7T/0/dR46SbtP/T91HjpJu0/yXa+nxov7T/Jdr6fGi/tP57vp8ZLN+0/nu+nxks37T+e76fGSzftP57vp8ZLN+0/c2iR7Xw/7T9zaJHtfD/tP3Noke18P+0/c2iR7Xw/7T9I4XoUrkftPx1aZDvfT+0/8tJNYhBY7T/y0k1iEFjtP/LSTWIQWO0/8tJNYhBY7T/y0k1iEFjtP/LSTWIQWO0/8tJNYhBY7T/HSzeJQWDtP8dLN4lBYO0/x0s3iUFg7T/HSzeJQWDtP5zEILByaO0/nMQgsHJo7T+cxCCwcmjtP3E9CtejcO0/Rrbz/dR47T8bL90kBoHtPxsv3SQGge0/8KfGSzeJ7T/wp8ZLN4ntP8UgsHJoke0/xSCwcmiR7T/FILByaJHtP8UgsHJoke0/xSCwcmiR7T/FILByaJHtP8UgsHJoke0/mpmZmZmZ7T9vEoPAyqHtP28Sg8DKoe0/bxKDwMqh7T9Ei2zn+6ntPxkEVg4tsu0/GQRWDi2y7T8ZBFYOLbLtP+58PzVeuu0/7nw/NV667T/ufD81XrrtP+58PzVeuu0/w/UoXI/C7T/D9Shcj8LtP5huEoPAyu0/mG4Sg8DK7T+YbhKDwMrtP5huEoPAyu0/bef7qfHS7T9t5/up8dLtP0Jg5dAi2+0/QmDl0CLb7T9CYOXQItvtP0Jg5dAi2+0/F9nO91Pj7T8X2c73U+PtPxfZzvdT4+0/wcqhRbbz7T/ByqFFtvPtP8HKoUW28+0/wcqhRbbz7T/ByqFFtvPtP5ZDi2zn++0/arx0kxgE7j9qvHSTGATuP+kmMQisHO4/6SYxCKwc7j/pJjEIrBzuP76fGi/dJO4/vp8aL90k7j+TGARWDi3uP5MYBFYOLe4/PQrXo3A97j89CtejcD3uPxKDwMqhRe4/5/up8dJN7j+8dJMYBFbuP5HtfD81Xu4/O99PjZdu7j8QWDm0yHbuP+XQItv5fu4/5dAi2/l+7j/l0CLb+X7uP7pJDAIrh+4/ukkMAiuH7j+PwvUoXI/uPw4tsp3vp+4/uB6F61G47j83iUFg5dDuPwwCK4cW2e4/DAIrhxbZ7j+28/3UeOnuP2Dl0CLb+e4/BoGVQ4ts7z+wcmiR7XzvPw==",
          "dtype": "f8"
         },
         "xaxis": "x",
         "y": {
          "bdata": "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",
          "dtype": "f8"
         },
         "yaxis": "y"
        },
        {
         "hovertemplate": "<b>%{hovertext}</b><br><br>region=Middle East and Northern Africa<br>Wsparcie społeczne=%{x}<br>Life Ladder=%{y}<extra></extra>",
         "hovertext": [
          "Algeria",
          "Algeria",
          "Algeria",
          "Algeria",
          "Algeria",
          "Algeria",
          "Algeria",
          "Algeria",
          "Bahrain",
          "Bahrain",
          "Bahrain",
          "Bahrain",
          "Bahrain",
          "Bahrain",
          "Bahrain",
          "Bahrain",
          "Bahrain",
          "Bahrain",
          "Bahrain",
          "Egypt",
          "Egypt",
          "Egypt",
          "Egypt",
          "Egypt",
          "Egypt",
          "Egypt",
          "Egypt",
          "Egypt",
          "Egypt",
          "Egypt",
          "Egypt",
          "Egypt",
          "Egypt",
          "Egypt",
          "Iran",
          "Iran",
          "Iran",
          "Iran",
          "Iran",
          "Iran",
          "Iran",
          "Iran",
          "Iran",
          "Iran",
          "Iran",
          "Iran",
          "Iran",
          "Iraq",
          "Iraq",
          "Iraq",
          "Iraq",
          "Iraq",
          "Iraq",
          "Iraq",
          "Iraq",
          "Iraq",
          "Iraq",
          "Iraq",
          "Iraq",
          "Israel",
          "Israel",
          "Israel",
          "Israel",
          "Israel",
          "Israel",
          "Israel",
          "Israel",
          "Israel",
          "Israel",
          "Israel",
          "Israel",
          "Israel",
          "Israel",
          "Israel",
          "Jordan",
          "Jordan",
          "Jordan",
          "Jordan",
          "Jordan",
          "Jordan",
          "Jordan",
          "Jordan",
          "Jordan",
          "Jordan",
          "Jordan",
          "Jordan",
          "Jordan",
          "Jordan",
          "Jordan",
          "Kuwait",
          "Kuwait",
          "Kuwait",
          "Kuwait",
          "Kuwait",
          "Kuwait",
          "Kuwait",
          "Kuwait",
          "Kuwait",
          "Kuwait",
          "Kuwait",
          "Lebanon",
          "Lebanon",
          "Lebanon",
          "Lebanon",
          "Lebanon",
          "Lebanon",
          "Lebanon",
          "Lebanon",
          "Lebanon",
          "Lebanon",
          "Lebanon",
          "Lebanon",
          "Lebanon",
          "Lebanon",
          "Libya",
          "Libya",
          "Libya",
          "Libya",
          "Libya",
          "Libya",
          "Morocco",
          "Morocco",
          "Morocco",
          "Morocco",
          "Morocco",
          "Morocco",
          "Morocco",
          "Morocco",
          "Morocco",
          "Morocco",
          "Oman",
          "Palestinian Territories",
          "Palestinian Territories",
          "Palestinian Territories",
          "Palestinian Territories",
          "Palestinian Territories",
          "Palestinian Territories",
          "Palestinian Territories",
          "Palestinian Territories",
          "Palestinian Territories",
          "Palestinian Territories",
          "Palestinian Territories",
          "Palestinian Territories",
          "Palestinian Territories",
          "Palestinian Territories",
          "Qatar",
          "Qatar",
          "Qatar",
          "Qatar",
          "Qatar",
          "Saudi Arabia",
          "Saudi Arabia",
          "Saudi Arabia",
          "Saudi Arabia",
          "Saudi Arabia",
          "Saudi Arabia",
          "Saudi Arabia",
          "Saudi Arabia",
          "Saudi Arabia",
          "Saudi Arabia",
          "Saudi Arabia",
          "Saudi Arabia",
          "Saudi Arabia",
          "Saudi Arabia",
          "Saudi Arabia",
          "Syria",
          "Syria",
          "Syria",
          "Syria",
          "Syria",
          "Syria",
          "Syria",
          "Tunisia",
          "Tunisia",
          "Tunisia",
          "Tunisia",
          "Tunisia",
          "Tunisia",
          "Tunisia",
          "Tunisia",
          "Tunisia",
          "Tunisia",
          "Tunisia",
          "Tunisia",
          "Turkey",
          "Turkey",
          "Turkey",
          "Turkey",
          "Turkey",
          "Turkey",
          "Turkey",
          "Turkey",
          "Turkey",
          "Turkey",
          "Turkey",
          "Turkey",
          "Turkey",
          "Turkey",
          "Turkey",
          "United Arab Emirates",
          "United Arab Emirates",
          "United Arab Emirates",
          "United Arab Emirates",
          "United Arab Emirates",
          "United Arab Emirates",
          "United Arab Emirates",
          "United Arab Emirates",
          "United Arab Emirates",
          "United Arab Emirates",
          "United Arab Emirates",
          "United Arab Emirates",
          "United Arab Emirates",
          "Yemen",
          "Yemen",
          "Yemen",
          "Yemen",
          "Yemen",
          "Yemen",
          "Yemen",
          "Yemen",
          "Yemen",
          "Yemen",
          "Yemen",
          "Yemen"
         ],
         "legendgroup": "Middle East and Northern Africa",
         "marker": {
          "color": "#ffc14d",
          "symbol": "circle"
         },
         "mode": "markers",
         "name": "Middle East and Northern Africa",
         "showlegend": true,
         "type": "scattergl",
         "x": {
          "bdata": "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",
          "dtype": "f8"
         },
         "xaxis": "x",
         "y": {
          "bdata": "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",
          "dtype": "f8"
         },
         "yaxis": "y"
        },
        {
         "hovertemplate": "<b>OLS trendline</b><br>life_ladder = 6.90426 * social_support + -0.0532549<br>R<sup>2</sup>=0.428142<br><br>region=Middle East and Northern Africa<br>Wsparcie społeczne=%{x}<br>Life Ladder=%{y} <b>(trend)</b><extra></extra>",
         "legendgroup": "Middle East and Northern Africa",
         "marker": {
          "color": "#ffc14d",
          "symbol": "circle"
         },
         "mode": "lines",
         "name": "Middle East and Northern Africa",
         "showlegend": false,
         "type": "scattergl",
         "x": {
          "bdata": "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",
          "dtype": "f8"
         },
         "xaxis": "x",
         "y": {
          "bdata": "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",
          "dtype": "f8"
         },
         "yaxis": "y"
        },
        {
         "hovertemplate": "<b>%{hovertext}</b><br><br>region=Sub-Saharan Africa<br>Wsparcie społeczne=%{x}<br>Life Ladder=%{y}<extra></extra>",
         "hovertext": [
          "Angola",
          "Angola",
          "Angola",
          "Angola",
          "Benin",
          "Benin",
          "Benin",
          "Benin",
          "Benin",
          "Benin",
          "Benin",
          "Benin",
          "Benin",
          "Benin",
          "Benin",
          "Benin",
          "Botswana",
          "Botswana",
          "Botswana",
          "Botswana",
          "Botswana",
          "Botswana",
          "Botswana",
          "Botswana",
          "Botswana",
          "Botswana",
          "Botswana",
          "Botswana",
          "Burkina Faso",
          "Burkina Faso",
          "Burkina Faso",
          "Burkina Faso",
          "Burkina Faso",
          "Burkina Faso",
          "Burkina Faso",
          "Burkina Faso",
          "Burkina Faso",
          "Burkina Faso",
          "Burkina Faso",
          "Burkina Faso",
          "Burkina Faso",
          "Burundi",
          "Burundi",
          "Burundi",
          "Burundi",
          "Burundi",
          "Cameroon",
          "Cameroon",
          "Cameroon",
          "Cameroon",
          "Cameroon",
          "Cameroon",
          "Cameroon",
          "Cameroon",
          "Cameroon",
          "Cameroon",
          "Cameroon",
          "Cameroon",
          "Cameroon",
          "Cameroon",
          "Cameroon",
          "Central African Republic",
          "Central African Republic",
          "Central African Republic",
          "Central African Republic",
          "Central African Republic",
          "Chad",
          "Chad",
          "Chad",
          "Chad",
          "Chad",
          "Chad",
          "Chad",
          "Chad",
          "Chad",
          "Chad",
          "Chad",
          "Chad",
          "Chad",
          "Chad",
          "Comoros",
          "Comoros",
          "Comoros",
          "Comoros",
          "Comoros",
          "Comoros",
          "Congo (Brazzaville)",
          "Congo (Brazzaville)",
          "Congo (Brazzaville)",
          "Congo (Brazzaville)",
          "Congo (Brazzaville)",
          "Congo (Brazzaville)",
          "Congo (Brazzaville)",
          "Congo (Brazzaville)",
          "Congo (Brazzaville)",
          "Congo (Brazzaville)",
          "Congo (Kinshasa)",
          "Congo (Kinshasa)",
          "Congo (Kinshasa)",
          "Congo (Kinshasa)",
          "Congo (Kinshasa)",
          "Congo (Kinshasa)",
          "Congo (Kinshasa)",
          "Congo (Kinshasa)",
          "Djibouti",
          "Djibouti",
          "Djibouti",
          "Djibouti",
          "Ethiopia",
          "Ethiopia",
          "Ethiopia",
          "Ethiopia",
          "Ethiopia",
          "Ethiopia",
          "Ethiopia",
          "Ethiopia",
          "Ethiopia",
          "Gabon",
          "Gabon",
          "Gabon",
          "Gabon",
          "Gabon",
          "Gabon",
          "Gabon",
          "Gabon",
          "Gabon",
          "Gambia",
          "Gambia",
          "Gambia",
          "Ghana",
          "Ghana",
          "Ghana",
          "Ghana",
          "Ghana",
          "Ghana",
          "Ghana",
          "Ghana",
          "Ghana",
          "Ghana",
          "Ghana",
          "Ghana",
          "Ghana",
          "Ghana",
          "Ghana",
          "Guinea",
          "Guinea",
          "Guinea",
          "Guinea",
          "Guinea",
          "Guinea",
          "Guinea",
          "Guinea",
          "Guinea",
          "Ivory Coast",
          "Ivory Coast",
          "Ivory Coast",
          "Ivory Coast",
          "Ivory Coast",
          "Ivory Coast",
          "Ivory Coast",
          "Ivory Coast",
          "Ivory Coast",
          "Kenya",
          "Kenya",
          "Kenya",
          "Kenya",
          "Kenya",
          "Kenya",
          "Kenya",
          "Kenya",
          "Kenya",
          "Kenya",
          "Kenya",
          "Kenya",
          "Kenya",
          "Kenya",
          "Kenya",
          "Lesotho",
          "Lesotho",
          "Lesotho",
          "Lesotho",
          "Liberia",
          "Liberia",
          "Liberia",
          "Liberia",
          "Liberia",
          "Liberia",
          "Liberia",
          "Liberia",
          "Liberia",
          "Madagascar",
          "Madagascar",
          "Madagascar",
          "Madagascar",
          "Madagascar",
          "Madagascar",
          "Madagascar",
          "Madagascar",
          "Madagascar",
          "Madagascar",
          "Madagascar",
          "Malawi",
          "Malawi",
          "Malawi",
          "Malawi",
          "Malawi",
          "Malawi",
          "Malawi",
          "Malawi",
          "Malawi",
          "Malawi",
          "Malawi",
          "Malawi",
          "Mali",
          "Mali",
          "Mali",
          "Mali",
          "Mali",
          "Mali",
          "Mali",
          "Mali",
          "Mali",
          "Mali",
          "Mali",
          "Mali",
          "Mali",
          "Mauritania",
          "Mauritania",
          "Mauritania",
          "Mauritania",
          "Mauritania",
          "Mauritania",
          "Mauritania",
          "Mauritania",
          "Mauritania",
          "Mauritania",
          "Mauritania",
          "Mauritania",
          "Mauritania",
          "Mauritius",
          "Mauritius",
          "Mauritius",
          "Mauritius",
          "Mauritius",
          "Mauritius",
          "Mauritius",
          "Mozambique",
          "Mozambique",
          "Mozambique",
          "Mozambique",
          "Mozambique",
          "Mozambique",
          "Mozambique",
          "Mozambique",
          "Namibia",
          "Namibia",
          "Namibia",
          "Namibia",
          "Namibia",
          "Namibia",
          "Niger",
          "Niger",
          "Niger",
          "Niger",
          "Niger",
          "Niger",
          "Niger",
          "Niger",
          "Niger",
          "Niger",
          "Niger",
          "Niger",
          "Niger",
          "Niger",
          "Nigeria",
          "Nigeria",
          "Nigeria",
          "Nigeria",
          "Nigeria",
          "Nigeria",
          "Nigeria",
          "Nigeria",
          "Nigeria",
          "Nigeria",
          "Nigeria",
          "Nigeria",
          "Nigeria",
          "Rwanda",
          "Rwanda",
          "Rwanda",
          "Rwanda",
          "Rwanda",
          "Rwanda",
          "Rwanda",
          "Rwanda",
          "Rwanda",
          "Rwanda",
          "Rwanda",
          "Rwanda",
          "Senegal",
          "Senegal",
          "Senegal",
          "Senegal",
          "Senegal",
          "Senegal",
          "Senegal",
          "Senegal",
          "Senegal",
          "Senegal",
          "Senegal",
          "Senegal",
          "Senegal",
          "Senegal",
          "Sierra Leone",
          "Sierra Leone",
          "Sierra Leone",
          "Sierra Leone",
          "Sierra Leone",
          "Sierra Leone",
          "Sierra Leone",
          "Sierra Leone",
          "Sierra Leone",
          "Sierra Leone",
          "Sierra Leone",
          "Sierra Leone",
          "Somalia",
          "Somalia",
          "Somalia",
          "Somaliland region",
          "Somaliland region",
          "Somaliland region",
          "Somaliland region",
          "South Africa",
          "South Africa",
          "South Africa",
          "South Africa",
          "South Africa",
          "South Africa",
          "South Africa",
          "South Africa",
          "South Africa",
          "South Africa",
          "South Africa",
          "South Africa",
          "South Africa",
          "South Africa",
          "South Africa",
          "South Sudan",
          "South Sudan",
          "South Sudan",
          "South Sudan",
          "Sudan",
          "Sudan",
          "Sudan",
          "Sudan",
          "Sudan",
          "Swaziland",
          "Swaziland",
          "Swaziland",
          "Tanzania",
          "Tanzania",
          "Tanzania",
          "Tanzania",
          "Tanzania",
          "Tanzania",
          "Tanzania",
          "Tanzania",
          "Tanzania",
          "Tanzania",
          "Tanzania",
          "Tanzania",
          "Tanzania",
          "Tanzania",
          "Tanzania",
          "Togo",
          "Togo",
          "Togo",
          "Togo",
          "Togo",
          "Togo",
          "Togo",
          "Togo",
          "Togo",
          "Uganda",
          "Uganda",
          "Uganda",
          "Uganda",
          "Uganda",
          "Uganda",
          "Uganda",
          "Uganda",
          "Uganda",
          "Uganda",
          "Uganda",
          "Uganda",
          "Uganda",
          "Uganda",
          "Uganda",
          "Zambia",
          "Zambia",
          "Zambia",
          "Zambia",
          "Zambia",
          "Zambia",
          "Zambia",
          "Zambia",
          "Zambia",
          "Zambia",
          "Zambia",
          "Zambia",
          "Zambia",
          "Zambia",
          "Zimbabwe",
          "Zimbabwe",
          "Zimbabwe",
          "Zimbabwe",
          "Zimbabwe",
          "Zimbabwe",
          "Zimbabwe",
          "Zimbabwe",
          "Zimbabwe",
          "Zimbabwe",
          "Zimbabwe",
          "Zimbabwe",
          "Zimbabwe",
          "Zimbabwe",
          "Zimbabwe"
         ],
         "legendgroup": "Sub-Saharan Africa",
         "marker": {
          "color": "#ff9933",
          "symbol": "circle"
         },
         "mode": "markers",
         "name": "Sub-Saharan Africa",
         "showlegend": true,
         "type": "scattergl",
         "x": {
          "bdata": "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",
          "dtype": "f8"
         },
         "xaxis": "x",
         "y": {
          "bdata": "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",
          "dtype": "f8"
         },
         "yaxis": "y"
        },
        {
         "hovertemplate": "<b>OLS trendline</b><br>life_ladder = 1.87879 * social_support + 2.96456<br>R<sup>2</sup>=0.121987<br><br>region=Sub-Saharan Africa<br>Wsparcie społeczne=%{x}<br>Life Ladder=%{y} <b>(trend)</b><extra></extra>",
         "legendgroup": "Sub-Saharan Africa",
         "marker": {
          "color": "#ff9933",
          "symbol": "circle"
         },
         "mode": "lines",
         "name": "Sub-Saharan Africa",
         "showlegend": false,
         "type": "scattergl",
         "x": {
          "bdata": "j8L1KFyP0j85tMh2vp/SPzm0yHa+n9I/MQisHFpk0z97FK5H4XrUP3e+nxov3dQ/ppvEILBy2D/4U+Olm8TYPzVeukkMAts/LbKd76fG2z/Xo3A9CtfbP4GVQ4ts59s/fT81XrpJ3D/RItv5fmrcP3sUrkfhetw/ukkMAiuH3j8OLbKd76fePw4tsp3vp94/tvP91Hjp3j8K16NwPQrfP7TIdr6fGt8/sp3vp8ZL3z9aZDvfT43fPwRWDi2ynd8/VOOlm8Qg4D/+1HjpJjHgP9NNYhBYOeA/qMZLN4lB4D99PzVeukngP/yp8dJNYuA/JQaBlUOL4D8j2/l+arzgP/hT46WbxOA/TDeJQWDl4D+gGi/dJAbhP6AaL90kBuE/c2iR7Xw/4T/y0k1iEFjhP3E9CtejcOE/xSCwcmiR4T/ufD81XrrhP8P1KFyPwuE/w/UoXI/C4T9t5/up8dLhPxfZzvdT4+E/wcqhRbbz4T9qvHSTGATiPxSuR+F6FOI/vp8aL90k4j89CtejcD3iPxKDwMqhReI/EFg5tMh24j8QWDm0yHbiP7pJDAIrh+I/ObTIdr6f4j+4HoXrUbjiP7bz/dR46eI/NV66SQwC4z81XrpJDALjP99PjZduEuM/iUFg5dAi4z9eukkMAivjPzMzMzMzM+M/3SQGgZVD4z/dJAaBlUPjP4cW2c73U+M/BoGVQ4ts4z9aZDvfT43jP1pkO99PjeM/WmQ730+N4z8v3SQGgZXjPwRWDi2yneM/BFYOLbKd4z+uR+F6FK7jP4PAyqFFtuM/g8DKoUW24z9YObTIdr7jPwIrhxbZzuM/rBxaZDvf4z+sHFpkO9/jP6wcWmQ73+M/gZVDi2zn4z+BlUOLbOfjPyuHFtnO9+M/AAAAAAAA5D/VeOkmMQjkP9V46SYxCOQ/VOOlm8Qg5D8pXI/C9SjkP9NNYhBYOeQ/qMZLN4lB5D+oxks3iUHkP30/NV66SeQ//Knx0k1i5D/8qfHSTWLkP9Ei2/l+auQ/0SLb+X5q5D/RItv5fmrkP9Ei2/l+auQ/exSuR+F65D97FK5H4XrkPyUGgZVDi+Q/+n5qvHST5D/6fmq8dJPkP3npJjEIrOQ/eekmMQis5D9OYhBYObTkP05iEFg5tOQ/zczMzMzM5D+iRbbz/dTkP3e+nxov3eQ/TDeJQWDl5D/2KFyPwvXkP/YoXI/C9eQ/9ihcj8L15D/2KFyPwvXkP6AaL90kBuU/SgwCK4cW5T9KDAIrhxblP/T91HjpJuU/9P3UeOkm5T+e76fGSzflP0jhehSuR+U/SOF6FK5H5T8dWmQ730/lPx1aZDvfT+U/8tJNYhBY5T+cxCCwcmjlP3E9CtejcOU/cT0K16Nw5T/wp8ZLN4nlP/Cnxks3ieU/8KfGSzeJ5T/FILByaJHlP5qZmZmZmeU/mpmZmZmZ5T9vEoPAyqHlP28Sg8DKoeU/RIts5/up5T9Ei2zn+6nlP0SLbOf7qeU/GQRWDi2y5T8ZBFYOLbLlP+58PzVeuuU/w/UoXI/C5T9t5/up8dLlP0Jg5dAi2+U/QmDl0CLb5T/sUbgehevlP+xRuB6F6+U/7FG4HoXr5T/ByqFFtvPlP8HKoUW28+U/lkOLbOf75T+WQ4ts5/vlP2q8dJMYBOY/arx0kxgE5j8UrkfhehTmPxSuR+F6FOY/6SYxCKwc5j++nxov3STmP2iR7Xw/NeY/PQrXo3A95j8Sg8DKoUXmP+f7qfHSTeY/5/up8dJN5j9mZmZmZmbmPzvfT42XbuY/EFg5tMh25j+6SQwCK4fmP4/C9Shcj+Y/j8L1KFyP5j9kO99PjZfmP2Q730+Nl+Y/ObTIdr6f5j8OLbKd76fmPw4tsp3vp+Y/Di2yne+n5j/jpZvEILDmP7gehetRuOY/jZduEoPA5j+Nl24Sg8DmP42XbhKDwOY/jZduEoPA5j9iEFg5tMjmPzeJQWDl0OY/DAIrhxbZ5j/hehSuR+HmP4ts5/up8eY/i2zn+6nx5j9g5dAi2/nmP2Dl0CLb+eY/YOXQItv55j9g5dAi2/nmP2Dl0CLb+eY/NV66SQwC5z81XrpJDALnPwrXo3A9Cuc/30+Nl24S5z+0yHa+nxrnP7TIdr6fGuc/tMh2vp8a5z+JQWDl0CLnP166SQwCK+c/XrpJDAIr5z8IrBxaZDvnP90kBoGVQ+c/3SQGgZVD5z+yne+nxkvnP4cW2c73U+c/XI/C9Shc5z/b+X5qvHTnP9v5fmq8dOc/2/l+arx05z/b+X5qvHTnP9v5fmq8dOc/2/l+arx05z+wcmiR7XznP7ByaJHtfOc/sHJoke185z+F61G4HoXnP1pkO99Pjec/WmQ730+N5z8EVg4tsp3nPwRWDi2ynec/2c73U+Ol5z/ZzvdT46XnP9nO91Pjpec/rkfhehSu5z+uR+F6FK7nP65H4XoUruc/rkfhehSu5z+DwMqhRbbnP4PAyqFFtuc/g8DKoUW25z+DwMqhRbbnP1g5tMh2vuc/WDm0yHa+5z8tsp3vp8bnPwIrhxbZzuc/AiuHFtnO5z8CK4cW2c7nPwIrhxbZzuc/16NwPQrX5z+sHFpkO9/nP6wcWmQ73+c/gZVDi2zn5z+BlUOLbOfnP1YOLbKd7+c/Vg4tsp3v5z9WDi2yne/nPwAAAAAAAOg/AAAAAAAA6D/VeOkmMQjoP9V46SYxCOg/f2q8dJMY6D9/arx0kxjoP1TjpZvEIOg/VOOlm8Qg6D8pXI/C9SjoPylcj8L1KOg//tR46SYx6D/+1HjpJjHoP/7UeOkmMeg/fT81XrpJ6D99PzVeuknoP30/NV66Seg/UrgehetR6D9SuB6F61HoP1K4HoXrUeg/UrgehetR6D8nMQisHFroPycxCKwcWug/JzEIrBxa6D/RItv5fmroP9Ei2/l+aug/0SLb+X5q6D+mm8QgsHLoP3sUrkfheug/UI2XbhKD6D8lBoGVQ4voPyUGgZVDi+g/JQaBlUOL6D/6fmq8dJPoP/p+arx0k+g/+n5qvHST6D/P91PjpZvoP6RwPQrXo+g/eekmMQis6D956SYxCKzoPyPb+X5qvOg/+FPjpZvE6D/4U+Olm8ToP83MzMzMzOg/okW28/3U6D93vp8aL93oP0w3iUFg5eg/IbByaJHt6D8hsHJoke3oP/YoXI/C9eg/9ihcj8L16D/2KFyPwvXoP6AaL90kBuk/oBov3SQG6T91kxgEVg7pPx+F61G4Huk/H4XrUbge6T8fhetRuB7pPx+F61G4Huk/9P3UeOkm6T+e76fGSzfpP57vp8ZLN+k/c2iR7Xw/6T9zaJHtfD/pP0jhehSuR+k/SOF6FK5H6T9xPQrXo3DpP0a28/3UeOk/Rrbz/dR46T/wp8ZLN4npP/Cnxks3iek/8KfGSzeJ6T/FILByaJHpP5qZmZmZmek/mpmZmZmZ6T9Ei2zn+6npPxkEVg4tsuk/w/UoXI/C6T/D9Shcj8LpP8P1KFyPwuk/mG4Sg8DK6T9t5/up8dLpP+xRuB6F6+k/7FG4HoXr6T/ByqFFtvPpP5ZDi2zn++k/lkOLbOf76T9qvHSTGATqP2q8dJMYBOo/arx0kxgE6j/pJjEIrBzqP5MYBFYOLeo/kxgEVg4t6j+TGARWDi3qP5MYBFYOLeo/kxgEVg4t6j9oke18PzXqP2iR7Xw/Neo/PQrXo3A96j8Sg8DKoUXqP+f7qfHSTeo/5/up8dJN6j+8dJMYBFbqP7x0kxgEVuo/vHSTGARW6j+R7Xw/NV7qP5HtfD81Xuo/ZmZmZmZm6j8QWDm0yHbqPxBYObTIduo/5dAi2/l+6j/l0CLb+X7qP+XQItv5fuo/ukkMAiuH6j+6SQwCK4fqP4/C9Shcj+o/j8L1KFyP6j+PwvUoXI/qP2Q730+Nl+o/ObTIdr6f6j85tMh2vp/qP42XbhKDwOo/jZduEoPA6j9iEFg5tMjqP2IQWDm0yOo/YhBYObTI6j8MAiuHFtnqPwwCK4cW2eo/tvP91Hjp6j+28/3UeOnqP2Dl0CLb+eo/YOXQItv56j8K16NwPQrrPwrXo3A9Cus/30+Nl24S6z+JQWDl0CLrP90kBoGVQ+s/sp3vp8ZL6z9cj8L1KFzrPzEIrBxaZOs/MQisHFpk6z8GgZVDi2zrPwaBlUOLbOs/2/l+arx06z+wcmiR7XzrP4XrUbgehes/2c73U+Ol6z/ZzvdT46XrP9nO91Pjpes/rkfhehSu6z+DwMqhRbbrPwIrhxbZzus/16NwPQrX6z8AAAAAAADsPwAAAAAAAOw/qvHSTWIQ7D9/arx0kxjsP1TjpZvEIOw/KVyPwvUo7D/+1HjpJjHsP9NNYhBYOew/qMZLN4lB7D+oxks3iUHsP1K4HoXrUew/UI2XbhKD7D/6fmq8dJPsP3npJjEIrOw/I9v5fmq87D+iRbbz/dTsP6AaL90kBu0/SgwCK4cW7T9KDAIrhxbtPx+F61G4Hu0/9P3UeOkm7T+e76fGSzftP57vp8ZLN+0/8tJNYhBY7T8=",
          "dtype": "f8"
         },
         "xaxis": "x",
         "y": {
          "bdata": "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",
          "dtype": "f8"
         },
         "yaxis": "y"
        },
        {
         "hovertemplate": "<b>%{hovertext}</b><br><br>region=Latin America and Caribbean<br>Wsparcie społeczne=%{x}<br>Life Ladder=%{y}<extra></extra>",
         "hovertext": [
          "Argentina",
          "Argentina",
          "Argentina",
          "Argentina",
          "Argentina",
          "Argentina",
          "Argentina",
          "Argentina",
          "Argentina",
          "Argentina",
          "Argentina",
          "Argentina",
          "Argentina",
          "Argentina",
          "Argentina",
          "Bolivia",
          "Bolivia",
          "Bolivia",
          "Bolivia",
          "Bolivia",
          "Bolivia",
          "Bolivia",
          "Bolivia",
          "Bolivia",
          "Bolivia",
          "Bolivia",
          "Bolivia",
          "Bolivia",
          "Bolivia",
          "Bolivia",
          "Brazil",
          "Brazil",
          "Brazil",
          "Brazil",
          "Brazil",
          "Brazil",
          "Brazil",
          "Brazil",
          "Brazil",
          "Brazil",
          "Brazil",
          "Brazil",
          "Brazil",
          "Brazil",
          "Brazil",
          "Chile",
          "Chile",
          "Chile",
          "Chile",
          "Chile",
          "Chile",
          "Chile",
          "Chile",
          "Chile",
          "Chile",
          "Chile",
          "Chile",
          "Chile",
          "Chile",
          "Chile",
          "Colombia",
          "Colombia",
          "Colombia",
          "Colombia",
          "Colombia",
          "Colombia",
          "Colombia",
          "Colombia",
          "Colombia",
          "Colombia",
          "Colombia",
          "Colombia",
          "Colombia",
          "Colombia",
          "Colombia",
          "Costa Rica",
          "Costa Rica",
          "Costa Rica",
          "Costa Rica",
          "Costa Rica",
          "Costa Rica",
          "Costa Rica",
          "Costa Rica",
          "Costa Rica",
          "Costa Rica",
          "Costa Rica",
          "Costa Rica",
          "Costa Rica",
          "Costa Rica",
          "Cuba",
          "Dominican Republic",
          "Dominican Republic",
          "Dominican Republic",
          "Dominican Republic",
          "Dominican Republic",
          "Dominican Republic",
          "Dominican Republic",
          "Dominican Republic",
          "Dominican Republic",
          "Dominican Republic",
          "Dominican Republic",
          "Dominican Republic",
          "Dominican Republic",
          "Dominican Republic",
          "Dominican Republic",
          "Ecuador",
          "Ecuador",
          "Ecuador",
          "Ecuador",
          "Ecuador",
          "Ecuador",
          "Ecuador",
          "Ecuador",
          "Ecuador",
          "Ecuador",
          "Ecuador",
          "Ecuador",
          "Ecuador",
          "Ecuador",
          "Ecuador",
          "El Salvador",
          "El Salvador",
          "El Salvador",
          "El Salvador",
          "El Salvador",
          "El Salvador",
          "El Salvador",
          "El Salvador",
          "El Salvador",
          "El Salvador",
          "El Salvador",
          "El Salvador",
          "El Salvador",
          "El Salvador",
          "El Salvador",
          "Guatemala",
          "Guatemala",
          "Guatemala",
          "Guatemala",
          "Guatemala",
          "Guatemala",
          "Guatemala",
          "Guatemala",
          "Guatemala",
          "Guatemala",
          "Guatemala",
          "Guatemala",
          "Guatemala",
          "Guatemala",
          "Haiti",
          "Haiti",
          "Haiti",
          "Haiti",
          "Haiti",
          "Haiti",
          "Haiti",
          "Haiti",
          "Haiti",
          "Haiti",
          "Haiti",
          "Honduras",
          "Honduras",
          "Honduras",
          "Honduras",
          "Honduras",
          "Honduras",
          "Honduras",
          "Honduras",
          "Honduras",
          "Honduras",
          "Honduras",
          "Honduras",
          "Honduras",
          "Honduras",
          "Jamaica",
          "Jamaica",
          "Jamaica",
          "Jamaica",
          "Jamaica",
          "Jamaica",
          "Mexico",
          "Mexico",
          "Mexico",
          "Mexico",
          "Mexico",
          "Mexico",
          "Mexico",
          "Mexico",
          "Mexico",
          "Mexico",
          "Mexico",
          "Mexico",
          "Mexico",
          "Mexico",
          "Mexico",
          "Nicaragua",
          "Nicaragua",
          "Nicaragua",
          "Nicaragua",
          "Nicaragua",
          "Nicaragua",
          "Nicaragua",
          "Nicaragua",
          "Nicaragua",
          "Nicaragua",
          "Nicaragua",
          "Nicaragua",
          "Nicaragua",
          "Nicaragua",
          "Panama",
          "Panama",
          "Panama",
          "Panama",
          "Panama",
          "Panama",
          "Panama",
          "Panama",
          "Panama",
          "Panama",
          "Panama",
          "Panama",
          "Panama",
          "Panama",
          "Paraguay",
          "Paraguay",
          "Paraguay",
          "Paraguay",
          "Paraguay",
          "Paraguay",
          "Paraguay",
          "Paraguay",
          "Paraguay",
          "Paraguay",
          "Paraguay",
          "Paraguay",
          "Paraguay",
          "Peru",
          "Peru",
          "Peru",
          "Peru",
          "Peru",
          "Peru",
          "Peru",
          "Peru",
          "Peru",
          "Peru",
          "Peru",
          "Peru",
          "Peru",
          "Peru",
          "Suriname",
          "Trinidad and Tobago",
          "Trinidad and Tobago",
          "Trinidad and Tobago",
          "Trinidad and Tobago",
          "Trinidad and Tobago",
          "Uruguay",
          "Uruguay",
          "Uruguay",
          "Uruguay",
          "Uruguay",
          "Uruguay",
          "Uruguay",
          "Uruguay",
          "Uruguay",
          "Uruguay",
          "Uruguay",
          "Uruguay",
          "Uruguay",
          "Uruguay",
          "Uruguay",
          "Venezuela",
          "Venezuela",
          "Venezuela",
          "Venezuela",
          "Venezuela",
          "Venezuela",
          "Venezuela",
          "Venezuela",
          "Venezuela",
          "Venezuela",
          "Venezuela",
          "Venezuela",
          "Venezuela",
          "Venezuela",
          "Venezuela"
         ],
         "legendgroup": "Latin America and Caribbean",
         "marker": {
          "color": "#ff6600",
          "symbol": "circle"
         },
         "mode": "markers",
         "name": "Latin America and Caribbean",
         "showlegend": true,
         "type": "scattergl",
         "x": {
          "bdata": "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",
          "dtype": "f8"
         },
         "xaxis": "x",
         "y": {
          "bdata": "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",
          "dtype": "f8"
         },
         "yaxis": "y"
        },
        {
         "hovertemplate": "<b>OLS trendline</b><br>life_ladder = 6.01935 * social_support + 0.872875<br>R<sup>2</sup>=0.308792<br><br>region=Latin America and Caribbean<br>Wsparcie społeczne=%{x}<br>Life Ladder=%{y} <b>(trend)</b><extra></extra>",
         "legendgroup": "Latin America and Caribbean",
         "marker": {
          "color": "#ff6600",
          "symbol": "circle"
         },
         "mode": "lines",
         "name": "Latin America and Caribbean",
         "showlegend": false,
         "type": "scattergl",
         "x": {
          "bdata": "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",
          "dtype": "f8"
         },
         "xaxis": "x",
         "y": {
          "bdata": "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",
          "dtype": "f8"
         },
         "yaxis": "y"
        },
        {
         "hovertemplate": "<b>%{hovertext}</b><br><br>region=Australia and New Zealand<br>Wsparcie społeczne=%{x}<br>Life Ladder=%{y}<extra></extra>",
         "hovertext": [
          "Australia",
          "Australia",
          "Australia",
          "Australia",
          "Australia",
          "Australia",
          "Australia",
          "Australia",
          "Australia",
          "Australia",
          "Australia",
          "Australia",
          "Australia",
          "Australia",
          "New Zealand",
          "New Zealand",
          "New Zealand",
          "New Zealand",
          "New Zealand",
          "New Zealand",
          "New Zealand",
          "New Zealand",
          "New Zealand",
          "New Zealand",
          "New Zealand",
          "New Zealand",
          "New Zealand",
          "New Zealand"
         ],
         "legendgroup": "Australia and New Zealand",
         "marker": {
          "color": "#e64a19",
          "symbol": "circle"
         },
         "mode": "markers",
         "name": "Australia and New Zealand",
         "showlegend": true,
         "type": "scattergl",
         "x": {
          "bdata": "YOXQItv57j/hehSuR+HuP+f7qfHSTe4/j8L1KFyP7j+LbOf7qfHuPz0K16NwPe4/GQRWDi2y7T/FILByaJHtPxBYObTIdu4/vp8aL90k7j9mZmZmZmbuPxSuR+F6FO4/kxgEVg4t7j+WQ4ts5/vtPxKDwMqhRe4/i2zn+6nx7j9oke18PzXuPwisHFpkO+8/ukkMAiuH7j/D9Shcj8LtPw4tsp3vp+4/vp8aL90k7j8v3SQGgZXvP5ZDi2zn++0/j8L1KFyP7j+6SQwCK4fuPz81XrpJDO4/EFg5tMh27j8=",
          "dtype": "f8"
         },
         "xaxis": "x",
         "y": {
          "bdata": "d76fGi9dHUCkcD0K1yMdQGq8dJMYBB1AzczMzMzMHUA5tMh2vp8dQGIQWDm0yBxA2/l+arx0HUAOLbKd7ycdQCPb+X5qPB1AAAAAAAAAHUC6SQwCKwcdQGiR7Xw/tRxAVg4tsp3vHEA/NV66SYwcQLgehetROB1A0SLb+X5qHkCgGi/dJIYdQEw3iUFg5RxA3SQGgZXDHEAAAAAAAAAdQB+F61G4Hh1A001iEFg5HUB56SYxCKwdQIGVQ4ts5xxAAiuHFtlOHUB7FK5H4XodQFK4HoXr0RxAukkMAisHHUA=",
          "dtype": "f8"
         },
         "yaxis": "y"
        },
        {
         "hovertemplate": "<b>OLS trendline</b><br>life_ladder = 2.90661 * social_support + 4.53448<br>R<sup>2</sup>=0.186631<br><br>region=Australia and New Zealand<br>Wsparcie społeczne=%{x}<br>Life Ladder=%{y} <b>(trend)</b><extra></extra>",
         "legendgroup": "Australia and New Zealand",
         "marker": {
          "color": "#e64a19",
          "symbol": "circle"
         },
         "mode": "lines",
         "name": "Australia and New Zealand",
         "showlegend": false,
         "type": "scattergl",
         "x": {
          "bdata": "xSCwcmiR7T8ZBFYOLbLtP8P1KFyPwu0/lkOLbOf77T+WQ4ts5/vtPz81XrpJDO4/FK5H4XoU7j++nxov3STuP76fGi/dJO4/kxgEVg4t7j9oke18PzXuPz0K16NwPe4/EoPAyqFF7j/n+6nx0k3uP2ZmZmZmZu4/EFg5tMh27j8QWDm0yHbuP7pJDAIrh+4/ukkMAiuH7j+PwvUoXI/uP4/C9Shcj+4/Di2yne+n7j/hehSuR+HuP4ts5/up8e4/i2zn+6nx7j9g5dAi2/nuPwisHFpkO+8/L90kBoGV7z8=",
          "dtype": "f8"
         },
         "xaxis": "x",
         "y": {
          "bdata": "gfAH23nhHEBS8f+oYe0cQLzx+49V8xxAK/NtOCsIHUAr8204KwgdQJTzaR8fDh1AyPPnEhkRHUAx9OP5DBcdQDH04/kMFx1AZvRh7QYaHUCa9N/gAB0dQM70XdT6Hx1AA/Xbx/QiHUA49Vm77iUdQNT105XcLh1APvbPfNA0HUA+9s980DQdQKb2y2PEOh1ApvbLY8Q6HUDb9klXvj0dQNv2SVe+PR1AePfDMaxGHUDo+DXagVsdQFD5McF1YR1AUPkxwXVhHUCF+a+0b2QdQCn7n1A/fB1Aav0Jx/ycHUA=",
          "dtype": "f8"
         },
         "yaxis": "y"
        },
        {
         "hovertemplate": "<b>%{hovertext}</b><br><br>region=Western Europe<br>Wsparcie społeczne=%{x}<br>Life Ladder=%{y}<extra></extra>",
         "hovertext": [
          "Austria",
          "Austria",
          "Austria",
          "Austria",
          "Austria",
          "Austria",
          "Austria",
          "Austria",
          "Austria",
          "Austria",
          "Austria",
          "Austria",
          "Austria",
          "Belgium",
          "Belgium",
          "Belgium",
          "Belgium",
          "Belgium",
          "Belgium",
          "Belgium",
          "Belgium",
          "Belgium",
          "Belgium",
          "Belgium",
          "Belgium",
          "Belgium",
          "Belgium",
          "Cyprus",
          "Cyprus",
          "Cyprus",
          "Cyprus",
          "Cyprus",
          "Cyprus",
          "Cyprus",
          "Cyprus",
          "Cyprus",
          "Cyprus",
          "Cyprus",
          "Cyprus",
          "Cyprus",
          "Denmark",
          "Denmark",
          "Denmark",
          "Denmark",
          "Denmark",
          "Denmark",
          "Denmark",
          "Denmark",
          "Denmark",
          "Denmark",
          "Denmark",
          "Denmark",
          "Denmark",
          "Denmark",
          "Denmark",
          "Finland",
          "Finland",
          "Finland",
          "Finland",
          "Finland",
          "Finland",
          "Finland",
          "Finland",
          "Finland",
          "Finland",
          "Finland",
          "Finland",
          "Finland",
          "France",
          "France",
          "France",
          "France",
          "France",
          "France",
          "France",
          "France",
          "France",
          "France",
          "France",
          "France",
          "France",
          "France",
          "France",
          "Germany",
          "Germany",
          "Germany",
          "Germany",
          "Germany",
          "Germany",
          "Germany",
          "Germany",
          "Germany",
          "Germany",
          "Germany",
          "Germany",
          "Germany",
          "Germany",
          "Germany",
          "Greece",
          "Greece",
          "Greece",
          "Greece",
          "Greece",
          "Greece",
          "Greece",
          "Greece",
          "Greece",
          "Greece",
          "Greece",
          "Greece",
          "Greece",
          "Greece",
          "Iceland",
          "Iceland",
          "Iceland",
          "Iceland",
          "Iceland",
          "Iceland",
          "Iceland",
          "Iceland",
          "Ireland",
          "Ireland",
          "Ireland",
          "Ireland",
          "Ireland",
          "Ireland",
          "Ireland",
          "Ireland",
          "Ireland",
          "Ireland",
          "Ireland",
          "Ireland",
          "Ireland",
          "Ireland",
          "Italy",
          "Italy",
          "Italy",
          "Italy",
          "Italy",
          "Italy",
          "Italy",
          "Italy",
          "Italy",
          "Italy",
          "Italy",
          "Italy",
          "Italy",
          "Italy",
          "Italy",
          "Luxembourg",
          "Luxembourg",
          "Luxembourg",
          "Luxembourg",
          "Luxembourg",
          "Luxembourg",
          "Luxembourg",
          "Luxembourg",
          "Luxembourg",
          "Luxembourg",
          "Luxembourg",
          "Malta",
          "Malta",
          "Malta",
          "Malta",
          "Malta",
          "Malta",
          "Malta",
          "Malta",
          "Malta",
          "Malta",
          "Malta",
          "Malta",
          "Netherlands",
          "Netherlands",
          "Netherlands",
          "Netherlands",
          "Netherlands",
          "Netherlands",
          "Netherlands",
          "Netherlands",
          "Netherlands",
          "Netherlands",
          "Netherlands",
          "Netherlands",
          "Netherlands",
          "Netherlands",
          "North Cyprus",
          "North Cyprus",
          "North Cyprus",
          "North Cyprus",
          "North Cyprus",
          "North Cyprus",
          "North Cyprus",
          "Norway",
          "Norway",
          "Norway",
          "Norway",
          "Norway",
          "Norway",
          "Norway",
          "Norway",
          "Norway",
          "Norway",
          "Portugal",
          "Portugal",
          "Portugal",
          "Portugal",
          "Portugal",
          "Portugal",
          "Portugal",
          "Portugal",
          "Portugal",
          "Portugal",
          "Portugal",
          "Portugal",
          "Portugal",
          "Spain",
          "Spain",
          "Spain",
          "Spain",
          "Spain",
          "Spain",
          "Spain",
          "Spain",
          "Spain",
          "Spain",
          "Spain",
          "Spain",
          "Spain",
          "Spain",
          "Spain",
          "Sweden",
          "Sweden",
          "Sweden",
          "Sweden",
          "Sweden",
          "Sweden",
          "Sweden",
          "Sweden",
          "Sweden",
          "Sweden",
          "Sweden",
          "Sweden",
          "Sweden",
          "Sweden",
          "Sweden",
          "Switzerland",
          "Switzerland",
          "Switzerland",
          "Switzerland",
          "Switzerland",
          "Switzerland",
          "Switzerland",
          "Switzerland",
          "Switzerland",
          "Switzerland",
          "United Kingdom",
          "United Kingdom",
          "United Kingdom",
          "United Kingdom",
          "United Kingdom",
          "United Kingdom",
          "United Kingdom",
          "United Kingdom",
          "United Kingdom",
          "United Kingdom",
          "United Kingdom",
          "United Kingdom",
          "United Kingdom",
          "United Kingdom",
          "United Kingdom"
         ],
         "legendgroup": "Western Europe",
         "marker": {
          "color": "#b71c1c",
          "symbol": "circle"
         },
         "mode": "markers",
         "name": "Western Europe",
         "showlegend": true,
         "type": "scattergl",
         "x": {
          "bdata": "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",
          "dtype": "f8"
         },
         "xaxis": "x",
         "y": {
          "bdata": "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",
          "dtype": "f8"
         },
         "yaxis": "y"
        },
        {
         "hovertemplate": "<b>OLS trendline</b><br>life_ladder = 10.1623 * social_support + -2.49299<br>R<sup>2</sup>=0.515803<br><br>region=Western Europe<br>Wsparcie społeczne=%{x}<br>Life Ladder=%{y} <b>(trend)</b><extra></extra>",
         "legendgroup": "Western Europe",
         "marker": {
          "color": "#b71c1c",
          "symbol": "circle"
         },
         "mode": "lines",
         "name": "Western Europe",
         "showlegend": false,
         "type": "scattergl",
         "x": {
          "bdata": "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",
          "dtype": "f8"
         },
         "xaxis": "x",
         "y": {
          "bdata": "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",
          "dtype": "f8"
         },
         "yaxis": "y"
        },
        {
         "hovertemplate": "<b>%{hovertext}</b><br><br>region=Central America<br>Wsparcie społeczne=%{x}<br>Life Ladder=%{y}<extra></extra>",
         "hovertext": [
          "Belize",
          "Belize"
         ],
         "legendgroup": "Central America",
         "marker": {
          "color": "#fff9b0",
          "symbol": "circle"
         },
         "mode": "markers",
         "name": "Central America",
         "showlegend": true,
         "type": "scattergl",
         "x": {
          "bdata": "gZVDi2zn6z/TTWIQWDnoPw==",
          "dtype": "f8"
         },
         "xaxis": "x",
         "y": {
          "bdata": "5/up8dLNGUBt5/up8dIXQA==",
          "dtype": "f8"
         },
         "yaxis": "y"
        },
        {
         "hovertemplate": "<b>OLS trendline</b><br>life_ladder = 4.30435 * social_support + 2.69761<br>R<sup>2</sup>=1.000000<br><br>region=Central America<br>Wsparcie społeczne=%{x}<br>Life Ladder=%{y} <b>(trend)</b><extra></extra>",
         "legendgroup": "Central America",
         "marker": {
          "color": "#fff9b0",
          "symbol": "circle"
         },
         "mode": "lines",
         "name": "Central America",
         "showlegend": false,
         "type": "scattergl",
         "x": {
          "bdata": "001iEFg56D+BlUOLbOfrPw==",
          "dtype": "f8"
         },
         "xaxis": "x",
         "y": {
          "bdata": "a+f7qfHSF0Do+6nx0s0ZQA==",
          "dtype": "f8"
         },
         "yaxis": "y"
        },
        {
         "hovertemplate": "<b>%{hovertext}</b><br><br>region=SouthEast Asia<br>Wsparcie społeczne=%{x}<br>Life Ladder=%{y}<extra></extra>",
         "hovertext": [
          "Cambodia",
          "Cambodia",
          "Cambodia",
          "Cambodia",
          "Cambodia",
          "Cambodia",
          "Cambodia",
          "Cambodia",
          "Cambodia",
          "Cambodia",
          "Cambodia",
          "Cambodia",
          "Cambodia",
          "Cambodia",
          "Cambodia",
          "Indonesia",
          "Indonesia",
          "Indonesia",
          "Indonesia",
          "Indonesia",
          "Indonesia",
          "Indonesia",
          "Indonesia",
          "Indonesia",
          "Indonesia",
          "Indonesia",
          "Indonesia",
          "Indonesia",
          "Indonesia",
          "Laos",
          "Laos",
          "Laos",
          "Laos",
          "Laos",
          "Laos",
          "Laos",
          "Laos",
          "Laos",
          "Malaysia",
          "Malaysia",
          "Malaysia",
          "Malaysia",
          "Malaysia",
          "Malaysia",
          "Malaysia",
          "Malaysia",
          "Malaysia",
          "Malaysia",
          "Malaysia",
          "Malaysia",
          "Maldives",
          "Myanmar",
          "Myanmar",
          "Myanmar",
          "Myanmar",
          "Myanmar",
          "Myanmar",
          "Myanmar",
          "Myanmar",
          "Myanmar",
          "Philippines",
          "Philippines",
          "Philippines",
          "Philippines",
          "Philippines",
          "Philippines",
          "Philippines",
          "Philippines",
          "Philippines",
          "Philippines",
          "Philippines",
          "Philippines",
          "Philippines",
          "Philippines",
          "Philippines",
          "Singapore",
          "Singapore",
          "Singapore",
          "Singapore",
          "Singapore",
          "Singapore",
          "Singapore",
          "Singapore",
          "Singapore",
          "Singapore",
          "Singapore",
          "Singapore",
          "Singapore",
          "Thailand",
          "Thailand",
          "Thailand",
          "Thailand",
          "Thailand",
          "Thailand",
          "Thailand",
          "Thailand",
          "Thailand",
          "Thailand",
          "Thailand",
          "Thailand",
          "Thailand",
          "Thailand",
          "Thailand",
          "Vietnam",
          "Vietnam",
          "Vietnam",
          "Vietnam",
          "Vietnam",
          "Vietnam",
          "Vietnam",
          "Vietnam",
          "Vietnam",
          "Vietnam",
          "Vietnam",
          "Vietnam",
          "Vietnam",
          "Vietnam"
         ],
         "legendgroup": "SouthEast Asia",
         "marker": {
          "color": "#ffe066",
          "symbol": "circle"
         },
         "mode": "markers",
         "name": "SouthEast Asia",
         "showlegend": true,
         "type": "scattergl",
         "x": {
          "bdata": "x0s3iUFg6T+amZmZmZnlPwIrhxbZzuM/kxgEVg4t6j/n+6nx0k3mP7bz/dR46eY/MQisHFpk4z+iRbbz/dTkP5MYBFYOLeY/hxbZzvdT5z+sHFpkO9/nP3sUrkfheug/cT0K16Nw6T99PzVeuknoP166SQwCK+c/eekmMQis6D+6SQwCK4fmP5qZmZmZmeU/IbByaJHt6D/pJjEIrBzqP2ZmZmZmZuo/46WbxCCw6j+cxCCwcmjpP/YoXI/C9ew/F9nO91Pj6T/y0k1iEFjpP0a28/3UeOk/F9nO91Pj6T9Ei2zn+6npP23n+6nx0uk/SOF6FK5H6T9t5/up8dLpP+kmMQisHOY/kxgEVg4t5j85tMh2vp/mP4/C9Shcj+Y/hxbZzvdT5z8fhetRuB7lP4PAyqFFtus/rBxaZDvf6z8ZBFYOLbLpP/LSTWIQWOk/DAIrhxbZ6j+kcD0K16PoP7bz/dR46eo/ZDvfT42X6j8EVg4tsp3rP5MYBFYOLeo/c2iR7Xw/6T+LbOf7qfHqP57vp8ZLN+0/L90kBoGV4z/TTWIQWDnoP/hT46WbxOg/qvHSTWIQ6D/HSzeJQWDpP3E9CtejcOk/+FPjpZvE6D/RItv5fmroP0a28/3UeOk/cT0K16Nw6T9vEoPAyqHpP/Cnxks3iek/zczMzMzM6D/D9Shcj8LpP3Noke18P+k/arx0kxgE6j/fT42XbhLrP2q8dJMYBOo/hxbZzvdT6z8Sg8DKoUXqPwisHFpkO+s/30+Nl24S6z8K16NwPQrrP8uhRbbz/eg/IbByaJHt7D9GtvP91HjtPwrXo3A9Cus/g8DKoUW26z/ZzvdT46XrPyGwcmiR7ew/QmDl0CLb6T/n+6nx0k3qP4PAyqFFtus/mpmZmZmZ7T9OYhBYObTsP0w3iUFg5ew/mpmZmZmZ7T/P91PjpZvsP6abxCCwcuw/ObTIdr6f6j/6fmq8dJPsPyPb+X5qvOw/fT81XrpJ7D/LoUW28/3sP28Sg8DKoe0/QmDl0CLb7T+DwMqhRbbrP3WTGARWDu0/qvHSTWIQ7D9WDi2yne/rP0w3iUFg5ew/WDm0yHa+6z/RItv5fmrsPzEIrBxaZOs/w/UoXI/C6T8UrkfhehTqP8l2vp8aL+k/I9v5fmq87D/NzMzMzMzoP30/NV66Seg/8tJNYhBY6T9eukkMAivrP9V46SYxCOw/F9nO91Pj6T85tMh2vp/qP4lBYOXQIus/",
          "dtype": "f8"
         },
         "xaxis": "x",
         "y": {
          "bdata": "WmQ730+NDEA5tMh2vp8QQAwCK4cW2RFAi2zn+6lxEECq8dJNYpAQQL6fGi/dpBBA/tR46SYxD0AxCKwcWmQNQKrx0k1iEA9A2c73U+OlEEDy0k1iENgRQPLSTWIQWBJAsHJoke18FEDLoUW28/0TQDVeukkMghFAfT81XrrJE0CBlUOLbGcUQMP1KFyPQhNAF9nO91PjFUCHFtnO99MVQP7UeOkmsRRARrbz/dR4FUBeukkMAisVQBfZzvdTYxZAeekmMQgsFEAlBoGVQ4sUQDEIrBxaZBRAXI/C9ShcFUAX2c73U2MVQOf7qfHSTRRA2/l+arx0FUCTGARWDi0UQDeJQWDl0BJAGy/dJAaBE0DLoUW2830SQFYOLbKdbxNAfT81XrrJFECJQWDl0CIVQD81XrpJDBhA2/l+arz0GEDufD81XjoXQArXo3A9ihVAUrgehetRFkC+nxov3SQXQA4tsp3vpxdAFK5H4XoUF0AnMQisHNoXQH0/NV66SRlAQmDl0CJbFUCDwMqhRbYVQJhuEoPAyhRAqMZLN4nBEUBOYhBYObQQQL6fGi/dJBNATDeJQWDlEEDLoUW2830SQARWDi2ynRBAvp8aL92kEUAj2/l+arwRQNNNYhBYuRFArkfhehSuEkCyne+nxksUQEJg5dAiWxJAhetRuB6FE0D4U+Olm8QTQGDl0CLb+RNANV66SQwCFECcxCCwcugTQI2XbhKDQBVA46WbxCAwFkDTTWIQWLkVQMdLN4lBYBZAYOXQItt5F0DfT42XbhIZQFK4HoXrURRAJzEIrBzaGUC8dJMYBFYbQMUgsHJokRpAFK5H4XqUGEA5tMh2vh8aQFg5tMh2PhpAbxKDwMohGkBzaJHtfD8cQHsUrkfhehpAbxKDwMohGEBQjZduEoMZQAAAAAAAgBlAUI2XbhKDGUAK16NwPYoXQIlBYOXQIhdAJQaBlUOLFkCBlUOLbOcVQJHtfD813hhADi2yne+nGkAzMzMzMzMZQAaBlUOL7BhAcT0K16PwG0ACK4cW2c4YQLKd76fGSxhAqMZLN4nBF0A/NV66SQwYQEoMAiuHFhhACtejcD2KF0CTGARWDi0VQOOlm8QgsBVA7FG4HoXrFUCe76fGSzcVQMl2vp8aLxVAxSCwcmgRF0CkcD0K1yMWQGQ730+NFxRA16NwPQpXFEDn+6nx0k0UQHNoke18PxRAMzMzMzOzFEDJdr6fGi8VQJHtfD813hVA",
          "dtype": "f8"
         },
         "yaxis": "y"
        },
        {
         "hovertemplate": "<b>OLS trendline</b><br>life_ladder = 7.80696 * social_support + -0.983083<br>R<sup>2</sup>=0.549320<br><br>region=SouthEast Asia<br>Wsparcie społeczne=%{x}<br>Life Ladder=%{y} <b>(trend)</b><extra></extra>",
         "legendgroup": "SouthEast Asia",
         "marker": {
          "color": "#ffe066",
          "symbol": "circle"
         },
         "mode": "lines",
         "name": "SouthEast Asia",
         "showlegend": false,
         "type": "scattergl",
         "x": {
          "bdata": "MQisHFpk4z8v3SQGgZXjPwIrhxbZzuM/okW28/3U5D8fhetRuB7lP5qZmZmZmeU/mpmZmZmZ5T/pJjEIrBzmP5MYBFYOLeY/kxgEVg4t5j/n+6nx0k3mP7pJDAIrh+Y/j8L1KFyP5j85tMh2vp/mP7bz/dR46eY/XrpJDAIr5z+HFtnO91PnP4cW2c73U+c/rBxaZDvf5z+q8dJNYhDoP9NNYhBYOeg/fT81XrpJ6D99PzVeuknoP9Ei2/l+aug/exSuR+F66D+kcD0K16PoP3npJjEIrOg/+FPjpZvE6D/4U+Olm8ToP83MzMzMzOg/zczMzMzM6D8hsHJoke3oP8uhRbbz/eg/yXa+nxov6T9zaJHtfD/pP3Noke18P+k/SOF6FK5H6T/y0k1iEFjpP/LSTWIQWOk/8tJNYhBY6T/HSzeJQWDpP8dLN4lBYOk/nMQgsHJo6T9xPQrXo3DpP3E9CtejcOk/cT0K16Nw6T9GtvP91HjpP0a28/3UeOk/8KfGSzeJ6T9vEoPAyqHpP0SLbOf7qek/GQRWDi2y6T/D9Shcj8LpP8P1KFyPwuk/bef7qfHS6T9t5/up8dLpP0Jg5dAi2+k/F9nO91Pj6T8X2c73U+PpPxfZzvdT4+k/arx0kxgE6j9qvHSTGATqPxSuR+F6FOo/6SYxCKwc6j+TGARWDi3qP5MYBFYOLeo/EoPAyqFF6j/n+6nx0k3qP2ZmZmZmZuo/ZDvfT42X6j85tMh2vp/qPzm0yHa+n+o/46WbxCCw6j8MAiuHFtnqP7bz/dR46eo/i2zn+6nx6j8K16NwPQrrPwrXo3A9Cus/30+Nl24S6z/fT42XbhLrP4lBYOXQIus/XrpJDAIr6z8IrBxaZDvrP4cW2c73U+s/MQisHFpk6z8EVg4tsp3rP9nO91Pjpes/g8DKoUW26z+DwMqhRbbrP4PAyqFFtus/g8DKoUW26z9YObTIdr7rP6wcWmQ73+s/Vg4tsp3v6z/VeOkmMQjsP6rx0k1iEOw/fT81XrpJ7D/RItv5fmrsP6abxCCwcuw/+n5qvHST7D/P91PjpZvsP05iEFg5tOw/I9v5fmq87D8j2/l+arzsP0w3iUFg5ew/TDeJQWDl7D8hsHJoke3sPyGwcmiR7ew/9ihcj8L17D/LoUW28/3sP3WTGARWDu0/nu+nxks37T9GtvP91HjtP5qZmZmZme0/mpmZmZmZ7T9vEoPAyqHtP0Jg5dAi2+0/",
          "dtype": "f8"
         },
         "xaxis": "x",
         "y": {
          "bdata": "mx5VgMb7DUCZG+sVtVsOQGttb8Sgyw5AAgQd8aFlEEDAgU3hlK0QQPz9SBx/JRFA/P1IHH8lEUCipLvjZ6URQHb5qfxktRFAdvmp/GS1EUAgo4YuX9URQArMyAVVDRJAdPY/klMVEkBISy6rUCUSQAbJXptDbRJAWhwY/zetEkBu8Gu9MNUSQG7wa70w1RJAfsFVERhdE0D+vyBcD40TQBKUdBoItRNA5uhiMwXFE0Dm6GIzBcUTQJCSP2X/5BNAZOctfvz0E0B4u4E89RwUQOTl+MjzJBRAImVebu88FEAiZV5u7zwUQIyP1frtRBRAjI/V+u1EFEA2ObIs6GQUQAyOoEXldBRAioxrkNykFEBe4Vmp2bQUQF7hWanZtBRAygvRNdi8FECeYL9O1cwUQJ5gv07VzBRAnmC/TtXMFEAIizbb09QUQAiLNtvT1BRAcrWtZ9LcFEDe3yT00OQUQN7fJPTQ5BRA3t8k9NDkFEBICpyAz+wUQEgKnIDP7BRAHF+Kmcz8FEBc3u8+yBQVQMYIZ8vGHBVAMDPeV8UkFUAGiMxwwjQVQAaIzHDCNBVA2ty6ib9EFUDa3LqJv0QVQEQHMha+TBVAsDGporxUFUCwMamivFQVQLAxqaK8VBVAWNuF1LZ0FUBY24XUtnQVQCwwdO2zhBVAllrrebKMFUBsr9mSr5wVQGyv2ZKvnBVArC4/OKu0FUAWWbbEqbwVQFTYG2ql1BVA1NbmtJwEFkA+AV5BmwwWQD4BXkGbDBZAElZMWpgcFkAmKqAYkUQWQPx+jjGOVBZAZqkFvoxcFkCmKGtjiHQWQKYoa2OIdBZAEFPi74Z8FkAQU+LvhnwWQOSn0AiEjBZATtJHlYKUFkAkJzauf6QWQGKmm1N7vBZAOPuJbHjMFkAgJMxDbgQXQIpOQ9BsDBdAYKMx6WkcF0BgozHpaRwXQGCjMelpHBdAYKMx6WkcF0DKzah1aCQXQHR3hadiRBdASMxzwF9UF0CIS9llW2wXQPJ1UPJZdBdA3J6SyU+sF0CESG/7ScwXQPBy5odI1BdAmBzDuUL0F0AERzpGQfwXQELGn+s8FBhArvAWeDscGECu8BZ4OxwYQMLEajY0RBhAwsRqNjREGEAs7+HCMkwYQCzv4cIyTBhAlhlZTzFUGEAARNDbL1wYQNaYvvQsbBhA6mwSsyWUGEA8wMsWGtQYQOZpqEgU9BhA5mmoSBT0GEBQlB/VEvwYQDq9YawINBlA",
          "dtype": "f8"
         },
         "yaxis": "y"
        },
        {
         "hovertemplate": "<b>%{hovertext}</b><br><br>region=North America<br>Wsparcie społeczne=%{x}<br>Life Ladder=%{y}<extra></extra>",
         "hovertext": [
          "Canada",
          "Canada",
          "Canada",
          "Canada",
          "Canada",
          "Canada",
          "Canada",
          "Canada",
          "Canada",
          "Canada",
          "Canada",
          "Canada",
          "Canada",
          "Canada",
          "Canada",
          "United States",
          "United States",
          "United States",
          "United States",
          "United States",
          "United States",
          "United States",
          "United States",
          "United States",
          "United States",
          "United States",
          "United States",
          "United States",
          "United States",
          "United States"
         ],
         "legendgroup": "North America",
         "marker": {
          "color": "#ffc14d",
          "symbol": "circle"
         },
         "mode": "markers",
         "name": "North America",
         "showlegend": true,
         "type": "scattergl",
         "x": {
          "bdata": "YhBYObTI7j+amZmZmZntPz81XrpJDO4/kxgEVg4t7j+6SQwCK4fuPxsv3SQGge0/vHSTGARW7j/ByqFFtvPtP8dLN4lBYO0/PzVeukkM7j/FILByaJHtPxfZzvdT4+0/8KfGSzeJ7T+amZmZmZntP5huEoPAyu0/4XoUrkfh7j+amZmZmZntP+XQItv5fu4/yXa+nxov7T9vEoPAyqHtPxsv3SQGge0/TDeJQWDl7D+amZmZmZntP3e+nxov3ew/IbByaJHt7D9OYhBYObTsP0a28/3UeO0/IbByaJHt7D/y0k1iEFjtP5ZDi2zn++0/",
          "dtype": "f8"
         },
         "xaxis": "x",
         "y": {
          "bdata": "eekmMQisHUAhsHJoke0dQIts5/up8R1AwcqhRbbzHUCamZmZmZkeQE5iEFg5tB1AKVyPwvWoHUDHSzeJQWAeQJ7vp8ZLNx1A9P3UeOmmHUB7FK5H4focQClcj8L1qB1AMzMzMzOzHEBWDi2ynW8cQJqZmZmZGRxA7nw/NV66HEBaZDvfTw0eQB+F61G4Hh1AbxKDwMqhHEAOLbKd76ccQPYoXI/CdRxAtMh2vp8aHEDl0CLb+f4cQLTIdr6fmhxA2/l+arx0G0Ce76fGSzcbQCuHFtnO9xtA1XjpJjGIG0Atsp3vp8YbQOkmMQisHBxA",
          "dtype": "f8"
         },
         "yaxis": "y"
        },
        {
         "hovertemplate": "<b>OLS trendline</b><br>life_ladder = 8.02689 * social_support + -0.214615<br>R<sup>2</sup>=0.381405<br><br>region=North America<br>Wsparcie społeczne=%{x}<br>Life Ladder=%{y} <b>(trend)</b><extra></extra>",
         "legendgroup": "North America",
         "marker": {
          "color": "#ffc14d",
          "symbol": "circle"
         },
         "mode": "lines",
         "name": "North America",
         "showlegend": false,
         "type": "scattergl",
         "x": {
          "bdata": "TmIQWDm07D93vp8aL93sP0w3iUFg5ew/IbByaJHt7D8hsHJoke3sP8l2vp8aL+0/8tJNYhBY7T/HSzeJQWDtP0a28/3UeO0/Gy/dJAaB7T8bL90kBoHtP/Cnxks3ie0/xSCwcmiR7T+amZmZmZntP5qZmZmZme0/mpmZmZmZ7T+amZmZmZntP28Sg8DKoe0/mG4Sg8DK7T8X2c73U+PtP8HKoUW28+0/lkOLbOf77T8/NV66SQzuPz81XrpJDO4/kxgEVg4t7j+8dJMYBFbuP+XQItv5fu4/ukkMAiuH7j9iEFg5tMjuP+F6FK5H4e4/",
          "dtype": "f8"
         },
         "xaxis": "x",
         "y": {
          "bdata": "3DrFzCfxG0C7onvNQBocQBtR0wB5IhxAev8qNLEqHEB6/yo0sSocQHhy6M5ybBxAV9qez4uVHEC3iPYCxJ0cQNaT/ZxsthxANkJV0KS+HEA2QlXQpL4cQJXwrAPdxhxA9Z4ENxXPHEBVTVxqTdccQFVNXGpN1xxAVU1cak3XHEBVTVxqTdccQLX7s52F3xxAk2Nqnp4IHUCybnE4RyEdQHLLIJ+3MR1A0nl40u85HUCQ1ic5YEodQJDWJzlgSh1AD5CGBkFrHUDu9zwHWpQdQMxf8wdzvR1ALA5LO6vFHUAqgQjWbAceQEmMD3AVIB5A",
          "dtype": "f8"
         },
         "yaxis": "y"
        },
        {
         "hovertemplate": "<b>%{hovertext}</b><br><br>region=East Asia<br>Wsparcie społeczne=%{x}<br>Life Ladder=%{y}<extra></extra>",
         "hovertext": [
          "China",
          "China",
          "China",
          "China",
          "China",
          "China",
          "China",
          "China",
          "China",
          "China",
          "China",
          "China",
          "China",
          "China",
          "China",
          "Hong Kong S.A.R. of China",
          "Hong Kong S.A.R. of China",
          "Hong Kong S.A.R. of China",
          "Hong Kong S.A.R. of China",
          "Hong Kong S.A.R. of China",
          "Hong Kong S.A.R. of China",
          "Hong Kong S.A.R. of China",
          "Hong Kong S.A.R. of China",
          "Hong Kong S.A.R. of China",
          "Hong Kong S.A.R. of China",
          "Hong Kong S.A.R. of China",
          "Japan",
          "Japan",
          "Japan",
          "Japan",
          "Japan",
          "Japan",
          "Japan",
          "Japan",
          "Japan",
          "Japan",
          "Japan",
          "Japan",
          "Japan",
          "Japan",
          "Japan",
          "Mongolia",
          "Mongolia",
          "Mongolia",
          "Mongolia",
          "Mongolia",
          "Mongolia",
          "Mongolia",
          "Mongolia",
          "Mongolia",
          "Mongolia",
          "Mongolia",
          "Mongolia",
          "Mongolia",
          "South Korea",
          "South Korea",
          "South Korea",
          "South Korea",
          "South Korea",
          "South Korea",
          "South Korea",
          "South Korea",
          "South Korea",
          "South Korea",
          "South Korea",
          "South Korea",
          "South Korea",
          "South Korea",
          "South Korea"
         ],
         "legendgroup": "East Asia",
         "marker": {
          "color": "#ff9933",
          "symbol": "circle"
         },
         "mode": "markers",
         "name": "East Asia",
         "showlegend": true,
         "type": "scattergl",
         "x": {
          "bdata": "gZVDi2zn5z/ByqFFtvPpP1YOLbKd7+c/8KfGSzeJ6T/6fmq8dJPoP8l2vp8aL+k/nu+nxks36T9MN4lBYOXoPz0K16NwPeo/nMQgsHJo6T9YObTIdr7nP05iEFg5tOg/nu+nxks36T/n+6nx0k3qP0Jg5dAi2+k/lkOLbOf76T/hehSuR+HqP7gehetRuOo/BoGVQ4ts6z/fT42XbhLrPzvfT42Xbuo/46WbxCCw6j85tMh2vp/qP2Q730+Nl+o/MQisHFpk6z9qvHSTGATqPxkEVg4tsu0/arx0kxgE7j/8qfHSTWLsP9Ei2/l+auw/d76fGi/d7D/y0k1iEFjtP/YoXI/C9ew/xSCwcmiR7T/NzMzMzMzsP/Cnxks3ie0/zczMzMzM7D/TTWIQWDnsPycxCKwcWuw/f2q8dJMY7D/8qfHSTWLsP/7UeOkmMew/cT0K16Nw7T8hsHJoke3sP7x0kxgEVu4/nMQgsHJo7T/sUbgehevtP5MYBFYOLe4/y6FFtvP97D/n+6nx0k3uP8UgsHJoke0/vp8aL90k7j8Sg8DKoUXuP8dLN4lBYO0/zczMzMzM6D8QWDm0yHbqP1TjpZvEIOg/wcqhRbbz6T/pJjEIrBzqPxfZzvdT4+k/zczMzMzM6D8bL90kBoHpPwRWDi2ynec/+n5qvHST6D/ByqFFtvPpP23n+6nx0uk/8KfGSzeJ6T91kxgEVg7pP0Jg5dAi2+k/",
          "dtype": "f8"
         },
         "xaxis": "x",
         "y": {
          "bdata": "PQrXo3A9EkDByqFFtnMTQPyp8dJNYhNAN4lBYOXQEUDpJjEIrJwSQNnO91PjJRRA4XoUrkdhFEAQWDm0yPYUQGIQWDm0yBRAnu+nxks3FUDNzMzMzEwVQEw3iUFgZRRAoBov3SSGFED6fmq8dJMUQC/dJAaBFRdAJQaBlUMLFkA/NV66SYwUQEoMAiuHlhVA30+Nl26SFkBMN4lBYOUVQFYOLbKd7xVAokW28/3UFUDLoUW28/0VQKabxCCwchVAiUFg5dCiFkCuR+F6FC4VQKrx0k1iEBpAwcqhRbbzGEC+nxov3aQXQOF6FK5HYRdA7nw/NV46GEBaZDvfTw0ZQKwcWmQ73xdAvHSTGATWF0D+1HjpJrEXQIXrUbgehRdAUrgehevRF0C+nxov3aQXQJMYBFYOLRdAbxKDwMqhF0BGtvP91HgYQFYOLbKdbxJARrbz/dT4EUDy0k1iEFgSQDm0yHa+HxRACtejcD2KE0D0/dR46aYTQM3MzMzMTBNAO99PjZfuE0DufD81XjoUQLx0kxgEVhVAXI/C9SjcFUCNl24Sg0AWQCUGgZVDCxhAhxbZzvdTFUDFILByaBEXQI/C9ShcjxVAZDvfT42XFkAQWDm0yHYYQH0/NV66yRtAUI2XbhIDGEC8dJMYBNYXQE5iEFg5NBdAH4XrUbgeF0D8qfHSTeIXQOXQItv5fhdAXI/C9ShcF0DpJjEIrJwXQHnpJjEILBdA",
          "dtype": "f8"
         },
         "yaxis": "y"
        },
        {
         "hovertemplate": "<b>OLS trendline</b><br>life_ladder = 1.00096 * social_support + 4.65649<br>R<sup>2</sup>=0.014518<br><br>region=East Asia<br>Wsparcie społeczne=%{x}<br>Life Ladder=%{y} <b>(trend)</b><extra></extra>",
         "legendgroup": "East Asia",
         "marker": {
          "color": "#ff9933",
          "symbol": "circle"
         },
         "mode": "lines",
         "name": "East Asia",
         "showlegend": false,
         "type": "scattergl",
         "x": {
          "bdata": "BFYOLbKd5z9YObTIdr7nP4GVQ4ts5+c/Vg4tsp3v5z9U46WbxCDoP/p+arx0k+g/+n5qvHST6D9OYhBYObToP83MzMzMzOg/zczMzMzM6D9MN4lBYOXoP3WTGARWDuk/yXa+nxov6T+e76fGSzfpP57vp8ZLN+k/nMQgsHJo6T8bL90kBoHpP/Cnxks3iek/8KfGSzeJ6T9t5/up8dLpP0Jg5dAi2+k/QmDl0CLb6T8X2c73U+PpP8HKoUW28+k/wcqhRbbz6T/ByqFFtvPpP5ZDi2zn++k/arx0kxgE6j/pJjEIrBzqPz0K16NwPeo/5/up8dJN6j8730+Nl27qPxBYObTIduo/ZDvfT42X6j85tMh2vp/qP+Olm8QgsOo/uB6F61G46j/hehSuR+HqP99PjZduEus/MQisHFpk6z8GgZVDi2zrP39qvHSTGOw//tR46SYx7D/TTWIQWDnsPycxCKwcWuw//Knx0k1i7D/8qfHSTWLsP9Ei2/l+auw/zczMzMzM7D/NzMzMzMzsP3e+nxov3ew/IbByaJHt7D/2KFyPwvXsP8uhRbbz/ew/8tJNYhBY7T/HSzeJQWDtP5zEILByaO0/cT0K16Nw7T/wp8ZLN4ntP8UgsHJoke0/xSCwcmiR7T8ZBFYOLbLtP+xRuB6F6+0/arx0kxgE7j++nxov3STuP5MYBFYOLe4/EoPAyqFF7j/n+6nx0k3uP7x0kxgEVu4/",
          "dtype": "f8"
         },
         "xaxis": "x",
         "y": {
          "bdata": "LqMRQ6+UFUBIjiXZyJgVQCl0vtTonRVA725DOu+eFUCWT2GbFaUVQHIGpyhvsxVAcganKG+zFUCM8bq+iLcVQODhSe+buhVA4OFJ75u6FUAz0tgfr70VQBS4cRvPwhVALqOFsejGFUD1nQoX78cVQPWdChfvxxVAnH4oeBXOFUDwbreoKNEVQLZpPA4v0hVAtmk8Di/SFUCxOumfaNsVQHg1bgVv3BVAeDVuBW/cFUA+MPNqdd0VQMsl/TWC3xVAyyX9NYLfFUDLJf01gt8VQJIggpuI4BVAWBsHAY/hFUCsC5YxouQVQMb2qce76BVAU+yzksjqFUBt18co4u4VQDTSTI7o7xVATr1gJAL0FUAUuOWJCPUVQKGt71QV9xVAaKh0uhv4FUBJjg22O/0VQPBuKxdiAxZAsTpdDqINFkB4NeJzqA4WQMHHyscuJBZAFbhZ+EEnFkDbst5dSCgWQPWd8vNhLBZAvJh3WWgtFkC8mHdZaC0WQIKT/L5uLhZA0VQ4gbs6FkDRVDiBuzoWQF5KQkzIPBZA6z9MF9U+FkCyOtF82z8WQHg1VuLhQBZAAPwMPyhMFkDG9pGkLk0WQI3xFgo1ThZAVOybbztPFkCn3CqgTlIWQG7XrwVVUxZAbtevBVVTFkCIwsObblcWQPadZmKbXhZASY71kq5hFkBjeQkpyGUWQCp0jo7OZhZAfmQdv+FpFkBEX6Ik6GoWQApaJ4ruaxZA",
          "dtype": "f8"
         },
         "yaxis": "y"
        },
        {
         "hovertemplate": "<b>%{hovertext}</b><br><br>region=South America<br>Wsparcie społeczne=%{x}<br>Life Ladder=%{y}<extra></extra>",
         "hovertext": [
          "Guyana"
         ],
         "legendgroup": "South America",
         "marker": {
          "color": "#ff6600",
          "symbol": "circle"
         },
         "mode": "markers",
         "name": "South America",
         "showlegend": true,
         "type": "scattergl",
         "x": {
          "bdata": "XrpJDAIr6z8=",
          "dtype": "f8"
         },
         "xaxis": "x",
         "y": {
          "bdata": "Rrbz/dT4F0A=",
          "dtype": "f8"
         },
         "yaxis": "y"
        },
        {
         "hovertemplate": "region=South America<extra></extra>",
         "legendgroup": "South America",
         "marker": {
          "color": "#ff6600",
          "symbol": "circle"
         },
         "mode": "lines",
         "name": "South America",
         "showlegend": false,
         "type": "scattergl",
         "xaxis": "x",
         "yaxis": "y"
        }
       ],
       "layout": {
        "legend": {
         "title": {
          "text": "region"
         },
         "tracegroupgap": 0
        },
        "template": {
         "data": {
          "bar": [
           {
            "error_x": {
             "color": "#2a3f5f"
            },
            "error_y": {
             "color": "#2a3f5f"
            },
            "marker": {
             "line": {
              "color": "#E5ECF6",
              "width": 0.5
             },
             "pattern": {
              "fillmode": "overlay",
              "size": 10,
              "solidity": 0.2
             }
            },
            "type": "bar"
           }
          ],
          "barpolar": [
           {
            "marker": {
             "line": {
              "color": "#E5ECF6",
              "width": 0.5
             },
             "pattern": {
              "fillmode": "overlay",
              "size": 10,
              "solidity": 0.2
             }
            },
            "type": "barpolar"
           }
          ],
          "carpet": [
           {
            "aaxis": {
             "endlinecolor": "#2a3f5f",
             "gridcolor": "white",
             "linecolor": "white",
             "minorgridcolor": "white",
             "startlinecolor": "#2a3f5f"
            },
            "baxis": {
             "endlinecolor": "#2a3f5f",
             "gridcolor": "white",
             "linecolor": "white",
             "minorgridcolor": "white",
             "startlinecolor": "#2a3f5f"
            },
            "type": "carpet"
           }
          ],
          "choropleth": [
           {
            "colorbar": {
             "outlinewidth": 0,
             "ticks": ""
            },
            "type": "choropleth"
           }
          ],
          "contour": [
           {
            "colorbar": {
             "outlinewidth": 0,
             "ticks": ""
            },
            "colorscale": [
             [
              0,
              "#0d0887"
             ],
             [
              0.1111111111111111,
              "#46039f"
             ],
             [
              0.2222222222222222,
              "#7201a8"
             ],
             [
              0.3333333333333333,
              "#9c179e"
             ],
             [
              0.4444444444444444,
              "#bd3786"
             ],
             [
              0.5555555555555556,
              "#d8576b"
             ],
             [
              0.6666666666666666,
              "#ed7953"
             ],
             [
              0.7777777777777778,
              "#fb9f3a"
             ],
             [
              0.8888888888888888,
              "#fdca26"
             ],
             [
              1,
              "#f0f921"
             ]
            ],
            "type": "contour"
           }
          ],
          "contourcarpet": [
           {
            "colorbar": {
             "outlinewidth": 0,
             "ticks": ""
            },
            "type": "contourcarpet"
           }
          ],
          "heatmap": [
           {
            "colorbar": {
             "outlinewidth": 0,
             "ticks": ""
            },
            "colorscale": [
             [
              0,
              "#0d0887"
             ],
             [
              0.1111111111111111,
              "#46039f"
             ],
             [
              0.2222222222222222,
              "#7201a8"
             ],
             [
              0.3333333333333333,
              "#9c179e"
             ],
             [
              0.4444444444444444,
              "#bd3786"
             ],
             [
              0.5555555555555556,
              "#d8576b"
             ],
             [
              0.6666666666666666,
              "#ed7953"
             ],
             [
              0.7777777777777778,
              "#fb9f3a"
             ],
             [
              0.8888888888888888,
              "#fdca26"
             ],
             [
              1,
              "#f0f921"
             ]
            ],
            "type": "heatmap"
           }
          ],
          "histogram": [
           {
            "marker": {
             "pattern": {
              "fillmode": "overlay",
              "size": 10,
              "solidity": 0.2
             }
            },
            "type": "histogram"
           }
          ],
          "histogram2d": [
           {
            "colorbar": {
             "outlinewidth": 0,
             "ticks": ""
            },
            "colorscale": [
             [
              0,
              "#0d0887"
             ],
             [
              0.1111111111111111,
              "#46039f"
             ],
             [
              0.2222222222222222,
              "#7201a8"
             ],
             [
              0.3333333333333333,
              "#9c179e"
             ],
             [
              0.4444444444444444,
              "#bd3786"
             ],
             [
              0.5555555555555556,
              "#d8576b"
             ],
             [
              0.6666666666666666,
              "#ed7953"
             ],
             [
              0.7777777777777778,
              "#fb9f3a"
             ],
             [
              0.8888888888888888,
              "#fdca26"
             ],
             [
              1,
              "#f0f921"
             ]
            ],
            "type": "histogram2d"
           }
          ],
          "histogram2dcontour": [
           {
            "colorbar": {
             "outlinewidth": 0,
             "ticks": ""
            },
            "colorscale": [
             [
              0,
              "#0d0887"
             ],
             [
              0.1111111111111111,
              "#46039f"
             ],
             [
              0.2222222222222222,
              "#7201a8"
             ],
             [
              0.3333333333333333,
              "#9c179e"
             ],
             [
              0.4444444444444444,
              "#bd3786"
             ],
             [
              0.5555555555555556,
              "#d8576b"
             ],
             [
              0.6666666666666666,
              "#ed7953"
             ],
             [
              0.7777777777777778,
              "#fb9f3a"
             ],
             [
              0.8888888888888888,
              "#fdca26"
             ],
             [
              1,
              "#f0f921"
             ]
            ],
            "type": "histogram2dcontour"
           }
          ],
          "mesh3d": [
           {
            "colorbar": {
             "outlinewidth": 0,
             "ticks": ""
            },
            "type": "mesh3d"
           }
          ],
          "parcoords": [
           {
            "line": {
             "colorbar": {
              "outlinewidth": 0,
              "ticks": ""
             }
            },
            "type": "parcoords"
           }
          ],
          "pie": [
           {
            "automargin": true,
            "type": "pie"
           }
          ],
          "scatter": [
           {
            "fillpattern": {
             "fillmode": "overlay",
             "size": 10,
             "solidity": 0.2
            },
            "type": "scatter"
           }
          ],
          "scatter3d": [
           {
            "line": {
             "colorbar": {
              "outlinewidth": 0,
              "ticks": ""
             }
            },
            "marker": {
             "colorbar": {
              "outlinewidth": 0,
              "ticks": ""
             }
            },
            "type": "scatter3d"
           }
          ],
          "scattercarpet": [
           {
            "marker": {
             "colorbar": {
              "outlinewidth": 0,
              "ticks": ""
             }
            },
            "type": "scattercarpet"
           }
          ],
          "scattergeo": [
           {
            "marker": {
             "colorbar": {
              "outlinewidth": 0,
              "ticks": ""
             }
            },
            "type": "scattergeo"
           }
          ],
          "scattergl": [
           {
            "marker": {
             "colorbar": {
              "outlinewidth": 0,
              "ticks": ""
             }
            },
            "type": "scattergl"
           }
          ],
          "scattermap": [
           {
            "marker": {
             "colorbar": {
              "outlinewidth": 0,
              "ticks": ""
             }
            },
            "type": "scattermap"
           }
          ],
          "scattermapbox": [
           {
            "marker": {
             "colorbar": {
              "outlinewidth": 0,
              "ticks": ""
             }
            },
            "type": "scattermapbox"
           }
          ],
          "scatterpolar": [
           {
            "marker": {
             "colorbar": {
              "outlinewidth": 0,
              "ticks": ""
             }
            },
            "type": "scatterpolar"
           }
          ],
          "scatterpolargl": [
           {
            "marker": {
             "colorbar": {
              "outlinewidth": 0,
              "ticks": ""
             }
            },
            "type": "scatterpolargl"
           }
          ],
          "scatterternary": [
           {
            "marker": {
             "colorbar": {
              "outlinewidth": 0,
              "ticks": ""
             }
            },
            "type": "scatterternary"
           }
          ],
          "surface": [
           {
            "colorbar": {
             "outlinewidth": 0,
             "ticks": ""
            },
            "colorscale": [
             [
              0,
              "#0d0887"
             ],
             [
              0.1111111111111111,
              "#46039f"
             ],
             [
              0.2222222222222222,
              "#7201a8"
             ],
             [
              0.3333333333333333,
              "#9c179e"
             ],
             [
              0.4444444444444444,
              "#bd3786"
             ],
             [
              0.5555555555555556,
              "#d8576b"
             ],
             [
              0.6666666666666666,
              "#ed7953"
             ],
             [
              0.7777777777777778,
              "#fb9f3a"
             ],
             [
              0.8888888888888888,
              "#fdca26"
             ],
             [
              1,
              "#f0f921"
             ]
            ],
            "type": "surface"
           }
          ],
          "table": [
           {
            "cells": {
             "fill": {
              "color": "#EBF0F8"
             },
             "line": {
              "color": "white"
             }
            },
            "header": {
             "fill": {
              "color": "#C8D4E3"
             },
             "line": {
              "color": "white"
             }
            },
            "type": "table"
           }
          ]
         },
         "layout": {
          "annotationdefaults": {
           "arrowcolor": "#2a3f5f",
           "arrowhead": 0,
           "arrowwidth": 1
          },
          "autotypenumbers": "strict",
          "coloraxis": {
           "colorbar": {
            "outlinewidth": 0,
            "ticks": ""
           }
          },
          "colorscale": {
           "diverging": [
            [
             0,
             "#8e0152"
            ],
            [
             0.1,
             "#c51b7d"
            ],
            [
             0.2,
             "#de77ae"
            ],
            [
             0.3,
             "#f1b6da"
            ],
            [
             0.4,
             "#fde0ef"
            ],
            [
             0.5,
             "#f7f7f7"
            ],
            [
             0.6,
             "#e6f5d0"
            ],
            [
             0.7,
             "#b8e186"
            ],
            [
             0.8,
             "#7fbc41"
            ],
            [
             0.9,
             "#4d9221"
            ],
            [
             1,
             "#276419"
            ]
           ],
           "sequential": [
            [
             0,
             "#0d0887"
            ],
            [
             0.1111111111111111,
             "#46039f"
            ],
            [
             0.2222222222222222,
             "#7201a8"
            ],
            [
             0.3333333333333333,
             "#9c179e"
            ],
            [
             0.4444444444444444,
             "#bd3786"
            ],
            [
             0.5555555555555556,
             "#d8576b"
            ],
            [
             0.6666666666666666,
             "#ed7953"
            ],
            [
             0.7777777777777778,
             "#fb9f3a"
            ],
            [
             0.8888888888888888,
             "#fdca26"
            ],
            [
             1,
             "#f0f921"
            ]
           ],
           "sequentialminus": [
            [
             0,
             "#0d0887"
            ],
            [
             0.1111111111111111,
             "#46039f"
            ],
            [
             0.2222222222222222,
             "#7201a8"
            ],
            [
             0.3333333333333333,
             "#9c179e"
            ],
            [
             0.4444444444444444,
             "#bd3786"
            ],
            [
             0.5555555555555556,
             "#d8576b"
            ],
            [
             0.6666666666666666,
             "#ed7953"
            ],
            [
             0.7777777777777778,
             "#fb9f3a"
            ],
            [
             0.8888888888888888,
             "#fdca26"
            ],
            [
             1,
             "#f0f921"
            ]
           ]
          },
          "colorway": [
           "#636efa",
           "#EF553B",
           "#00cc96",
           "#ab63fa",
           "#FFA15A",
           "#19d3f3",
           "#FF6692",
           "#B6E880",
           "#FF97FF",
           "#FECB52"
          ],
          "font": {
           "color": "#2a3f5f"
          },
          "geo": {
           "bgcolor": "white",
           "lakecolor": "white",
           "landcolor": "#E5ECF6",
           "showlakes": true,
           "showland": true,
           "subunitcolor": "white"
          },
          "hoverlabel": {
           "align": "left"
          },
          "hovermode": "closest",
          "mapbox": {
           "style": "light"
          },
          "paper_bgcolor": "white",
          "plot_bgcolor": "#E5ECF6",
          "polar": {
           "angularaxis": {
            "gridcolor": "white",
            "linecolor": "white",
            "ticks": ""
           },
           "bgcolor": "#E5ECF6",
           "radialaxis": {
            "gridcolor": "white",
            "linecolor": "white",
            "ticks": ""
           }
          },
          "scene": {
           "xaxis": {
            "backgroundcolor": "#E5ECF6",
            "gridcolor": "white",
            "gridwidth": 2,
            "linecolor": "white",
            "showbackground": true,
            "ticks": "",
            "zerolinecolor": "white"
           },
           "yaxis": {
            "backgroundcolor": "#E5ECF6",
            "gridcolor": "white",
            "gridwidth": 2,
            "linecolor": "white",
            "showbackground": true,
            "ticks": "",
            "zerolinecolor": "white"
           },
           "zaxis": {
            "backgroundcolor": "#E5ECF6",
            "gridcolor": "white",
            "gridwidth": 2,
            "linecolor": "white",
            "showbackground": true,
            "ticks": "",
            "zerolinecolor": "white"
           }
          },
          "shapedefaults": {
           "line": {
            "color": "#2a3f5f"
           }
          },
          "ternary": {
           "aaxis": {
            "gridcolor": "white",
            "linecolor": "white",
            "ticks": ""
           },
           "baxis": {
            "gridcolor": "white",
            "linecolor": "white",
            "ticks": ""
           },
           "bgcolor": "#E5ECF6",
           "caxis": {
            "gridcolor": "white",
            "linecolor": "white",
            "ticks": ""
           }
          },
          "title": {
           "x": 0.05
          },
          "xaxis": {
           "automargin": true,
           "gridcolor": "white",
           "linecolor": "white",
           "ticks": "",
           "title": {
            "standoff": 15
           },
           "zerolinecolor": "white",
           "zerolinewidth": 2
          },
          "yaxis": {
           "automargin": true,
           "gridcolor": "white",
           "linecolor": "white",
           "ticks": "",
           "title": {
            "standoff": 15
           },
           "zerolinecolor": "white",
           "zerolinewidth": 2
          }
         }
        },
        "title": {
         "text": "Związek wsparcia społecznego a poziom szczęścia"
        },
        "xaxis": {
         "anchor": "y",
         "domain": [
          0,
          1
         ],
         "title": {
          "text": "Wsparcie społeczne"
         }
        },
        "yaxis": {
         "anchor": "x",
         "domain": [
          0,
          1
         ],
         "title": {
          "text": "Life Ladder"
         }
        }
       }
      }
     },
     "metadata": {},
     "output_type": "display_data"
    }
   ],
   "source": [
    "# scatter wsparcie spoleczne a poziom szczęścia\n",
    "fig_support = px.scatter(\n",
    "    df,\n",
    "    x=\"social_support\",\n",
    "    y=\"life_ladder\",\n",
    "    color=\"region\",\n",
    "    color_discrete_sequence=colors,\n",
    "    hover_name=\"country\",\n",
    "    trendline=\"ols\",\n",
    "    title=\"Związek wsparcia społecznego a poziom szczęścia\",\n",
    "    labels={\"social_support\": \"Wsparcie społeczne\", \"life_ladder\": \"Life Ladder\"}\n",
    ")\n",
    "fig_support.show()\n",
    "\n"
   ]
  },
  {
   "cell_type": "markdown",
   "metadata": {},
   "source": [
    "**Rysunek 6.** Powyższy wykres prezentuje relację między wsparciem społecznym a poziomem szczęścia.\n",
    "\n",
    "Zauważalna dodatnia zależność sugeruje, że kraje o wyższym poziomie deklarowanego wsparcia społecznego cechują się również wyższym wskaźnikiem *Life Ladder*. Wynik ten potwierdza znaczenie czynników społecznych w kształtowaniu dobrostanu jednostek.\n"
   ]
  },
  {
   "cell_type": "markdown",
   "metadata": {},
   "source": [
    "---"
   ]
  },
  {
   "cell_type": "code",
   "execution_count": 11,
   "metadata": {},
   "outputs": [
    {
     "data": {
      "application/vnd.plotly.v1+json": {
       "config": {
        "plotlyServerURL": "https://plot.ly"
       },
       "data": [
        {
         "colorbar": {
          "title": {
           "text": "Korelacja"
          }
         },
         "colorscale": [
          [
           0,
           "rgb(255,255,204)"
          ],
          [
           0.125,
           "rgb(255,237,160)"
          ],
          [
           0.25,
           "rgb(254,217,118)"
          ],
          [
           0.375,
           "rgb(254,178,76)"
          ],
          [
           0.5,
           "rgb(253,141,60)"
          ],
          [
           0.625,
           "rgb(252,78,42)"
          ],
          [
           0.75,
           "rgb(227,26,28)"
          ],
          [
           0.875,
           "rgb(189,0,38)"
          ],
          [
           1,
           "rgb(128,0,38)"
          ]
         ],
         "type": "heatmap",
         "x": [
          "life_ladder",
          "gdp_per_capita",
          "social_support",
          "healthy_expectancy",
          "freedom",
          "generosity",
          "corruption"
         ],
         "y": [
          "life_ladder",
          "gdp_per_capita",
          "social_support",
          "healthy_expectancy",
          "freedom",
          "generosity",
          "corruption"
         ],
         "z": {
          "bdata": "AAAAAAAA8D9I4XoUrkfpP7gehetRuOY/XI/C9Shc5z+kcD0K16PgP1K4HoXrUcg/4XoUrkfh2r9I4XoUrkfpPwAAAAAAAPA/FK5H4XoU5j/hehSuR+HqPwrXo3A9Ctc/AAAAAAAAAAB7FK5H4XrUv7gehetRuOY/FK5H4XoU5j8AAAAAAADwP4XrUbgeheM/PQrXo3A92j/sUbgeheuxP+F6FK5H4cq/XI/C9Shc5z/hehSuR+HqP4XrUbgeheM/AAAAAAAA8D9SuB6F61HYP7gehetRuJ4/exSuR+F61L+kcD0K16PgPwrXo3A9Ctc/PQrXo3A92j9SuB6F61HYPwAAAAAAAPA/H4XrUbge1T8UrkfhehTev1K4HoXrUcg/AAAAAAAAAADsUbgeheuxP7gehetRuJ4/H4XrUbge1T8AAAAAAADwP4/C9Shcj9K/4XoUrkfh2r97FK5H4XrUv+F6FK5H4cq/exSuR+F61L8UrkfhehTev4/C9Shcj9K/AAAAAAAA8D8=",
          "dtype": "f8",
          "shape": "7, 7"
         },
         "zmax": 1,
         "zmin": -1
        }
       ],
       "layout": {
        "template": {
         "data": {
          "bar": [
           {
            "error_x": {
             "color": "#2a3f5f"
            },
            "error_y": {
             "color": "#2a3f5f"
            },
            "marker": {
             "line": {
              "color": "#E5ECF6",
              "width": 0.5
             },
             "pattern": {
              "fillmode": "overlay",
              "size": 10,
              "solidity": 0.2
             }
            },
            "type": "bar"
           }
          ],
          "barpolar": [
           {
            "marker": {
             "line": {
              "color": "#E5ECF6",
              "width": 0.5
             },
             "pattern": {
              "fillmode": "overlay",
              "size": 10,
              "solidity": 0.2
             }
            },
            "type": "barpolar"
           }
          ],
          "carpet": [
           {
            "aaxis": {
             "endlinecolor": "#2a3f5f",
             "gridcolor": "white",
             "linecolor": "white",
             "minorgridcolor": "white",
             "startlinecolor": "#2a3f5f"
            },
            "baxis": {
             "endlinecolor": "#2a3f5f",
             "gridcolor": "white",
             "linecolor": "white",
             "minorgridcolor": "white",
             "startlinecolor": "#2a3f5f"
            },
            "type": "carpet"
           }
          ],
          "choropleth": [
           {
            "colorbar": {
             "outlinewidth": 0,
             "ticks": ""
            },
            "type": "choropleth"
           }
          ],
          "contour": [
           {
            "colorbar": {
             "outlinewidth": 0,
             "ticks": ""
            },
            "colorscale": [
             [
              0,
              "#0d0887"
             ],
             [
              0.1111111111111111,
              "#46039f"
             ],
             [
              0.2222222222222222,
              "#7201a8"
             ],
             [
              0.3333333333333333,
              "#9c179e"
             ],
             [
              0.4444444444444444,
              "#bd3786"
             ],
             [
              0.5555555555555556,
              "#d8576b"
             ],
             [
              0.6666666666666666,
              "#ed7953"
             ],
             [
              0.7777777777777778,
              "#fb9f3a"
             ],
             [
              0.8888888888888888,
              "#fdca26"
             ],
             [
              1,
              "#f0f921"
             ]
            ],
            "type": "contour"
           }
          ],
          "contourcarpet": [
           {
            "colorbar": {
             "outlinewidth": 0,
             "ticks": ""
            },
            "type": "contourcarpet"
           }
          ],
          "heatmap": [
           {
            "colorbar": {
             "outlinewidth": 0,
             "ticks": ""
            },
            "colorscale": [
             [
              0,
              "#0d0887"
             ],
             [
              0.1111111111111111,
              "#46039f"
             ],
             [
              0.2222222222222222,
              "#7201a8"
             ],
             [
              0.3333333333333333,
              "#9c179e"
             ],
             [
              0.4444444444444444,
              "#bd3786"
             ],
             [
              0.5555555555555556,
              "#d8576b"
             ],
             [
              0.6666666666666666,
              "#ed7953"
             ],
             [
              0.7777777777777778,
              "#fb9f3a"
             ],
             [
              0.8888888888888888,
              "#fdca26"
             ],
             [
              1,
              "#f0f921"
             ]
            ],
            "type": "heatmap"
           }
          ],
          "histogram": [
           {
            "marker": {
             "pattern": {
              "fillmode": "overlay",
              "size": 10,
              "solidity": 0.2
             }
            },
            "type": "histogram"
           }
          ],
          "histogram2d": [
           {
            "colorbar": {
             "outlinewidth": 0,
             "ticks": ""
            },
            "colorscale": [
             [
              0,
              "#0d0887"
             ],
             [
              0.1111111111111111,
              "#46039f"
             ],
             [
              0.2222222222222222,
              "#7201a8"
             ],
             [
              0.3333333333333333,
              "#9c179e"
             ],
             [
              0.4444444444444444,
              "#bd3786"
             ],
             [
              0.5555555555555556,
              "#d8576b"
             ],
             [
              0.6666666666666666,
              "#ed7953"
             ],
             [
              0.7777777777777778,
              "#fb9f3a"
             ],
             [
              0.8888888888888888,
              "#fdca26"
             ],
             [
              1,
              "#f0f921"
             ]
            ],
            "type": "histogram2d"
           }
          ],
          "histogram2dcontour": [
           {
            "colorbar": {
             "outlinewidth": 0,
             "ticks": ""
            },
            "colorscale": [
             [
              0,
              "#0d0887"
             ],
             [
              0.1111111111111111,
              "#46039f"
             ],
             [
              0.2222222222222222,
              "#7201a8"
             ],
             [
              0.3333333333333333,
              "#9c179e"
             ],
             [
              0.4444444444444444,
              "#bd3786"
             ],
             [
              0.5555555555555556,
              "#d8576b"
             ],
             [
              0.6666666666666666,
              "#ed7953"
             ],
             [
              0.7777777777777778,
              "#fb9f3a"
             ],
             [
              0.8888888888888888,
              "#fdca26"
             ],
             [
              1,
              "#f0f921"
             ]
            ],
            "type": "histogram2dcontour"
           }
          ],
          "mesh3d": [
           {
            "colorbar": {
             "outlinewidth": 0,
             "ticks": ""
            },
            "type": "mesh3d"
           }
          ],
          "parcoords": [
           {
            "line": {
             "colorbar": {
              "outlinewidth": 0,
              "ticks": ""
             }
            },
            "type": "parcoords"
           }
          ],
          "pie": [
           {
            "automargin": true,
            "type": "pie"
           }
          ],
          "scatter": [
           {
            "fillpattern": {
             "fillmode": "overlay",
             "size": 10,
             "solidity": 0.2
            },
            "type": "scatter"
           }
          ],
          "scatter3d": [
           {
            "line": {
             "colorbar": {
              "outlinewidth": 0,
              "ticks": ""
             }
            },
            "marker": {
             "colorbar": {
              "outlinewidth": 0,
              "ticks": ""
             }
            },
            "type": "scatter3d"
           }
          ],
          "scattercarpet": [
           {
            "marker": {
             "colorbar": {
              "outlinewidth": 0,
              "ticks": ""
             }
            },
            "type": "scattercarpet"
           }
          ],
          "scattergeo": [
           {
            "marker": {
             "colorbar": {
              "outlinewidth": 0,
              "ticks": ""
             }
            },
            "type": "scattergeo"
           }
          ],
          "scattergl": [
           {
            "marker": {
             "colorbar": {
              "outlinewidth": 0,
              "ticks": ""
             }
            },
            "type": "scattergl"
           }
          ],
          "scattermap": [
           {
            "marker": {
             "colorbar": {
              "outlinewidth": 0,
              "ticks": ""
             }
            },
            "type": "scattermap"
           }
          ],
          "scattermapbox": [
           {
            "marker": {
             "colorbar": {
              "outlinewidth": 0,
              "ticks": ""
             }
            },
            "type": "scattermapbox"
           }
          ],
          "scatterpolar": [
           {
            "marker": {
             "colorbar": {
              "outlinewidth": 0,
              "ticks": ""
             }
            },
            "type": "scatterpolar"
           }
          ],
          "scatterpolargl": [
           {
            "marker": {
             "colorbar": {
              "outlinewidth": 0,
              "ticks": ""
             }
            },
            "type": "scatterpolargl"
           }
          ],
          "scatterternary": [
           {
            "marker": {
             "colorbar": {
              "outlinewidth": 0,
              "ticks": ""
             }
            },
            "type": "scatterternary"
           }
          ],
          "surface": [
           {
            "colorbar": {
             "outlinewidth": 0,
             "ticks": ""
            },
            "colorscale": [
             [
              0,
              "#0d0887"
             ],
             [
              0.1111111111111111,
              "#46039f"
             ],
             [
              0.2222222222222222,
              "#7201a8"
             ],
             [
              0.3333333333333333,
              "#9c179e"
             ],
             [
              0.4444444444444444,
              "#bd3786"
             ],
             [
              0.5555555555555556,
              "#d8576b"
             ],
             [
              0.6666666666666666,
              "#ed7953"
             ],
             [
              0.7777777777777778,
              "#fb9f3a"
             ],
             [
              0.8888888888888888,
              "#fdca26"
             ],
             [
              1,
              "#f0f921"
             ]
            ],
            "type": "surface"
           }
          ],
          "table": [
           {
            "cells": {
             "fill": {
              "color": "#EBF0F8"
             },
             "line": {
              "color": "white"
             }
            },
            "header": {
             "fill": {
              "color": "#C8D4E3"
             },
             "line": {
              "color": "white"
             }
            },
            "type": "table"
           }
          ]
         },
         "layout": {
          "annotationdefaults": {
           "arrowcolor": "#2a3f5f",
           "arrowhead": 0,
           "arrowwidth": 1
          },
          "autotypenumbers": "strict",
          "coloraxis": {
           "colorbar": {
            "outlinewidth": 0,
            "ticks": ""
           }
          },
          "colorscale": {
           "diverging": [
            [
             0,
             "#8e0152"
            ],
            [
             0.1,
             "#c51b7d"
            ],
            [
             0.2,
             "#de77ae"
            ],
            [
             0.3,
             "#f1b6da"
            ],
            [
             0.4,
             "#fde0ef"
            ],
            [
             0.5,
             "#f7f7f7"
            ],
            [
             0.6,
             "#e6f5d0"
            ],
            [
             0.7,
             "#b8e186"
            ],
            [
             0.8,
             "#7fbc41"
            ],
            [
             0.9,
             "#4d9221"
            ],
            [
             1,
             "#276419"
            ]
           ],
           "sequential": [
            [
             0,
             "#0d0887"
            ],
            [
             0.1111111111111111,
             "#46039f"
            ],
            [
             0.2222222222222222,
             "#7201a8"
            ],
            [
             0.3333333333333333,
             "#9c179e"
            ],
            [
             0.4444444444444444,
             "#bd3786"
            ],
            [
             0.5555555555555556,
             "#d8576b"
            ],
            [
             0.6666666666666666,
             "#ed7953"
            ],
            [
             0.7777777777777778,
             "#fb9f3a"
            ],
            [
             0.8888888888888888,
             "#fdca26"
            ],
            [
             1,
             "#f0f921"
            ]
           ],
           "sequentialminus": [
            [
             0,
             "#0d0887"
            ],
            [
             0.1111111111111111,
             "#46039f"
            ],
            [
             0.2222222222222222,
             "#7201a8"
            ],
            [
             0.3333333333333333,
             "#9c179e"
            ],
            [
             0.4444444444444444,
             "#bd3786"
            ],
            [
             0.5555555555555556,
             "#d8576b"
            ],
            [
             0.6666666666666666,
             "#ed7953"
            ],
            [
             0.7777777777777778,
             "#fb9f3a"
            ],
            [
             0.8888888888888888,
             "#fdca26"
            ],
            [
             1,
             "#f0f921"
            ]
           ]
          },
          "colorway": [
           "#636efa",
           "#EF553B",
           "#00cc96",
           "#ab63fa",
           "#FFA15A",
           "#19d3f3",
           "#FF6692",
           "#B6E880",
           "#FF97FF",
           "#FECB52"
          ],
          "font": {
           "color": "#2a3f5f"
          },
          "geo": {
           "bgcolor": "white",
           "lakecolor": "white",
           "landcolor": "#E5ECF6",
           "showlakes": true,
           "showland": true,
           "subunitcolor": "white"
          },
          "hoverlabel": {
           "align": "left"
          },
          "hovermode": "closest",
          "mapbox": {
           "style": "light"
          },
          "paper_bgcolor": "white",
          "plot_bgcolor": "#E5ECF6",
          "polar": {
           "angularaxis": {
            "gridcolor": "white",
            "linecolor": "white",
            "ticks": ""
           },
           "bgcolor": "#E5ECF6",
           "radialaxis": {
            "gridcolor": "white",
            "linecolor": "white",
            "ticks": ""
           }
          },
          "scene": {
           "xaxis": {
            "backgroundcolor": "#E5ECF6",
            "gridcolor": "white",
            "gridwidth": 2,
            "linecolor": "white",
            "showbackground": true,
            "ticks": "",
            "zerolinecolor": "white"
           },
           "yaxis": {
            "backgroundcolor": "#E5ECF6",
            "gridcolor": "white",
            "gridwidth": 2,
            "linecolor": "white",
            "showbackground": true,
            "ticks": "",
            "zerolinecolor": "white"
           },
           "zaxis": {
            "backgroundcolor": "#E5ECF6",
            "gridcolor": "white",
            "gridwidth": 2,
            "linecolor": "white",
            "showbackground": true,
            "ticks": "",
            "zerolinecolor": "white"
           }
          },
          "shapedefaults": {
           "line": {
            "color": "#2a3f5f"
           }
          },
          "ternary": {
           "aaxis": {
            "gridcolor": "white",
            "linecolor": "white",
            "ticks": ""
           },
           "baxis": {
            "gridcolor": "white",
            "linecolor": "white",
            "ticks": ""
           },
           "bgcolor": "#E5ECF6",
           "caxis": {
            "gridcolor": "white",
            "linecolor": "white",
            "ticks": ""
           }
          },
          "title": {
           "x": 0.05
          },
          "xaxis": {
           "automargin": true,
           "gridcolor": "white",
           "linecolor": "white",
           "ticks": "",
           "title": {
            "standoff": 15
           },
           "zerolinecolor": "white",
           "zerolinewidth": 2
          },
          "yaxis": {
           "automargin": true,
           "gridcolor": "white",
           "linecolor": "white",
           "ticks": "",
           "title": {
            "standoff": 15
           },
           "zerolinecolor": "white",
           "zerolinewidth": 2
          }
         }
        },
        "title": {
         "text": "Macierz korelacji zmiennych"
        }
       }
      }
     },
     "metadata": {},
     "output_type": "display_data"
    }
   ],
   "source": [
    "#macierz korelacji\n",
    "cols = [\n",
    "    \"life_ladder\",\n",
    "    \"gdp_per_capita\",\n",
    "    \"social_support\",\n",
    "    \"healthy_expectancy\",\n",
    "    \"freedom\",\n",
    "    \"generosity\",\n",
    "    \"corruption\"\n",
    "]\n",
    "\n",
    "corr_matrix = df[cols].corr().round(2)\n",
    "\n",
    "fig_corr = g.Figure(\n",
    "    data=g.Heatmap(\n",
    "        z=corr_matrix.values,\n",
    "        x=corr_matrix.columns,\n",
    "        y=corr_matrix.index,\n",
    "        # Ustawiamy skalę kolorów Yellow-Orange-Red\n",
    "        colorscale=\"YlOrRd\",\n",
    "        zmin=-1,\n",
    "        zmax=1,\n",
    "        colorbar=dict(title=\"Korelacja\")\n",
    "    )\n",
    ")\n",
    "\n",
    "fig_corr.update_layout(\n",
    "    title=\"Macierz korelacji zmiennych\"\n",
    ")\n",
    "\n",
    "fig_corr.show()\n",
    "\n",
    "\n",
    "\n"
   ]
  },
  {
   "cell_type": "markdown",
   "metadata": {},
   "source": [
    "**Rysunek 7.** Macierz korelacji ilustruje współzależności pomiędzy głównymi zmiennymi ilościowymi w zbiorze danych. \n",
    "\n",
    "Analiza wykazała, że zmienna **poziom szczęścia** (*life_ladder*) charakteryzuje się najwyższym stopniem dodatniego powiązania z dwoma kluczowymi predyktorami:\n",
    "- **wsparciem społecznym** (*social_support*), z którym korelacja wynosi **r = +0,71**, co wskazuje na silną dodatnią zależność liniową. Oznacza to, że w krajach o wyższym poziomie deklarowanego wsparcia społecznego obserwuje się wyższy średni poziom szczęścia.\n",
    "- **PKB per capita** (*gdp_per_capita*), z którym odnotowano dodatnią korelację na poziomie **r = +0,79**. Wskazuje to, że wzrost poziomu dobrobytu ekonomicznego jest istotnie skorelowany ze wzrostem deklarowanego dobrostanu.\n",
    "\n",
    "Wysoką dodatnią korelację zaobserwowano również między **oczekiwaną długością życia w zdrowiu** (*healthy_expectancy*) a **PKB per capita** (*r = +0,84*), co sugeruje, że wyższy poziom rozwoju gospodarczego wiąże się z korzystniejszymi wskaźnikami zdrowotnymi populacji.\n",
    "\n",
    "Dodatkowo umiarkowaną dodatnią korelację z poziomem szczęścia wykazuje zmienna **wolność wyboru w życiu** (*freedom*), dla której współczynnik korelacji wynosi **r = +0,52**. Wynik ten wskazuje na istotne, choć słabsze niż w przypadku wsparcia społecznego i dochodu, powiązanie między deklarowanym poczuciem wolności a dobrostanem.\n",
    "\n",
    "W odniesieniu do zmiennej **percepcja korupcji** (*corruption*) odnotowano umiarkowaną **ujemną korelację** z poziomem szczęścia (**r = –0,42**), co sugeruje, że wyższe postrzeganie korupcji w społeczeństwie wiąże się z niższym poziomem zadowolenia z życia.\n",
    "\n",
    "W przypadku zmiennej **hojność** (*generosity*) korelacje z pozostałymi wskaźnikami są niskie i oscylują w granicach od –0,10 do +0,15, co może świadczyć o relatywnie niewielkim znaczeniu tego czynnika jako predyktora szczęścia w analizowanym zbiorze danych.\n",
    "\n",
    "Podsumowując, wyniki analizy wskazują na istotne współwystępowanie kilku determinantów szczęścia, w szczególności poziomu wsparcia społecznego i dobrobytu materialnego, natomiast słabsze zależności stwierdzono w przypadku hojności i percepcji korupcji. Korelacje zostały obliczone w oparciu o współczynnik Pearsona i należy pamiętać, że wartości te odzwierciedlają wyłącznie **związki liniowe** i nie pozwalają na formułowanie wniosków przyczynowo-skutkowych.\n",
    "\n",
    "\n"
   ]
  },
  {
   "cell_type": "markdown",
   "metadata": {},
   "source": [
    "---"
   ]
  },
  {
   "cell_type": "markdown",
   "metadata": {},
   "source": [
    "## Podsumowanie i wnioski\n",
    "\n",
    "Przeprowadzona wizualizacja danych pozwoliła na szczegółową eksplorację zależności pomiędzy poziomem deklarowanego szczęścia (*Life Ladder*) a wybranymi zmiennymi społeczno-ekonomicznymi i regionalnymi. Na podstawie przedstawionych wykresów można sformułować następujące kluczowe obserwacje i wnioski:\n",
    "\n",
    "1. **Zróżnicowanie geograficzne:**  \n",
    "   Kraje Europy Zachodniej i Północnej charakteryzują się najwyższym średnim poziomem szczęścia, podczas gdy najniższe wartości wskaźnika odnotowano w państwach Afryki Subsaharyjskiej oraz niektórych regionach Azji. Wyniki te potwierdzają utrzymujące się globalne dysproporcje w poziomie dobrostanu subiektywnego.\n",
    "\n",
    "2. **Wpływ czynników ekonomicznych:**  \n",
    "   Analiza wykresu rozrzutu wykazała istotną dodatnią korelację pomiędzy PKB per capita a poziomem szczęścia. Wskazuje to, że zamożność społeczeństwa jest ważnym predyktorem jakości życia, choć nie wyczerpuje wszystkich uwarunkowań.\n",
    "\n",
    "3. **Znaczenie wsparcia społecznego:**  \n",
    "   Wyraźna dodatnia zależność między wsparciem społecznym a wskaźnikiem *Life Ladder* podkreśla rolę relacji społecznych i poczucia bezpieczeństwa w kształtowaniu dobrostanu jednostek.\n",
    "\n",
    "4. **Rozkład regionalny i stabilność wyników:**  \n",
    "   Wizualizacja boxplot potwierdziła, że niektóre regiony, takie jak Europa Zachodnia, cechują się nie tylko wysokim poziomem szczęścia, lecz także niskim zróżnicowaniem wewnętrznym, co może świadczyć o stabilności czynników sprzyjających dobrostanowi.\n",
    "\n",
    "5. **Macierz korelacji:**  \n",
    "   Analiza współzależności między zmiennymi potwierdziła, że wskaźnik szczęścia pozostaje w silnym związku z czynnikami gospodarczymi i społecznymi, podczas gdy zmienne takie jak hojność czy percepcja korupcji wykazują słabsze związki z dobrostanem deklarowanym.\n",
    "\n",
    "Podsumowując, wizualizacje potwierdziły, że poziom szczęścia społeczeństw jest uwarunkowany wieloczynnikowo i podlega znacznym różnicom przestrzennym. Wyniki analizy mogą stanowić podstawę do sformułowania hipotez badawczych oraz dalszych pogłębionych analiz ilościowych, w tym modeli regresji wielorakiej, które pozwolą precyzyjnie określić siłę i kierunek wpływu poszczególnych zmiennych na poziom dobrostanu.\n"
   ]
  }
 ],
 "metadata": {
  "kernelspec": {
   "display_name": "Python 3",
   "language": "python",
   "name": "python3"
  },
  "language_info": {
   "codemirror_mode": {
    "name": "ipython",
    "version": 3
   },
   "file_extension": ".py",
   "mimetype": "text/x-python",
   "name": "python",
   "nbconvert_exporter": "python",
   "pygments_lexer": "ipython3",
   "version": "3.13.3"
  }
 },
 "nbformat": 4,
 "nbformat_minor": 2
}
