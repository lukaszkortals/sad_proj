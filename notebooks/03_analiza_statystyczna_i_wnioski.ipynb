{
 "cells": [
  {
   "cell_type": "markdown",
   "metadata": {},
   "source": [
    "# Analiza statystyczna i wnioski\n",
    "\n",
    "W tej części wykonamy obliczenia statystyczne i sformułujemy końcowe wnioski."
   ]
  },
  {
   "cell_type": "code",
   "execution_count": 18,
   "metadata": {},
   "outputs": [
    {
     "data": {
      "application/vnd.microsoft.datawrangler.viewer.v0+json": {
       "columns": [
        {
         "name": "index",
         "rawType": "object",
         "type": "string"
        },
        {
         "name": "life_ladder",
         "rawType": "float64",
         "type": "float"
        }
       ],
       "ref": "aa87f865-3750-4cdc-9643-2d31c60b980a",
       "rows": [
        [
         "life_ladder",
         "1.0"
        ],
        [
         "gdp_per_capita",
         "0.7880026603435657"
        ],
        [
         "healthy_expectancy",
         "0.7345680206096719"
        ],
        [
         "social_support",
         "0.7069659952343685"
        ],
        [
         "positive_affect",
         "0.5322731610096197"
        ],
        [
         "freedom",
         "0.5208323188651435"
        ],
        [
         "generosity",
         "0.1921583650230281"
        ],
        [
         "year",
         "0.03551533439566529"
        ],
        [
         "missing_per_row",
         "0.029344693689471513"
        ],
        [
         "negative_affect",
         "-0.29748782439085225"
        ],
        [
         "corruption",
         "-0.41769449913279855"
        ]
       ],
       "shape": {
        "columns": 1,
        "rows": 11
       }
      },
      "text/plain": [
       "life_ladder           1.000000\n",
       "gdp_per_capita        0.788003\n",
       "healthy_expectancy    0.734568\n",
       "social_support        0.706966\n",
       "positive_affect       0.532273\n",
       "freedom               0.520832\n",
       "generosity            0.192158\n",
       "year                  0.035515\n",
       "missing_per_row       0.029345\n",
       "negative_affect      -0.297488\n",
       "corruption           -0.417694\n",
       "Name: life_ladder, dtype: float64"
      ]
     },
     "execution_count": 18,
     "metadata": {},
     "output_type": "execute_result"
    }
   ],
   "source": [
    "# Obliczenia korelacji\n",
    "import pandas as pd\n",
    "import seaborn as sns\n",
    "import matplotlib.pyplot as plt\n",
    "\n",
    "df = pd.read_csv('../data/happiness_cleaned.csv')\n",
    "df.corr(numeric_only=True)['life_ladder'].sort_values(ascending=False)"
   ]
  },
  {
   "cell_type": "code",
   "execution_count": 6,
   "metadata": {},
   "outputs": [],
   "source": [
    "%matplotlib inline\n",
    "%config InlineBackend.figure_format = 'retina'"
   ]
  },
  {
   "cell_type": "code",
   "execution_count": null,
   "metadata": {},
   "outputs": [
    {
     "data": {
      "application/vnd.microsoft.datawrangler.viewer.v0+json": {
       "columns": [
        {
         "name": "index",
         "rawType": "int64",
         "type": "integer"
        },
        {
         "name": "country",
         "rawType": "object",
         "type": "string"
        },
        {
         "name": "year",
         "rawType": "int64",
         "type": "integer"
        },
        {
         "name": "life_ladder",
         "rawType": "float64",
         "type": "float"
        },
        {
         "name": "gdp_per_capita",
         "rawType": "float64",
         "type": "float"
        },
        {
         "name": "social_support",
         "rawType": "float64",
         "type": "float"
        },
        {
         "name": "healthy_expectancy",
         "rawType": "float64",
         "type": "float"
        },
        {
         "name": "freedom",
         "rawType": "float64",
         "type": "float"
        },
        {
         "name": "generosity",
         "rawType": "float64",
         "type": "float"
        },
        {
         "name": "corruption",
         "rawType": "float64",
         "type": "float"
        },
        {
         "name": "positive_affect",
         "rawType": "float64",
         "type": "float"
        },
        {
         "name": "negative_affect",
         "rawType": "float64",
         "type": "float"
        },
        {
         "name": "region",
         "rawType": "object",
         "type": "string"
        },
        {
         "name": "missing_per_row",
         "rawType": "int64",
         "type": "integer"
        }
       ],
       "ref": "f6fc646e-9edf-4995-95ae-9f7ca13feb59",
       "rows": [
        [
         "0",
         "Afghanistan",
         "2008",
         "3.724",
         "7.37",
         "0.451",
         "50.8",
         "0.718",
         "0.168",
         "0.882",
         "0.518",
         "0.258",
         "South Asia",
         "0"
        ],
        [
         "1",
         "Afghanistan",
         "2009",
         "4.402",
         "7.54",
         "0.552",
         "51.2",
         "0.679",
         "0.19",
         "0.85",
         "0.584",
         "0.237",
         "South Asia",
         "0"
        ],
        [
         "2",
         "Afghanistan",
         "2010",
         "4.758",
         "7.647",
         "0.539",
         "51.6",
         "0.6",
         "0.121",
         "0.707",
         "0.618",
         "0.275",
         "South Asia",
         "0"
        ],
        [
         "3",
         "Afghanistan",
         "2011",
         "3.832",
         "7.62",
         "0.521",
         "51.92",
         "0.496",
         "0.162",
         "0.731",
         "0.611",
         "0.267",
         "South Asia",
         "0"
        ],
        [
         "4",
         "Afghanistan",
         "2012",
         "3.783",
         "7.705",
         "0.521",
         "52.24",
         "0.531",
         "0.236",
         "0.776",
         "0.71",
         "0.268",
         "South Asia",
         "0"
        ],
        [
         "5",
         "Afghanistan",
         "2013",
         "3.572",
         "7.725",
         "0.484",
         "52.56",
         "0.578",
         "0.061",
         "0.823",
         "0.621",
         "0.273",
         "South Asia",
         "0"
        ],
        [
         "6",
         "Afghanistan",
         "2014",
         "3.131",
         "7.718",
         "0.526",
         "52.88",
         "0.509",
         "0.104",
         "0.871",
         "0.532",
         "0.375",
         "South Asia",
         "0"
        ],
        [
         "7",
         "Afghanistan",
         "2015",
         "3.983",
         "7.702",
         "0.529",
         "53.2",
         "0.389",
         "0.08",
         "0.881",
         "0.554",
         "0.339",
         "South Asia",
         "0"
        ],
        [
         "8",
         "Afghanistan",
         "2016",
         "4.22",
         "7.697",
         "0.559",
         "53.0",
         "0.523",
         "0.042",
         "0.793",
         "0.565",
         "0.348",
         "South Asia",
         "0"
        ],
        [
         "9",
         "Afghanistan",
         "2017",
         "2.662",
         "7.697",
         "0.491",
         "52.8",
         "0.427",
         "-0.121",
         "0.954",
         "0.496",
         "0.371",
         "South Asia",
         "0"
        ]
       ],
       "shape": {
        "columns": 13,
        "rows": 10
       }
      },
      "text/html": [
       "<div>\n",
       "<style scoped>\n",
       "    .dataframe tbody tr th:only-of-type {\n",
       "        vertical-align: middle;\n",
       "    }\n",
       "\n",
       "    .dataframe tbody tr th {\n",
       "        vertical-align: top;\n",
       "    }\n",
       "\n",
       "    .dataframe thead th {\n",
       "        text-align: right;\n",
       "    }\n",
       "</style>\n",
       "<table border=\"1\" class=\"dataframe\">\n",
       "  <thead>\n",
       "    <tr style=\"text-align: right;\">\n",
       "      <th></th>\n",
       "      <th>country</th>\n",
       "      <th>year</th>\n",
       "      <th>life_ladder</th>\n",
       "      <th>gdp_per_capita</th>\n",
       "      <th>social_support</th>\n",
       "      <th>healthy_expectancy</th>\n",
       "      <th>freedom</th>\n",
       "      <th>generosity</th>\n",
       "      <th>corruption</th>\n",
       "      <th>positive_affect</th>\n",
       "      <th>negative_affect</th>\n",
       "      <th>region</th>\n",
       "      <th>missing_per_row</th>\n",
       "    </tr>\n",
       "  </thead>\n",
       "  <tbody>\n",
       "    <tr>\n",
       "      <th>0</th>\n",
       "      <td>Afghanistan</td>\n",
       "      <td>2008</td>\n",
       "      <td>3.724</td>\n",
       "      <td>7.370</td>\n",
       "      <td>0.451</td>\n",
       "      <td>50.80</td>\n",
       "      <td>0.718</td>\n",
       "      <td>0.168</td>\n",
       "      <td>0.882</td>\n",
       "      <td>0.518</td>\n",
       "      <td>0.258</td>\n",
       "      <td>South Asia</td>\n",
       "      <td>0</td>\n",
       "    </tr>\n",
       "    <tr>\n",
       "      <th>1</th>\n",
       "      <td>Afghanistan</td>\n",
       "      <td>2009</td>\n",
       "      <td>4.402</td>\n",
       "      <td>7.540</td>\n",
       "      <td>0.552</td>\n",
       "      <td>51.20</td>\n",
       "      <td>0.679</td>\n",
       "      <td>0.190</td>\n",
       "      <td>0.850</td>\n",
       "      <td>0.584</td>\n",
       "      <td>0.237</td>\n",
       "      <td>South Asia</td>\n",
       "      <td>0</td>\n",
       "    </tr>\n",
       "    <tr>\n",
       "      <th>2</th>\n",
       "      <td>Afghanistan</td>\n",
       "      <td>2010</td>\n",
       "      <td>4.758</td>\n",
       "      <td>7.647</td>\n",
       "      <td>0.539</td>\n",
       "      <td>51.60</td>\n",
       "      <td>0.600</td>\n",
       "      <td>0.121</td>\n",
       "      <td>0.707</td>\n",
       "      <td>0.618</td>\n",
       "      <td>0.275</td>\n",
       "      <td>South Asia</td>\n",
       "      <td>0</td>\n",
       "    </tr>\n",
       "    <tr>\n",
       "      <th>3</th>\n",
       "      <td>Afghanistan</td>\n",
       "      <td>2011</td>\n",
       "      <td>3.832</td>\n",
       "      <td>7.620</td>\n",
       "      <td>0.521</td>\n",
       "      <td>51.92</td>\n",
       "      <td>0.496</td>\n",
       "      <td>0.162</td>\n",
       "      <td>0.731</td>\n",
       "      <td>0.611</td>\n",
       "      <td>0.267</td>\n",
       "      <td>South Asia</td>\n",
       "      <td>0</td>\n",
       "    </tr>\n",
       "    <tr>\n",
       "      <th>4</th>\n",
       "      <td>Afghanistan</td>\n",
       "      <td>2012</td>\n",
       "      <td>3.783</td>\n",
       "      <td>7.705</td>\n",
       "      <td>0.521</td>\n",
       "      <td>52.24</td>\n",
       "      <td>0.531</td>\n",
       "      <td>0.236</td>\n",
       "      <td>0.776</td>\n",
       "      <td>0.710</td>\n",
       "      <td>0.268</td>\n",
       "      <td>South Asia</td>\n",
       "      <td>0</td>\n",
       "    </tr>\n",
       "    <tr>\n",
       "      <th>5</th>\n",
       "      <td>Afghanistan</td>\n",
       "      <td>2013</td>\n",
       "      <td>3.572</td>\n",
       "      <td>7.725</td>\n",
       "      <td>0.484</td>\n",
       "      <td>52.56</td>\n",
       "      <td>0.578</td>\n",
       "      <td>0.061</td>\n",
       "      <td>0.823</td>\n",
       "      <td>0.621</td>\n",
       "      <td>0.273</td>\n",
       "      <td>South Asia</td>\n",
       "      <td>0</td>\n",
       "    </tr>\n",
       "    <tr>\n",
       "      <th>6</th>\n",
       "      <td>Afghanistan</td>\n",
       "      <td>2014</td>\n",
       "      <td>3.131</td>\n",
       "      <td>7.718</td>\n",
       "      <td>0.526</td>\n",
       "      <td>52.88</td>\n",
       "      <td>0.509</td>\n",
       "      <td>0.104</td>\n",
       "      <td>0.871</td>\n",
       "      <td>0.532</td>\n",
       "      <td>0.375</td>\n",
       "      <td>South Asia</td>\n",
       "      <td>0</td>\n",
       "    </tr>\n",
       "    <tr>\n",
       "      <th>7</th>\n",
       "      <td>Afghanistan</td>\n",
       "      <td>2015</td>\n",
       "      <td>3.983</td>\n",
       "      <td>7.702</td>\n",
       "      <td>0.529</td>\n",
       "      <td>53.20</td>\n",
       "      <td>0.389</td>\n",
       "      <td>0.080</td>\n",
       "      <td>0.881</td>\n",
       "      <td>0.554</td>\n",
       "      <td>0.339</td>\n",
       "      <td>South Asia</td>\n",
       "      <td>0</td>\n",
       "    </tr>\n",
       "    <tr>\n",
       "      <th>8</th>\n",
       "      <td>Afghanistan</td>\n",
       "      <td>2016</td>\n",
       "      <td>4.220</td>\n",
       "      <td>7.697</td>\n",
       "      <td>0.559</td>\n",
       "      <td>53.00</td>\n",
       "      <td>0.523</td>\n",
       "      <td>0.042</td>\n",
       "      <td>0.793</td>\n",
       "      <td>0.565</td>\n",
       "      <td>0.348</td>\n",
       "      <td>South Asia</td>\n",
       "      <td>0</td>\n",
       "    </tr>\n",
       "    <tr>\n",
       "      <th>9</th>\n",
       "      <td>Afghanistan</td>\n",
       "      <td>2017</td>\n",
       "      <td>2.662</td>\n",
       "      <td>7.697</td>\n",
       "      <td>0.491</td>\n",
       "      <td>52.80</td>\n",
       "      <td>0.427</td>\n",
       "      <td>-0.121</td>\n",
       "      <td>0.954</td>\n",
       "      <td>0.496</td>\n",
       "      <td>0.371</td>\n",
       "      <td>South Asia</td>\n",
       "      <td>0</td>\n",
       "    </tr>\n",
       "  </tbody>\n",
       "</table>\n",
       "</div>"
      ],
      "text/plain": [
       "       country  year  life_ladder  gdp_per_capita  social_support  \\\n",
       "0  Afghanistan  2008        3.724           7.370           0.451   \n",
       "1  Afghanistan  2009        4.402           7.540           0.552   \n",
       "2  Afghanistan  2010        4.758           7.647           0.539   \n",
       "3  Afghanistan  2011        3.832           7.620           0.521   \n",
       "4  Afghanistan  2012        3.783           7.705           0.521   \n",
       "5  Afghanistan  2013        3.572           7.725           0.484   \n",
       "6  Afghanistan  2014        3.131           7.718           0.526   \n",
       "7  Afghanistan  2015        3.983           7.702           0.529   \n",
       "8  Afghanistan  2016        4.220           7.697           0.559   \n",
       "9  Afghanistan  2017        2.662           7.697           0.491   \n",
       "\n",
       "   healthy_expectancy  freedom  generosity  corruption  positive_affect  \\\n",
       "0               50.80    0.718       0.168       0.882            0.518   \n",
       "1               51.20    0.679       0.190       0.850            0.584   \n",
       "2               51.60    0.600       0.121       0.707            0.618   \n",
       "3               51.92    0.496       0.162       0.731            0.611   \n",
       "4               52.24    0.531       0.236       0.776            0.710   \n",
       "5               52.56    0.578       0.061       0.823            0.621   \n",
       "6               52.88    0.509       0.104       0.871            0.532   \n",
       "7               53.20    0.389       0.080       0.881            0.554   \n",
       "8               53.00    0.523       0.042       0.793            0.565   \n",
       "9               52.80    0.427      -0.121       0.954            0.496   \n",
       "\n",
       "   negative_affect      region  missing_per_row  \n",
       "0            0.258  South Asia                0  \n",
       "1            0.237  South Asia                0  \n",
       "2            0.275  South Asia                0  \n",
       "3            0.267  South Asia                0  \n",
       "4            0.268  South Asia                0  \n",
       "5            0.273  South Asia                0  \n",
       "6            0.375  South Asia                0  \n",
       "7            0.339  South Asia                0  \n",
       "8            0.348  South Asia                0  \n",
       "9            0.371  South Asia                0  "
      ]
     },
     "execution_count": 16,
     "metadata": {},
     "output_type": "execute_result"
    }
   ],
   "source": [
    "# Obliczenie podstawowych statystyk opisowych dla głównej zmiennej 'life_ladder' \n",
    "# - średniej, mediany, odchylenia standardowego, minimum i maksimum, w celu pokazania ogólnego poziomu \n",
    "# szczęścia na świecie.\n",
    "df = pd.read_csv('../data/happiness_cleaned.csv')\n",
    "df.head(10)\n"
   ]
  },
  {
   "cell_type": "code",
   "execution_count": 12,
   "metadata": {},
   "outputs": [
    {
     "data": {
      "text/plain": [
       "np.float64(5.46670548999487)"
      ]
     },
     "execution_count": 12,
     "metadata": {},
     "output_type": "execute_result"
    }
   ],
   "source": [
    "df['life_ladder'].mean()\n"
   ]
  },
  {
   "cell_type": "code",
   "execution_count": 19,
   "metadata": {},
   "outputs": [
    {
     "data": {
      "text/plain": [
       "<matplotlib.lines.Line2D at 0x29b8b3c39d0>"
      ]
     },
     "execution_count": 19,
     "metadata": {},
     "output_type": "execute_result"
    },
    {
     "data": {
      "image/png": "[encoded data removed]",
      "text/plain": [
       "<Figure size 640x480 with 1 Axes>"
      ]
     },
     "metadata": {
      "image/png": {
       "height": 433,
       "width": 571
      }
     },
     "output_type": "display_data"
    }
   ],
   "source": [
    "sns.histplot(data = df, x = \"life_ladder\")\n",
    "plt.axvline(df['life_ladder'].mean(), linestyle = \"dotted\")"
   ]
  },
  {
   "cell_type": "code",
   "execution_count": null,
   "metadata": {},
   "outputs": [],
   "source": [
    "# Występuje lekka skośność prawostronna. Większość krajów ma poziom szczęścia skupiony wokół średniej.\n",
    "# Istnieje mniejsza liczba krajów z bardzo wysokim poziomem szczęścia, co tworzy delikatny ogon w prawo.\n",
    "# Średnia jest lekko przesunięta w prawo względem środka rozkładu."
   ]
  },
  {
   "cell_type": "code",
   "execution_count": 21,
   "metadata": {},
   "outputs": [
    {
     "data": {
      "text/plain": [
       "np.float64(5.386)"
      ]
     },
     "execution_count": 21,
     "metadata": {},
     "output_type": "execute_result"
    }
   ],
   "source": [
    "# obliczenie mediany\n",
    "df['life_ladder'].median()"
   ]
  },
  {
   "cell_type": "code",
   "execution_count": 22,
   "metadata": {},
   "outputs": [
    {
     "data": {
      "text/plain": [
       "<matplotlib.lines.Line2D at 0x29b8b672210>"
      ]
     },
     "execution_count": 22,
     "metadata": {},
     "output_type": "execute_result"
    },
    {
     "data": {
      "image/png": "[encoded data removed]",
      "text/plain": [
       "<Figure size 640x480 with 1 Axes>"
      ]
     },
     "metadata": {
      "image/png": {
       "height": 433,
       "width": 571
      }
     },
     "output_type": "display_data"
    }
   ],
   "source": [
    "# porównanie średniej i mediany\n",
    "sns.histplot(data = df, x = \"life_ladder\")\n",
    "plt.axvline(df['life_ladder'].mean(), linestyle = \"dotted\", color = \"blue\")\n",
    "plt.axvline(df['life_ladder'].median(), linestyle = \"dashed\", color = \"red\")"
   ]
  },
  {
   "cell_type": "code",
   "execution_count": null,
   "metadata": {},
   "outputs": [],
   "source": [
    "# Niebieską przerywaną linią zaznaczona jest średnia, a czerwoną przerywaną linią zaznaczona jest mediana.\n",
    "# Widać, że średnia jest przesunięta w prawo względem mediany, co potwierdza, że rozkład jest lekko skośny prawostronnie.\n",
    "# Większość krajów ma poziom szczęścia międzt 4,5 a 6. \n",
    "# Istnieją kraje o bardzo wysokim poziomie szczęścia, które tworzą ogon w prawo."
   ]
  },
  {
   "cell_type": "code",
   "execution_count": 23,
   "metadata": {},
   "outputs": [
    {
     "data": {
      "text/plain": [
       "(np.float64(8.019), np.float64(2.375))"
      ]
     },
     "execution_count": 23,
     "metadata": {},
     "output_type": "execute_result"
    }
   ],
   "source": [
    "# Obliczenie maksymalnego i minimalnego poziomu szczęścia\n",
    "df['life_ladder'].max(), df['life_ladder'].min()"
   ]
  }
 ],
 "metadata": {
  "kernelspec": {
   "display_name": "Python 3",
   "language": "python",
   "name": "python3"
  },
  "language_info": {
   "codemirror_mode": {
    "name": "ipython",
    "version": 3
   },
   "file_extension": ".py",
   "mimetype": "text/x-python",
   "name": "python",
   "nbconvert_exporter": "python",
   "pygments_lexer": "ipython3",
   "version": "3.13.5"
  }
 },
 "nbformat": 4,
 "nbformat_minor": 2
}
