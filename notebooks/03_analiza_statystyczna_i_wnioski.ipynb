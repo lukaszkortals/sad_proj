{
 "cells": [
  {
   "cell_type": "markdown",
   "metadata": {},
   "source": [
    "# Analiza statystyczna i wnioski\n",
    "\n",
    "W tej części wykonamy obliczenia statystyczne i sformułujemy końcowe wnioski."
   ]
  },
  {
   "cell_type": "code",
   "execution_count": 1,
   "metadata": {},
   "outputs": [
    {
     "data": {
      "application/vnd.microsoft.datawrangler.viewer.v0+json": {
       "columns": [
        {
         "name": "index",
         "rawType": "object",
         "type": "string"
        },
        {
         "name": "Life Ladder",
         "rawType": "float64",
         "type": "float"
        }
       ],
       "ref": "a379dd36-15bd-42bc-9ece-5827eae0b528",
       "rows": [
        [
         "Life Ladder",
         "1.0"
        ],
        [
         "Log GDP per capita",
         "0.7901660881429416"
        ],
        [
         "Healthy life expectancy at birth",
         "0.7445059946734467"
        ],
        [
         "Social support",
         "0.7078057894431794"
        ],
        [
         "Positive affect",
         "0.5322731610096197"
        ],
        [
         "Freedom to make life choices",
         "0.5280632737788233"
        ],
        [
         "Generosity",
         "0.190632370797329"
        ],
        [
         "year",
         "0.03551533439566529"
        ],
        [
         "Negative affect",
         "-0.29748782439085225"
        ],
        [
         "Perceptions of corruption",
         "-0.42724470642487766"
        ]
       ],
       "shape": {
        "columns": 1,
        "rows": 10
       }
      },
      "text/plain": [
       "Life Ladder                         1.000000\n",
       "Log GDP per capita                  0.790166\n",
       "Healthy life expectancy at birth    0.744506\n",
       "Social support                      0.707806\n",
       "Positive affect                     0.532273\n",
       "Freedom to make life choices        0.528063\n",
       "Generosity                          0.190632\n",
       "year                                0.035515\n",
       "Negative affect                    -0.297488\n",
       "Perceptions of corruption          -0.427245\n",
       "Name: Life Ladder, dtype: float64"
      ]
     },
     "execution_count": 1,
     "metadata": {},
     "output_type": "execute_result"
    }
   ],
   "source": [
    "# Obliczenia korelacji\n",
    "import pandas as pd\n",
    "\n",
    "df = pd.read_csv('../data/happiness_cleaned.csv')\n",
    "df.corr(numeric_only=True)['Life Ladder'].sort_values(ascending=False)"
   ]
  }
 ],
 "metadata": {
  "kernelspec": {
   "display_name": "Python 3",
   "language": "python",
   "name": "python3"
  },
  "language_info": {
   "codemirror_mode": {
    "name": "ipython",
    "version": 3
   },
   "file_extension": ".py",
   "mimetype": "text/x-python",
   "name": "python",
   "nbconvert_exporter": "python",
   "pygments_lexer": "ipython3",
   "version": "3.8.2"
  }
 },
 "nbformat": 4,
 "nbformat_minor": 2
}
